{
 "cells": [
  {
   "cell_type": "markdown",
   "metadata": {},
   "source": [
    "# Supercritical Contractions and Expansions\n",
    "\n",
    "## Contractions\n",
    "\n",
    "![](scontract1.png)\n",
    "\n",
    "\n",
    "A photograph of such waves (in a laboratory) \n",
    "\n",
    "![](contractOblique.png)\n",
    "\n",
    "A more detailed sketch of the standing waves in plan view with various angles is analyzed using continunity ans momentum\n",
    "\n",
    "![](scontract2.png)\n",
    "\n",
    "![](scontract3.png)\n",
    "\n",
    "I would speculate that in practice numerical models would be used to examine behavior and design contractions.  Something like [SToRM](https://i-ric.org/en/solvers/storm/) or [Telemac](http://www.opentelemac.org/) would be well suited to such a modeling task.\n",
    "\n",
    "## Expansions\n",
    "\n",
    "![](scontract4.png)\n",
    "\n",
    "![](scontract5.png)"
   ]
  },
  {
   "cell_type": "markdown",
   "metadata": {},
   "source": [
    "## Examples\n",
    "\n",
    "\n",
    "## References"
   ]
  },
  {
   "cell_type": "markdown",
   "metadata": {},
   "source": []
  }
 ],
 "metadata": {
  "kernelspec": {
   "display_name": "Python 3",
   "language": "python",
   "name": "python3"
  },
  "language_info": {
   "codemirror_mode": {
    "name": "ipython",
    "version": 3
   },
   "file_extension": ".py",
   "mimetype": "text/x-python",
   "name": "python",
   "nbconvert_exporter": "python",
   "pygments_lexer": "ipython3",
   "version": "3.8.10"
  }
 },
 "nbformat": 4,
 "nbformat_minor": 4
}
