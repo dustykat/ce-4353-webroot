{
 "cells": [
  {
   "cell_type": "markdown",
   "metadata": {},
   "source": [
    "# Hydraulic Profiles through Treatment Plants\n",
    "\n",
    "## Head Loss by Components\n",
    "\n",
    "### Closed Conduits\n",
    "\n",
    "- Pipes\n",
    "- Valves\n",
    "- Bends\n",
    "- Pumps (negative head loss)\n",
    "\n",
    "### Open Conduits\n",
    "\n",
    "- Channels between reactors\n",
    "- Reactors (as long basins)\n",
    "- Disinfection contact reactors (i.e. chlorine)\n",
    "- Discharge weirs\n",
    "\n",
    "### Unit Processes\n",
    "\n",
    "- Bar Screens, Grit Chambers, Hydrocyclones : 0.5 feet - 35\\% flow depth\n",
    "- Clarifiers:  can estimate from outlet structure type (orifice, weir)\n",
    "- Rapid-mix, Slow-mix (floculator), Aerated reactors: can estimate from outlet structure type (orifice, weir)\n",
    "- Filters: \n",
    "\n",
    "## References\n",
    "\n",
    "1. [Hydraulic Profiles in Wastewater Plants](http://54.243.252.9/ce-4353-webroot/ce4353jb/ce4353workbook/lessons/hydraulicprofiles/HydraulicProfilesWastewaterPlants.pdf)\n",
    "2. [WWTP Hydraulic Modeling (Cincinnatti)](http://www.ohiowea.org/docs/Th1000Potp_Hydraulic_Model.pdf)\n"
   ]
  },
  {
   "cell_type": "code",
   "execution_count": null,
   "metadata": {},
   "outputs": [],
   "source": []
  }
 ],
 "metadata": {
  "kernelspec": {
   "display_name": "Python 3",
   "language": "python",
   "name": "python3"
  },
  "language_info": {
   "codemirror_mode": {
    "name": "ipython",
    "version": 3
   },
   "file_extension": ".py",
   "mimetype": "text/x-python",
   "name": "python",
   "nbconvert_exporter": "python",
   "pygments_lexer": "ipython3",
   "version": "3.8.10"
  }
 },
 "nbformat": 4,
 "nbformat_minor": 4
}
