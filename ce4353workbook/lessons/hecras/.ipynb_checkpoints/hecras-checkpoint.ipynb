{
 "cells": [
  {
   "cell_type": "markdown",
   "metadata": {},
   "source": [
    "# HEC-RAS \n",
    "\n",
    "[HEC-River Analysis System (RAS)](https://www.hec.usace.army.mil/software/hec-ras/)  the U.S. Army Corps of Engineers’ software package for modeling constant flows and flood-wave movement through a series of river cross sections, including the presence of a culvert structure. The software and documentation are available free of charge.\n",
    "\n",
    "There are multiple versions. Choose the version for your particular architecture (computer)\n",
    "\n"
   ]
  },
  {
   "cell_type": "markdown",
   "metadata": {},
   "source": [
    "## Installation\n",
    "\n",
    "Navigate to the HEC-RAS website, select software appropriate for your computer.  Apple users will choose the Linux versions and have to figure out an interface, or get a [CodeWeaver](https://www.codeweavers.com/) application layer, or get [Parallels](https://www.parallels.com/pd/general/?gclid=CjwKCAjw79iaBhAJEiwAPYwoCFORJ8sEPl3m0sP2EEj6TExbC4rKqt6LUsS22AVAmTK8PkgnfLqbkxoC_dcQAvD_BwE), or build a [Cloud Application](https://aws.amazon.com/free/compute/lightsail/?trk=56417dfe-8849-4622-bfa4-7ec30bd6f5a3&sc_channel=ps&s_kwcid=AL!4422!3!536323500429!e!!g!!aws%20lightsail&ef_id=CjwKCAjw79iaBhAJEiwAPYwoCKquJK3Cnwmaf8sZZURFgvZO3FdYDyiQufkvEyD4DGuUCtGIGII50BoC77EQAvD_BwE:G:s&s_kwcid=AL!4422!3!536323500429!e!!g!!aws%20lightsail)\n",
    "\n",
    ":::{note}\n",
    "The HEC-RAS On-Line below is such a cloud application hosted on AWS.  You can get your own for \\$12.00/month.\n",
    ":::\n",
    "\n",
    "For a typical winders machine:\n",
    "\n",
    "![](hecrasinstall.png)\n",
    "\n",
    "Then run the installer\n",
    "\n",
    "![](installer.png)\n",
    "\n",
    "Upon sucessful install you should be able to select the program and launch it and get the control interface\n",
    "\n",
    "![](success.png)\n",
    "\n",
    "To install the examples, navigate to the help tab and select download examples\n",
    "\n",
    "![](examples.png)\n",
    "\n",
    ":::{note}\n",
    "Usually the above works, unless you try something fancy and are [clueless](https://www.imdb.com/title/tt0112697/).  If you cannot figure it out go [here](https://apply.mysubwaycareer.com/us/en/)\n",
    ":::"
   ]
  },
  {
   "cell_type": "markdown",
   "metadata": {},
   "source": [
    "## HEC-RAS On-Line\n",
    "\n",
    "A fully provisioned Windows Implementation of HEC-RAS is located at:\n",
    "\n",
    "- server_name: **kittyinthewindow.ddns.net**\n",
    "- user_name: **texas-skew**\n",
    "- passwd: **peakfq73$hare**\n",
    "\n",
    "Users must access using [Remote Desktop Protocol](https://learn.microsoft.com/en-us/windows-server/remote/remote-desktop-services/clients/remote-desktop-mac) (Built into Windows, Apple Store has a free Mac application)."
   ]
  },
  {
   "cell_type": "markdown",
   "metadata": {},
   "source": [
    "## Example 5.5 (Sturm pp. 188-191)\n",
    "\n",
    "The example in the textbook loosely corresponds to the steady flow example in HEC-RAS from Chapter 4 of the users manual.\n",
    "\n",
    "![](hecrasexample4.png)\n",
    "\n",
    "In class we will examine the HEC-RAS supplied example to learn how to drive HEC-RAS.  The motivated reader may be able to convert the existing HEC-RAS supplied example into the book example by changing stationing of the cross sections, assuming the geometry is essentially the same."
   ]
  },
  {
   "cell_type": "markdown",
   "metadata": {},
   "source": [
    "**Practice possible profiles**\n",
    "\n",
    "![](GVFprofilePractice1.png)\n",
    "\n",
    "**Practice possible profiles**\n",
    "\n",
    "![](GVFprofilePractice2.png)"
   ]
  },
  {
   "cell_type": "markdown",
   "metadata": {},
   "source": [
    "### Lake Discharge Type Problems\n",
    "\n",
    "Similar in spirit to the classic [flow between two reservoirs in pipe flow](http://54.243.252.9/toolbox/pipehydraulics/Q2ReservoirSI/Q2ReservoirSI.html), the connecting conduit can be an open channel.\n",
    "\n",
    "Whether the channel behaves as hydraulically steep or mild affects how solutions are found.\n",
    "\n",
    "![](lakeflow.png)\n"
   ]
  },
  {
   "cell_type": "markdown",
   "metadata": {},
   "source": [
    "**Consider the example in the textbook**\n",
    "\n",
    "A long wreckedangular channel connects two reservoirs with slope of 5\\%.  The channel is 10 meters wide, with Manning's n of 0.030.  The upstream reservoir surface is 3.50 meters above the channel bottom (headwater pool depth relative to channel invert) and the tailwater pool elevation is 2.50 meters above the outlet invert.  Estimate the steady discharge in the channel.\n",
    "\n",
    "Solution"
   ]
  },
  {
   "cell_type": "code",
   "execution_count": 10,
   "metadata": {},
   "outputs": [],
   "source": [
    "# prototype functions\n",
    "\n",
    "def Arect(depth,width):\n",
    "    Arect=depth*width\n",
    "    return(Arect)\n",
    "\n",
    "def Prect(depth,width):\n",
    "    Prect=depth*2 + width\n",
    "    return(Prect)\n",
    "\n",
    "def MCE(depth,width,slope,konstant,mann,gee):\n",
    "    qqq = (konstant/mann)*Arect(depth,width)*((Arect(depth,width)/Prect(depth,width))**(2/3))*slope**(1/2)\n",
    "    MCE = depth + (qqq**2)/(2*gee*(Arect(depth,width)**2))\n",
    "    return(MCE)\n",
    "import math"
   ]
  },
  {
   "cell_type": "code",
   "execution_count": 38,
   "metadata": {},
   "outputs": [
    {
     "name": "stdout",
     "output_type": "stream",
     "text": [
      "(1) Assume channel is hydraulically steep\n",
      "   y_c : 2.333  Q : 111.635\n",
      "(2) Compute Limiting Slope :  0.011\n",
      "(3) Test Limiting Slope \n",
      "    Bottom slope smaller than limit slope, so channel is hydraulically mild\n",
      "(4) Iteratively find flow depth for mild slope from MCE function, report result(s)\n",
      "    Flow depth y:  2.869  Energy E:  3.5  HW Energy HW: 3.5\n",
      "    Discharge Q: 100.929  cubic meters per second\n"
     ]
    }
   ],
   "source": [
    "W = 10.0 #given\n",
    "S0 = 0.005 #given\n",
    "n = 0.030 #given\n",
    "HW = 3.50 #given\n",
    "TW = 2.50 #given\n",
    "g = 9.81 #Napolean's fault the dumb little squirt declared the meter a bit too long.\n",
    "tolerance = 0.0001\n",
    "# Assume steep\n",
    "\n",
    "print(\"(1) Assume channel is hydraulically steep\")\n",
    "\n",
    "ycrit = (2./3.)*HW\n",
    "Q = math.sqrt( g*(Arect(ycrit,W)**3)/W )\n",
    "\n",
    "print(\"   y_c :\",round(ycrit,3),\" Q :\",round(Q,3))\n",
    "\n",
    "# Check limiting slope\n",
    "K = 1.0\n",
    "\n",
    "slopeL = (n**2)*(Q**2)/((K**2)*(Arect(ycrit,W)**2)*((Arect(ycrit,W)/Prect(ycrit,W))**(4/3)))\n",
    "\n",
    "print(\"(2) Compute Limiting Slope : \",round(slopeL,3))\n",
    "\n",
    "if S0 < slopeL:\n",
    "    print(\"(3) Test Limiting Slope \\n    Bottom slope smaller than limit slope, so channel is hydraulically mild\")\n",
    "    print(\"(4) Iteratively find flow depth for mild slope from MCE function, report result(s)\")\n",
    "    for i in range(10000):\n",
    "        dtest = i*(HW)/10000+0.00001 #small offset to prevent zero depths\n",
    "        nrg = MCE(dtest,W,S0,K,n,g)\n",
    "        if abs(nrg-HW) <= tolerance:\n",
    "            print(\"    Flow depth y: \",round(dtest,3),\" Energy E: \",round(nrg,3),\" HW Energy HW:\",round(HW,3))\n",
    "            print(\"    Discharge Q:\",round((K/n)*Arect(dtest,W)*((Arect(dtest,W)/Prect(dtest,W))**(2/3))*S0**(1/2),3),\" cubic meters per second\")\n",
    "else:\n",
    "    print(\"\\n    Bottom slope greater than limit slope, so channel is hydraulically steep, use solution(s) above\")"
   ]
  },
  {
   "cell_type": "markdown",
   "metadata": {},
   "source": [
    "## References\n"
   ]
  },
  {
   "cell_type": "code",
   "execution_count": null,
   "metadata": {},
   "outputs": [],
   "source": []
  }
 ],
 "metadata": {
  "kernelspec": {
   "display_name": "Python 3",
   "language": "python",
   "name": "python3"
  },
  "language_info": {
   "codemirror_mode": {
    "name": "ipython",
    "version": 3
   },
   "file_extension": ".py",
   "mimetype": "text/x-python",
   "name": "python",
   "nbconvert_exporter": "python",
   "pygments_lexer": "ipython3",
   "version": "3.8.10"
  }
 },
 "nbformat": 4,
 "nbformat_minor": 4
}
