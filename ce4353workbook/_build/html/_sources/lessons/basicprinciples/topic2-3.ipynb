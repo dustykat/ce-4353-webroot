{
 "cells": [
  {
   "cell_type": "markdown",
   "metadata": {},
   "source": [
    "# Discharge Measurements\n",
    "\n",
    "[USGS Discharge Measurements (a primer)](https://ca.water.usgs.gov/FERC/presentations/Discharge-Measurement-Data.pdf)\n",
    "\n",
    "[USGS Creating Rating Curves (a different primer)](https://www.usgs.gov/centers/wyoming-montana-water-science-center/creating-rating-curve)\n",
    "\n",
    "Rating curve lest us relate discharge $Q$ to a stage $y$;  stage is far easier (and safer to measure), but a rating is needed to establish accurate discharges.  "
   ]
  },
  {
   "cell_type": "code",
   "execution_count": null,
   "metadata": {},
   "outputs": [],
   "source": []
  }
 ],
 "metadata": {
  "kernelspec": {
   "display_name": "Python 3",
   "language": "python",
   "name": "python3"
  },
  "language_info": {
   "codemirror_mode": {
    "name": "ipython",
    "version": 3
   },
   "file_extension": ".py",
   "mimetype": "text/x-python",
   "name": "python",
   "nbconvert_exporter": "python",
   "pygments_lexer": "ipython3",
   "version": "3.8.10"
  }
 },
 "nbformat": 4,
 "nbformat_minor": 4
}
