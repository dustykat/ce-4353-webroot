{
 "cells": [
  {
   "cell_type": "markdown",
   "metadata": {},
   "source": [
    "# Water Surface Profile Computation"
   ]
  },
  {
   "cell_type": "markdown",
   "metadata": {},
   "source": [
    "## Background\n",
    "\n",
    "Words here\n",
    "\n",
    "Two types of methods\n",
    "1. Explicit or direct step method: distance is determined for a specified depth change\n",
    "- Mostly for prismatic channels where cross-sectional properties don’t change with distance x.\n",
    "2. Implicit methods: depth is computed from distance changes\n",
    "- Unknown appears on both sides of the equation dy = f(y)dx\n",
    "- For natural channels for which cross-sectional properties are determined beforehand at particular locations.\n",
    "\n",
    "**Important Assumptions**\n",
    "Slope of the energy grade line, $S_f$, can be evaluated from Manning's or Chezy's equation using the local value of depth.\n",
    "\n",
    "In either method class, there is a slope averaging component to approximate the energy slope at a section especially impotent in natural channels described in our textbook on pg 185\n",
    "\n",
    "![](slopeaveraging1.png)\n",
    "\n",
    "\n",
    "\n",
    "![](slopeaveraging2.png)\n",
    "\n",
    "In the scripts in this JupyterBook, the average conveyence is used in the direct step and fixed space step method examples.\n",
    "\n",
    ":::{note}\n",
    "In the examples the goal is to illustrate the computational methods employed, averaging the conveyence is just a bit easier programming (not by much). Readers can obviously reverse engineer the scripts and satisfy their own needs.\n",
    ":::"
   ]
  },
  {
   "cell_type": "markdown",
   "metadata": {},
   "source": [
    "## References\n",
    "\n",
    "\n",
    "Sturm T.W (2001) Open Channel Hydraulics, 1ed., McGraw-Hill, New York. Note: This PDF is from an international edition published in Singapore. [http://54.243.252.9/ce-4353-webroot/3-Readings/open-channel-hydraulics-by-terry-w-sturm-www-civilenggforall-com.pdf](http://54.243.252.9/ce-4353-webroot/3-Readings/open-channel-hydraulics-by-terry-w-sturm-www-civilenggforall-com.pdf)\n",
    "\n"
   ]
  },
  {
   "cell_type": "code",
   "execution_count": null,
   "metadata": {},
   "outputs": [],
   "source": []
  }
 ],
 "metadata": {
  "kernelspec": {
   "display_name": "Python 3",
   "language": "python",
   "name": "python3"
  },
  "language_info": {
   "codemirror_mode": {
    "name": "ipython",
    "version": 3
   },
   "file_extension": ".py",
   "mimetype": "text/x-python",
   "name": "python",
   "nbconvert_exporter": "python",
   "pygments_lexer": "ipython3",
   "version": "3.8.10"
  }
 },
 "nbformat": 4,
 "nbformat_minor": 4
}