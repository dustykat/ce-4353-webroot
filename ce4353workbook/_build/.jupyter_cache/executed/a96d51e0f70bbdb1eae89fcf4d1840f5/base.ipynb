{
 "cells": [
  {
   "cell_type": "code",
   "execution_count": 1,
   "metadata": {},
   "outputs": [
    {
     "name": "stdout",
     "output_type": "stream",
     "text": [
      "y_n is 6.497  feet \n",
      "Computed Discharge is  1000.0  CFS\n",
      "Flow Balance Error is  0.0\n"
     ]
    }
   ],
   "source": [
    "# prototype functions\n",
    "\n",
    "def Qman(Kn,n,A,R,S):\n",
    "    Qman=(Kn/n)*(A)*(R**(2/3))*(S**(1/2))\n",
    "    return(Qman)\n",
    "\n",
    "def TopTrap(y,m,b):\n",
    "    TopTrap=b+2*m*y\n",
    "    return(TopTrap)\n",
    "    \n",
    "def AreaTrap(y,m,b):\n",
    "    AreaTrap=y*(b+m*y)\n",
    "    return(AreaTrap)\n",
    "\n",
    "def PerTrap(y,m,b):\n",
    "    PerTrap=b + (y**2+(y*m)**2)**(1/2) + (y**2+(y*m)**2)**(1/2) \n",
    "    return(PerTrap)  \n",
    "\n",
    "Qdesign = 1000\n",
    "Slope = 0.001\n",
    "Mann = 0.027\n",
    "SideSlope = 2\n",
    "Bottom = 20\n",
    "\n",
    "# Using Newton's Method\n",
    "\n",
    "from scipy.optimize import newton\n",
    "\n",
    "def f(y):\n",
    "    global Qdesign,Slope,Mann,SideSlope,Bottom #set as global variables so can access from outside the function.  DANGER WILLY!\n",
    "    area = AreaTrap(y,SideSlope,Bottom)\n",
    "    perimeter = PerTrap(y,SideSlope,Bottom)\n",
    "    radius = area/perimeter\n",
    "    Qout = Qman(1.49,Mann,area,radius,Slope)\n",
    "    f = Qout-Qdesign\n",
    "    return(f)\n",
    "\n",
    "yguess =  10.507\n",
    "#print(newton(f, yguess))\n",
    "ysolve = newton(f, yguess)\n",
    "area = AreaTrap(ysolve,SideSlope,Bottom)\n",
    "perimeter = PerTrap(ysolve,SideSlope,Bottom)\n",
    "radius = area/perimeter\n",
    "Qout = Qman(1.49,Mann,area,radius,Slope)\n",
    "print(\"y_n is\",round(ysolve,3),\" feet \\nComputed Discharge is \",round(Qout,3),\" CFS\")\n",
    "print(\"Flow Balance Error is \",round(Qout - Qdesign,6))"
   ]
  },
  {
   "cell_type": "code",
   "execution_count": 2,
   "metadata": {},
   "outputs": [
    {
     "name": "stdout",
     "output_type": "stream",
     "text": [
      "y_n is 1.52677  feet \n",
      "Computed Discharge is  80.0  CFS\n",
      "Flow Balance Error is  0.0\n"
     ]
    }
   ],
   "source": [
    "# simply reuse code\n",
    "\n",
    "def Qman(Kn,n,A,R,S):\n",
    "    Qman=(Kn/n)*(A)*(R**(2/3))*(S**(1/2))\n",
    "    return(Qman)\n",
    "\n",
    "def TopPara(y,h,b):\n",
    "    TopPara=b*(y/h)**(1/2)\n",
    "    return(TopPara)\n",
    "    \n",
    "def AreaPara(y,h,b):\n",
    "    AreaPara=(2/3)*y*(b*(y/h)**(1/2))\n",
    "    return(AreaPara)\n",
    "\n",
    "def PerPara(y,h,b):\n",
    "    import math\n",
    "    x=4*y/b\n",
    "    t1=1+x**2\n",
    "    t2=t1**(1/2)\n",
    "    t3=1/x\n",
    "    PerPara=(b/2)*(t2 + t3*math.log(x+t2))\n",
    "    return(PerPara)  \n",
    "\n",
    "Qdesign = 80\n",
    "Slope = 0.005\n",
    "Mann = 0.040\n",
    "Bmax = 30\n",
    "Ymax = 1.55 #<<< need to specify this value, not provided in the example, by a little trial-and-error to macth book solution\n",
    "\n",
    "# Using Newton's Method\n",
    "\n",
    "from scipy.optimize import newton\n",
    "\n",
    "def f(y):\n",
    "    global Qdesign,Slope,Mann,Ymax,Bmax #set as global variables so can access from outside the function.  DANGER WILLY!\n",
    "    area = AreaPara(y,Ymax,Bmax)\n",
    "    perimeter = PerPara(y,Ymax,Bmax)\n",
    "    radius = area/perimeter\n",
    "    Qout = Qman(1.49,Mann,area,radius,Slope)\n",
    "    f = Qout-Qdesign\n",
    "    return(f)\n",
    "\n",
    "yguess =  Ymax\n",
    "#print(newton(f, yguess))\n",
    "ysolve = newton(f, yguess)\n",
    "area = AreaPara(ysolve,Ymax,Bmax)\n",
    "perimeter = PerPara(ysolve,Ymax,Bmax)\n",
    "radius = area/perimeter\n",
    "Qout = Qman(1.49,Mann,area,radius,Slope)\n",
    "print(\"y_n is\",round(ysolve,5),\" feet \\nComputed Discharge is \",round(Qout,3),\" CFS\")\n",
    "print(\"Flow Balance Error is \",round(Qout - Qdesign,4))"
   ]
  },
  {
   "cell_type": "code",
   "execution_count": 24,
   "metadata": {},
   "outputs": [],
   "source": []
  },
  {
   "cell_type": "code",
   "execution_count": null,
   "metadata": {},
   "outputs": [],
   "source": []
  }
 ],
 "metadata": {
  "kernelspec": {
   "display_name": "Python 3",
   "language": "python",
   "name": "python3"
  },
  "language_info": {
   "codemirror_mode": {
    "name": "ipython",
    "version": 3
   },
   "file_extension": ".py",
   "mimetype": "text/x-python",
   "name": "python",
   "nbconvert_exporter": "python",
   "pygments_lexer": "ipython3",
   "version": "3.8.10"
  }
 },
 "nbformat": 4,
 "nbformat_minor": 4
}