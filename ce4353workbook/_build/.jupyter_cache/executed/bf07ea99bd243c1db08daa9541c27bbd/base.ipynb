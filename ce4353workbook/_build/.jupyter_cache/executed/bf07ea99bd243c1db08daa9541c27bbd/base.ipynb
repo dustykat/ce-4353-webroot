{
 "cells": [
  {
   "cell_type": "code",
   "execution_count": 1,
   "metadata": {},
   "outputs": [
    {
     "name": "stdout",
     "output_type": "stream",
     "text": [
      "Discharge : 45.005  m^3/s\n",
      "Velocity :  1.243  m/s\n"
     ]
    }
   ],
   "source": [
    "# \n",
    "Snot = 0.0002\n",
    "B = 15.0\n",
    "n = 0.017\n",
    "Qtarget = 45.0\n",
    "\n",
    "def Qm(B,Y,N,S):\n",
    "    Qm = (1/N)*(B*Y)*((B*Y/(B+2*Y))**(2/3))*S**(1/2)\n",
    "    return(Qm)\n",
    "\n",
    "#yguess = 2.5  #trial-n-error\n",
    "#yguess = 2.45  #trial-n-error\n",
    "#yguess = 2.40  #trial-n-error\n",
    "#yguess = 2.41  #trial-n-error\n",
    "#yguess = 2.415  #trial-n-error\n",
    "yguess = 2.414  #trial-n-error\n",
    "\n",
    "print(\"Discharge :\",round(Qm(B,yguess,n,Snot),3),\" m^3/s\")\n",
    "print(\"Velocity : \",round(Qm(B,yguess,n,Snot)/(B*yguess),3),\" m/s\")\n"
   ]
  },
  {
   "cell_type": "code",
   "execution_count": 2,
   "metadata": {},
   "outputs": [
    {
     "name": "stdout",
     "output_type": "stream",
     "text": [
      "y1 : 2.945  y2 : 2.414\n",
      "V1 : 2.264  V2 : 1.243\n",
      "Wave speed : -6.905  m/s\n",
      "Continunity Error : 0.0\n",
      "Momentum Error : 0.003\n"
     ]
    }
   ],
   "source": [
    "# Guess Vs each equation, find the y values.  Stop when all satisfied.\n",
    "\n",
    "def VS(y1,y2,V1,V2):\n",
    "    VS = (V1*y1-V2*y2)/(y2-y1)\n",
    "    return(VS)\n",
    "\n",
    "Q1 = 100\n",
    "Q2 = 45\n",
    "\n",
    "y1 = 2.945 #<<<< Guess This Value\n",
    "y2 = 2.414\n",
    "B = 15\n",
    "V1 = Q1/(y1*B)\n",
    "V2 = Q2/(y2*B)\n",
    "g = 9.81\n",
    "\n",
    "print(\"y1 :\",y1,\" y2 :\",y2)\n",
    "print(\"V1 :\",round(V1,3),\" V2 :\",round(V2,3))\n",
    "\n",
    "Vs = VS(y1,y2,V1,V2)\n",
    "\n",
    "print(\"Wave speed :\",round(Vs,3),\" m/s\") # <<<< Get this value\n",
    "\n",
    "def C1(y1,y2,V1,V2,VS,B):\n",
    "    C1 = (V1+VS)*(y1*B) - (V2+VS)*(y2*B)\n",
    "    return(C1)\n",
    "\n",
    "print(\"Continunity Error :\",round(C1(y1,y2,V1,V2,Vs,B),3))\n",
    "\n",
    "def M1(y1,y2,V1,V2,VS,Q1,Q2,B,g):\n",
    "    M1 = (B/2)*(y1**2)+(Q1/g)*(V1+VS) - ((B/2)*(y2**2)+(Q2/g)*(V2+VS))\n",
    "    return(M1)\n",
    "    \n",
    "print(\"Momentum Error :\",round(M1(y1,y2,V1,V2,Vs,Q1,Q2,B,g),3))"
   ]
  },
  {
   "cell_type": "code",
   "execution_count": 3,
   "metadata": {},
   "outputs": [
    {
     "name": "stdout",
     "output_type": "stream",
     "text": [
      "y1 : 3.0  y2 : 3.578\n",
      "V1 : 1.0  V2 : 0.0\n",
      "Wave speed : 5.19  m/s\n",
      "Continunity Error : 0.0\n",
      "Momentum Error : -0.008\n"
     ]
    }
   ],
   "source": [
    "def VS(y1,y2,V1,V2):\n",
    "    VS = (V1*y1-V2*y2)/(y2-y1)\n",
    "    return(VS)\n",
    "\n",
    "y1 = 3.0 \n",
    "y2 = 3.578 # <<<< Guess this value\n",
    "B = 1\n",
    "Q1 = y1*B\n",
    "Q2 = 0.0 # <<< Given\n",
    "V1 = Q1/(y1*B)\n",
    "V2 = Q2/(y2*B)\n",
    "g = 9.81\n",
    "\n",
    "print(\"y1 :\",y1,\" y2 :\",y2)\n",
    "print(\"V1 :\",round(V1,3),\" V2 :\",round(V2,3))\n",
    "\n",
    "Vs = VS(y1,y2,V1,V2)\n",
    "\n",
    "print(\"Wave speed :\",round(Vs,3),\" m/s\") # <<<< Get this value\n",
    "\n",
    "def C1(y1,y2,V1,V2,VS,B):\n",
    "    C1 = (V1+VS)*(y1*B) - (V2+VS)*(y2*B)\n",
    "    return(C1)\n",
    "\n",
    "print(\"Continunity Error :\",round(C1(y1,y2,V1,V2,Vs,B),3))\n",
    "\n",
    "def M1(y1,y2,V1,V2,VS,Q1,Q2,B,g):\n",
    "    M1 = (B/2)*(y1**2)+(Q1/g)*(V1+VS) - ((B/2)*(y2**2)+(Q2/g)*(V2+VS))\n",
    "    return(M1)\n",
    "    \n",
    "print(\"Momentum Error :\",round(M1(y1,y2,V1,V2,Vs,Q1,Q2,B,g),3))"
   ]
  },
  {
   "cell_type": "code",
   "execution_count": null,
   "metadata": {},
   "outputs": [],
   "source": []
  }
 ],
 "metadata": {
  "kernelspec": {
   "display_name": "Python 3",
   "language": "python",
   "name": "python3"
  },
  "language_info": {
   "codemirror_mode": {
    "name": "ipython",
    "version": 3
   },
   "file_extension": ".py",
   "mimetype": "text/x-python",
   "name": "python",
   "nbconvert_exporter": "python",
   "pygments_lexer": "ipython3",
   "version": "3.8.10"
  }
 },
 "nbformat": 4,
 "nbformat_minor": 4
}