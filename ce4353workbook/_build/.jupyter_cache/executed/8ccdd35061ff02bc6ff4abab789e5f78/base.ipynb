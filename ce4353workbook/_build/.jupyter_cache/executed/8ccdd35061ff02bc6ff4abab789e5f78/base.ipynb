{
 "cells": [
  {
   "cell_type": "code",
   "execution_count": 1,
   "metadata": {},
   "outputs": [],
   "source": [
    "# prototype functions\n",
    "\n",
    "def Atrap(depth,width,sideslope):\n",
    "    Atrap = width*depth+sideslope*depth**2\n",
    "    return(Atrap)\n",
    "\n",
    "def Ptrap(depth,width,sideslope):\n",
    "    Ptrap = width + 2*depth* ((sideslope**2 + 1)**(1/2))\n",
    "    return(Ptrap)\n",
    "\n",
    "def Rhyd(area,perimeter):\n",
    "    Rhyd=area/perimeter\n",
    "    return(Rhyd)"
   ]
  },
  {
   "cell_type": "code",
   "execution_count": 2,
   "metadata": {},
   "outputs": [
    {
     "name": "stdout",
     "output_type": "stream",
     "text": [
      "Hydraulic Radius R : 0.267\n"
     ]
    }
   ],
   "source": [
    "Qdes = 0.42 #given\n",
    "dinitial = 0.5 #meters initial guess\n",
    "Bwide = 0.4 #meters given\n",
    "Zslope = 3 # side slope given\n",
    "AAA = Atrap(dinitial,Bwide,Zslope)\n",
    "PPP = Ptrap(dinitial,Bwide,Zslope)\n",
    "RRR = Rhyd(Atrap(dinitial,Bwide,Zslope),Ptrap(dinitial,Bwide,Zslope))\n",
    "print(\"Hydraulic Radius R :\",round(Rhyd(Atrap(dinitial,Bwide,Zslope),Ptrap(dinitial,Bwide,Zslope)),3))"
   ]
  },
  {
   "cell_type": "code",
   "execution_count": 3,
   "metadata": {},
   "outputs": [
    {
     "name": "stdout",
     "output_type": "stream",
     "text": [
      "Mannings n : 0.016\n",
      "Design Discharge Q : 0.42 Computed Discharge Q : 2.22\n"
     ]
    }
   ],
   "source": [
    "def n61(alpha,dbar,d50):\n",
    "    import math\n",
    "    numerator = (alpha*dbar**(1/6)) \n",
    "    denominator = 2.25+5.23*math.log(dbar/d50)\n",
    "    n61=numerator/denominator\n",
    "    return(n61)\n",
    "\n",
    "def Qman(prefix,mann,area,radius,slope):\n",
    "    Qman = (prefix/mann)*area*(radius**(2/3))*(slope**(1/2))\n",
    "    return(Qman)\n",
    "\n",
    "\n",
    "D50 = 0.025 #mm given\n",
    "alpha = 0.319 #SI given in formula\n",
    "nnn = n61(alpha,dinitial,D50)\n",
    "#nnn = 0.033\n",
    "print(\"Mannings n :\",round(n61(alpha,dinitial,D50),3))\n",
    "S0 = 0.008 # given\n",
    "Qnew = Qman(1.0,nnn,AAA,RRR,S0)\n",
    "print(\"Design Discharge Q :\",round(Qdes,3),\"Computed Discharge Q :\",round(Qman(1.0,nnn,AAA,RRR,S0),3))\n",
    "dold = dinitial #use this below"
   ]
  },
  {
   "cell_type": "code",
   "execution_count": 4,
   "metadata": {},
   "outputs": [
    {
     "name": "stdout",
     "output_type": "stream",
     "text": [
      "New Depth  0.257\n",
      "Hydraulic Radius R : 0.149\n",
      "Mannings n : 0.018\n",
      "Design Discharge Q : 0.42 Computed Discharge Q : 0.428\n"
     ]
    }
   ],
   "source": [
    "Qdes = 0.42 #given\n",
    "dnew = dold*(Qdes/Qnew)**(0.4) #HEC-15 guidance\n",
    "print(\"New Depth \",round(dnew,3))\n",
    "Bwide = 0.4 #meters given\n",
    "Zslope = 3 # side slope given\n",
    "AAA = Atrap(dnew,Bwide,Zslope)\n",
    "PPP = Ptrap(dnew,Bwide,Zslope)\n",
    "RRR = Rhyd(Atrap(dnew,Bwide,Zslope),Ptrap(dnew,Bwide,Zslope))\n",
    "print(\"Hydraulic Radius R :\",round(Rhyd(Atrap(dnew,Bwide,Zslope),Ptrap(dnew,Bwide,Zslope)),3))\n",
    "D50 = 0.025 #mm given\n",
    "alpha = 0.319 #SI given in formula\n",
    "nnn = n61(alpha,dnew,D50)\n",
    "#nnn = 0.033\n",
    "print(\"Mannings n :\",round(n61(alpha,dnew,D50),3))\n",
    "S0 = 0.008 # given\n",
    "Qnew = Qman(1.0,nnn,AAA,RRR,S0)\n",
    "print(\"Design Discharge Q :\",round(Qdes,3),\"Computed Discharge Q :\",round(Qman(1.0,nnn,AAA,RRR,S0),3))\n",
    "dold = dnew #use this below"
   ]
  },
  {
   "cell_type": "code",
   "execution_count": 5,
   "metadata": {},
   "outputs": [
    {
     "name": "stdout",
     "output_type": "stream",
     "text": [
      "New Depth  0.255\n",
      "Hydraulic Radius R : 0.148\n",
      "Mannings n : 0.018\n",
      "Design Discharge Q : 0.42 Computed Discharge Q : 0.42\n"
     ]
    }
   ],
   "source": [
    "Qdes = 0.42 #given\n",
    "dnew = dold*(Qdes/Qnew)**(0.4) #HEC-15 guidance\n",
    "print(\"New Depth \",round(dnew,3))\n",
    "Bwide = 0.4 #meters given\n",
    "Zslope = 3 # side slope given\n",
    "AAA = Atrap(dnew,Bwide,Zslope)\n",
    "PPP = Ptrap(dnew,Bwide,Zslope)\n",
    "RRR = Rhyd(Atrap(dnew,Bwide,Zslope),Ptrap(dnew,Bwide,Zslope))\n",
    "print(\"Hydraulic Radius R :\",round(Rhyd(Atrap(dnew,Bwide,Zslope),Ptrap(dnew,Bwide,Zslope)),3))\n",
    "D50 = 0.025 #mm given\n",
    "alpha = 0.319 #SI given in formula\n",
    "nnn = n61(alpha,dnew,D50)\n",
    "#nnn = 0.033\n",
    "print(\"Mannings n :\",round(n61(alpha,dnew,D50),3))\n",
    "S0 = 0.008 # given\n",
    "Qnew = Qman(1.0,nnn,AAA,RRR,S0)\n",
    "print(\"Design Discharge Q :\",round(Qdes,3),\"Computed Discharge Q :\",round(Qman(1.0,nnn,AAA,RRR,S0),3))\n",
    "dold = dnew #use this below"
   ]
  },
  {
   "cell_type": "code",
   "execution_count": 6,
   "metadata": {},
   "outputs": [
    {
     "name": "stdout",
     "output_type": "stream",
     "text": [
      "Shear stress max :  19.986\n"
     ]
    }
   ],
   "source": [
    "def tauD(gamma,depth,slope):\n",
    "    tauD=gamma*depth*slope\n",
    "    return(tauD)\n",
    "\n",
    "print(\"Shear stress max : \",round(tauD(9800,dnew,S0),3))"
   ]
  }
 ],
 "metadata": {
  "kernelspec": {
   "display_name": "Python 3",
   "language": "python",
   "name": "python3"
  },
  "language_info": {
   "codemirror_mode": {
    "name": "ipython",
    "version": 3
   },
   "file_extension": ".py",
   "mimetype": "text/x-python",
   "name": "python",
   "nbconvert_exporter": "python",
   "pygments_lexer": "ipython3",
   "version": "3.8.10"
  }
 },
 "nbformat": 4,
 "nbformat_minor": 4
}