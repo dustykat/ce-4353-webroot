{
 "cells": [
  {
   "cell_type": "code",
   "execution_count": 1,
   "metadata": {},
   "outputs": [],
   "source": [
    "# prototype functions\n",
    "\n",
    "def Arect(depth,width):\n",
    "    Arect=depth*width\n",
    "    return(Arect)\n",
    "\n",
    "def Prect(depth,width):\n",
    "    Prect=depth*2 + width\n",
    "    return(Prect)\n",
    "\n",
    "def MCE(depth,width,slope,konstant,mann,gee):\n",
    "    qqq = (konstant/mann)*Arect(depth,width)*((Arect(depth,width)/Prect(depth,width))**(2/3))*slope**(1/2)\n",
    "    MCE = depth + (qqq**2)/(2*gee*(Arect(depth,width)**2))\n",
    "    return(MCE)\n",
    "import math"
   ]
  },
  {
   "cell_type": "code",
   "execution_count": 2,
   "metadata": {},
   "outputs": [
    {
     "name": "stdout",
     "output_type": "stream",
     "text": [
      "(1) Assume channel is hydraulically steep\n",
      "   y_c : 2.333  Q : 111.635\n",
      "(2) Compute Limiting Slope :  0.011\n",
      "(3) Test Limiting Slope \n",
      "    Bottom slope smaller than limit slope, so channel is hydraulically mild\n",
      "(4) Iteratively find flow depth for mild slope from MCE function, report result(s)\n",
      "    Flow depth y:  2.869  Energy E:  3.5  HW Energy HW: 3.5\n",
      "    Discharge Q: 100.929  cubic meters per second\n"
     ]
    }
   ],
   "source": [
    "W = 10.0 #given\n",
    "S0 = 0.005 #given\n",
    "n = 0.030 #given\n",
    "HW = 3.50 #given\n",
    "TW = 2.50 #given\n",
    "g = 9.81 #Napolean's fault the dumb little squirt declared the meter a bit too long.\n",
    "tolerance = 0.0001\n",
    "# Assume steep\n",
    "\n",
    "print(\"(1) Assume channel is hydraulically steep\")\n",
    "\n",
    "ycrit = (2./3.)*HW\n",
    "Q = math.sqrt( g*(Arect(ycrit,W)**3)/W )\n",
    "\n",
    "print(\"   y_c :\",round(ycrit,3),\" Q :\",round(Q,3))\n",
    "\n",
    "# Check limiting slope\n",
    "K = 1.0\n",
    "\n",
    "slopeL = (n**2)*(Q**2)/((K**2)*(Arect(ycrit,W)**2)*((Arect(ycrit,W)/Prect(ycrit,W))**(4/3)))\n",
    "\n",
    "print(\"(2) Compute Limiting Slope : \",round(slopeL,3))\n",
    "\n",
    "if S0 < slopeL:\n",
    "    print(\"(3) Test Limiting Slope \\n    Bottom slope smaller than limit slope, so channel is hydraulically mild\")\n",
    "    print(\"(4) Iteratively find flow depth for mild slope from MCE function, report result(s)\")\n",
    "    for i in range(10000):\n",
    "        dtest = i*(HW)/10000+0.00001 #small offset to prevent zero depths\n",
    "        nrg = MCE(dtest,W,S0,K,n,g)\n",
    "        if abs(nrg-HW) <= tolerance:\n",
    "            print(\"    Flow depth y: \",round(dtest,3),\" Energy E: \",round(nrg,3),\" HW Energy HW:\",round(HW,3))\n",
    "            print(\"    Discharge Q:\",round((K/n)*Arect(dtest,W)*((Arect(dtest,W)/Prect(dtest,W))**(2/3))*S0**(1/2),3),\" cubic meters per second\")\n",
    "else:\n",
    "    print(\"\\n    Bottom slope greater than limit slope, so channel is hydraulically steep, use solution(s) above\")"
   ]
  },
  {
   "cell_type": "code",
   "execution_count": null,
   "metadata": {},
   "outputs": [],
   "source": []
  }
 ],
 "metadata": {
  "kernelspec": {
   "display_name": "Python 3",
   "language": "python",
   "name": "python3"
  },
  "language_info": {
   "codemirror_mode": {
    "name": "ipython",
    "version": 3
   },
   "file_extension": ".py",
   "mimetype": "text/x-python",
   "name": "python",
   "nbconvert_exporter": "python",
   "pygments_lexer": "ipython3",
   "version": "3.8.10"
  }
 },
 "nbformat": 4,
 "nbformat_minor": 4
}