{
 "cells": [
  {
   "cell_type": "code",
   "execution_count": 1,
   "metadata": {},
   "outputs": [
    {
     "name": "stdout",
     "output_type": "stream",
     "text": [
      "Estimated Discharge 17.54  CFS\n"
     ]
    }
   ],
   "source": [
    "# prototype functions\n",
    "\n",
    "def area(theta,diameter):\n",
    "    import math\n",
    "    area=(1/8)*(theta-math.sin(theta))*diameter**2\n",
    "    return(area)\n",
    "\n",
    "def topw(theta,diameter):\n",
    "    import math\n",
    "    topw=diameter*math.sin(theta/2)\n",
    "    return(topw)\n",
    "\n",
    "def perimeter(theta,diameter):\n",
    "    perimeter = diameter*theta/2\n",
    "    return(perimeter)\n",
    "\n",
    "def angle(depth,diameter):\n",
    "    import math\n",
    "    angle=2*math.acos(1-2*depth/diameter)\n",
    "    return(angle)\n",
    "\n",
    "def Qman(Kn,n,A,R,S):\n",
    "    Qman=(Kn/n)*(A)*(R**(2/3))*(S**(1/2))\n",
    "    return(Qman)\n",
    "\n",
    "# Our problem\n",
    "n = 0.009 # https://www.conteches.com/pipe-article/article/7/hydraulics-for-gravity-sewer-pipe-a-few-things-to-consider\n",
    "diameter = 24 #inches\n",
    "D = diameter/12 #inches to feets\n",
    "fillratio = 80 # percent\n",
    "y = D*fillratio/100 #y in feets (unit conversions embedded in formula)\n",
    "#print(round(y/D,3))  # check work, suppress for the money shot\n",
    "slope = 0.003\n",
    "\n",
    "theta = angle(y,D)\n",
    "A = area(theta,D)\n",
    "P = perimeter(theta,D)\n",
    "R = A/P\n",
    "Qcap = Qman(1.49,n,A,R,slope)\n",
    "\n",
    "print('Estimated Discharge',round(Qcap,2),' CFS')"
   ]
  },
  {
   "cell_type": "code",
   "execution_count": 2,
   "metadata": {},
   "outputs": [
    {
     "name": "stdout",
     "output_type": "stream",
     "text": [
      "Estimated Discharge 10.0  CFS\n"
     ]
    }
   ],
   "source": [
    "# prototype functions\n",
    "\n",
    "def area(theta,diameter):\n",
    "    import math\n",
    "    area=(1/8)*(theta-math.sin(theta))*diameter**2\n",
    "    return(area)\n",
    "\n",
    "def topw(theta,diameter):\n",
    "    import math\n",
    "    topw=diameter*math.sin(theta/2)\n",
    "    return(topw)\n",
    "\n",
    "def perimeter(theta,diameter):\n",
    "    perimeter = diameter*theta/2\n",
    "    return(perimeter)\n",
    "\n",
    "def angle(depth,diameter):\n",
    "    import math\n",
    "    angle=2*math.acos(1-2*depth/diameter)\n",
    "    return(angle)\n",
    "\n",
    "def Qman(Kn,n,A,R,S):\n",
    "    Qman=(Kn/n)*(A)*(R**(2/3))*(S**(1/2))\n",
    "    return(Qman)\n",
    "\n",
    "# Our problem\n",
    "n = 0.015 # https://www.conteches.com/pipe-article/article/7/hydraulics-for-gravity-sewer-pipe-a-few-things-to-consider\n",
    "diameter = 23.545 #inches <<< Guess this value\n",
    "D = diameter/12 #inches to feets\n",
    "fillratio = 80 # percent\n",
    "y = D*fillratio/100 #y in feets (unit conversions embedded in formula)\n",
    "#print(round(y/D,3))  # check work, suppress for the money shot\n",
    "slope = 0.003\n",
    "\n",
    "theta = angle(y,D)\n",
    "A = area(theta,D)\n",
    "P = perimeter(theta,D)\n",
    "R = A/P\n",
    "Qcap = Qman(1.49,n,A,R,slope)\n",
    "\n",
    "print('Estimated Discharge',round(Qcap,2),' CFS')"
   ]
  },
  {
   "cell_type": "code",
   "execution_count": 3,
   "metadata": {},
   "outputs": [
    {
     "name": "stdout",
     "output_type": "stream",
     "text": [
      "Estimated Discharge 10.0  CFS\n",
      "Hydraulic Radius 0.605\n",
      "Critical Velocity 0.819\n",
      "Section Velocity 3.893\n"
     ]
    }
   ],
   "source": [
    "# 10CFS\n",
    "n = 0.015 # https://www.conteches.com/pipe-article/article/7/hydraulics-for-gravity-sewer-pipe-a-few-things-to-consider\n",
    "diameter = 24 #inches \n",
    "depth = 18.29 #inches <<< Guess this value\n",
    "y=depth/12\n",
    "D = diameter/12 #inches to feets\n",
    "fillratio = 80 # percent\n",
    "#y = D*fillratio/100 #y in feets (unit conversions embedded in formula)\n",
    "#print(round(y/D,3))  # check work, suppress for the money shot\n",
    "slope = 0.003\n",
    "\n",
    "theta = angle(y,D)\n",
    "A = area(theta,D)\n",
    "P = perimeter(theta,D)\n",
    "R = A/P\n",
    "Qcap = Qman(1.49,n,A,R,slope)\n",
    "\n",
    "print('Estimated Discharge',round(Qcap,2),' CFS')\n",
    "print('Hydraulic Radius',round(R,3))\n",
    "Vcrit = (R/D)**(1/6)\n",
    "print('Critical Velocity',round(Vcrit,3))\n",
    "print('Section Velocity',round(Qcap/A,3))"
   ]
  },
  {
   "cell_type": "code",
   "execution_count": 4,
   "metadata": {},
   "outputs": [
    {
     "name": "stdout",
     "output_type": "stream",
     "text": [
      "Estimated Discharge 2.5  CFS\n",
      "Hydraulic Radius 0.368\n",
      "Critical Velocity 0.754\n",
      "Section Velocity 2.791\n"
     ]
    }
   ],
   "source": [
    "# 2.5CFS\n",
    "n = 0.015 # https://www.conteches.com/pipe-article/article/7/hydraulics-for-gravity-sewer-pipe-a-few-things-to-consider\n",
    "diameter = 24 #inches \n",
    "depth = 7.87 #inches <<< Guess this value\n",
    "y = depth/12\n",
    "D = diameter/12 #inches to feets\n",
    "fillratio = 80 # percent\n",
    "#y = D*fillratio/100 #y in feets (unit conversions embedded in formula)\n",
    "#print(round(y/D,3))  # check work, suppress for the money shot\n",
    "slope = 0.003\n",
    "\n",
    "theta = angle(y,D)\n",
    "A = area(theta,D)\n",
    "P = perimeter(theta,D)\n",
    "R = A/P\n",
    "Qcap = Qman(1.49,n,A,R,slope)\n",
    "\n",
    "print('Estimated Discharge',round(Qcap,2),' CFS')\n",
    "print('Hydraulic Radius',round(R,3))\n",
    "Vcrit = (R/D)**(1/6)\n",
    "print('Critical Velocity',round(Vcrit,3))\n",
    "print('Section Velocity',round(Qcap/A,3))"
   ]
  },
  {
   "cell_type": "code",
   "execution_count": null,
   "metadata": {},
   "outputs": [],
   "source": []
  }
 ],
 "metadata": {
  "kernelspec": {
   "display_name": "Python 3",
   "language": "python",
   "name": "python3"
  },
  "language_info": {
   "codemirror_mode": {
    "name": "ipython",
    "version": 3
   },
   "file_extension": ".py",
   "mimetype": "text/x-python",
   "name": "python",
   "nbconvert_exporter": "python",
   "pygments_lexer": "ipython3",
   "version": "3.8.10"
  }
 },
 "nbformat": 4,
 "nbformat_minor": 4
}