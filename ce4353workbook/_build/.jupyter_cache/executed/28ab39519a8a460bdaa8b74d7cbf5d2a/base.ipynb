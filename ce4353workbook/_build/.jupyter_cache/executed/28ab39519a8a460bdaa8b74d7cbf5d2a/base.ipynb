{
 "cells": [
  {
   "cell_type": "code",
   "execution_count": null,
   "metadata": {},
   "outputs": [],
   "source": []
  },
  {
   "cell_type": "code",
   "execution_count": 1,
   "metadata": {},
   "outputs": [
    {
     "name": "stdout",
     "output_type": "stream",
     "text": [
      "Discharge:  26.2  cfs\n"
     ]
    }
   ],
   "source": [
    "# BC weir - free willy flow\n",
    "import math\n",
    "Cd = 0.848\n",
    "g = 32.2 # feet per second per second\n",
    "H = 1.0 # feet \n",
    "Va = 0.0 # approach velocity, negligible in pond\n",
    "He = H + (Va**2)/(2*g)\n",
    "I = 10.0 # actually unknown in this example, but are told it is a broad crest\n",
    "L = 10.0 # feet\n",
    "\n",
    "Q = Cd*((He/H)**(3/2))*(2/3)*math.sqrt((2*g/3))*L*H**(3/2)\n",
    "print(\"Discharge: \",round(Q,1),\" cfs\")"
   ]
  },
  {
   "cell_type": "code",
   "execution_count": 2,
   "metadata": {},
   "outputs": [
    {
     "name": "stdout",
     "output_type": "stream",
     "text": [
      "Discharge:  23.5  cfs\n"
     ]
    }
   ],
   "source": [
    "# BC weir - submerged flow\n",
    "# compute submergence reduction factor\n",
    "Ht = 0.8 # feet\n",
    "a = 10\n",
    "b = 0.95\n",
    "S = (1.0-(Ht/H)**a)**b\n",
    "Qs = S*Q\n",
    "print(\"Discharge: \",round(Qs,1),\" cfs\")"
   ]
  },
  {
   "cell_type": "code",
   "execution_count": null,
   "metadata": {},
   "outputs": [],
   "source": []
  }
 ],
 "metadata": {
  "kernelspec": {
   "display_name": "Python 3",
   "language": "python",
   "name": "python3"
  },
  "language_info": {
   "codemirror_mode": {
    "name": "ipython",
    "version": 3
   },
   "file_extension": ".py",
   "mimetype": "text/x-python",
   "name": "python",
   "nbconvert_exporter": "python",
   "pygments_lexer": "ipython3",
   "version": "3.8.10"
  }
 },
 "nbformat": 4,
 "nbformat_minor": 4
}