{
 "cells": [
  {
   "cell_type": "code",
   "execution_count": 1,
   "metadata": {},
   "outputs": [
    {
     "name": "stdout",
     "output_type": "stream",
     "text": [
      "WSE is changing at 3.0 meters per hour, and rising\n"
     ]
    }
   ],
   "source": [
    "# script\n",
    "Q1 = 1500\n",
    "Q2 = 750\n",
    "T1 = 300\n",
    "T2 = 300\n",
    "X1 = 0\n",
    "X2 = 3000\n",
    "\n",
    "DQDX = (Q2-Q1)/(X2-X1)\n",
    "dydt = -DQDX/((T1+T2)*0.5)\n",
    "if dydt > 0.0:\n",
    "    print(\"WSE is changing at\",dydt*3600,\"meters per hour, and rising\")\n",
    "else:\n",
    "    print(\"WSE is changing at\",dydt*3600,\"meters per hour, and falling\")"
   ]
  },
  {
   "cell_type": "code",
   "execution_count": null,
   "metadata": {},
   "outputs": [],
   "source": []
  }
 ],
 "metadata": {
  "kernelspec": {
   "display_name": "Python 3",
   "language": "python",
   "name": "python3"
  },
  "language_info": {
   "codemirror_mode": {
    "name": "ipython",
    "version": 3
   },
   "file_extension": ".py",
   "mimetype": "text/x-python",
   "name": "python",
   "nbconvert_exporter": "python",
   "pygments_lexer": "ipython3",
   "version": "3.8.10"
  }
 },
 "nbformat": 4,
 "nbformat_minor": 4
}