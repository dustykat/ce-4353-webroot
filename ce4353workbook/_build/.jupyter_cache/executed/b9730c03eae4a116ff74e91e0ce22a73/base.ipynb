{
 "cells": [
  {
   "cell_type": "code",
   "execution_count": 1,
   "metadata": {},
   "outputs": [
    {
     "name": "stdout",
     "output_type": "stream",
     "text": [
      "Depth (m) | Velocity (m/s) | Momentum Error \n",
      "0.726  |  6.285   |  0.027\n",
      "0.726  |  6.284   |  -0.021\n",
      "1.971  |  2.313   |  -0.013\n",
      "1.972  |  2.313   |  0.011\n"
     ]
    }
   ],
   "source": [
    "W = 16.5 #m channel width between equally spaced piers\n",
    "g = 9.8 #m/s^2 \n",
    "yd = 1.9 #m \n",
    "ud = 2.40 # m/s\n",
    "Cd = 2.00 # given\n",
    "Q = ud*W*yd\n",
    "D = 1.5 # m diameter of a pier\n",
    "\n",
    "#now a couple of funckshuns\n",
    "\n",
    "def lhs(yu,yd,width,uu,Cd,gravity,diameter):\n",
    "    term1 = (gravity*width*yu**2)/2\n",
    "    term2 = (gravity*width*yd**2)/2\n",
    "    term3 = (Cd*diameter*yu*uu**2)/2\n",
    "    lhs = term1-term2-term3\n",
    "    return(lhs)\n",
    "\n",
    "def rhs(uu,ud,Q):\n",
    "    rhs = (ud-uu)*Q\n",
    "    return(rhs)\n",
    "\n",
    "# by brute force - guess yu, compute uu from Q supply to lhs,rhs when same have a solution print result\n",
    "\n",
    "tolerance = 0.03\n",
    "import math\n",
    "\n",
    "yrange = [i/10000 for i in range(1000,100000)]\n",
    "print(\"Depth (m) |\",\"Velocity (m/s) |\",\"Momentum Error \")\n",
    "for irow in range(len(yrange)):\n",
    "    yu = yrange[irow]\n",
    "    uu = Q/(W*yu)\n",
    "    test = lhs(yu,yd,W,uu,Cd,g,D)-rhs(uu,ud,Q)\n",
    "    if abs(test) < tolerance:\n",
    "        print(round(yu,3),\" | \",round(uu,3),\"  | \",round(lhs(yu,yd,W,uu,Cd,g,D)-rhs(uu,ud,Q),3))\n",
    "\n",
    "#yrange"
   ]
  },
  {
   "cell_type": "code",
   "execution_count": 2,
   "metadata": {},
   "outputs": [
    {
     "name": "stdout",
     "output_type": "stream",
     "text": [
      "Reynolds Number based on depth 7250000.0\n"
     ]
    }
   ],
   "source": [
    "## solution (step-by-step/computations)\n",
    "\n",
    "# Material Properties\n",
    "rho = 1000 #kg/m^3\n",
    "mu = 0.001 #N-s/m^2\n",
    "nu = 1e-06 #s/m^2\n",
    "vd = 2.5 # downstream velocity\n",
    "dchar = 2.9 # characteristic depth\n",
    "\n",
    "## Reynolds number\n",
    "def Re(v,d,nu):\n",
    "    Re = v*d/nu\n",
    "    return(Re)\n",
    "\n",
    "print(\"Reynolds Number based on depth\",round(Re(vd,dchar,nu),3))"
   ]
  },
  {
   "cell_type": "code",
   "execution_count": 3,
   "metadata": {},
   "outputs": [
    {
     "name": "stdout",
     "output_type": "stream",
     "text": [
      "Specific discharge  7.25  m^2/sec\n"
     ]
    }
   ],
   "source": [
    "## Discharge/unit width\n",
    "\n",
    "q = vd*dchar\n",
    "\n",
    "print(\"Specific discharge \",round(q,3),\" m^2/sec\")"
   ]
  },
  {
   "cell_type": "code",
   "execution_count": 4,
   "metadata": {},
   "outputs": [
    {
     "name": "stdout",
     "output_type": "stream",
     "text": [
      "Drag on Cylinder  8700.0  Newtons\n"
     ]
    }
   ],
   "source": [
    "Cd = 0.96 #look up in chart\n",
    "\n",
    "def Fd(Cd,A,rho,V):\n",
    "    Fd = 0.5*Cd*A*rho*V**2\n",
    "    return(Fd)\n",
    "\n",
    "print(\"Drag on Cylinder \",round(Fd(Cd,1*dchar,rho,vd),3),\" Newtons\")"
   ]
  },
  {
   "cell_type": "code",
   "execution_count": 5,
   "metadata": {},
   "outputs": [
    {
     "name": "stdout",
     "output_type": "stream",
     "text": [
      "Depth (m) | Velocity (m/s) | Momentum Error \n",
      "2.923  |  2.48   |  -0.413\n",
      "2.924  |  2.479   |  -0.05\n",
      "2.925  |  2.479   |  0.313\n"
     ]
    }
   ],
   "source": [
    "W = 16 #m channel withn between equally spaced piers\n",
    "g = 9.8 #m/s^2 our friend grabity\n",
    "yd = 2.9 #m yes i know its the same as dchar, but dont want python equivalence here\n",
    "ud = 2.5 # m/s\n",
    "Cd = 0.96 # from above\n",
    "Q = q*W\n",
    "D = 1.0 # m diameter of a pier\n",
    "\n",
    "#now a couple of fun shuns\n",
    "\n",
    "def lhs(yu,yd,width,uu,Cd,gravity,diameter):\n",
    "    term1 = (gravity*width*yu**2)/2\n",
    "    term2 = (gravity*width*yd**2)/2\n",
    "    term3 = (Cd*diameter*yu*uu**2)/2\n",
    "    lhs = term1-term2-term3\n",
    "    return(lhs)\n",
    "\n",
    "def rhs(uu,ud,Q):\n",
    "    rhs = (ud-uu)*Q\n",
    "    return(rhs)\n",
    "\n",
    "# check using \n",
    "\n",
    "#print(lhs(2.92,yd,W,2.48,Cd,g,D))\n",
    "#print(rhs(2.48,ud,Q))\n",
    "\n",
    "# by brute force - guess yu, compute uu from Q supply to lhs,rhs when same have a solution print result\n",
    "\n",
    "tolerance = 0.5\n",
    "import math\n",
    "\n",
    "yrange = [i/1000 for i in range(1000,10000)]\n",
    "print(\"Depth (m) |\",\"Velocity (m/s) |\",\"Momentum Error \")\n",
    "for irow in range(len(yrange)):\n",
    "    yu = yrange[irow]\n",
    "    uu = Q/(W*yu)\n",
    "    test = lhs(yu,yd,W,uu,Cd,g,D)-rhs(uu,ud,Q)\n",
    "    if abs(test) < tolerance:\n",
    "        print(round(yu,3),\" | \",round(uu,3),\"  | \",round(lhs(yu,yd,W,uu,Cd,g,D)-rhs(uu,ud,Q),3))\n",
    "\n",
    "#yrange"
   ]
  },
  {
   "cell_type": "code",
   "execution_count": 6,
   "metadata": {},
   "outputs": [
    {
     "name": "stdout",
     "output_type": "stream",
     "text": [
      "Head loss  0.019  meters\n"
     ]
    }
   ],
   "source": [
    "yu = 2.924\n",
    "uu = 2.479\n",
    "Eup = yu + (uu**2)/(2*g)\n",
    "Edown = yd + (ud**2)/(2*g)\n",
    "DeltaH = Eup - Edown\n",
    "print(\"Head loss \",round(DeltaH,3),\" meters\")"
   ]
  }
 ],
 "metadata": {
  "kernelspec": {
   "display_name": "Python 3",
   "language": "python",
   "name": "python3"
  },
  "language_info": {
   "codemirror_mode": {
    "name": "ipython",
    "version": 3
   },
   "file_extension": ".py",
   "mimetype": "text/x-python",
   "name": "python",
   "nbconvert_exporter": "python",
   "pygments_lexer": "ipython3",
   "version": "3.8.10"
  }
 },
 "nbformat": 4,
 "nbformat_minor": 4
}