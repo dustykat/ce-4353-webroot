{
 "cells": [
  {
   "cell_type": "code",
   "execution_count": 4,
   "metadata": {},
   "outputs": [
    {
     "data": {
      "text/html": [
       "<!--Script block to left align Markdown Tables-->\n",
       "<style>\n",
       "  table {margin-left: 0 !important;}\n",
       "</style>\n"
      ],
      "text/plain": [
       "<IPython.core.display.HTML object>"
      ]
     },
     "metadata": {},
     "output_type": "display_data"
    }
   ],
   "source": [
    "%%html\n",
    "<!--Script block to left align Markdown Tables-->\n",
    "<style>\n",
    "  table {margin-left: 0 !important;}\n",
    "</style>"
   ]
  },
  {
   "cell_type": "markdown",
   "metadata": {},
   "source": [
    "# CE 4353 Design of Hydraulic Systems/CE 5360 Open Channel Hydraulics"
   ]
  },
  {
   "cell_type": "markdown",
   "metadata": {},
   "source": [
    "## Course Description: \n",
    "\n",
    "Design of open channel and closed-conduit conveyance systems for water; includes introduction to HEC-RAS.\n",
    "\n",
    "## Catalog Description\n",
    "\n",
    "CE 4353: title (3:3:0). Design of open channel and closed-conduit conveyance systems for water; includes introduction to HEC-RAS.\n",
    "\n",
    "## Prerequisites: \n",
    "\n",
    "CE 3305 Engineering Fluid Mechanics and CE 3354 Engineering Hydrology.   Familarity with computational thinking as examined in ENGR 1330 and EGR 1207.\n",
    "\n",
    "## Course Sections (in this syllabus)\n",
    "\n",
    "- Fall 2023 Semester\n",
    "\n",
    "Lesson time, days, and location: \n",
    "\n",
    "1. CE 4353 Section 001; CRN 12146; 1500-1620 M,W ; CE 205\n",
    "2. CE 5360 Section 003; CRN 44840; 1500-1620 M,W ; CE 205\n",
    "3. CE 5360 Section D01; CRN 44743; asyncronyous distance\n",
    "\n",
    "## Course Instructor:\n",
    "\n",
    "Instructor: Theodore G. Cleveland, Ph.D., P.E., M. ASCE, F. EWRI\n",
    "\n",
    "Email: theodore.cleveland@ttu.edu  (Put CE 4353/5360 in subject line)\n",
    "\n",
    "Office location: 203F\n",
    "\n",
    "Office hours: TBD\n",
    "\n",
    "## Teaching assistants:\n",
    "\n",
    "Assistant: Not Authorized\n",
    "\n",
    "Email : NA\n",
    "\n",
    "Office location: NA\n",
    "\n",
    "Office hours: NA"
   ]
  },
  {
   "cell_type": "markdown",
   "metadata": {},
   "source": [
    "## Textbook: \n",
    "\n",
    "[Sturm, T. Open Channel Hydraulics, 3 rd Ed.](https://www.amazon.com/Channel-Hydraulics-Third-Terry-Sturm/dp/1260469700) **Link is to Amazon**.  The book should be available in TTU Bookstore. Chegg also rents copies."
   ]
  },
  {
   "cell_type": "markdown",
   "metadata": {},
   "source": [
    "## Instructor Notes\n",
    "\n",
    "[Cleveland, T.G. (2022) Hydraulic System Design *JupyterBook notes to accompany CE 4353/CE 5360 at TTU*](http://54.243.252.9/ce-4353-webroot/ce4353jb/ce4353workbook/_build/html/intro.html)"
   ]
  },
  {
   "cell_type": "markdown",
   "metadata": {},
   "source": [
    "## Course Schedule \n",
    "\n",
    "| Date | Lesson | Readings | Homework |\n",
    "|:------|:---|:---|:---|\n",
    "|28 AUG 23|[0. Introduction](http://54.243.252.9/ce-4353-webroot/ce4353jb/ce4353workbook/_build/html/lessons/introduction/introduction.html) <br> - Syllabus <br> - Blackboard <br> - Web server| [Open Channel Hydraulics](https://www.amazon.com/Channel-Hydraulics-Third-Terry-Sturm/dp/1260469700) Chapter 1| - none|\n",
    "|30 AUG 23|[1. Computational Tools](http://54.243.252.9/ce-4353-webroot/ce4353jb/ce4353workbook/_build/html/lessons/computationaltools/computationaltools.html) <br> - Jupyter Notebooks <br> - Excel Spreadsheets <br> - Specialized software (HEC-RAS;SWMM; etc.) | - none | |\n",
    "|04 SEP 23|[2. Basic Principles](http://54.243.252.9/ce-4353-webroot/ce4353jb/ce4353workbook/_build/html/lessons/basicprinciples/basicprinciples.html) <br> - Define open channel <br> - Flow regimes <br> - Basic Equations| Ch 1|[EC1](http://54.243.252.9/ce-4353-webroot/2-Exercises/EC1/EC1.html) (optional)|\n",
    "|06 SEP 23|[3. Specific Energy - I](http://54.243.252.9/ce-4353-webroot/ce4353jb/ce4353workbook/_build/html/lessons/specificenergy/specificenergy1.html)<br> - Definition <br> - SE Diagram <br> - Choke| Ch 2 <br> - 2.1-2.3 | [ES1 Due](http://54.243.252.9/ce-4353-webroot/2-Exercises/ES1/ES1.html)|\n",
    "|11 SEP 23|[4. Specific Energy - II](http://54.243.252.9/ce-4353-webroot/ce4353jb/ce4353workbook/_build/html/lessons/specificenergy/specificenergy2.html)<br> - Froude Number <br> - Critical Depth <br> - Contractions/Expansions <br> - Overbank| Ch 2 <br> - 2.3-2.7 ||\n",
    "|13 SEP 23|[5. Weirs](http://54.243.252.9/ce-4353-webroot/ce4353jb/ce4353workbook/_build/html/lessons/weirs/weirs.html) <br> - Critical Depth <br> - Measuring Discharge| Ch 2 <br> - 2.8 |[ES2 Due](http://54.243.252.9/ce-4353-webroot/2-Exercises/ES2/ES2.html)|\n",
    "|18 SEP 23|6. [Momentum - I](http://54.243.252.9/ce-4353-webroot/ce4353jb/ce4353workbook/_build/html/lessons/momentum/momentum1.html#)<br> - Definition <br> - Momentum Function (Rectangular Cross Section)| Ch 3 <br> - 3.1-3.3 ||\n",
    "|20 SEP 23|7. [Momentum - II](http://54.243.252.9/ce-4353-webroot/ce4353jb/ce4353workbook/_build/html/lessons/momentum/momentum2.html)<br> - Momentum Function (Arbitrary Cross Section) <br> - Hydraulic Jumps| Ch 3 <br> - 3.4-3.5  |[ES3 Due](http://54.243.252.9/ce-4353-webroot/2-Exercises/ES3/ES3.html)|\n",
    "|25 SEP 23|8. [Momentum - III](http://54.243.252.9/ce-4353-webroot/ce4353jb/ce4353workbook/_build/html/lessons/momentum/momentum3.html)<br> - Surges  <br> - Bridge Piers <br> - Spur Dikes| Ch 3 <br> - 3.5-3.6 <br> ||\n",
    "|27 SEP 23|9. [Uniform Flow - I](http://54.243.252.9/ce-4353-webroot/ce4353jb/ce4353workbook/_build/html/lessons/uniformflow/uniformflow.html)<br> - Definitions <br> - Manning's n <br> - Normal depth| Ch 4 <br> - 4.1-4.5 <br> -subtopic 2 |[ES4 Due](http://54.243.252.9/ce-4353-webroot/2-Exercises/ES4/ES4.html)|\n",
    "|02 OCT 23|10. [Uniform Flow - II](http://54.243.252.9/ce-4353-webroot/ce4353jb/ce4353workbook/_build/html/lessons/uniformflow/gutters.html)<br> - Gutters and Inlets <br> - Gravity Sewers| Ch 4 <br> - 4.6-4.9 <br> -subtopic 2||\n",
    "|04 OCT 23|11. [Uniform Flow - III](http://54.243.252.9/ce-4353-webroot/ce4353jb/ce4353workbook/_build/html/lessons/uniformflow/compoundchannels.html)<br> - Compound Channels <br> | Ch 4 <br> - 4.10-4.12 <br> -subtopic 2 |[ES5 Due](http://54.243.252.9/ce-4353-webroot/2-Exercises/ES5/ES5.html)|\n",
    "|09 OCT 23|12. [Uniform Flow - IV](http://54.243.252.9/ce-4353-webroot/ce4353jb/ce4353workbook/_build/html/lessons/uniformflow/riprapchannels.html)<br> - Rip-Rap Lined Channels <br> - Vegetative Lined Channels| Ch 4 <br> - 4.13-4.15 <br> -subtopic 2||\n",
    "|11 OCT 23|[<font color=\"red\">Exam 1 Due</font>](http://54.243.252.9/ce-4353-webroot/5-Exams/EX1/EX1.html)|<font color=\"red\">Submit on Blackboard</font>|\n",
    "|11 OCT 23|13. Uniform Flow - V <br> - Natural Channels <br> - Flood Control Channels| Ch 4 <br> - 4.16-4.18 <br> -subtopic 2||\n",
    "|16 OCT 23|14. [Gradually Varied Flow - I](http://54.243.252.9/ce-4353-webroot/ce4353jb/ce4353workbook/_build/html/lessons/graduallyvariedflow/graduallyvaried1.html)<br> - Definitions <br> - Explicit Fixed Depth Changes| Ch 5 <br> - 5.1-5.3 <br> -subtopic 2||\n",
    "|18 OCT 23|15. [Gradually Varied Flow - II](http://54.243.252.9/ce-4353-webroot/ce4353jb/ce4353workbook/_build/html/lessons/graduallyvariedflow/wspcomputation.html)<br> - Water Surface Profiles <br> - Explicit Fixed Depth Changes| Ch 5 <br> - 5.4-5.7 <br> -subtopic 2 |[ES6 Due](http://54.243.252.9/ce-4353-webroot/2-Exercises/ES6/ES6.html)|\n",
    "|23 OCT 23|16. [Gradually Varied Flow - III](http://54.243.252.9/ce-4353-webroot/ce4353jb/ce4353workbook/_build/html/lessons/graduallyvariedflow/wspfixedspace.html)<br> - Water Surface Profiles <br> - Implicit Fixed Spatial Changes| Ch 5 <br> - 5.8-5.10 <br> -subtopic 2||\n",
    "|25 OCT 23|[17. HEC-RAS Introduction]() <br> - Install Software <br> - HEC-RAS via Web Server| - subtopic <br> - subtopic1 <br> -subtopic 2|[ES7 Due](http://54.243.252.9/ce-4353-webroot/2-Exercises/ES7/ES7.html)|\n",
    "|30 OCT 23|[18. HEC-RAS Steady]()  <br> - Example 1 <br> - Example 2| topic name <br> - subtopic1 <br> -subtopic 2 |\n",
    "|01 NOV 23|[19. HEC-RAS Junctions and Tribuitaries]() <br> - Example 1 <br> - Example 2| Mays Ch. 16 <br> - subtopic1 <br> -subtopic 2 |[ES8 Due](http://54.243.252.9/ce-4353-webroot/2-Exercises/ES8/ES8.html)|\n",
    "|06 NOV 23|[20. HEC-RAS Culverts and Bridges]() <br> - Example 1 <br> - Example 2| Mays Ch. 16 <br> - subtopic1 <br> -subtopic 2|\n",
    "|08 NOV 23|21. Other Hydraulic Structures <br> - subtopic1 <br> -subtopic 2| Mays Ch. 16 <br> - subtopic1 <br> -subtopic 2|[ES9 Due](http://54.243.252.9/ce-4353-webroot/2-Exercises/ES9/ES9.html)|\n",
    "|13 NOV 23|[22. HEC-RAS Unsteady]() <br> - Example 1 <br> - Example 2| topic name <br> - subtopic1 <br> -subtopic 2|\n",
    "|15 NOV 23|[23. HEC-RAS Unsteady]() <br> - subtopic1 <br> -subtopic 2| topic name <br> - subtopic1 <br> -subtopic 2|\n",
    "|19 NOV 23|[<font color=\"red\">Exam 2 Due</font>](link)|<font color=\"red\">Submit on Blackboard</font>|\n",
    "|20 NOV 23|24. Sediment Transport <br> - subtopic1 <br> -subtopic 2| Mays Ch. 18 <br> - subtopic1 <br> -subtopic 2|Project Report Due|\n",
    "|27 NOV 23|25. Hydraulic Profiles in Wastewater Plants - I<br> - Example 1 <br> - Introduction to FreeSWMM| topic name <br> - subtopic1 <br> -subtopic 2 |\n",
    "|29 NOV 23|[26. Hydraulic Profiles in Wastewater Plants - II]()<br> - Example 1 using SWMM <br> | topic name <br> - subtopic1 <br> -subtopic 2|\n",
    "|04 DEC 23|[26. Hydraulic Profiles in Wastewater Plants - II]()<br> - Example 1 using SWMM <br> | topic name <br> - subtopic1 <br> -subtopic 2|\n",
    "|11 DEC 23|[<font color=\"red\">Exam 3 Due</font>](link)|<font color=\"red\">Submit on Blackboard</font>|"
   ]
  },
  {
   "cell_type": "markdown",
   "metadata": {},
   "source": [
    "## Learning Outcomes: \n",
    "On completion of the course, students will have\n",
    "1. Performed hydraulic analysis of various steady-flow situations of practical engineering interest.\n",
    "2. Sized (diameter and barrel count) a culvert to convey a design flow determined by hydrologic methods.\n",
    "2. Computed hydraulic profiles of flow through a wastewater treatment plant.\n",
    "3. Performed a hydraulic analysis of a drainage situation using HEC-RAS software.\n",
    "4. Summarized HEC-RAS results in an engineering report.\n",
    "5. Summarized and synthesized information from hydraulic engineering literature into a review document (CE-5360)\n"
   ]
  },
  {
   "cell_type": "markdown",
   "metadata": {},
   "source": [
    "## ABET Student Outcomes\n",
    "* General Engineering:\n",
    "\n",
    "|ABET Outcome|Assessment|\n",
    "|:---|:---|\n",
    "|(1) an ability to identify, formulate, and solve complex engineering problems by applying principles of engineering, science, and mathematics|application of fluid mechanics principles and computer modeling of open channel flow|\n",
    "|(2) an ability to apply engineering design to produce solutions that meet specified needs with consideration of public health, safety, and welfare, as well as global, cultural, social, environmental, and economic factors|design of open channels of various shapes and bed materials, selection of culvert design for required flow|\n",
    "|(7) an ability to acquire and apply new knowledge as needed, using appropriate learning strategies| application of HEC-RAS for open channel flow modeling and assorted jupyter notebook calculation|\n",
    "\n",
    "* Civil Engineering Program Criteria:\n",
    "\n",
    "|ABET Outcome|Assessment|\n",
    "|:---|:---|\n",
    "|(v) proficiency in water resources engineering|applications of fluid mechanics and open channel flow principles for water transmission|\n",
    "|(vii) design a system, component, or process in more than one civil engineering context|design of open channels of various shapes and bed materials, selection of culvert design for required flow|\n",
    "    \n",
    "* Environmental Engineering Program Criteria:\n",
    "\n",
    "|ABET Outcome|Assessment|\n",
    "|:---|:---|\n",
    "|(iv) an ability to perform engineering design by means of design experiences integrated throughout the professional component of the curriculum |design of open channels of various shapes and bed materials, selection of culvert design for required flow|\n"
   ]
  },
  {
   "cell_type": "markdown",
   "metadata": {},
   "source": [
    "### Specialized Software\n",
    "\n",
    "1. [HEC-RAS](https://www.hec.usace.army.mil/software/hec-ras/) the U.S. Army Corps of Engineers’ software package for modeling constant flows and flood-wave movement through a series of river cross sections, including the presence of a culvert structure. The software and documentation are available free of charge and will be identified at the appropriate time.\n"
   ]
  },
  {
   "cell_type": "markdown",
   "metadata": {},
   "source": [
    "## Course Assessment and Grading Criteria:\n",
    "There will be three exams and one comprehensive final project for the course.  \n",
    "In addition, lab participation, quizzes, and assignments also contribute to the final grade.  \n",
    "<strong>Late</strong> assignments will not be scored.  \n",
    "\n",
    "Grades will be based on the following components; weighting is approximate:\n",
    "\n",
    "|Assessment Instrument|Weight(%)|\n",
    "|---|---:|\n",
    "|Attendance/Quiz|10|\n",
    "|Homework|10|\n",
    "|Exam 1|20|\n",
    "|Exam 2|20|\n",
    "|Exam 3|20|\n",
    "|Project|20|\n",
    "|Overall total|100|\n",
    "\n",
    "Letter grades will be assigned using the following proportions:\n",
    "\n",
    "|Normalized Score Range|Letter Grade|\n",
    "|:-|---:|\n",
    "|≥ 90|A|\n",
    "|80-89|B|\n",
    "|70-79|C|\n",
    "|55-69|D|\n",
    "|< 55|F|\n",
    "\n",
    "\n"
   ]
  },
  {
   "cell_type": "markdown",
   "metadata": {},
   "source": [
    "## Classroom Policy:\n",
    "The following activities are not allowed in the classroom: Texting or talking on the cellphone or other electronic devices, and reading non-course related materials.\n",
    "### Telepresence (On-line) Courses\n",
    "Obviously electronic devices are vital; disrupting the webinar is prohibited, please mute your microphone unless you have a question - consider typing your question into the chat window as well. \n"
   ]
  },
  {
   "cell_type": "markdown",
   "metadata": {},
   "source": [
    "## ADA Statement: \n",
    "Any student who, because of a disability, may require special arrangements in order to meet the course requirements should contact the instructor as soon as possible to make necessary arrangements.  Students must present appropriate verification from Student Disability Services during the instructor's office hours.  Please note that instructors are not allowed to provide classroom accommodation to a student until appropriate verification from Student Disability Services has been provided.  For additional information, please contact Student Disability Services \n",
    "office in 335 West Hall or call 806.742.2405.\n",
    "\n",
    "## Academic Integrity Statement:\n",
    "Academic integrity is taking responsibility for one’s own class and/or course work, being individually accountable, and demonstrating intellectual honesty and ethical behavior.  Academic integrity is a personal choice to abide by the standards of intellectual honesty and responsibility.  Because education is a shared effort to achieve learning through the exchange of ideas, students, faculty, and staff have the collective responsibility to build mutual trust and respect.  Ethical behavior and independent thought are essential for the highest level of academic achievement, which then must be measured.  Academic achievement includes scholarship, teaching, and learning, all of which are shared endeavors.  Grades are a device used to quantify the successful accumulation of knowledge through learning.  Adhering to the standards of academic integrity ensures grades are earned honestly.  Academic integrity is the foundation upon which students, faculty, and staff build their educational and professional careers.  [Texas Tech University (“University”) Quality Enhancement Plan, Academic Integrity Task Force, 2010].\n",
    "\n",
    "## Religious Holy Day Statement: \n",
    "“Religious holy day” means a holy day observed by a religion whose places of worship are exempt from property taxation under Texas Tax Code §11.20.  A student who intends to observe a religious holy day should make that intention known to the instructor prior to the absence.  A student who is absent from classes for the observance of a religious holy day shall be allowed to take an examination or complete an assignment scheduled for that day within a reasonable time after the absence.  A student who is excused may not be penalized for the absence; however, the instructor may respond appropriately if the student fails to complete the assignment satisfactorily.\n",
    "\n",
    "## Ethical Conduct Policy:\n",
    "Cheating is prohibited, and the representation of the work of another person as your own will be grounds for receiving a failing grade in the course. \n"
   ]
  },
  {
   "cell_type": "markdown",
   "metadata": {},
   "source": []
  }
 ],
 "metadata": {
  "kernelspec": {
   "display_name": "Python 3",
   "language": "python",
   "name": "python3"
  },
  "language_info": {
   "codemirror_mode": {
    "name": "ipython",
    "version": 3
   },
   "file_extension": ".py",
   "mimetype": "text/x-python",
   "name": "python",
   "nbconvert_exporter": "python",
   "pygments_lexer": "ipython3",
   "version": "3.8.10"
  }
 },
 "nbformat": 4,
 "nbformat_minor": 4
}
