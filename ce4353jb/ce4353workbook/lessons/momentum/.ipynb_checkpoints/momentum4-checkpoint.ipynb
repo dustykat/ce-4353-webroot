{
 "cells": [
  {
   "cell_type": "markdown",
   "metadata": {},
   "source": [
    "# Bridge Piers\n",
    "\n",
    "Momentum balances are useful when analyzing obstructions caused by elements placed in the flow, bridge piers being a prime example.  The obstruction causes backwater effects in subcritical flow and even choking.\n",
    "\n",
    "\n",
    "## Definitions\n",
    "\n",
    "Two flow regimes are shown below.  Type-I is subcritical approach, remaining subcritical passing through the pier array.  Type-II is where critical depth occurs in the constriction (kind of like a flooded broad crested weir). \n",
    "\n",
    "![](piersmorgan.png)\n",
    "\n",
    "For Type-I flow the momentum balance is\n",
    "\n",
    "$$M_1 = M_4 + \\frac{F_D}{\\rho g} $$\n",
    "\n",
    "where $F_D$ is the drag force of the piers on the water."
   ]
  },
  {
   "cell_type": "markdown",
   "metadata": {},
   "source": [
    "## Example 3.3 (from Sturm)\n",
    "\n",
    "A bridge is supported by square-noze piers having a width of 1.5 meters and a spacing of 15.0 meters.  The piers have a drag coefficient of 2.0.   If the downstream depth and velocity are 1.90 meters and 2.40 meters per second, what is the backwater (deepening upstream) caused by the piers?\n",
    "\n",
    "The book presents an elegant solution, we however will just beat it to submission with numb3rs:"
   ]
  },
  {
   "cell_type": "code",
   "execution_count": 9,
   "metadata": {},
   "outputs": [
    {
     "name": "stdout",
     "output_type": "stream",
     "text": [
      "Depth (m) | Velocity (m/s) | Momentum Error \n",
      "0.726  |  6.285   |  0.027\n",
      "0.726  |  6.284   |  -0.021\n",
      "1.971  |  2.313   |  -0.013\n",
      "1.972  |  2.313   |  0.011\n"
     ]
    }
   ],
   "source": [
    "W = 16.5 #m channel width between equally spaced piers\n",
    "g = 9.8 #m/s^2 \n",
    "yd = 1.9 #m \n",
    "ud = 2.40 # m/s\n",
    "Cd = 2.00 # given\n",
    "Q = ud*W*yd\n",
    "D = 1.5 # m diameter of a pier\n",
    "\n",
    "#now a couple of funckshuns\n",
    "\n",
    "def lhs(yu,yd,width,uu,Cd,gravity,diameter):\n",
    "    term1 = (gravity*width*yu**2)/2\n",
    "    term2 = (gravity*width*yd**2)/2\n",
    "    term3 = (Cd*diameter*yu*uu**2)/2\n",
    "    lhs = term1-term2-term3\n",
    "    return(lhs)\n",
    "\n",
    "def rhs(uu,ud,Q):\n",
    "    rhs = (ud-uu)*Q\n",
    "    return(rhs)\n",
    "\n",
    "# by brute force - guess yu, compute uu from Q supply to lhs,rhs when same have a solution print result\n",
    "\n",
    "tolerance = 0.03\n",
    "import math\n",
    "\n",
    "yrange = [i/10000 for i in range(1000,100000)]\n",
    "print(\"Depth (m) |\",\"Velocity (m/s) |\",\"Momentum Error \")\n",
    "for irow in range(len(yrange)):\n",
    "    yu = yrange[irow]\n",
    "    uu = Q/(W*yu)\n",
    "    test = lhs(yu,yd,W,uu,Cd,g,D)-rhs(uu,ud,Q)\n",
    "    if abs(test) < tolerance:\n",
    "        print(round(yu,3),\" | \",round(uu,3),\"  | \",round(lhs(yu,yd,W,uu,Cd,g,D)-rhs(uu,ud,Q),3))\n",
    "\n",
    "#yrange"
   ]
  },
  {
   "cell_type": "markdown",
   "metadata": {},
   "source": [
    "So the computed upstream depth is between $1.971$ and $1.972$ meters.  The smaller zero does not make sense (the piers are not likely to force water to a shallower depth upstream of the disturbance.  \n",
    "\n",
    ":::{note}\n",
    "We can check our conjecture by computing the downstream Fr number, if it is less than 1.0 (subcritical) it is possible the piers could cause a transition from supercritical, but pretty unlikely unless the after pier Fr number is pretty large (say 0.8-ish)\n",
    ":::\n",
    "\n",
    "Using 1.972 as our upstream depth, the backwater induced by the pier(s) is 1.972 - 1.90 ($y_u - y_d$)=0.072 meters which agrees nicely with the elegant, graphical solution in the book of 0.076 meters.  In our case with working scripts we have a useable NBR (No Brains Required) solution."
   ]
  },
  {
   "cell_type": "markdown",
   "metadata": {},
   "source": [
    "## Example (Problem 4 from ES-1)\n",
    "\n",
    "*This example is not particularly special except the drag coefficient is **unspecified** and is determined from the Reynolds number based on depth for the flow field.*\n",
    "\n",
    "A bridge has cylindrical piers 1 $m$ in diameter and spaced 15 $m$ apart.  \n",
    "Downstream of the bridge, where the flow disturbance from the piers is no longer present, the flow depth is 2.9 $m$ and the mean velocity is 2.5 $\\frac{m}{sec}$\n",
    "\n",
    "Figure 4 is a typical graph of drag coefficient for a single cylinder \n",
    "\n",
    "> Figure 4 adapted from [Wenjun Gao, Daniel Nelias, Yaguo Lyu, Nicolas Boisson,\n",
    "Numerical investigations on drag coefficient of circular cylinder with two free ends in roller bearings,\n",
    "Tribology International,\n",
    "Volume 123,\n",
    "2018,\n",
    "Pages 43-49,\n",
    "ISSN 0301-679X,\n",
    "https://doi.org/10.1016/j.triboint.2018.02.044.](https://www.sciencedirect.com/science/article/pii/S0301679X18301324)\n",
    "\n",
    "<figure align=\"center\">\n",
    "<!--<img src=\"./cylinderdrages1.png\" width=\"600\" >-->\n",
    "<img src=\"http://54.243.252.9/ce-4353-webroot/2-Exercises/ES1/Cdforacylinder.png\" width=\"600\" >\n",
    "<figcaption>Figure 4: The drag coefficient, $C_D$, for a circular cylinder as a function of Reynolds number. </figcaption>\n",
    "\n",
    "</figure>\n",
    "\n",
    "Determine\n",
    "\n",
    "- The Reynolds number for the flow described (use the flow depth as the characteristic length)\n",
    "- The drag coefficient, $C_d$ for a cylinder at the computed Reynolds number \n",
    "- The depth of flow upstream of the bridge\n",
    "- The head loss caused by the piers"
   ]
  },
  {
   "cell_type": "markdown",
   "metadata": {},
   "source": [
    "# sketch(s) here\n",
    "\n",
    "The sketch below ia a plan view of the described conditions, we will analyze a 16 meter wide portion of the flow field; total width is unknown, and we will assume the single pier estimate applies across entire width.\n",
    "\n",
    "![](http://54.243.252.9/ce-4353-webroot/2-Exercises/ES1/pierplanview.png)\n",
    "\n",
    "An elevation view sketch is below - showing the energy grade line (as a nice gradient, in actuality all the head loss will be quite near the pier.\n",
    "\n",
    "![](http://54.243.252.9/ce-4353-webroot/2-Exercises/ES1/pierelevationview.png)"
   ]
  },
  {
   "cell_type": "markdown",
   "metadata": {},
   "source": [
    "# list known quantities\n",
    "\n",
    "- $y_d = 2.9$ meters\n",
    "- $u_d = 2.5$ meters per second\n",
    "- $D_{pier} = 1.0$ meter\n",
    "- Pier array spacing is 15 meters"
   ]
  },
  {
   "cell_type": "markdown",
   "metadata": {},
   "source": [
    "# list unknown quantities\n",
    "\n",
    "- $y_o = ?$ meters\n",
    "- $u_o = ?$ meters per second\n"
   ]
  },
  {
   "cell_type": "markdown",
   "metadata": {},
   "source": [
    "# governing principles\n",
    "\n",
    "- Continunity; will appear as specific discharge $\\frac{Q}{width} = const.$\n",
    "- Conservation of linear momentum\n",
    "- Concept of drag force\n",
    "\n",
    "Approach is use Continunity and Momentum to find the upstream depth and velocity, then use the energy equation to infer head loss."
   ]
  },
  {
   "cell_type": "code",
   "execution_count": 6,
   "metadata": {},
   "outputs": [
    {
     "name": "stdout",
     "output_type": "stream",
     "text": [
      "Reynolds Number based on depth 7250000.0\n"
     ]
    }
   ],
   "source": [
    "## solution (step-by-step/computations)\n",
    "\n",
    "# Material Properties\n",
    "rho = 1000 #kg/m^3\n",
    "mu = 0.001 #N-s/m^2\n",
    "nu = 1e-06 #s/m^2\n",
    "vd = 2.5 # downstream velocity\n",
    "dchar = 2.9 # characteristic depth\n",
    "\n",
    "## Reynolds number\n",
    "def Re(v,d,nu):\n",
    "    Re = v*d/nu\n",
    "    return(Re)\n",
    "\n",
    "print(\"Reynolds Number based on depth\",round(Re(vd,dchar,nu),3))"
   ]
  },
  {
   "cell_type": "code",
   "execution_count": 9,
   "metadata": {},
   "outputs": [
    {
     "name": "stdout",
     "output_type": "stream",
     "text": [
      "Specific discharge  7.25  m^2/sec\n"
     ]
    }
   ],
   "source": [
    "## Discharge/unit width\n",
    "\n",
    "q = vd*dchar\n",
    "\n",
    "print(\"Specific discharge \",round(q,3),\" m^2/sec\")"
   ]
  },
  {
   "cell_type": "code",
   "execution_count": 10,
   "metadata": {},
   "outputs": [
    {
     "name": "stdout",
     "output_type": "stream",
     "text": [
      "Drag on Cylinder  8700.0  Newtons\n"
     ]
    }
   ],
   "source": [
    "Cd = 0.96 #look up in chart\n",
    "\n",
    "def Fd(Cd,A,rho,V):\n",
    "    Fd = 0.5*Cd*A*rho*V**2\n",
    "    return(Fd)\n",
    "\n",
    "print(\"Drag on Cylinder \",round(Fd(Cd,1*dchar,rho,vd),3),\" Newtons\")"
   ]
  },
  {
   "cell_type": "markdown",
   "metadata": {},
   "source": [
    "Now some more analysis\n",
    "\n",
    "First a control volume on a 16-meter wide portion of channel that encloses 1 pier (as in the plan view)\n",
    "\n",
    "![](http://54.243.252.9/ce-4353-webroot/2-Exercises/ES1/CVanalysis.png)\n",
    "\n",
    "Now the force balance rendering\n",
    "\n",
    "![](http://54.243.252.9/ce-4353-webroot/2-Exercises/ES1/mombalance.png)\n",
    "\n",
    "Next some algebra\n",
    "\n",
    "![](http://54.243.252.9/ce-4353-webroot/2-Exercises/ES1/algebra.png)\n",
    "\n",
    "We can probably switch back to code"
   ]
  },
  {
   "cell_type": "code",
   "execution_count": 38,
   "metadata": {},
   "outputs": [
    {
     "name": "stdout",
     "output_type": "stream",
     "text": [
      "Depth (m) | Velocity (m/s) | Momentum Error \n",
      "2.923  |  2.48   |  -0.413\n",
      "2.924  |  2.479   |  -0.05\n",
      "2.925  |  2.479   |  0.313\n"
     ]
    }
   ],
   "source": [
    "W = 16 #m channel withn between equally spaced piers\n",
    "g = 9.8 #m/s^2 our friend grabity\n",
    "yd = 2.9 #m yes i know its the same as dchar, but dont want python equivalence here\n",
    "ud = 2.5 # m/s\n",
    "Cd = 0.96 # from above\n",
    "Q = q*W\n",
    "D = 1.0 # m diameter of a pier\n",
    "\n",
    "#now a couple of fun shuns\n",
    "\n",
    "def lhs(yu,yd,width,uu,Cd,gravity,diameter):\n",
    "    term1 = (gravity*width*yu**2)/2\n",
    "    term2 = (gravity*width*yd**2)/2\n",
    "    term3 = (Cd*diameter*yu*uu**2)/2\n",
    "    lhs = term1-term2-term3\n",
    "    return(lhs)\n",
    "\n",
    "def rhs(uu,ud,Q):\n",
    "    rhs = (ud-uu)*Q\n",
    "    return(rhs)\n",
    "\n",
    "# check using \n",
    "\n",
    "#print(lhs(2.92,yd,W,2.48,Cd,g,D))\n",
    "#print(rhs(2.48,ud,Q))\n",
    "\n",
    "# by brute force - guess yu, compute uu from Q supply to lhs,rhs when same have a solution print result\n",
    "\n",
    "tolerance = 0.5\n",
    "import math\n",
    "\n",
    "yrange = [i/1000 for i in range(1000,10000)]\n",
    "print(\"Depth (m) |\",\"Velocity (m/s) |\",\"Momentum Error \")\n",
    "for irow in range(len(yrange)):\n",
    "    yu = yrange[irow]\n",
    "    uu = Q/(W*yu)\n",
    "    test = lhs(yu,yd,W,uu,Cd,g,D)-rhs(uu,ud,Q)\n",
    "    if abs(test) < tolerance:\n",
    "        print(round(yu,3),\" | \",round(uu,3),\"  | \",round(lhs(yu,yd,W,uu,Cd,g,D)-rhs(uu,ud,Q),3))\n",
    "\n",
    "#yrange"
   ]
  },
  {
   "cell_type": "markdown",
   "metadata": {},
   "source": [
    "So by a brute force search, the following values are indicated\n",
    "\n",
    "- $y_o = 2.924$\n",
    "- $u_o = 2.479$\n",
    "\n",
    "The momentum balance error is $-0.05$, if we wanted could jack the search a bit to get another digit maybe.  But this is probably close enough.\n",
    "\n",
    "Now finally determine the energy loss from \n",
    "\n",
    "$$ y_o + \\frac{u_o^2}{2g} = y_d + \\frac{u_d^2}{2g} + \\Delta H $$\n",
    "\n",
    "Solve for $\\Delta H$"
   ]
  },
  {
   "cell_type": "code",
   "execution_count": 1,
   "metadata": {},
   "outputs": [
    {
     "ename": "NameError",
     "evalue": "name 'g' is not defined",
     "output_type": "error",
     "traceback": [
      "\u001b[0;31m---------------------------------------------------------------------------\u001b[0m",
      "\u001b[0;31mNameError\u001b[0m                                 Traceback (most recent call last)",
      "\u001b[0;32m<ipython-input-1-d79fa749d2cb>\u001b[0m in \u001b[0;36m<module>\u001b[0;34m\u001b[0m\n\u001b[1;32m      1\u001b[0m \u001b[0myu\u001b[0m \u001b[0;34m=\u001b[0m \u001b[0;36m2.924\u001b[0m\u001b[0;34m\u001b[0m\u001b[0;34m\u001b[0m\u001b[0m\n\u001b[1;32m      2\u001b[0m \u001b[0muu\u001b[0m \u001b[0;34m=\u001b[0m \u001b[0;36m2.479\u001b[0m\u001b[0;34m\u001b[0m\u001b[0;34m\u001b[0m\u001b[0m\n\u001b[0;32m----> 3\u001b[0;31m \u001b[0mEup\u001b[0m \u001b[0;34m=\u001b[0m \u001b[0myu\u001b[0m \u001b[0;34m+\u001b[0m \u001b[0;34m(\u001b[0m\u001b[0muu\u001b[0m\u001b[0;34m**\u001b[0m\u001b[0;36m2\u001b[0m\u001b[0;34m)\u001b[0m\u001b[0;34m/\u001b[0m\u001b[0;34m(\u001b[0m\u001b[0;36m2\u001b[0m\u001b[0;34m*\u001b[0m\u001b[0mg\u001b[0m\u001b[0;34m)\u001b[0m\u001b[0;34m\u001b[0m\u001b[0;34m\u001b[0m\u001b[0m\n\u001b[0m\u001b[1;32m      4\u001b[0m \u001b[0mEdown\u001b[0m \u001b[0;34m=\u001b[0m \u001b[0myd\u001b[0m \u001b[0;34m+\u001b[0m \u001b[0;34m(\u001b[0m\u001b[0mud\u001b[0m\u001b[0;34m**\u001b[0m\u001b[0;36m2\u001b[0m\u001b[0;34m)\u001b[0m\u001b[0;34m/\u001b[0m\u001b[0;34m(\u001b[0m\u001b[0;36m2\u001b[0m\u001b[0;34m*\u001b[0m\u001b[0mg\u001b[0m\u001b[0;34m)\u001b[0m\u001b[0;34m\u001b[0m\u001b[0;34m\u001b[0m\u001b[0m\n\u001b[1;32m      5\u001b[0m \u001b[0mDeltaH\u001b[0m \u001b[0;34m=\u001b[0m \u001b[0mEup\u001b[0m \u001b[0;34m-\u001b[0m \u001b[0mEdown\u001b[0m\u001b[0;34m\u001b[0m\u001b[0;34m\u001b[0m\u001b[0m\n",
      "\u001b[0;31mNameError\u001b[0m: name 'g' is not defined"
     ]
    }
   ],
   "source": [
    "yu = 2.924\n",
    "uu = 2.479\n",
    "Eup = yu + (uu**2)/(2*g)\n",
    "Edown = yd + (ud**2)/(2*g)\n",
    "DeltaH = Eup - Edown\n",
    "print(\"Head loss \",round(DeltaH,3),\" meters\")"
   ]
  },
  {
   "cell_type": "markdown",
   "metadata": {},
   "source": [
    "# discussion\n",
    "This is just a fluid mechanics problem, to find the drag force impact on flow, then definition of head loss.  Only hard part is finding Nemo ($C_d$)"
   ]
  },
  {
   "cell_type": "markdown",
   "metadata": {},
   "source": [
    "## Examples\n",
    "\n",
    "\n",
    "\n",
    "\n",
    "## References"
   ]
  }
 ],
 "metadata": {
  "kernelspec": {
   "display_name": "Python 3",
   "language": "python",
   "name": "python3"
  },
  "language_info": {
   "codemirror_mode": {
    "name": "ipython",
    "version": 3
   },
   "file_extension": ".py",
   "mimetype": "text/x-python",
   "name": "python",
   "nbconvert_exporter": "python",
   "pygments_lexer": "ipython3",
   "version": "3.8.10"
  }
 },
 "nbformat": 4,
 "nbformat_minor": 4
}
