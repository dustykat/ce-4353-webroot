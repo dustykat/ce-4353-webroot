{
 "cells": [
  {
   "cell_type": "markdown",
   "metadata": {},
   "source": [
    "# Momentum"
   ]
  },
  {
   "cell_type": "markdown",
   "metadata": {},
   "source": [
    "Momentum is a property of moving things and is the product of mass and velocity.  Angular momentum is the similar property in rotating geometries.  It takes an external force to change the momentum of an object.\n",
    "\n",
    ":::{note}\n",
    "Except at faster than light travel (FTL) when impulse-momentum no longer applies; instead ones survival depends largely on the skill of the scriptwriter.  As engineers we wear the red shirts and are usually sacrificed, although Scottish engineers seem to last many episodes!\n",
    ":::\n",
    "\n",
    "In the context of hydraulics many phenomenon which cannot be analyzed using the energy equation succumb nicely to momentum. The primary advantage of the momentum equation are that details of internal (to the control volume) flow paqtterns are irrelevant, only the external forces and momentum fluxes need to be considered.  The momentum balance was used earlier to solve the head loss caused by a bridge pier and this is a typical application of momentum balances.\n",
    "\n",
    "It matters greatly in computational hydraulics in unsteady flow. "
   ]
  },
  {
   "cell_type": "markdown",
   "metadata": {},
   "source": [
    "## Hydraulic Jump\n",
    "\n",
    "A [hydraulic jump](https://www.youtube.com/watch?v=7tjf8HWiR3Y) occurs:\n",
    "\n",
    "1. when you startle a sugary liquid, it jumps and spills.  \n",
    "2. when flow transitions for supercritical flow to subcritical flow over a short distance.\n",
    "3. when a lowrider activates the car hydraulics and hops.\n",
    "\n",
    "well for this lesson its the second answer.\n",
    "\n",
    ":::{note}\n",
    "The highest lowrider hop 414.65 cm (163.25 in) and was achieved by Robert White (USA) at the Los Magnificos car show in Austin, Texas, USA on 21 November 2015. The hop was made by a converted school bus called the Honeybadger.\n",
    ":::\n",
    "\n",
    "\n",
    "Here's a useful sketch.  Supercritical flow upstream meets subcritical downstream.  Downstream controls the flow, $Q$ is same but the downstream velocity os exchanged for flow depth, a bit of energy is lost in the transition.  The jump itself is quite turbulent and has a practical value in chemical mixing as well as energy dissipation.\n",
    "\n",
    "![](hydjump-sketch.png)\n",
    "\n",
    "Engineering design is typically concerned with forcing jumps in armored channel sections otherwise the energy will chew away at the channel and destroy thangs.\n",
    "\n",
    "A control volume around the jump might look like\n",
    "\n",
    "![](controlvolume.png)\n",
    "\n",
    "The jumps occur over a short distance, so the friction term is usually small compared to the other forces and change in momentum flux.\n",
    "\n",
    "Conservation of momentum is\n",
    "\n",
    "$$ \\sum F_x = Fp_1 - Fp_2 - Fr = \\rho Q(V_2 - V_1)$$\n",
    "\n",
    "The pressure forces assume hydrostatic distributions so that \n",
    "\n",
    "$$ Fp = p_i A_i = \\rho g \\bar h_{i} A_i$$\n",
    "\n",
    "where $\\bar h_i$ is the depth to the centroid of the cross section ($\\frac{y}{2}$\n",
    "\n",
    "Making the substitutions and neglecting the friction term yields\n",
    "\n",
    "$$  (\\rho~g~\\bar h_{1}~A_1) - (\\rho~g~\\bar h_{2}~A_2) = \\rho Q(V_2 - V_1)$$\n",
    "\n",
    "Rearrangement gives\n",
    "\n",
    "$$  (\\rho~g~\\bar h_{1}~A_1) + \\rho Q~V_1 = (\\rho~g~\\bar h_{2}~A_2) + \\rho Q~V_2$$\n",
    "\n",
    "Divide by $\\rho~g$\n",
    "\n",
    "\n",
    "$$  (h_{1}~A_1) + \\frac{Q^2}{gA_1} = (h_{2}~A_2) + \\frac{Q^2}{gA_2}$$\n",
    "\n",
    "The result above is called the momentum function, and interestingly looks similar to the specific energy function with the section geometry explicitly part of the balance.\n",
    "\n",
    "$$ M_1 = M_2$$\n",
    "\n",
    "The balance is at the two sections implies that the two different depths have the same momentum function, and these are called the alternate (upstream) and sequent (downstream) depths.\n",
    "\n",
    "The function itself is dependent on section geometry a few analytical examples are:\n",
    "\n",
    "![](momentumfunctions.png)\n",
    "\n",
    "\n",
    "For other cross sections, numerical methods are employed.\n",
    "\n",
    "## References\n",
    "\n",
    "1. [Hydraulic Jump (YouTube)](https://www.youtube.com/watch?v=7tjf8HWiR3Y )"
   ]
  },
  {
   "cell_type": "markdown",
   "metadata": {},
   "source": []
  }
 ],
 "metadata": {
  "kernelspec": {
   "display_name": "Python 3",
   "language": "python",
   "name": "python3"
  },
  "language_info": {
   "codemirror_mode": {
    "name": "ipython",
    "version": 3
   },
   "file_extension": ".py",
   "mimetype": "text/x-python",
   "name": "python",
   "nbconvert_exporter": "python",
   "pygments_lexer": "ipython3",
   "version": "3.8.10"
  }
 },
 "nbformat": 4,
 "nbformat_minor": 4
}
