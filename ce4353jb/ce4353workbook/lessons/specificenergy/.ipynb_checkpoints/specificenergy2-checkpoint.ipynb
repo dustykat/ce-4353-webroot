{
 "cells": [
  {
   "cell_type": "markdown",
   "metadata": {},
   "source": [
    "# Froude Number\n",
    "\n",
    "Recall the Froude number,\n",
    "\n",
    "$$ Fr = \\frac{V}{\\sqrt{gy}}$$\n",
    "\n",
    "The specific energy diagram identifies three flow regimes:\n",
    "\n",
    "1. supercritical; characterized by small $y$, large $V$, greater than wave celerity $c$, $Fr >1$\n",
    "2. critical; minimum specific energy for the channel and flow; $y=y_c$, $Fr = 1$, velocity is wave celerity.\n",
    "3. subcritical;characterized by large $y$, small $V$, smaller than wave celerity $c$, $Fr <1$\n",
    "\n",
    "Wave celerity is speed of shallow waves on watre surface.  Drop a pebble on water, ripples move away from the impact, speed of the ripples is the celerity - controlled largely by water depth.\n",
    "\n",
    "Choking is the situation where the channel bottom is high enough or downstream width is small enough to just start to slow flow and cause the flow depth to increase."
   ]
  },
  {
   "cell_type": "markdown",
   "metadata": {},
   "source": [
    "## Critical Depth Non-Rectangular\n",
    "Generally use the depth measured from thalweg point, and apply principles of continunity already described, key is\n",
    "\n",
    "![](cross-section.png)\n",
    "\n",
    "$$dA = T(y)dy$$\n",
    "\n",
    "So the hydraulic characteristics are quite important. We obtain the depth-area, depth-perimeter, depth-topwidth functions for odd shapes by numerical tabulations and interpolation.\n",
    "\n",
    "$$E = y + \\frac{\\alpha Q^2}{2gA^2}$$\n",
    "\n",
    "at critical depth\n",
    "\n",
    "$$ \\frac{dE}{dy} = 0 = 1 - \\frac{\\alpha Q^3}{gA^3}\\frac{dA}{dy}$$\n",
    "\n",
    "In terms of hydraulic depth we have\n",
    "\n",
    "$$ D = \\frac{A}{T}$$\n",
    "\n",
    "and at critical flow\n",
    "\n",
    "$$D_c = \\frac{A_c}{T_c}$$\n",
    "\n",
    "and substitution gives\n",
    "\n",
    "$$E_c = y_c + \\frac{D_c}{2}$$\n",
    "\n",
    "Table 2.1 copied below has geometric element equations for a few common geometries:\n",
    "\n",
    "![](table2-1.png)\n",
    "\n",
    "\n",
    ">An on-line calculator that can handle trapezoidal, triangular and rectangular is at <br>\n",
    "> [Trapezoidal Channel Geometric Elements](http://54.243.252.9/toolbox/swhydraulics/TrapezoidChannelUS/TrapezoidChannelUS.html)\n",
    "> <br>and a similar tool for circular channels is at <br>\n",
    "> [Circular Channel Geometric Elements](http://54.243.252.9/toolbox/swhydraulics/CircularChannelUS/CircularChannelUS.html)"
   ]
  },
  {
   "cell_type": "markdown",
   "metadata": {},
   "source": [
    "## Contractions & Expansions\n",
    "\n",
    "The general equation for steady flow in expansions\n",
    "\n",
    "![](expansion.png)\n",
    "\n",
    "and/or contractions\n",
    "\n",
    "![](contraction.png)\n",
    "\n",
    "is\n",
    "\n",
    "$$ y_1 + \\frac{\\alpha V_1^2}{2g} + z_1 = y_2 + \\frac{\\alpha V_2^2}{2g} + z_2 + K_L |\\frac{1}{A_2^2}-\\frac{1}{A_1^2}|\\frac{Q^2}{2g}$$\n",
    "\n",
    "where the last term is the change in velocity head multiplied by a loss coefficient (structurally like a Darcy-Wiseass head loss model)\n",
    "\n",
    "$$K_L = \\frac{1 - \\frac{b_1}{b_2}}{1 + \\frac{b_1}{b_2}}$$\n",
    "\n",
    "applicable when $Fr<\\frac{1}{2}$\n",
    "\n",
    "Expansions tend to have higher head loss because of the flow separation in the wake/shadow formed by the walls at the abrubt change in width.  If the designer arranges for a smooth transition the head loss can be minimized but not eliminated. \n",
    "\n",
    "For contractions the following is often applied\n",
    "\n",
    "$$h_L = (0.11 ~\\text{to}~ 0.23)\\frac{V^2}{2g}$$\n",
    "\n",
    "the lower value for a rounded transition, the larger for a sharp transition."
   ]
  },
  {
   "cell_type": "markdown",
   "metadata": {},
   "source": [
    "## Overbank Flow\n",
    "\n",
    "![](overbank.png)\n",
    "\n",
    "Different resistance to flow in different parts of the cross section.  Can obtain different $y_c$ in each part of the cross section. Can also have large velocity differences across the section with high velocities in the main channel section (usually) and possibly very low velocities in the overbanks.  It creates a problem for 1-D models if the velocity itself is important (as opposed to just getting the total discharge right)."
   ]
  },
  {
   "cell_type": "markdown",
   "metadata": {},
   "source": [
    "## Examples\n",
    "\n",
    "## References"
   ]
  }
 ],
 "metadata": {
  "kernelspec": {
   "display_name": "Python 3",
   "language": "python",
   "name": "python3"
  },
  "language_info": {
   "codemirror_mode": {
    "name": "ipython",
    "version": 3
   },
   "file_extension": ".py",
   "mimetype": "text/x-python",
   "name": "python",
   "nbconvert_exporter": "python",
   "pygments_lexer": "ipython3",
   "version": "3.8.10"
  }
 },
 "nbformat": 4,
 "nbformat_minor": 4
}
