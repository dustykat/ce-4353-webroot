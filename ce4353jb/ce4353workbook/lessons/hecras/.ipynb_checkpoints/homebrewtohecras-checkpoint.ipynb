{
 "cells": [
  {
   "cell_type": "markdown",
   "metadata": {},
   "source": [
    "# Homebrew Examples to HEC-RAS\n",
    "\n",
    "Here we take our homebrew examples and perform the simulations using HEC-RAS\n",
    "\n",
    "## Backwater Curve\n",
    "The figure below is a backwater curve for a rectangular channel with discharge over a weir (on the right hand side — not depicted).The channel width is 5 meters, bottom slope 0.001, Manning’s n = 0.02 and discharge Q = 55.4m$^3$.\n",
    "\n",
    "![](bw_curve1.png)\n",
    "\n",
    ":::{note}\n",
    "The figure is from: Page 85. Koutitas, C.G. (1983). Elements of Computational Hydraulics. Pentech Press, London 138p. ISBN 0-7273-0503-4\n",
    ":::\n",
    "\n",
    "Our goal is to replicate the figure using HEC-RAS.\n",
    "\n",
    "## Frontwater Curve\n",
    "\n",
    "The figure below is another illustrative case. Here the water discharges into a horizontal channel at a rate of 1 m$^3$ per second per meter width. Assuming Manning’s n = 0.01 we wish\n",
    "to compute the profile downstream of the gate and determine if it will extend to the sharp edge.\n",
    "\n",
    "![](bw_curve2.png)\n",
    "\n",
    ":::{note} \n",
    "The figure is from: Jaeger, C. (1957). Engineering Fluid Mechanics. St. Martin’s Press. 529p. \n",
    ":::\n",
    "\n",
    "\n",
    "We would need to know the critical depth for the section (≈ 0.47meters), then compute the profile moving from the gate downstream (a frontwater curve with respect to the gate).\n",
    "\n",
    "Again just replicate the case using HEC-RAS.\n",
    "\n",
    "## Non-Prismatic Channel Backwater Curve\n",
    "A plan view of a rectangular channel of variable width as shown below\n",
    "\n",
    "![](NonPrismaticExample.png)\n",
    "\n",
    "\n",
    "The channel conveys $Q=100~m^3/sec$, with a bottom slope of $0.001$ and average Manning's $n$ value of $0.033$.  \n",
    "A backwater curve is caused by a weir at the downstream end (to the right in the figure) by a 7 meter tall weir.\n",
    "Flow depth over the weir is at critical depth $h_c = 2.17$ meters.  Normal flow in the upstream portion for 10-meter channel width is $h_n = 5.6$ meters.  Using the fixed space step method determine and plot a profile view of the water surface and channel bottom.\n",
    "\n"
   ]
  },
  {
   "cell_type": "code",
   "execution_count": null,
   "metadata": {},
   "outputs": [],
   "source": []
  }
 ],
 "metadata": {
  "kernelspec": {
   "display_name": "Python 3",
   "language": "python",
   "name": "python3"
  },
  "language_info": {
   "codemirror_mode": {
    "name": "ipython",
    "version": 3
   },
   "file_extension": ".py",
   "mimetype": "text/x-python",
   "name": "python",
   "nbconvert_exporter": "python",
   "pygments_lexer": "ipython3",
   "version": "3.8.10"
  }
 },
 "nbformat": 4,
 "nbformat_minor": 4
}
