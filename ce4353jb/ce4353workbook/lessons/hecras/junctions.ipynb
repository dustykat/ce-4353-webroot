{
 "cells": [
  {
   "cell_type": "markdown",
   "metadata": {},
   "source": [
    "# Junctions\n",
    "\n",
    "An important component of hydraulic modeling is handling the behavior of systems with branches and junctions.  HEC-RAS is a link-node type modeling tool at its computation engine level, but a junction logically falls between two nodes (cross sections) yet is not fully a reach.\n",
    "\n",
    "Junctions are programmed to either mangae energy losses, or momentum changes, based on user input."
   ]
  },
  {
   "cell_type": "markdown",
   "metadata": {},
   "source": [
    "## Example\n",
    "\n",
    "The figure below is a sketch of a channel and tributary system with a road (bridge) crossing the main channel.\n",
    "\n",
    "![](confluence.png)\n",
    "\n",
    "The cross sections are surveyed and the sections are included in the Figure below:\n",
    "\n",
    "![](crosssections.png)\n",
    "\n",
    "The figure is a screen capture of the data table that contains the location of the cross sections relative to the diagram (Section 1 is located at distance 0 from the outlet, Section 10 is\n",
    "located 1760 feet upstream of the outlet, etc.). \n",
    "The numbers to the right of each section title in the table are the distances upstream from section 1 and should be used as the section names in HEC-RAS. \n",
    "Section 11 connects to the main channel between Section 6 and 7, and that is the meaning of the “\\*” symbol in the table. \n",
    "\n",
    "The angle that the tributary forms with the main channel is about 60-degrees. X-LB and Z-LB are distance and elevation relative to the left bank of each section.\n",
    "The road is cut into the surrounding grade so that the low chord of the bridge at the main\n",
    "channel is at elevation 290, and the roadway surface is at elevation 295 feet.\n",
    "\n",
    "The figure below is a table of steady flow conditions to consider.\n",
    "\n",
    "![](boundaryconditions.png)\n",
    "\n",
    "Determine if the current bridge low chord can accommodate the different flows. If flow\n",
    "cannot clear the low chord, treat the bridge as a large culvert and determine if the roadway\n",
    "surface is still passable (not flooded).\n",
    "\n",
    "Repeat the analysis assuming the bridge abutments extend 100 feet into the left and right\n",
    "over-bank.\n",
    "\n",
    "The spreadsheet with the data tables is located at [ConfluenceExampleData.xls](http://54.243.252.9/ce-4353-webroot/ce4353jb/ce4353workbook/lessons/hecras/ConfluenceExampleData.xls)"
   ]
  },
  {
   "cell_type": "code",
   "execution_count": null,
   "metadata": {},
   "outputs": [],
   "source": []
  }
 ],
 "metadata": {
  "kernelspec": {
   "display_name": "Python 3",
   "language": "python",
   "name": "python3"
  },
  "language_info": {
   "codemirror_mode": {
    "name": "ipython",
    "version": 3
   },
   "file_extension": ".py",
   "mimetype": "text/x-python",
   "name": "python",
   "nbconvert_exporter": "python",
   "pygments_lexer": "ipython3",
   "version": "3.8.10"
  }
 },
 "nbformat": 4,
 "nbformat_minor": 4
}
