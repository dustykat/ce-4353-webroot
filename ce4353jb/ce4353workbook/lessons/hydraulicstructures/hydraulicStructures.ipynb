{
 "cells": [
  {
   "cell_type": "markdown",
   "metadata": {},
   "source": [
    "# Hydraulic Structures\n",
    "\n",
    "## 6.1 Common hydraulic structures:\n",
    "\n",
    "- Spillways\n",
    "- Bridge\n",
    "- Culverts\n",
    "\n",
    "Backwater-head-discharge relationships are typically needed. GVF and RVF both occur, 1-D analysis is generally useful.  For high-consequence (if failure) physical modeling is used to relate measurements made on a model (small scale) to the full-sized structure (prototype).  In practice, when physical models are used one is trying to achieve dynamic similarity (force scales, geometry scales, kinematics scales, time usually does not, so most measurements use a concept called adjusted time).\n",
    "\n",
    "![](model-sketch.png)\n",
    "\n",
    "Some photographs of physical models lifted from a old fluids book are shown below:\n",
    "\n",
    "![](dammodel.png) ![](spillwaymodel.png)\n",
    "\n",
    "## 6.2 Spillways\n",
    "\n",
    "Ogee shape (a lazy \"S\"), concrete lined (may be soil filled, or rock filled).\n",
    "\n",
    "As head upstream increases pressure on spillway face decreases and cavitation is possible. \n",
    "\n",
    "USACE ERDC design procedures are used to specify spillway shapes.\n",
    "\n",
    "## 6.3 Aeration of spillways\n",
    "\n",
    "Prevent cavitation by entraining air to create $p = p_{atm}$ at bubble-liquid interface. (Also reduces bulk density of the air-water mixture).\n",
    "\n",
    "Water+Bubbles != Water only\n",
    "\n",
    "Long spillway length to produce self-aeration.  \n",
    "\n",
    "![](aeration.png)\n",
    "\n",
    "## 6.4 Stepped Spillways\n",
    "\n",
    "Popular in construction - using roller compacted concrete (Lake Alan Henry is an example).  The steps give air entrainment and good energy dissipation at the steps (kills velocity head over the drop, water has to accelerate after each drop which uses up excess energy).  \n",
    "\n",
    "Gabions are used in compact urban settings."
   ]
  },
  {
   "cell_type": "markdown",
   "metadata": {},
   "source": [
    "## 6.5 Culverts\n",
    "\n",
    "All about culverts in [Mays 2005 Water Resources Engineering (16.2)](http://54.243.252.9/ce-4353-webroot/3-Readings/MaysCh16.pdf)\n",
    "\n",
    "### Inlet Control Conditions\n",
    "\n",
    "Submerged Inlet\n",
    "\n",
    "![](inletcontrol1.png)\n",
    "\n",
    "Unsubmerged Inlet\n",
    "\n",
    "![](inletcontrol2.png)\n",
    "### Outlet Control Conditions\n",
    "\n",
    "![](outletcontrol1.png)\n",
    "\n",
    "\n",
    "![](outletcontrol2.png)\n",
    "\n",
    "\n",
    "- ![](outletcontrol3.png)\n",
    "\n",
    "[Mays 2005 Water Resources Engineering navigate to example 16.2.1](http://54.243.252.9/ce-4353-webroot/3-Readings/MaysCh16.pdf)\n",
    "\n",
    "Design Considerations\n",
    "\n",
    "![](designconsider.png)\n",
    "\n",
    "Performance Curve\n",
    "\n",
    "![](performancecurve.png)"
   ]
  },
  {
   "cell_type": "markdown",
   "metadata": {},
   "source": [
    "## References\n",
    "\n",
    "1. [Mays 2005 Water Resources Engineering (16.2)](http://54.243.252.9/ce-4353-webroot/3-Readings/MaysCh16.pdf)"
   ]
  },
  {
   "cell_type": "code",
   "execution_count": null,
   "metadata": {},
   "outputs": [],
   "source": []
  }
 ],
 "metadata": {
  "kernelspec": {
   "display_name": "Python 3",
   "language": "python",
   "name": "python3"
  },
  "language_info": {
   "codemirror_mode": {
    "name": "ipython",
    "version": 3
   },
   "file_extension": ".py",
   "mimetype": "text/x-python",
   "name": "python",
   "nbconvert_exporter": "python",
   "pygments_lexer": "ipython3",
   "version": "3.8.10"
  }
 },
 "nbformat": 4,
 "nbformat_minor": 4
}
