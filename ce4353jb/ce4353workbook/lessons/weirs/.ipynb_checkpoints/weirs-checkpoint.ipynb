{
 "cells": [
  {
   "cell_type": "markdown",
   "metadata": {},
   "source": [
    "# Introduction\n",
    "\n",
    "Introduction to me\n",
    "\n",
    "## Course Resources\n",
    "\n",
    "- Blackboard\n",
    "- Textbooks\n",
    "- Mediasite\n",
    "\n",
    "## Blackboard \n",
    "\n",
    "## AWS Course Repository \n",
    "\n",
    "Use this when BB fails.  The url is [http://54.243.252.9](http://54.243.252.9), I don't recomend you use this means routinely as you will likely miss stuff."
   ]
  }
 ],
 "metadata": {
  "kernelspec": {
   "display_name": "Python 3",
   "language": "python",
   "name": "python3"
  },
  "language_info": {
   "codemirror_mode": {
    "name": "ipython",
    "version": 3
   },
   "file_extension": ".py",
   "mimetype": "text/x-python",
   "name": "python",
   "nbconvert_exporter": "python",
   "pygments_lexer": "ipython3",
   "version": "3.8.10"
  }
 },
 "nbformat": 4,
 "nbformat_minor": 4
}
