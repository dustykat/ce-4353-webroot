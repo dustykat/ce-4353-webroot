{
 "cells": [
  {
   "cell_type": "markdown",
   "metadata": {},
   "source": [
    "# Sediment Transport\n",
    "\n",
    "Erosion and the flow of water in rivers and streams continually remove bed load material from the bed and banks of the channel and displace them further downstream. Estimations of this solids load transport is important in river engineering, fluvial geomorphology, ecohydrology, and hazard estimation. \n",
    "\n",
    "Many solids transport (bed load) equations relate metrics such as a characteristic dimension (grain diameter), hydraulic characteristics, and solids density to solids flux. \n",
    "These equations, however, exhibit inadequate estimation performance for a variety of reasons (Recking, 2010). The equations themselves are often the result of regression analysis on variables thought to explain solids flux behavior and are derived from data collected in flume studies and some river studies.\n",
    "\n",
    "**Go through Mays Ch 18 and point out relevant parts**\n"
   ]
  },
  {
   "cell_type": "markdown",
   "metadata": {},
   "source": [
    "## References\n",
    "\n",
    "1. [Mays Ch 18](http://54.243.252.9/ce-4353-webroot/3-Readings/MaysCh18.pdf)\n",
    "2. [Neale, C. M. (2018) *Development and Delivery of Server-Side Water Resources Models Using Web-Based Interfaces* Doctoral Dissertation, Department of Civil and Environmental Engineering, Texas Tech University, Lubbock, TX 247p.](http://54.243.252.9/about-me-webroot/about-me/MyWebPapers/thesis/neale_dissertation/neale_DissertationReview.pdf)\n",
    "2. [Herrmann, G.R., and Cleveland, T.G. 2010. *Moving Substrate in an Ephemeral Stream: Case Study in Bridge Survival* Transportation Research Record. No. 2201, Vol. 2, pp 3-9](http://54.243.252.9/about-me-webroot/about-me/MyWebPapers/journal_papers/TRB-TransportationResearchRecord-HC-2010/2010-TRB-HERRMANN-CLEVELAND.pdf)\n",
    "3. [Cleveland, T.G., Strom, K.B., Barnes, W. J., and Dixon, J. V. 2013. *Hydraulic Performance of Staggered-Barrel Culverts for Stream Crossings.* Texas Department of Transportation, Research Report 0-6549-1. ](http://54.243.252.9/about-me-webroot/about-me/MyWebPapers/project_reports/0-6549-1/0-6549-1.pdf)\n",
    "3. [Barnes, W. J. 2013. *Experimental Study of Sediment Transport and Culvert Capacity* Doctoral Dissertation, Department of Civil and Environmental Engineering, Texas Tech University, Lubbock, TX 226p.](http://54.243.252.9/about-me-webroot/about-me/MyWebPapers/thesis/barnes_dissertation/Barnes_DissertationReview12.pdf)\n",
    "4. [Dixon, Jeremy, V. (2011). *A Relation between Select Hydraulic Properties and Sediment Transport Volume through Experimental Culvert Configuration and Techniques for Measuring Sediment Transport Volumes.* Master's Thesis. Department of Civil and Environmental Engineering, Texas Tech University, Lubbock, Texas 106p.](http://54.243.252.9/about-me-webroot/about-me/MyWebPapers/thesis/dixon_thesis/dixon_ThesisReview.pdf)\n",
    "5. [Cleveland, T.G., and A. Fashokun. 2006. *Construction-associated solids loads with a temporary sediment control BMP.* American Society of Civil Engineers, Journal of Construction Management, Vol. 132, No. 10, pp 1122-1125. ](http://54.243.252.9/about-me-webroot/about-me/MyWebPapers/journal_papers/ASCE_Construction_Management_CO-023123/2006_0601_SolidsLoadsBMP.pdf)\n",
    "6.[Muscara, J.P., (1997). *Field Evaluation of Selected Highway Construction Temporary Sediment Controls for Stormwater Pollution Prevention Plans.* Master's Thesis, Department of Civil and Environmental Engineering, University of Houston, Houston, Texas.](http://54.243.252.9/about-me-webroot/about-me/MyWebPapers/thesis/muscara_thesis/muscara_thesis_1997.pdf)\n",
    "7. [Lui, H., Cleveland, T.G., and KH Wang, 1999. \"Erosion Dependence on Geotechnical Properties of Soil\" Journal of American Water Resources Association., 35(1), pp 167-176.](http://54.243.252.9/about-me-webroot/about-me/MyWebPapers/journal_papers/soil_erosion_jawa_1999/soil_erosion_jawa_1999.pdf)\n",
    "7. [Lui, H., 1999. *Bare Soil Erosion Dependence on Soil and Rainfall Properties* Doctoral Dissertation, Department of Civil and Environmental Engineering, University of Houston, Houston, Texas. 180p.](http://54.243.252.9/about-me-webroot/about-me/MyWebPapers/thesis/huliu_dissertation/huliu_dissertation.pdf)"
   ]
  },
  {
   "cell_type": "markdown",
   "metadata": {},
   "source": []
  }
 ],
 "metadata": {
  "kernelspec": {
   "display_name": "Python 3",
   "language": "python",
   "name": "python3"
  },
  "language_info": {
   "codemirror_mode": {
    "name": "ipython",
    "version": 3
   },
   "file_extension": ".py",
   "mimetype": "text/x-python",
   "name": "python",
   "nbconvert_exporter": "python",
   "pygments_lexer": "ipython3",
   "version": "3.8.10"
  }
 },
 "nbformat": 4,
 "nbformat_minor": 4
}
