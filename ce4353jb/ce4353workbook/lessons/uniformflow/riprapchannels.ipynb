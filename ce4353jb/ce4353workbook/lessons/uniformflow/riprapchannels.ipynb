{
 "cells": [
  {
   "cell_type": "markdown",
   "metadata": {},
   "source": [
    "# Rip-Rap Lined Channels\n",
    "\n",
    "Rip-rap lined channels refers to engineered channels with a flexible lining in distinct contrast with a rigid lined channel (i.e. concrete).  \n",
    "\n",
    ":::{note}\n",
    "Riprap (in North American English), also known as rip rap, rip-rap, shot rock, rock armour (in British English) or rubble, is human-placed rock or other material used to protect shoreline structures against scour and water, wave, or ice erosion. Ripraps are used to armor shorelines, streambeds, bridge abutments, foundational infrastructure supports and other shoreline structures against erosion.\n",
    ":::\n",
    "\n",
    "The actual materials vary for example stone rip-rap in Texas applications can be found at [TxDOT Rip-Rap Supplier Web Page](https://www.gcli.com/product-page/txdot-protection-rip-rap)"
   ]
  },
  {
   "cell_type": "markdown",
   "metadata": {},
   "source": [
    "The design procedures are described with examples in [Design of Roadside Channels with Flexible Linings Hydraulic Engineering Circular Number 15, Third Edition (circa 2005)](https://www.fhwa.dot.gov/engineering/hydraulics/pubs/05114/05114.pdf)"
   ]
  },
  {
   "cell_type": "markdown",
   "metadata": {},
   "source": [
    "## Design Example (Channel)\n",
    "\n",
    "Evaluate a proposed gravel mulch lining on a trapezoidal channel for stability. The design discharge is $Q = 0.42 m^3/s$, bottom width is $B = 0.4 m$, side slopes are $Z = 3$, longitudinal slope is $S_0 = 0.008 m/m$, and the median grain diameter is\n",
    "$D_{50} = 25 mm$\n",
    "\n",
    "**Solution**\n",
    "\n",
    "1. Channel slope, shape and discharge have been given\n",
    "2. Proposed lining type is a gravel mulch with $D_{50} = 25 mm$\n",
    "3. Assume that the depth of flow, $d_i$ in the channel is $0.5 m$. Compute $R$. \n",
    "\n",
    ":::{note}\n",
    "One may have to iterate back to this step and repeat if we have made a piss-poor assumption\n",
    ":::"
   ]
  },
  {
   "cell_type": "code",
   "execution_count": 45,
   "metadata": {},
   "outputs": [],
   "source": [
    "# prototype functions\n",
    "\n",
    "def Atrap(depth,width,sideslope):\n",
    "    Atrap = width*depth+sideslope*depth**2\n",
    "    return(Atrap)\n",
    "\n",
    "def Ptrap(depth,width,sideslope):\n",
    "    Ptrap = width + 2*depth* ((sideslope**2 + 1)**(1/2))\n",
    "    return(Ptrap)\n",
    "\n",
    "def Rhyd(area,perimeter):\n",
    "    Rhyd=area/perimeter\n",
    "    return(Rhyd)"
   ]
  },
  {
   "cell_type": "code",
   "execution_count": 46,
   "metadata": {},
   "outputs": [
    {
     "name": "stdout",
     "output_type": "stream",
     "text": [
      "Hydraulic Radius R : 0.267\n"
     ]
    }
   ],
   "source": [
    "Qdes = 0.42 #given\n",
    "dinitial = 0.5 #meters initial guess\n",
    "Bwide = 0.4 #meters given\n",
    "Zslope = 3 # side slope given\n",
    "AAA = Atrap(dinitial,Bwide,Zslope)\n",
    "PPP = Ptrap(dinitial,Bwide,Zslope)\n",
    "RRR = Rhyd(Atrap(dinitial,Bwide,Zslope),Ptrap(dinitial,Bwide,Zslope))\n",
    "print(\"Hydraulic Radius R :\",round(Rhyd(Atrap(dinitial,Bwide,Zslope),Ptrap(dinitial,Bwide,Zslope)),3))"
   ]
  },
  {
   "cell_type": "markdown",
   "metadata": {},
   "source": [
    "4. Estimate Manning's n\n",
    "\n",
    "![](mannN6-1.png)\n",
    "\n",
    "and calculate discharge"
   ]
  },
  {
   "cell_type": "code",
   "execution_count": 47,
   "metadata": {},
   "outputs": [
    {
     "name": "stdout",
     "output_type": "stream",
     "text": [
      "Mannings n : 0.016\n",
      "Design Discharge Q : 0.42 Computed Discharge Q : 2.22\n"
     ]
    }
   ],
   "source": [
    "def n61(alpha,dbar,d50):\n",
    "    import math\n",
    "    numerator = (alpha*dbar**(1/6)) \n",
    "    denominator = 2.25+5.23*math.log(dbar/d50)\n",
    "    n61=numerator/denominator\n",
    "    return(n61)\n",
    "\n",
    "def Qman(prefix,mann,area,radius,slope):\n",
    "    Qman = (prefix/mann)*area*(radius**(2/3))*(slope**(1/2))\n",
    "    return(Qman)\n",
    "\n",
    "\n",
    "D50 = 0.025 #mm given\n",
    "alpha = 0.319 #SI given in formula\n",
    "nnn = n61(alpha,dinitial,D50)\n",
    "#nnn = 0.033\n",
    "print(\"Mannings n :\",round(n61(alpha,dinitial,D50),3))\n",
    "S0 = 0.008 # given\n",
    "Qnew = Qman(1.0,nnn,AAA,RRR,S0)\n",
    "print(\"Design Discharge Q :\",round(Qdes,3),\"Computed Discharge Q :\",round(Qman(1.0,nnn,AAA,RRR,S0),3))\n",
    "dold = dinitial #use this below"
   ]
  },
  {
   "cell_type": "markdown",
   "metadata": {},
   "source": [
    "5. This discharge is is more than 5 percent different from the design flow, we need to go back to step 3 to estimate a new flow depth."
   ]
  },
  {
   "cell_type": "code",
   "execution_count": 48,
   "metadata": {},
   "outputs": [
    {
     "name": "stdout",
     "output_type": "stream",
     "text": [
      "New Depth  0.257\n",
      "Hydraulic Radius R : 0.149\n",
      "Mannings n : 0.018\n",
      "Design Discharge Q : 0.42 Computed Discharge Q : 0.428\n"
     ]
    }
   ],
   "source": [
    "Qdes = 0.42 #given\n",
    "dnew = dold*(Qdes/Qnew)**(0.4) #HEC-15 guidance\n",
    "print(\"New Depth \",round(dnew,3))\n",
    "Bwide = 0.4 #meters given\n",
    "Zslope = 3 # side slope given\n",
    "AAA = Atrap(dnew,Bwide,Zslope)\n",
    "PPP = Ptrap(dnew,Bwide,Zslope)\n",
    "RRR = Rhyd(Atrap(dnew,Bwide,Zslope),Ptrap(dnew,Bwide,Zslope))\n",
    "print(\"Hydraulic Radius R :\",round(Rhyd(Atrap(dnew,Bwide,Zslope),Ptrap(dnew,Bwide,Zslope)),3))\n",
    "D50 = 0.025 #mm given\n",
    "alpha = 0.319 #SI given in formula\n",
    "nnn = n61(alpha,dnew,D50)\n",
    "#nnn = 0.033\n",
    "print(\"Mannings n :\",round(n61(alpha,dnew,D50),3))\n",
    "S0 = 0.008 # given\n",
    "Qnew = Qman(1.0,nnn,AAA,RRR,S0)\n",
    "print(\"Design Discharge Q :\",round(Qdes,3),\"Computed Discharge Q :\",round(Qman(1.0,nnn,AAA,RRR,S0),3))\n",
    "dold = dnew #use this below"
   ]
  },
  {
   "cell_type": "markdown",
   "metadata": {},
   "source": [
    "6. Update is within 5 \\% of design flow, so can proceede without further iteration; however lest channel our inner overachiever and iterate one more time"
   ]
  },
  {
   "cell_type": "code",
   "execution_count": 49,
   "metadata": {},
   "outputs": [
    {
     "name": "stdout",
     "output_type": "stream",
     "text": [
      "New Depth  0.255\n",
      "Hydraulic Radius R : 0.148\n",
      "Mannings n : 0.018\n",
      "Design Discharge Q : 0.42 Computed Discharge Q : 0.42\n"
     ]
    }
   ],
   "source": [
    "Qdes = 0.42 #given\n",
    "dnew = dold*(Qdes/Qnew)**(0.4) #HEC-15 guidance\n",
    "print(\"New Depth \",round(dnew,3))\n",
    "Bwide = 0.4 #meters given\n",
    "Zslope = 3 # side slope given\n",
    "AAA = Atrap(dnew,Bwide,Zslope)\n",
    "PPP = Ptrap(dnew,Bwide,Zslope)\n",
    "RRR = Rhyd(Atrap(dnew,Bwide,Zslope),Ptrap(dnew,Bwide,Zslope))\n",
    "print(\"Hydraulic Radius R :\",round(Rhyd(Atrap(dnew,Bwide,Zslope),Ptrap(dnew,Bwide,Zslope)),3))\n",
    "D50 = 0.025 #mm given\n",
    "alpha = 0.319 #SI given in formula\n",
    "nnn = n61(alpha,dnew,D50)\n",
    "#nnn = 0.033\n",
    "print(\"Mannings n :\",round(n61(alpha,dnew,D50),3))\n",
    "S0 = 0.008 # given\n",
    "Qnew = Qman(1.0,nnn,AAA,RRR,S0)\n",
    "print(\"Design Discharge Q :\",round(Qdes,3),\"Computed Discharge Q :\",round(Qman(1.0,nnn,AAA,RRR,S0),3))\n",
    "dold = dnew #use this below"
   ]
  },
  {
   "cell_type": "markdown",
   "metadata": {},
   "source": [
    "Ok were good, now compute shear stress\n",
    "\n",
    "![](shearstresseqn31.png)\n",
    "\n",
    "and compare to permissible stress in Table below\n",
    "\n",
    "![](table23.png)"
   ]
  },
  {
   "cell_type": "code",
   "execution_count": 50,
   "metadata": {},
   "outputs": [
    {
     "name": "stdout",
     "output_type": "stream",
     "text": [
      "Shear stress max :  19.986\n"
     ]
    }
   ],
   "source": [
    "def tauD(gamma,depth,slope):\n",
    "    tauD=gamma*depth*slope\n",
    "    return(tauD)\n",
    "\n",
    "print(\"Shear stress max : \",round(tauD(9800,dnew,S0),3))"
   ]
  },
  {
   "cell_type": "markdown",
   "metadata": {},
   "source": [
    "The computed shear stress exceeds the permissible (20 > 19 $N/m^3$), so the lining is **Unstable** \n",
    "\n",
    ":::{note}\n",
    "This is quite close, a slightly larger gravel would satisfy the design table. :::"
   ]
  },
  {
   "cell_type": "markdown",
   "metadata": {},
   "source": [
    "## Vegetative Lined Channels\n",
    "\n",
    "Similar considerations are applied to vegetative lined channels.  An important aspect is to choose species that can grow in the climate where the channel is located.  Most engineers are dumbasses when it comes to growing stuff, so get with a bunny counter colleague to help select the proper species.\n",
    "\n",
    ":::{note}\n",
    "Grass-lined channels have been widely used in drainage systems for many years.\n",
    "They are easily constructed and maintained and work well in a variety of climates and soilconditions. Grass linings provide good erosion protection and can trap sediment and relatedcontaminants in the channel section. Routine maintenance of grass-lined channels consists of mowing, control of weedy plants and woody vegetation, repair of damaged areas and removal of sediment deposits and dead bodies.\n",
    "The behavior of grass in an open channel lining is complicated by the fact that grass stems bend as flow depth and shear stress increase. This reduces the roughness height and increases velocity and flow rate. For some lining materials (bare earth and rigid linings), the roughness height remains constant regardless of the velocity or depth of flow in the channel. As a result, a grass-lined channel cannot be described by a single roughness coefficient.\n",
    ":::"
   ]
  },
  {
   "cell_type": "markdown",
   "metadata": {},
   "source": [
    "Trapezoidal lined channel 1.5 meters bottom width, 3:1 side slope, $S_0$ is 0.012 (1.2 percent). Grass-legume mixture with mature growth height of 15-20 cm.  What is maximum allowable discharge for this lining (without detaching the lining)?"
   ]
  }
 ],
 "metadata": {
  "kernelspec": {
   "display_name": "Python 3",
   "language": "python",
   "name": "python3"
  },
  "language_info": {
   "codemirror_mode": {
    "name": "ipython",
    "version": 3
   },
   "file_extension": ".py",
   "mimetype": "text/x-python",
   "name": "python",
   "nbconvert_exporter": "python",
   "pygments_lexer": "ipython3",
   "version": "3.8.10"
  }
 },
 "nbformat": 4,
 "nbformat_minor": 4
}
