{
 "cells": [
  {
   "cell_type": "markdown",
   "metadata": {},
   "source": [
    "# Uniform Flow\n",
    "\n",
    "Uniform flow occurs when the average velocities in successive cross sections of a channel are the same. This occurs only when the cross section is constant. Non-uniform flow results from gradual or sudden changes in the cross sectional area.\n",
    "If the water surface is parallel to the channel bottom, flow is uniform and the water surface is at normal depth $y_n$\n",
    "\n",
    "Used for design of long open channels with the goal to have the water surface slope equal to the bed slope.  Heres a couple of pictures,\n",
    "\n",
    "First a Central Aridzona Project canal\n",
    "\n",
    "![](CAPcanal.png)\n",
    "\n",
    "And the Central Valley Project (Callyfornia) canal I grew up swimmin' in.\n",
    "\n",
    "![](CVPcanal.png)\n",
    "\n",
    "The line of floaty balls means you are approaching one of these:\n",
    "\n",
    "![](CVPliftStation.png)\n",
    "\n",
    "Even though swimmin' in the canals is illegal, the operators dont want to turn a bunch of kids into fish food, so they put up the balls.  \n",
    "\n",
    ":::{note}\n",
    "Despite the obvious Darwinian advantage of grinding up kids - dead meat does not pay taxes; support old folks; nor serve as a supply of harvestable kidneys.  Hence we try to save them.\n",
    ":::"
   ]
  },
  {
   "cell_type": "markdown",
   "metadata": {},
   "source": []
  }
 ],
 "metadata": {
  "kernelspec": {
   "display_name": "Python 3",
   "language": "python",
   "name": "python3"
  },
  "language_info": {
   "codemirror_mode": {
    "name": "ipython",
    "version": 3
   },
   "file_extension": ".py",
   "mimetype": "text/x-python",
   "name": "python",
   "nbconvert_exporter": "python",
   "pygments_lexer": "ipython3",
   "version": "3.8.10"
  }
 },
 "nbformat": 4,
 "nbformat_minor": 4
}
