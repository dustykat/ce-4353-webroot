{
 "cells": [
  {
   "cell_type": "markdown",
   "metadata": {},
   "source": [
    "# HEC-RAS River Analysis Software\n",
    "\n",
    "[HEC-River Analysis System (RAS)](https://www.hec.usace.army.mil/software/hec-ras/) the U.S. Army Corps of Engineers’ software package for modeling constant flows and flood-wave movement through a series of river cross sections, including the presence of a culvert structure. The software and documentation are available free of charge.\n",
    "\n",
    "There are multiple versions.  Choose the version for your particular architecture (computer)"
   ]
  }
 ],
 "metadata": {
  "kernelspec": {
   "display_name": "Python 3",
   "language": "python",
   "name": "python3"
  },
  "language_info": {
   "codemirror_mode": {
    "name": "ipython",
    "version": 3
   },
   "file_extension": ".py",
   "mimetype": "text/x-python",
   "name": "python",
   "nbconvert_exporter": "python",
   "pygments_lexer": "ipython3",
   "version": "3.8.10"
  }
 },
 "nbformat": 4,
 "nbformat_minor": 4
}
