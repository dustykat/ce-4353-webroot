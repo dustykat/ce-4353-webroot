{
 "cells": [
  {
   "cell_type": "markdown",
   "metadata": {},
   "source": [
    "# Spur Dikes\n",
    "\n",
    "Momentum balances are useful when analyzing obstructions caused by elements placed in the flow, spur dikes being a meaningful example.  Spur dikes are stone spurs that extend into the stream from the bank to minimize erosion by forcing flow away from the bank. Two to five structures are typically placed in series along straight or concave bank lines where flow lines are roughly parallel to the bank.\n",
    "\n",
    "![](spurdike1.png)\n",
    "\n",
    "Spurs are used in river engineering to minimize bank erosion and lateral stream migration, thereby protecting infrastructure such as roads, bridges, and dwellings. It is clear that the physical characteristics of spurs and the resulting flow modifications result in desirable habitat benefits. Redirecting and concentrating flow patterns away from the banks results in key features for aquatic habitat:\n",
    "\n",
    "- Deep pools at the tips;\n",
    "- Cover for fish, especially when spurs are combined with Large Woody Debris, Willow Posts and Poles or Live Brushlayering;\n",
    "- Protection of eroding banks, and resultant reduced sediment loads;\n",
    "- Physical habitat diversity characterized by regions of swift and slow current adjacent to one another.\n",
    "\n",
    "Single and opposing wing deflectors are used to concentrate water into a selected area of the channel to create scour, thereby accelerating the flow. Wing deflectors can create quiet water resting places for upstream migrating spawners. Opposing wing deflectors are built to deflect the flow to create a scour pool, and sort spawning gravel. They are best used in long uniform glides and riffles to diversify habitat and create velocity shear zones. ([CA Fish and Game, 1998, Stream Restoration Manual](http://www.extranet.vdot.state.va.us/locdes/hydraulic_design/nchrp_rpt544/content/html/WorksCited/California_Salmonid_Stream_Habitat_Restoration_Manual.pdf))\n",
    "\n",
    "![](spurdikephoto.png)\n",
    "\n",
    "An array of dikes causes a local scour, with the material redepositing behind the dike  and is thought to be a viable river training method.\n",
    "\n",
    "![](spurdikemodel.png)\n",
    "\n",
    "<!--Another use is to direct flows to generate intentional scour and deposition; this use is largely art but one can leverage submerged spurs to impart a component of flow velocity in a desired direction.\n",
    "\n",
    "![](guadelupearroyodrawing.png)-->\n",
    "\n"
   ]
  },
  {
   "cell_type": "markdown",
   "metadata": {},
   "source": [
    "The hydraulics is inherently three dimensional, although meaningful 2D approximations are possible.  Practical consideration beyond any average backwater effect would probably best be served using a high-dimensional CFD model (ie. [SToRM](https://i-ric.org/en/solvers/storm/), [Telemac](http://www.opentelemac.org/))\n",
    "\n",
    ":::{note}\n",
    "The above models are not trivial, and are examined in other classes (CE-5362).  The download and install can take days, and careful computer configuration is needed.\n",
    ":::"
   ]
  },
  {
   "cell_type": "markdown",
   "metadata": {},
   "source": [
    "## References\n",
    "\n",
    "1. [Spur Dikes Hydraulics (YouTube)](https://www.youtube.com/watch?v=tF7wSJzkD4c)\n",
    "2. [Experimental Study on the Influence of Spur Dikes Spacing on Local\n",
    "Scouring](http://54.243.252.9/ce-4353-webroot/3-Readings/25903064.pdf)\n",
    "3. [Backwater Effect from Single Spur Dike](http://54.243.252.9/ce-4353-webroot/3-Readings/Backwater_effect_due_to_a_single_spur_dike.pdf)"
   ]
  },
  {
   "cell_type": "code",
   "execution_count": null,
   "metadata": {},
   "outputs": [],
   "source": []
  }
 ],
 "metadata": {
  "kernelspec": {
   "display_name": "Python 3",
   "language": "python",
   "name": "python3"
  },
  "language_info": {
   "codemirror_mode": {
    "name": "ipython",
    "version": 3
   },
   "file_extension": ".py",
   "mimetype": "text/x-python",
   "name": "python",
   "nbconvert_exporter": "python",
   "pygments_lexer": "ipython3",
   "version": "3.8.10"
  }
 },
 "nbformat": 4,
 "nbformat_minor": 4
}
