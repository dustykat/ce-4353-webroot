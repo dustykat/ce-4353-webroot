{
 "cells": [
  {
   "cell_type": "markdown",
   "metadata": {},
   "source": [
    "# Stilling Basins\n",
    "\n",
    "Used to create/fix a hydraulic jump in a known location to dissipate energy and prevent damage from super-duper-critical flow. \n",
    "\n",
    "![](stilling1.png) \n",
    "\n",
    "\n",
    "\n",
    "The idea is to increase the apparent (to the water) channel roughness \n",
    "Momentum is used to deduce drag force imparted by the basin, and per-block projected area is combined into a total projected area for force approximation.\n",
    "\n",
    "![](stilling2.png) \n",
    "\n",
    "![](stilling3.png)\n",
    "\n",
    "The stilling basin itself includes the apron and the blocks and sill\n",
    "\n",
    "![](stilling4.png)\n",
    "\n",
    "The USBR supercritical basins are depicted below:\n",
    "\n",
    "![](usbrsb1.png)\n",
    "\n",
    "![](usbrsb2.png)\n",
    "\n",
    "![](usbrsb3.png)\n",
    "\n",
    "Here are some photographs (lifted from the mighty internet)\n",
    "\n",
    "![](sbphoto1.png)![](sbphoto2.png)\n",
    "\n",
    "Physical models are used for design testing\n",
    "\n",
    "![](sbphoto3.png)\n",
    "\n",
    "One in service\n",
    "\n",
    "![](sbphoto4.png)\n",
    "\n",
    "Another one in service\n",
    "\n",
    "![](sbphoto5.png)\n",
    "\n",
    "## Examples\n",
    "\n",
    "\n",
    "\n",
    "## References\n",
    "\n",
    "[Spillway Activating Various Dams (YouTube)](https://www.youtube.com/watch?v=4yuRXl3xgv0)"
   ]
  },
  {
   "cell_type": "code",
   "execution_count": null,
   "metadata": {},
   "outputs": [],
   "source": []
  }
 ],
 "metadata": {
  "kernelspec": {
   "display_name": "Python 3",
   "language": "python",
   "name": "python3"
  },
  "language_info": {
   "codemirror_mode": {
    "name": "ipython",
    "version": 3
   },
   "file_extension": ".py",
   "mimetype": "text/x-python",
   "name": "python",
   "nbconvert_exporter": "python",
   "pygments_lexer": "ipython3",
   "version": "3.8.10"
  }
 },
 "nbformat": 4,
 "nbformat_minor": 4
}
