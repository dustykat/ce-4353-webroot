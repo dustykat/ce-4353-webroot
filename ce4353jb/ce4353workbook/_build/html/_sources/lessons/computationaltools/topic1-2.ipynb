{
 "cells": [
  {
   "cell_type": "markdown",
   "metadata": {},
   "source": [
    "# Excel/Libre Office Spreadsheets\n",
    "\n",
    "An alternative to developing scripts (computer programs) are spreadsheets.  Excel and LibreOffice are probably the most commonly available.  Excel because of Microsoft 360 subscription service no longer works very well for sharing working spreadsheets, but LibreOffice still works like the older Excel licensed packages.  Any spreadsheets in these notes are likely to be LibreOffice saved as `.xls`,`.xlsx`,or `.xlsm`  \n",
    "\n",
    "## Excel Spreadsheets\n",
    "\n",
    "If you choose to do your work in Excel that's fine, but be sure to include in your work a rendering that shows formulas, something like\n",
    "\n",
    "<figure align=\"center\">\n",
    "<img src=\"http://54.243.252.9/ce-4353-webroot/ce4353jb/ce4353workbook/lessons/computationaltools/excel-normal.png\" width=\"400\"> <figcaption>Figure 2.1. Excel spreadhseet \"normal\" appearance </figcaption>\n",
    "</figure>\n",
    "\n",
    "<!--![](excel-normal.png)-->\n",
    "\n",
    "But **also** include a rendering with the formulas as\n",
    "<figure align=\"center\">\n",
    "<img src=\"http://54.243.252.9/ce-4353-webroot/ce4353jb/ce4353workbook/lessons/computationaltools/excel-asformula.png\" width=\"400\"> <figcaption>Figure 2.2. Excel spreadhseet with \"as formula\" appearance </figcaption>\n",
    "</figure>\n",
    "\n",
    "<!--![](excel-asformula.png)-->\n",
    "\n",
    "Furthermore, if you program macros, include the VBA code in an appendix.\n",
    "\n",
    "## LibreOffice Spreadsheets\n",
    "\n",
    "These are nearly the same as Excel.  Here's the same two renderings in LibreOffice\n",
    "\n",
    "<figure align=\"center\">\n",
    "<img src=\"http://54.243.252.9/ce-4353-webroot/ce4353jb/ce4353workbook/lessons/computationaltools/LibreOfficeNorm.png\" width=\"400\"> <figcaption>Figure 2.3. LibreOffice spreadhseet \"normal\" appearance </figcaption>\n",
    "</figure>\n",
    "\n",
    "<!--![](excel-normal.png)-->\n",
    "\n",
    "But **also** include a rendering with the formulas as\n",
    "<figure align=\"center\">\n",
    "<img src=\"http://54.243.252.9/ce-4353-webroot/ce4353jb/ce4353workbook/lessons/computationaltools/LibreOfficeAsF.png\" width=\"400\"> <figcaption>Figure 2.4. LibreOffice spreadhseet with \"as formula\" appearance </figcaption>\n",
    "</figure>\n",
    "\n",
    "<!--![](excel-asformula.png)-->\n",
    "\n",
    "Much of the utility of Excel/LibreOffice and Jupyter is to generate graphical representations of calculations.  As such a review of graphing is useful."
   ]
  },
  {
   "cell_type": "markdown",
   "metadata": {},
   "source": [
    "## References"
   ]
  }
 ],
 "metadata": {
  "kernelspec": {
   "display_name": "Python 3",
   "language": "python",
   "name": "python3"
  },
  "language_info": {
   "codemirror_mode": {
    "name": "ipython",
    "version": 3
   },
   "file_extension": ".py",
   "mimetype": "text/x-python",
   "name": "python",
   "nbconvert_exporter": "python",
   "pygments_lexer": "ipython3",
   "version": "3.8.10"
  }
 },
 "nbformat": 4,
 "nbformat_minor": 4
}
