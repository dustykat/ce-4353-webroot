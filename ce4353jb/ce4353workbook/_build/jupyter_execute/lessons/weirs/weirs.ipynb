{
 "cells": [
  {
   "cell_type": "markdown",
   "metadata": {},
   "source": [
    "# Weirs\n",
    "\n",
    "Used as flow measuring devices and to maintain specific pool elevations in hydraulic systems.\n",
    "\n",
    "## Flow Measurement\n",
    "\n",
    "![](stream_weir.png)\n",
    "\n",
    "## Stage Control - Water Quality Enhancement\n",
    "\n",
    "![](Dobbsweirvdropsjan2006.png)\n",
    "\n",
    "## Stage Control - Erosion Management\n",
    "\n",
    "![](Weir_on_the_river_wear.png)\n",
    "\n",
    "## Stage Control - Navigation\n",
    "\n",
    "![](bath-weir.png)\n",
    "\n",
    "## Stage Control - Diversion/Extraction\n",
    "\n",
    "![](Typical-weir-system-in-Northern-Thailand-consists-of-weirs-and-canals.png)\n",
    "\n",
    "## Examples\n",
    "\n",
    "Many types of weirs in the textbook are typically employed for flow measurement.  Most of the weirs pictured are morphologically the same as a handful of well studied types"
   ]
  },
  {
   "cell_type": "markdown",
   "metadata": {},
   "source": [
    "### Sharp-Crested Rectangular Notch Weir\n",
    "\n",
    "![](sharp-crest.png)\n",
    "\n",
    "A sketch of a sharp-crested weir (weir plate is thin in the flow direction) is shown below\n",
    "\n",
    "![](sharp-crest-sketch.png)\n",
    "\n",
    "Assuming no head loss, atmospheric pressure across AB (implies flow over the crest is like a jet, that is $\\Delta p$  is small from top to bottom - the assumption becomes weak when the weir becomes flooded), negligible contraction of the [nappe](https://en.wikipedia.org/wiki/Nappe_(water)).\n",
    "\n",
    "Integrating the velocity profile from A to B to obtain a mean section speed in the nappe, and multiplying by the cross section width produces (Eqn 2.39)\n",
    "\n",
    "$$ Q = \\frac{2}{3}\\sqrt{2g}C_d~L~H^{3/2} $$\n",
    "\n",
    "Where $L$ is the width (weir length) of the notch crest perpindicular to flow, and $H$ is the static head above the crest height (the flow depth of the nappe at the crest).\n",
    "\n",
    "The weir coefficient $C_d$ is determined by weir morphology:\n",
    "\n",
    "![](weir-charts-one.png)\n",
    "\n",
    "These charts are used with an adjusted formula\n",
    "\n",
    "$$ Q = \\frac{2}{3}\\sqrt{2g}C_{de}~L_{e}~H_e^{3/2} $$\n",
    "\n",
    "where\n",
    "\n",
    "$$L_{de}=L + k_L$$\n",
    "\n",
    "and\n",
    "\n",
    "$$H_e=H + k_H$$\n",
    "\n",
    "$k_L$ is read from the chart and $k_H$ is a constant 0.001 m (0.003 ft)\n",
    "\n",
    "An alternate approach is a formula for $C_{de}$ (Kindsvater-Carter formula)\n",
    "\n",
    "$C_{de} = \\beta_1 + \\beta_2 \\frac{H}{P}$\n",
    "\n",
    "where \n",
    "\n",
    "|$\\frac{L}{b}$|$\\beta_1$|$\\beta_2$|\n",
    "|---:|---:|---:|\n",
    "|1.0|0.602|0.075|\n",
    "|0.9|0.599|0.064|\n",
    "|0.8|0.597|0.045|\n",
    "|0.7|0.595|0.030|\n",
    "|0.6|0.593|0.018|\n",
    "|0.5|0.592|0.011|\n",
    "|0.4|0.591|0.0058|\n",
    "|0.3|0.590|0.0020|\n",
    "|0.2|0.589|-0.0018|\n",
    "|0.1|0.588|-0.0021|\n",
    "|0.0|0.587|-0.0023|\n",
    "\n"
   ]
  },
  {
   "cell_type": "markdown",
   "metadata": {},
   "source": []
  },
  {
   "cell_type": "markdown",
   "metadata": {},
   "source": [
    "### Shart-Crested Triangular Notch Weir\n",
    "\n",
    "![](V-notch.png)\n",
    "\n",
    "![](vee-notch-weir-in-brick-tunnel-t.png)"
   ]
  },
  {
   "cell_type": "markdown",
   "metadata": {},
   "source": [
    "#### General Formula\n",
    "\n",
    "The general formula for a V-Notch weir (with experimentally determined discharge coefficients for the geometry in the sketch below \n",
    "\n",
    "![](v-notch-sketch.png)\n",
    "\n",
    "is\n",
    "\n",
    "$$Q = C_d \\frac{8}{15} \\sqrt{2g}~tan(\\frac{\\theta}{2})H^{5/2}$$\n",
    "\n",
    "#### Kindsvater-Carter formula\n",
    "\n",
    "In the Kindsvater-Carter form using the concept of effective head ($H_e = H + k_H$) is \n",
    "\n",
    "$$Q = C_{de} \\frac{8}{15} \\sqrt{2g}~tan(\\frac{\\theta}{2})H_e^{5/2}$$"
   ]
  },
  {
   "cell_type": "code",
   "execution_count": null,
   "metadata": {},
   "outputs": [],
   "source": []
  },
  {
   "cell_type": "markdown",
   "metadata": {},
   "source": [
    "### Broad-Crested Weir"
   ]
  },
  {
   "cell_type": "markdown",
   "metadata": {},
   "source": [
    "A broad crested weir is distinct from the sharp edged wiers by virtue of having a substantial portion of the crest in the direction of flow of at least several approach depth equivalents.\n",
    "\n",
    "The wier below is nearly flooded, but yopu can see the crest length relative to the approach depth, the central \"channel\" is a notch in the system for lower flows/pool elevations.\n",
    "\n",
    "![](BCweir4.png)\n",
    "\n",
    "The weir below is clearly either a flow measuring weir or a debris trap - the notch is to guarentee enough flow to scour the trap after a substantial solids flow event.  The \"crest\" is pretty long (in the direction of flow) no doubt to withstand the shear forces that would be imparted by a slurry (water and solids) impacting the upstream face.  Notice the geometry - it is a notch-type weir with at least three notches.  The small width portion.  The wider portion near at elevation a little below the gaging vault (or prison cell), and a widest portion using the gaging vault as part of the vertical wall of the notch.  This kind of weir is called acomposite-geometry  weir.  \n",
    "\n",
    "![](BCweir3.png)\n",
    "\n",
    "The next two images show a broad crested weir set into a trapezoidal channel, first just after construction waiting for the concrete to harden,\n",
    "\n",
    "![](BCweir2.png)\n",
    "\n",
    "and then with water flowing in the weir.\n",
    "\n",
    "Notice the two hydrographers admiring the weir and awaiting their chance to fish in the newly constructed fish race.\n",
    "\n",
    "![](BCweir1.png)\n",
    "\n",
    "The sketch below shows the geometry of a broad crested weir, the width of the weir across the channel is $L$ whereas the length of the weir in the direction of flow is $I$ in the drawing.  \n",
    "\n",
    "![](broad-crested-sketch.png)\n",
    "\n",
    "Key points in the broad crested weir are that the crest is long enough so that parallel flow and critical depth occur somewhere along the crest.\n",
    "\n",
    "The critical energy at this location is \n",
    "\n",
    "$$H_e = \\frac{3}{2}[\\frac{(Q/L)^2}{g}]^{1/3}$$\n",
    "\n",
    "The discharge equation is\n",
    "\n",
    "$$Q = C_d~(\\frac{H_e}{H})^{3/2}~\\frac{2}{3}[\\frac{2}{3}g]^{1/2}~LH^{3/2}  $$\n",
    "\n",
    "The typical discharge coefficient $C_d$ is 0.848, but increases as the weir \"floods\" as indicated by the chart above that relates $C_d$ to the depth to crest length ratio.  A flooded weir is called \"submerged\" and Sturm pages 48-50 have a nice discussion regarding submerged weirs if flow measurement is the goal.\n",
    "\n",
    "The gist of the pages is a submergence correction for discharge as\n",
    "\n",
    "$$Q_s = Q_{free} * [1-(\\frac{H_t}{H})^{10.0}]^{0.95}$$\n",
    "\n",
    "The equation above is essentially eqn 2.52 in the textbook with the constants for a broad-crested weir."
   ]
  },
  {
   "cell_type": "markdown",
   "metadata": {},
   "source": [
    "### Example 2.5 (from Sturm)\n",
    "\n",
    "A rectangular broad-crested weir is used in a stormwasser detention pond as part of the outlet structure (most likely to control pool elevation - hence probably a wet bottom pond).  The crest length is 10 feets and the maximum allowable head on the crest is 1.0 ft.  What is the discharge capacity of the weir at free willy?  If the tailwater head is 0.8 ft, what will be the discharge?"
   ]
  },
  {
   "cell_type": "code",
   "execution_count": 1,
   "metadata": {},
   "outputs": [
    {
     "name": "stdout",
     "output_type": "stream",
     "text": [
      "Discharge:  26.2  cfs\n"
     ]
    }
   ],
   "source": [
    "# BC weir - free willy flow\n",
    "import math\n",
    "Cd = 0.848\n",
    "g = 32.2 # feet per second per second\n",
    "H = 1.0 # feet \n",
    "Va = 0.0 # approach velocity, negligible in pond\n",
    "He = H + (Va**2)/(2*g)\n",
    "I = 10.0 # actually unknown in this example, but are told it is a broad crest\n",
    "L = 10.0 # feet\n",
    "\n",
    "Q = Cd*((He/H)**(3/2))*(2/3)*math.sqrt((2*g/3))*L*H**(3/2)\n",
    "print(\"Discharge: \",round(Q,1),\" cfs\")"
   ]
  },
  {
   "cell_type": "code",
   "execution_count": 2,
   "metadata": {},
   "outputs": [
    {
     "name": "stdout",
     "output_type": "stream",
     "text": [
      "Discharge:  23.5  cfs\n"
     ]
    }
   ],
   "source": [
    "# BC weir - submerged flow\n",
    "# compute submergence reduction factor\n",
    "Ht = 0.8 # feet\n",
    "a = 10\n",
    "b = 0.95\n",
    "S = (1.0-(Ht/H)**a)**b\n",
    "Qs = S*Q\n",
    "print(\"Discharge: \",round(Qs,1),\" cfs\")"
   ]
  },
  {
   "cell_type": "markdown",
   "metadata": {},
   "source": [
    "### Flumes\n",
    "\n",
    "A flume is another device to measure flow in open channels.  A flume employs contractions and/or a raised bottom section to force flow through critical depth within the measurement section of the flume. A rating curve is provided by manufacturers or if the geometry is known in the critical sectionthat fact can be leveraged to rate the flume.\n",
    "\n",
    "Flumes can be pretty small\n",
    "\n",
    "![](flume-small.png)\n",
    "\n",
    "Moderate in size\n",
    "\n",
    "![](flume-medium.png)\n",
    "\n",
    "And semi-portable installations can be fairly large\n",
    "\n",
    "![](flume-field.png)\n",
    "\n",
    "Or even pretty large (notice the dude on the right side trying to figure out how to steal the abandoned bicycle!)\n",
    "\n",
    "![](flume-large.png)"
   ]
  },
  {
   "cell_type": "code",
   "execution_count": null,
   "metadata": {},
   "outputs": [],
   "source": []
  },
  {
   "cell_type": "markdown",
   "metadata": {},
   "source": [
    "## References\n",
    "\n",
    "1. [What is a weir? (YouTube)](https://www.youtube.com/watch?v=YkR79oDAgOg)\n",
    "2. [Discharge over Broad-Crested Weir (YouTube)](https://www.youtube.com/watch?v=8QIqPOnpT9Q)\n",
    "3. [Discharge over a Wrecked Angular Weir (YouTube)](https://www.youtube.com/watch?v=JhYmhYuy1bY)\n",
    "4. [Discharge over a Submerged Weir (YouTube)](https://www.youtube.com/watch?v=DE-cb6gH_Js)\n",
    "5. [Discharge over a Trapezoidal Weir (YouTube)](https://www.youtube.com/watch?v=_T_nJD9-su4)\n",
    "6. [Discharge over a Triangle Notched Weir (YouTube)](https://www.youtube.com/watch?v=OeOzDzBBHO0)\n",
    "7. [Parshall Flume (YouTube)](https://www.youtube.com/watch?v=bxHagMo6nm0)\n",
    "8. [Cut-Throat Flume (YouTube)](https://www.youtube.com/watch?v=eY3fDHMxxRg)\n",
    "9. [Flume for Rapid Chemical Mixing (YouTube)](https://www.youtube.com/watch?v=LphKo8YU8jU)"
   ]
  }
 ],
 "metadata": {
  "kernelspec": {
   "display_name": "Python 3",
   "language": "python",
   "name": "python3"
  },
  "language_info": {
   "codemirror_mode": {
    "name": "ipython",
    "version": 3
   },
   "file_extension": ".py",
   "mimetype": "text/x-python",
   "name": "python",
   "nbconvert_exporter": "python",
   "pygments_lexer": "ipython3",
   "version": "3.8.10"
  }
 },
 "nbformat": 4,
 "nbformat_minor": 4
}