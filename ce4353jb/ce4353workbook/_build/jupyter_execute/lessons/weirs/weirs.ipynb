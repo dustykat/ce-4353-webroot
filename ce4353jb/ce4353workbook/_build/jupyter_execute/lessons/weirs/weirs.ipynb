{
 "cells": [
  {
   "cell_type": "markdown",
   "metadata": {},
   "source": [
    "# Weirs\n",
    "\n",
    "Used as flow measuring devices and to maintain specific pool elevations in hydraulic systems.\n",
    "\n",
    "## Flow Measurement\n",
    "\n",
    "![](stream_weir.png)\n",
    "\n",
    "## Stage Control - Water Quality Enhancement\n",
    "\n",
    "![](Dobbsweirvdropsjan2006.png)\n",
    "\n",
    "## Stage Control - Erosion Management\n",
    "\n",
    "![](Weir_on_the_river_wear.png)\n",
    "\n",
    "## Stage Control - Navigation\n",
    "\n",
    "![](bath-weir.png)\n",
    "\n",
    "## Stage Control - Diversion/Extraction\n",
    "\n",
    "![](Typical-weir-system-in-Northern-Thailand-consists-of-weirs-and-canals.png)\n",
    "\n",
    "## Examples\n",
    "\n",
    "Many types of weirs in the textbook are typically employed for flow measurement.  Most of the weirs pictured are morphologically the same as a handful of well studied types"
   ]
  },
  {
   "cell_type": "markdown",
   "metadata": {},
   "source": [
    "### Sharp-Crested Rectangular Notch Weir\n",
    "\n",
    "![](sharp-crest.png)\n",
    "\n",
    "A sketch of a sharp-crested weir (weir plate is thin in the flow direction) is shown below\n",
    "\n",
    "![](sharp-crest-sketch.png)\n",
    "\n",
    "Assuming no head loss, atmospheric pressure across AB (implies flow over the crest is like a jet, that is $\\Delta p$  is small from top to bottom - the assumption becomes weak when the weir becomes flooded), negligible contraction of the [nappe](https://en.wikipedia.org/wiki/Nappe_(water)).\n",
    "\n",
    "Integrating the velocity profile from A to B to obtain a mean section speed in the nappe, and multiplying by the cross section width produces (Eqn 2.39)\n",
    "\n",
    "$$ Q = \\frac{2}{3}\\sqrt{2g}C_d~L~H^{3/2} $$\n",
    "\n",
    "Where $L$ is the width (weir length) of the notch crest perpindicular to flow, and $H$ is the static head above the crest height (the flow depth of the nappe at the crest).\n",
    "\n",
    "The weir coefficient $C_d$ is determined by weir morphology:\n",
    "\n",
    "![](weir-charts-one.png)\n",
    "\n",
    "These charts are used with an adjusted formula\n",
    "\n",
    "$$ Q = \\frac{2}{3}\\sqrt{2g}C_{de}~L_{e}~H_e^{3/2} $$\n",
    "\n",
    "where\n",
    "\n",
    "$$L_{de}=L + k_L$$\n",
    "\n",
    "and\n",
    "\n",
    "$$H_e=H + k_H$$\n",
    "\n",
    "$k_L$ is read from the chart and $k_H$ is a constant 0.001 m (0.003 ft)\n",
    "\n",
    "An alternate approach is a formula for $C_{de}$ (Kindsvater-Carter formula)\n",
    "\n",
    "$C_{de} = \\beta_1 + \\beta_2 \\frac{H}{P}$\n",
    "\n",
    "where \n",
    "\n",
    "|$\\frac{L}{b}$|$\\beta_1$|$\\beta_2$|\n",
    "|---:|---:|---:|\n",
    "|1.0|0.602|0.075|\n",
    "|0.9|0.599|0.064|\n",
    "|0.8|0.597|0.045|\n",
    "|0.7|0.595|0.030|\n",
    "|0.6|0.593|0.018|\n",
    "|0.5|0.592|0.011|\n",
    "|0.4|0.591|0.0058|\n",
    "|0.3|0.590|0.0020|\n",
    "|0.2|0.589|-0.0018|\n",
    "|0.1|0.588|-0.0021|\n",
    "|0.0|0.587|-0.0023|\n",
    "\n"
   ]
  },
  {
   "cell_type": "markdown",
   "metadata": {},
   "source": []
  },
  {
   "cell_type": "markdown",
   "metadata": {},
   "source": [
    "### Shart-Crested Triangular Notch Weir\n",
    "\n",
    "![](V-notch.png)\n",
    "\n",
    "![](vee-notch-weir-in-brick-tunnel-t.png)"
   ]
  },
  {
   "cell_type": "code",
   "execution_count": null,
   "metadata": {},
   "outputs": [],
   "source": []
  },
  {
   "cell_type": "markdown",
   "metadata": {},
   "source": [
    "### Broad-Crested Weir"
   ]
  },
  {
   "cell_type": "code",
   "execution_count": null,
   "metadata": {},
   "outputs": [],
   "source": []
  },
  {
   "cell_type": "markdown",
   "metadata": {},
   "source": [
    "### Submerged Rectangular Weir"
   ]
  },
  {
   "cell_type": "code",
   "execution_count": null,
   "metadata": {},
   "outputs": [],
   "source": []
  },
  {
   "cell_type": "markdown",
   "metadata": {},
   "source": [
    "### Flumes\n"
   ]
  },
  {
   "cell_type": "code",
   "execution_count": null,
   "metadata": {},
   "outputs": [],
   "source": []
  },
  {
   "cell_type": "markdown",
   "metadata": {},
   "source": [
    "## References\n",
    "\n",
    "1. [What is a weir? (YouTube)](https://www.youtube.com/watch?v=YkR79oDAgOg)"
   ]
  },
  {
   "cell_type": "markdown",
   "metadata": {},
   "source": []
  },
  {
   "cell_type": "markdown",
   "metadata": {},
   "source": []
  },
  {
   "cell_type": "code",
   "execution_count": null,
   "metadata": {},
   "outputs": [],
   "source": []
  }
 ],
 "metadata": {
  "kernelspec": {
   "display_name": "Python 3",
   "language": "python",
   "name": "python3"
  },
  "language_info": {
   "codemirror_mode": {
    "name": "ipython",
    "version": 3
   },
   "file_extension": ".py",
   "mimetype": "text/x-python",
   "name": "python",
   "nbconvert_exporter": "python",
   "pygments_lexer": "ipython3",
   "version": "3.8.10"
  }
 },
 "nbformat": 4,
 "nbformat_minor": 4
}