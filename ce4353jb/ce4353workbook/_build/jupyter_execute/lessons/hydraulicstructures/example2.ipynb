{
 "cells": [
  {
   "cell_type": "markdown",
   "metadata": {},
   "source": [
    "# Example 16.2.2 from Mays\n",
    "\n",
    "Develop the performance curve for an existing 7-ft X 7-ft box culvert, 200-ft long on 5-percent slope designed to convey a 50-year discharge of 600 cfs at a design headwasser elevation of 114-ft as depicted below.\n",
    "\n",
    "![](ex16212.png)\n",
    "\n",
    "The roadway is a 40-foot wide gravel road approximated as a broad crested weir with a centerline elevation of 116 ft.  The culvert inlet elevation is 100 ft. Tailwater-depth discharge relationship is:"
   ]
  },
  {
   "cell_type": "code",
   "execution_count": 1,
   "metadata": {},
   "outputs": [],
   "source": [
    "tw = [2.6,3.1,3.8,4.1,4.5]\n",
    "qtw = [400,600,800,1000,1200]\n",
    "weirL = [0,100,150,200,250,300]\n",
    "weirH = [116,116.5,117,117.5,118,119]"
   ]
  },
  {
   "cell_type": "markdown",
   "metadata": {},
   "source": [
    "Look up in Table 16.2.4 for:\n",
    "\n",
    "- $C_d = 2.70$ @ $HW_r =0.57$\n",
    "- $Q = C_d(HW_r)^{1.5}$\n",
    "- $C_d = 2.97$ @ $HW_r =1.9$\n",
    "- $k_t = 1$"
   ]
  },
  {
   "cell_type": "code",
   "execution_count": 2,
   "metadata": {},
   "outputs": [],
   "source": [
    "D = 7 # given\n",
    "\n",
    "qtest = [400,600,700,800,850,1000]\n"
   ]
  },
  {
   "cell_type": "code",
   "execution_count": null,
   "metadata": {},
   "outputs": [],
   "source": []
  }
 ],
 "metadata": {
  "kernelspec": {
   "display_name": "Python 3",
   "language": "python",
   "name": "python3"
  },
  "language_info": {
   "codemirror_mode": {
    "name": "ipython",
    "version": 3
   },
   "file_extension": ".py",
   "mimetype": "text/x-python",
   "name": "python",
   "nbconvert_exporter": "python",
   "pygments_lexer": "ipython3",
   "version": "3.8.10"
  }
 },
 "nbformat": 4,
 "nbformat_minor": 4
}