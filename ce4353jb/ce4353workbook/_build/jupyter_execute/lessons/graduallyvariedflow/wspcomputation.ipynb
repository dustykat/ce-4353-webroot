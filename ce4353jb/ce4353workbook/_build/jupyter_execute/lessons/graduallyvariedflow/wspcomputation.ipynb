{
 "cells": [
  {
   "cell_type": "markdown",
   "metadata": {},
   "source": [
    "# Water Surface Profile Computation"
   ]
  },
  {
   "cell_type": "markdown",
   "metadata": {},
   "source": [
    "## Background\n",
    "\n",
    "Words here\n",
    "\n",
    "Two types of methods\n",
    "1. Explicit or direct step method: distance is determined for a specified depth change\n",
    "- Mostly for prismatic channels where cross-sectional properties don’t change with distance x.\n",
    "2. Implicit methods: depth is computed from distance changes\n",
    "- Unknown appears on both sides of the equation dy = f(y)dx\n",
    "- For natural channels for which cross-sectional properties are determined beforehand at particular locations.\n"
   ]
  },
  {
   "cell_type": "markdown",
   "metadata": {},
   "source": [
    "### Finite Difference Methods — Depth-Step Backwater Method\n",
    "\n",
    "The depth-step refers to fixed changes in depth for which we solve to find the variable spatial steps. \n",
    "The method is a very simple method for computing water surface profiles in prismatic channels. \n",
    "A prismatic channel is a channel of uniform cross sectional geometry with constant bed (topographic) slope.\n",
    "\n",
    ":::{note}\n",
    "The textbook calls this the **Direct Step Method**\n",
    ":::\n",
    "\n",
    "In such channels with smooth (non-jump) steady flow the continunity and momentum equations are:\n",
    "\n",
    "**Continunity**\n",
    "\n",
    "$$Q = AV$$ \n",
    "\n",
    "where <br>\n",
    "\n",
    "$Q$ is volumetric discharge, <br>\n",
    "$A$ is cross sectional flow area, and<br>\n",
    "$V$ is the mean section velocity. <br>\n",
    "\n",
    "**Momentum**\n",
    "\n",
    "$$ \\frac{V}{g}\\frac{dV}{dx} + \\frac{dy}{dx} = S_0 - S_f $$\n",
    "\n",
    "where $y$ is the flow depth (above the bottom), and $x$ is horizontal the distance along the channel.\n",
    "\n",
    "For the depth-step method, the momentum equation is rewritten as a difference equation (after application of calculus to gather terms) then rearranged to solve for the spatial step dimension\n",
    "\n",
    "$$ \\frac{\\frac{V_{i+1}^2}{2g}-\\frac{V_i^2}{2g}}{\\Delta x} + \\frac{h_{i+1}-h_i}{\\Delta x} = S_0 - \\bar S_f$$\n",
    "\n",
    "where $\\bar S$ is the average slope of the energy grade line between two sections (along a reach of length $\\Delta x$, the unknown value).\n",
    "\n",
    "Rearrangement to isolate $\\Delta x$ produces an explicit update equation that can be evaluated to find the different values of $\\Delta x$ associated with different flow depths. The plot of the accumulated spatial changes versus the sum of the flow depth and bottom elevation is the water surface profile.\n",
    "\n",
    "$$\\Delta x = \\frac{(y_{i+1}+\\frac{V_{i+1}^2}{2g} )- (y_{i}+\\frac{V_{i}^2}{2g} )}{S_0-\\bar S_f}$$\n",
    "\n",
    "The distance between two sections with known discharges is computed using the\n",
    "equation, all the terms on the left hand side are known values. The mean energy\n",
    "gradient ($\\bar S_f$ ) is computed from the mean of the velocity, depth, area, and hydraulic radius for the two sections.\n",
    "\n",
    "The friction slope can be computed using Manning’s, Chezy, or the Darcy-Weisbach friction equations adapted for non-circular, free-surface conduits.\n"
   ]
  },
  {
   "cell_type": "markdown",
   "metadata": {},
   "source": [
    "### Example 1\n",
    "\n",
    "The figure below is a backwater curve for a rectangular channel with discharge over a weir (on the right hand side — not depicted).The channel width is 5 meters, bottom slope 0.001, Manning’s n = 0.02 and discharge Q = 55.4m$^3$.\n",
    "\n",
    "![](bw_curve1.png)\n",
    "\n",
    ":::{note}\n",
    "The figure is from: Page 85. Koutitas, C.G. (1983). Elements of Computational Hydraulics. Pentech Press, London 138p. ISBN 0-7273-0503-4\n",
    ":::\n",
    "\n",
    "Our goal is to replicate the fugure using our computational thinking (ENGR 1330) approach.  The depth-step method already described is an algorithm, we have to simply determine the direction to integrate - supply known depths at a control section and the target depth (normal) for the algorithm, and let the computer do the heavy lifting.\n",
    "\n",
    "**Solution Script**"
   ]
  },
  {
   "cell_type": "code",
   "execution_count": 1,
   "metadata": {},
   "outputs": [],
   "source": [
    "# prototype functions\n",
    "def A_rect(B,y):\n",
    "    A_rect = B*y\n",
    "    return(A_rect)\n",
    "\n",
    "def P_rect(B,y):\n",
    "    P_rect = B + y + y\n",
    "    return(P_rect)\n",
    "\n",
    "def Rh(A,P):\n",
    "    Rh = A/P\n",
    "    return(Rh)\n",
    "\n",
    "def slope_f(discharge,mannings_n,area,radius):\n",
    "    slope_f = (discharge**2)*(mannings_n**2)/( (radius**(4/3))*(area**2) )\n",
    "    return(slope_f)"
   ]
  },
  {
   "cell_type": "code",
   "execution_count": 2,
   "metadata": {},
   "outputs": [],
   "source": [
    "# input information\n",
    "begin_depth = 8\n",
    "end_depth   = 5\n",
    "discharge   = 55.4\n",
    "how_many    = 32\n",
    "manningn    = 0.020\n",
    "slope       = 0.001\n",
    "width       = 5"
   ]
  },
  {
   "cell_type": "code",
   "execution_count": 3,
   "metadata": {},
   "outputs": [
    {
     "data": {
      "image/png": "[encoded data removed]",
      "text/plain": [
       "<Figure size 720x360 with 1 Axes>"
      ]
     },
     "metadata": {
      "filenames": {
       "image/png": "/home/sensei/ce-4353-webroot/ce4353jb/ce4353workbook/_build/jupyter_execute/lessons/graduallyvariedflow/wspcomputation_6_0.png"
      },
      "needs_background": "light"
     },
     "output_type": "display_data"
    },
    {
     "name": "stdout",
     "output_type": "stream",
     "text": [
      "Depth at station -11393.235683125995  is 5.0\n"
     ]
    }
   ],
   "source": [
    "# empty lists for variables\n",
    "depth    = [0 for i in range(how_many)] #flow depth\n",
    "bse      = [0 for i in range(how_many)] #channel bottom elevation\n",
    "wse      = [0 for i in range(how_many)] #water surface elevation\n",
    "deltax   = [0 for i in range(how_many)] #space steps\n",
    "distance = [0 for i in range(how_many)] #station locations\n",
    "velocity = [0 for i in range(how_many)] #section velocity\n",
    "\n",
    "delta_depth = (begin_depth-end_depth)/(how_many-1)# change in depth for finding spatial steps\n",
    "\n",
    "depth[0] = (begin_depth) # assign downstream value\n",
    "\n",
    "for i in range(how_many):\n",
    "    depth[i] = (depth[0]-i*delta_depth)# depth values to evaluate\n",
    "    velocity[i] = (discharge/A_rect(width,depth[i])) #velocity for each depth\n",
    "    \n",
    "for i in range(how_many-1):\n",
    "    depth_bar     = 0.5*(depth[i]+depth[i+1])    #compute average depth in reach\n",
    "    area_bar      = A_rect(width,depth_bar)      #compute average area in reach\n",
    "    perimeter_bar = P_rect(width,depth_bar)  #compute average wetted perimeter\n",
    "    radius_bar    = Rh(area_bar,perimeter_bar)   #compute average hydraulic radius\n",
    "    friction = slope_f(discharge,manningn,area_bar,radius_bar) #compute friction slope\n",
    "    deltax[i] = ((depth[i+1]+(velocity[i+1]**2)/(2*9.8)) - (depth[i] + (velocity[i]**2)/(2*9.8)))/(slope-friction)\n",
    "\n",
    "wse[0]=bse[0]+depth[0] # water surface at control point\n",
    "for i in range(1,how_many):\n",
    "    distance[i] = distance[i-1]+deltax[i-1]; # station distances\n",
    "    bse[i] = bse[i-1]-deltax[i-1]*slope; # bottom elevations\n",
    "    wse[i] = bse[i]+depth[i] # water surface elevations\n",
    "\n",
    "import matplotlib.pyplot as plt # the python plotting library\n",
    "plottitle ='Water Surface Profile for Q=' + str(round(discharge,1)) + ' CMS '\n",
    "mydata = plt.figure(figsize = (10,5)) # build a square drawing canvass from figure class\n",
    "plt.plot(distance, bse, c='black') # basic line plot\n",
    "plt.plot(distance, wse, c='blue') # basic line plot\n",
    "plt.legend(['Channel Bottom','Water Surface'])\n",
    "plt.xlabel('Station Location (meters)')\n",
    "plt.ylabel('Elevation (meters)')\n",
    "plt.title(plottitle)\n",
    "plt.show()\n",
    "\n",
    "print(\"Depth at station\",distance[how_many-1],\" is\",depth[how_many-1])"
   ]
  },
  {
   "cell_type": "markdown",
   "metadata": {},
   "source": [
    "Our plot and computed location to normal depth is for all purposes the same as the original document."
   ]
  },
  {
   "cell_type": "markdown",
   "metadata": {},
   "source": [
    "### Example 2\n",
    "\n",
    "The figure below is another illustrative case. Here the water discharges into a horizontal channel at a rate of 1 m$^3$ per second per meter width. Assuming Manning’s n = 0.01 we wish\n",
    "to compute the profile downstream of the gate and determine if it will extend to the sharp edge.\n",
    "\n",
    "![](bw_curve2.png)\n",
    "\n",
    ":::{note} \n",
    "The figure is from: Jaeger, C. (1957). Engineering Fluid Mechanics. St. Martin’s Press. 529p. \n",
    ":::\n",
    "\n",
    "\n",
    "We would need to know the critical depth for the section (≈ 0.47meters), then compute the profile moving from the gate downstream (a frontwater curve with respect to the gate).\n",
    "\n",
    "All we really need to do is change the starting and ending values because the script is already built for the rectangular geometry.\n",
    "\n"
   ]
  },
  {
   "cell_type": "code",
   "execution_count": 4,
   "metadata": {},
   "outputs": [],
   "source": [
    "# prototype functions\n",
    "def A_rect(B,y):\n",
    "    A_rect = B*y\n",
    "    return(A_rect)\n",
    "\n",
    "def P_rect(B,y):\n",
    "    P_rect = B + y + y\n",
    "    return(P_rect)\n",
    "\n",
    "def Rh(A,P):\n",
    "    Rh = A/P\n",
    "    return(Rh)\n",
    "\n",
    "def slope_f(discharge,mannings_n,area,radius):\n",
    "    slope_f = (discharge**2)*(mannings_n**2)/( (radius**(4/3))*(area**2) )\n",
    "    return(slope_f)"
   ]
  },
  {
   "cell_type": "code",
   "execution_count": 5,
   "metadata": {},
   "outputs": [],
   "source": [
    "# input information\n",
    "begin_depth = 0.1 # at the sluice gate opening\n",
    "end_depth   = 0.47 # critical depth \n",
    "discharge   = 1.0\n",
    "how_many    = 32\n",
    "manningn    = 0.010\n",
    "slope       = 0.000\n",
    "width       = 1"
   ]
  },
  {
   "cell_type": "code",
   "execution_count": 6,
   "metadata": {},
   "outputs": [
    {
     "data": {
      "image/png": "[encoded data removed]",
      "text/plain": [
       "<Figure size 720x360 with 1 Axes>"
      ]
     },
     "metadata": {
      "filenames": {
       "image/png": "/home/sensei/ce-4353-webroot/ce4353jb/ce4353workbook/_build/jupyter_execute/lessons/graduallyvariedflow/wspcomputation_11_0.png"
      },
      "needs_background": "light"
     },
     "output_type": "display_data"
    },
    {
     "name": "stdout",
     "output_type": "stream",
     "text": [
      "0 0.1\n",
      "4.436732598938704 0.11193548387096774\n",
      "8.890771308584114 0.12387096774193548\n",
      "13.345925531714814 0.13580645161290322\n",
      "17.78760249742602 0.147741935483871\n",
      "22.202439396714528 0.1596774193548387\n",
      "26.578020781699287 0.17161290322580647\n",
      "30.902660708283786 0.1835483870967742\n",
      "35.16523375300604 0.19548387096774195\n",
      "39.35504304581471 0.20741935483870969\n",
      "43.461716533328115 0.21935483870967742\n",
      "47.475124951068075 0.23129032258064516\n",
      "51.38531663212699 0.24322580645161293\n",
      "55.182465480986565 0.25516129032258067\n",
      "58.856829321149384 0.2670967741935484\n",
      "62.39871647496652 0.27903225806451615\n",
      "65.79845891811088 0.2909677419354839\n",
      "69.04639071514907 0.3029032258064516\n",
      "72.13283071890275 0.31483870967741934\n",
      "75.04806872778249 0.3267741935483871\n",
      "77.7823544585682 0.33870967741935487\n",
      "80.32588881918448 0.35064516129032264\n",
      "82.66881706565181 0.3625806451612903\n",
      "84.80122350605285 0.37451612903225806\n",
      "86.71312747685819 0.3864516129032258\n",
      "88.39448036692608 0.3983870967741936\n",
      "89.83516350466259 0.41032258064516136\n",
      "91.0249867562946 0.422258064516129\n",
      "91.95368770957263 0.4341935483870968\n",
      "92.61093133872741 0.44612903225806455\n",
      "92.98631006412161 0.4580645161290323\n",
      "93.06934413452389 0.47\n"
     ]
    }
   ],
   "source": [
    "# empty lists for variables\n",
    "depth    = [0 for i in range(how_many)] #flow depth\n",
    "bse      = [0 for i in range(how_many)] #channel bottom elevation\n",
    "wse      = [0 for i in range(how_many)] #water surface elevation\n",
    "deltax   = [0 for i in range(how_many)] #space steps\n",
    "distance = [0 for i in range(how_many)] #station locations\n",
    "velocity = [0 for i in range(how_many)] #section velocity\n",
    "\n",
    "delta_depth = (begin_depth-end_depth)/(how_many-1)# change in depth for finding spatial steps\n",
    "\n",
    "depth[0] = (begin_depth) # assign downstream value\n",
    "\n",
    "for i in range(how_many):\n",
    "    depth[i] = (depth[0]-i*delta_depth)# depth values to evaluate\n",
    "    velocity[i] = (discharge/A_rect(width,depth[i])) #velocity for each depth\n",
    "    \n",
    "for i in range(how_many-1):\n",
    "    depth_bar     = 0.5*(depth[i]+depth[i+1])    #compute average depth in reach\n",
    "    area_bar      = A_rect(width,depth_bar)      #compute average area in reach\n",
    "    perimeter_bar = P_rect(width,depth_bar)  #compute average wetted perimeter\n",
    "    radius_bar    = Rh(area_bar,perimeter_bar)   #compute average hydraulic radius\n",
    "    friction = slope_f(discharge,manningn,area_bar,radius_bar) #compute friction slope\n",
    "    deltax[i] = ((depth[i+1]+(velocity[i+1]**2)/(2*9.8)) - (depth[i] + (velocity[i]**2)/(2*9.8)))/(slope-friction)\n",
    "\n",
    "wse[0]=bse[0]+depth[0] # water surface at control point\n",
    "for i in range(1,how_many):\n",
    "    distance[i] = distance[i-1]+deltax[i-1]; # station distances\n",
    "    bse[i] = bse[i-1]-deltax[i-1]*slope; # bottom elevations\n",
    "    wse[i] = bse[i]+depth[i] # water surface elevations\n",
    "\n",
    "import matplotlib.pyplot as plt # the python plotting library\n",
    "plottitle ='Water Surface Profile for Q=' + str(round(discharge,1)) + ' CMS '\n",
    "mydata = plt.figure(figsize = (10,5)) # build a square drawing canvass from figure class\n",
    "plt.plot(distance, bse, c='black') # basic line plot\n",
    "plt.plot(distance, wse, c='blue') # basic line plot\n",
    "plt.legend(['Channel Bottom','Water Surface'])\n",
    "plt.xlabel('Station Location (meters)')\n",
    "plt.ylabel('Elevation (meters)')\n",
    "plt.title(plottitle)\n",
    "plt.show()\n",
    "\n",
    "for i in range(how_many):\n",
    "    print(distance[i],depth[i])"
   ]
  },
  {
   "cell_type": "markdown",
   "metadata": {},
   "source": [
    "Observe that the distance is now incrementing forward (by choice of begin and end depths) when we build the plots.\n",
    "\n",
    "Printing the distance and depth table we conclude that at the edge the flow depth is 0.35 meters - still supercritical but relatively close to the critical depth and pending instability."
   ]
  },
  {
   "cell_type": "markdown",
   "metadata": {},
   "source": [
    "## Readings\n",
    "\n",
    "<!--1. [CE-3305-2022-2 (Summer2) Syllabus](http://54.243.252.9/ce-3305-webroot-su22/0-Syllabus/ce-3305-2022-1-syllabus.html)-->\n",
    "\n",
    "<!--2. Hibbeler, R.C, Fluid Mechanics, 2ed. Prentice Hall, 2018. ISBN: 9780134655413 pp. 3-14-->\n",
    "\n",
    "3. DF Elger, BC Williams, Crowe, CT and JA Roberson, *Engineering Fluid Mechanics 10th edition*, John Wiley & Sons, Inc., 2013. <!--[http://54.243.252.9/ce-3305-webroot/3-Readings/EFM-21.pdf](http://54.243.252.9/ce-3305-webroot/3-Readings/EFM-1.pdf)-->\n",
    "\n",
    "<!--4. Cleveland, T. G. (2014) *Fluid Mechanics Notes to Accompany CE 3305 at Jade-Holshule (TTU Study Abroad 2015-2019)*, Department of Civil, Environmental, and Construction Engineering, Whitacre College of Engineering. [http://54.243.252.9/ce-3305-webroot/3-Readings/ce3305-lecture-001.1.pdf](http://54.243.252.9/ce-3305-webroot/3-Readings/ce3305-lecture-001.1.pdf)-->"
   ]
  },
  {
   "cell_type": "markdown",
   "metadata": {},
   "source": []
  }
 ],
 "metadata": {
  "kernelspec": {
   "display_name": "Python 3",
   "language": "python",
   "name": "python3"
  },
  "language_info": {
   "codemirror_mode": {
    "name": "ipython",
    "version": 3
   },
   "file_extension": ".py",
   "mimetype": "text/x-python",
   "name": "python",
   "nbconvert_exporter": "python",
   "pygments_lexer": "ipython3",
   "version": "3.8.10"
  }
 },
 "nbformat": 4,
 "nbformat_minor": 4
}