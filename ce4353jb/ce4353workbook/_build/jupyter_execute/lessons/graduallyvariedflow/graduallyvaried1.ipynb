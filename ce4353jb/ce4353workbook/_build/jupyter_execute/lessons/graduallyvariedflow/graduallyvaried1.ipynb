{
 "cells": [
  {
   "cell_type": "markdown",
   "metadata": {},
   "source": [
    "# Gradually Varied Flow (GVF)\n",
    "\n",
    "<!--Steady non-uniform flow in comparatively straight, prisimatic channels.  Bottom slope $S_0$ changes from one reach to the next, but is constant within a particular reach.  (i.e. no slope change within a reach)-->\n",
    "\n",
    "Steady non-uniform flow in a prismatic channel with gradual changes in its water surface elevation\n",
    "\n",
    "For example,\n",
    "\n",
    "- backwater produced by a dam or weir across a river\n",
    "- drawdown produced at a sudden drop in a channel\n",
    "\n",
    "In gradually varied flow (GVF)\n",
    "- velocity varies along the channel\n",
    "- bed slope, water surface slope, and energy slope will all differ from each other\n",
    "\n",
    ":::{note}\n",
    "Bottom slope $S_0$ changes from one reach to the next, but is constant within a particular reach.  (i.e. no slope change within a reach).  In practice the slope changes are used to help delineate reaches.\n",
    ":::\n",
    "\n",
    "Two basic assumptions in GVF analysis\n",
    "- Pressure distribution at any section is assumed to be hydrostatic\n",
    "- Gradual changes in the surface curvature give rise to negligible normal accelerations\n",
    "- Resistance to flow at any depth is assumed to be given by the corresponding uniform flow equation, such as the Manning’s formula with the condition that the slope term to be used in the equation is intended to be the energy slope ($S_f$) and not the bed slope\n",
    "\n",
    "$$ S_f = (\\frac{Q}{\\frac{\\alpha}{n}AR^{2/3}})^2$$\n",
    "\n",
    "where $\\alpha=1$ (SI units) and $\\alpha=1.485$ (US customary units)."
   ]
  },
  {
   "cell_type": "markdown",
   "metadata": {},
   "source": [
    "## Differential Equation of the Water Surface\n",
    "\n",
    "Recall from our specific energy discussion the various components of the Modified Bernoulli's equation for an open channel\n",
    "\n",
    "![](specificNRG-drawing.png)\n",
    "\n",
    "$$ y_1 + \\frac{\\alpha V_1^2}{2g} + z_1 = y_2 + \\frac{\\alpha V_2^2}{2g} + z_2 + h_{L;1\\rightarrow2}$$\n",
    "\n"
   ]
  },
  {
   "cell_type": "markdown",
   "metadata": {},
   "source": [
    "The total head at  any cross section is (taking $\\alpha$ as unity for some visual simplicity)\n",
    "\n",
    "$$ H_i = y_i + \\frac{V_i^2}{2g} + z_i $$ \n",
    "\n",
    "The slope of the EGL is something like\n",
    "\n",
    "$$ -\\frac{dH_i}{dx} = \\frac{dy_i}{dx} + \\frac{d \\frac{V_i^2}{2g}}{dx} + \\frac{dz_i}{dx} $$ \n",
    "\n",
    ":::{note}\n",
    "The minus sign because energy is decreasing in the +x direction\n",
    ":::\n",
    "\n",
    "Substitute in some geometry to get into a discharge form (which is often more useful!)\n",
    "\n",
    "$$ -\\frac{dH_i}{dx} = \\frac{dy_i}{dx} + \\frac{d \\frac{Q_i^2}{2gA_i^2}}{dx} + \\frac{dz_i}{dx} $$ \n",
    "\n",
    "Now make some observations: the slope of the EGL is the friction slope, and the last term is the channel slope at that location.\n",
    "\n",
    "$$ -S_f = \\frac{dy_i}{dx} + \\frac{d \\frac{Q_i^2}{2gA_i^2}}{dx} - S_0 $$ \n",
    "\n",
    "Calculus the ... on the middle term with $Q$\n",
    "\n",
    "$$ -S_f = \\frac{dy_i}{dx} -2 \\frac{Q_i^2}{2gA_i^3}\\frac{dA_i}{dy}\\frac{dy_i}{dx} - S_0 $$ \n",
    "\n",
    "Recall $\\frac{dA_i}{dy}$ is just the topwidth at the section\n",
    "\n",
    "$$ -S_f = \\frac{dy_i}{dx} -2 \\frac{Q_i^2}{2gA_i^3}T_i\\frac{dy_i}{dx} - S_0 $$ \n",
    "\n",
    "A wee bit of algebra\n",
    "\n",
    "$$ -S_f + S_0 = \\frac{dy_i}{dx}(1 -\\frac{Q_i^2}{gA_i^3}T_i) $$ \n",
    "\n",
    "Observe the term in parenthesis is $1-Fr_i^2$\n",
    "\n",
    "So the expression becomes (dropping the $_i$ subscript\n",
    "\n",
    "$$ \\frac{dy}{dx} = \\frac{(S_0 - S_f)}{(1 -Fr^2)} $$ \n",
    "\n",
    "And we have an ordinary differential equation of the water surface.  A plot of a particular solution, $y(x)$ is called the water surface profile.  "
   ]
  },
  {
   "cell_type": "markdown",
   "metadata": {},
   "source": [
    "## Classification of Water Surface Profiles\n",
    "\n",
    "Process of identification of possible flow profiles as a prelude to quantitative computations\n",
    "- As $y \\rightarrow y_n$, $\\frac{dy}{dx} \\rightarrow 0$ , i.e. the water surface approaches the normal depth line asymptotically.\n",
    "- As $y \\rightarrow y_c$, $\\frac{dy}{dx} \\rightarrow \\infty$, i.e. the water surface meets the critical depth line vertically.\n",
    "> High curvatures at critical depth zones violate the assumption of gradually-varied nature of the flow,\n",
    "> <br>thus GVF computations have to begin or end a short distance away from the critical-depth location.\n",
    "\n",
    "![](profiletypes.png)"
   ]
  },
  {
   "cell_type": "markdown",
   "metadata": {},
   "source": [
    "## Control Sections\n",
    "\n",
    "Section in which a fixed (unique?) relationship exists between the discharge and depth of flow.\n",
    "\n",
    "- Weirs, spillways sluice gates are some typical examples of structures which give rise to control sections.\n",
    "- Critical depth is also a control point.\n",
    "- It is effective in a flow profile which changes from subcritical to supercritical flow.  Such \n",
    "\n",
    "Control sections provide a key to the identification of proper profile shapes.\n",
    "\n",
    "- Subcritical flows have controls in the downstream end\n",
    "- Supercritical flows have controls in the upstream end\n",
    "> The direction of computation of subcritical profiles is upstream, and for supercritical, it is downstream.\n",
    "\n",
    "![](controlsections.png)"
   ]
  },
  {
   "cell_type": "code",
   "execution_count": null,
   "metadata": {},
   "outputs": [],
   "source": []
  }
 ],
 "metadata": {
  "kernelspec": {
   "display_name": "Python 3",
   "language": "python",
   "name": "python3"
  },
  "language_info": {
   "codemirror_mode": {
    "name": "ipython",
    "version": 3
   },
   "file_extension": ".py",
   "mimetype": "text/x-python",
   "name": "python",
   "nbconvert_exporter": "python",
   "pygments_lexer": "ipython3",
   "version": "3.8.10"
  }
 },
 "nbformat": 4,
 "nbformat_minor": 4
}