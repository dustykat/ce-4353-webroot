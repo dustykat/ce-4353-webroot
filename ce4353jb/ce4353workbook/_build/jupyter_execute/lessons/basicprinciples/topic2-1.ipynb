{
 "cells": [
  {
   "cell_type": "markdown",
   "metadata": {},
   "source": [
    "# Solution of Open Channel Problems\n",
    "\n",
    "Solutions to problems are achieved by a combination of\n",
    "\n",
    "- Fluid Mechanics: conservation of mass, momentum, and energy\n",
    "- Empirical and theoretical equations & [nomographs](https://en.wikipedia.org/wiki/Nomogram) (graphical calculators).   These are espeically common in 1-D steady flow applications.\n",
    "- Computational hydraulics.  Complex geometries, unsteady flow.  \n",
    "  1. 1-D steady/unsteady is routine \n",
    "  2. 2-D steady/unsteady is state-of-practice\n",
    "  3. 3-D steady is state-of-art\n",
    "  4. 3-D unsteady is research (for now; but just wait a few years as technology advances)\n",
    "  \n",
    "## History\n",
    "\n",
    "Experiments/Observations -> Empiricism -> Theoretical -> Mathematics -> Computational Methods"
   ]
  },
  {
   "cell_type": "code",
   "execution_count": null,
   "metadata": {},
   "outputs": [],
   "source": []
  }
 ],
 "metadata": {
  "kernelspec": {
   "display_name": "Python 3",
   "language": "python",
   "name": "python3"
  },
  "language_info": {
   "codemirror_mode": {
    "name": "ipython",
    "version": 3
   },
   "file_extension": ".py",
   "mimetype": "text/x-python",
   "name": "python",
   "nbconvert_exporter": "python",
   "pygments_lexer": "ipython3",
   "version": "3.8.10"
  }
 },
 "nbformat": 4,
 "nbformat_minor": 4
}