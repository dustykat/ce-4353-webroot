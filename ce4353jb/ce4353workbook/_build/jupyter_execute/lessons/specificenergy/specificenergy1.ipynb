{
 "cells": [
  {
   "cell_type": "markdown",
   "metadata": {},
   "source": [
    "# Specific Energy\n",
    "\n",
    "The height of the energy grade line (EGL) above the channel bottom is the formal definition of this concept.\n",
    "\n",
    "> From pg. 19 Sturm\n",
    ">![](specificNRG-define.png)\n",
    "\n",
    "A skecth showing the relationship(s) of various common hydraulic components is\n",
    "\n",
    "![](specificNRG-drawing.png)\n",
    "\n",
    "where, <br> \n",
    "- $z$ is the elevation of the channel bottom above some datum (or the thalweg point), <br>\n",
    "- $y$ is the flow depth, and <br> \n",
    "- $\\frac{\\alpha V^2}{2g}$ is the velocity head (with kinetic energy correction term).\n",
    "\n",
    "## Applications\n",
    "\n",
    "The specific energy concept is useful in gradually varied flow calculations end even forms one algorithm to compute (predict) the location of the free surface. It is also vital in determining the flow regime (subcritical ,supercritical, and critical).\n",
    "\n",
    "Another use is in the analysis and design of transitions (to connect different channel geometries in engineered channels).  \n",
    "\n",
    "## Example 1.  Flow over a step\n",
    "\n",
    "A classic example being the estimation of flow depth over a step in a channel (or sand bar, or spread footing ...)\n",
    "\n",
    "![](channelstep.png)\n",
    "\n",
    "In the drawing above the EGL is horizontal, so there is no head loss.   The total energy at the two sections is the same.  If we write the energy equation for the two sections we have:\n",
    "\n",
    "$$ y_1 + \\frac{\\alpha V_1^2}{2g} + z_1 = y_2 + \\frac{\\alpha V_2^2}{2g} + z_2 + h_{L;1->2}$$\n",
    "\n",
    "The last term is zero (it is the slope of the EGL multiplied by the horizontal distance from section 1 to 2), if we express the channel elevations in terms of the approach depth we have\n",
    "\n",
    "$$ y_1 + \\frac{\\alpha V_1^2}{2g} + z_1 = y_2 + \\frac{\\alpha V_2^2}{2g} + (z_1+\\Delta z) $$\n",
    "\n",
    "Subtract the approach elevation from both sides\n",
    "\n",
    "$$ y_1 + \\frac{\\alpha V_1^2}{2g}  = y_2 + \\frac{\\alpha V_2^2}{2g} + \\Delta z $$\n",
    "\n",
    "Expressed in a discharge form\n",
    "\n",
    "$$ y_1 + \\frac{\\alpha Q^2}{2gA_1^2}  = y_2 + \\frac{\\alpha Q^2}{2gA_2^2} + \\Delta z $$\n",
    "\n",
    "Assuming a recrangular channel\n",
    "\n",
    "$$ y_1 + \\frac{\\alpha Q^2}{2g B^2 y_1^2}  = y_2 + \\frac{\\alpha Q^2}{2g B^2 y_2^2} + \\Delta z $$\n",
    "\n",
    "Then knowing $Q$, $\\Delta z$, $B$, and $y_1$ we can solve for $y_2$\n",
    "\n",
    "One could either be elegant, or just brute force an answer.\n",
    "\n",
    "Below we will try for elegant, rearrange into\n",
    "\n",
    "$$ f(y_2) =  y_2 + \\frac{\\alpha Q^2}{2g B^2 y_2^2} + \\Delta z  - (y_1 + \\frac{\\alpha Q^2}{2g B^2 y_1^2}) $$\n",
    "\n",
    "and use a numerical method to find values that make $f(y_2)=0$ (the equation is a cubic, so as many as three are anticipated)"
   ]
  },
  {
   "cell_type": "code",
   "execution_count": 1,
   "metadata": {},
   "outputs": [],
   "source": [
    "# Find y2 given y1, B, Q, deltaz\n",
    "deltaz = 0.1 #m zero means no step\n",
    "B = 1.0  #m\n",
    "y1 = 1.0 #m\n",
    "Q = 1.0  #m^3/s\n",
    "g = 9.81 #m/s^2\n",
    "y2 = 0.0 #m initial guess\n",
    "\n",
    "def spNRG(y,width,discharge,gravity): #specific energy in a rectangular channel\n",
    "    numerator=discharge**2\n",
    "    denominator=(2.0*gravity)*(width**2)*(y**2)\n",
    "    if denominator == 0.0: #probably depth is zero\n",
    "        raise Exception(\"divide by zero, check your inputs dumbass!\")\n",
    "    spNRG=numerator/denominator + y\n",
    "    return(spNRG)\n",
    "\n",
    "def func(y1,y2,width,discharge,gravity,deltaz): #our function to find zeros\n",
    "    func = spNRG(y2,width,discharge,gravity) + deltaz - spNRG(y1,width,discharge,gravity)\n",
    "    return(func)"
   ]
  },
  {
   "cell_type": "code",
   "execution_count": 2,
   "metadata": {},
   "outputs": [
    {
     "name": "stdout",
     "output_type": "stream",
     "text": [
      "y2 =  0.886 f(y2)= 0.0\n"
     ]
    }
   ],
   "source": [
    "# Set-up a bisection-type solver\n",
    "howmany = 25 # number of iterations\n",
    "clow = 0.5 # lower limit for y2\n",
    "chigh = 1.5 # upper limit for y2\n",
    "dtrue = 0 # ground truth value\n",
    "tol = 1e-6 # desired accuracy\n",
    "\n",
    "import numpy # useful library with absolute value and sign functions\n",
    "\n",
    "############ Learning Phase ################\n",
    "# check if clow and chigh bound a solution\n",
    "if numpy.sign(func(y1,clow,B,Q,g,deltaz)-dtrue) == numpy.sign(func(y1,chigh,B,Q,g,deltaz)-dtrue):\n",
    "    raise Exception(\"The scalars clow and chigh do not bound a solution\")\n",
    "\n",
    "for iteration in range(howmany):  \n",
    "\n",
    "# get midpoint\n",
    "    m = (clow + chigh)/2\n",
    "\n",
    "    if numpy.abs(func(y1,m,B,Q,g,deltaz)) < tol:\n",
    "        # stopping condition, report m as root\n",
    "        print('y2 = ',round(m,3),\"f(y2)=\",round(func(y1,m,B,Q,g,deltaz),3))\n",
    "        break\n",
    "    elif numpy.sign(func(y1,clow,B,Q,g,deltaz)-dtrue) == numpy.sign(func(y1,m,B,Q,g,deltaz)-dtrue):\n",
    "        # case where m is an improvement on a. \n",
    "        # Make recursive call with a = m\n",
    "        clow = m # update clow with m\n",
    "    elif numpy.sign(func(y1,chigh,B,Q,g,deltaz)-dtrue) == numpy.sign(func(y1,m,B,Q,g,deltaz)-dtrue):\n",
    "        # case where m is an improvement on b. \n",
    "        # Make recursive call with b = m\n",
    "        chigh = m # update chigh with m\n",
    "####################################################"
   ]
  },
  {
   "cell_type": "code",
   "execution_count": 3,
   "metadata": {},
   "outputs": [
    {
     "data": {
      "image/png": "[encoded data removed]",
      "text/plain": [
       "<Figure size 720x360 with 1 Axes>"
      ]
     },
     "metadata": {
      "filenames": {
       "image/png": "/home/sensei/ce-4353-webroot/ce4353jb/ce4353workbook/_build/jupyter_execute/lessons/specificenergy/specificenergy1_3_0.png"
      },
      "needs_background": "light"
     },
     "output_type": "display_data"
    }
   ],
   "source": [
    "# Or make a graph and read from a prot\n",
    "y2list = []\n",
    "f2list = []\n",
    "startguess = 0.5\n",
    "for i in range(200):\n",
    "    guess = startguess + float(i)*0.01\n",
    "    y2list.append(guess)\n",
    "    f2list.append(func(y1,guess,B,Q,g,deltaz))\n",
    "import matplotlib.pyplot as plt # the python plotting library\n",
    "plottitle ='Finding y2: Given y1=' + str(y1) + '  Q=' + str(Q) + '  Step height ='+str(deltaz) + '\\n Intersection locates y2 value that makes f(y2)=0'\n",
    "mydata = plt.figure(figsize = (10,5)) # build a square drawing canvass from figure class\n",
    "plt.plot([y2list[0],y2list[-1]], [0,0], c='red',linewidth=1) \n",
    "plt.plot(y2list, f2list, c='blue',linewidth=1)\n",
    "plt.xlabel('y2')\n",
    "plt.ylabel('f(y2)')\n",
    "plt.title(plottitle)\n",
    "plt.show()"
   ]
  },
  {
   "cell_type": "markdown",
   "metadata": {},
   "source": [
    "One can easily modify the script for the case where the head loss is non-zero.  \n",
    "\n",
    "The equation in that case is\n",
    "\n",
    "$$ f(y_2) =  y_2 + \\frac{\\alpha Q^2}{2g B^2 y_2^2} + \\Delta z  + (h_{L;1->2}) - (y_1 + \\frac{\\alpha Q^2}{2g B^2 y_1^2}) $$\n",
    "\n",
    "Variations on this approach are the basis of specific energy solutions to open channel hydraulics problems.\n",
    "\n",
    "The book provides guidance that use of the channel bottom as the datum should be limited to cases with slopes smaller than 6$^o$, greater slopes would require some consideration of the departure of streamlines from the horizontal to account for flow depth being perpindicular to the bottom, but the distances being strictly vertical in the above formulations.\n",
    "\n",
    "![](limitslope.png)"
   ]
  },
  {
   "cell_type": "markdown",
   "metadata": {},
   "source": [
    "## Specific Energy Diagram\n",
    "\n",
    "The plot of depth versus specific energy in a particular channel is the specific energy diagram.  Typically the discharge per unit width is used to define the velocity $\\frac{Q}{T} = q$  and  $V= \\frac{q}{y}$.\n",
    "\n",
    "![](specificNRG-diagram.png)\n",
    "\n",
    "we can use our functions above to make our own diagram"
   ]
  },
  {
   "cell_type": "code",
   "execution_count": 4,
   "metadata": {},
   "outputs": [
    {
     "data": {
      "image/png": "[encoded data removed]",
      "text/plain": [
       "<Figure size 720x360 with 1 Axes>"
      ]
     },
     "metadata": {
      "filenames": {
       "image/png": "/home/sensei/ce-4353-webroot/ce4353jb/ce4353workbook/_build/jupyter_execute/lessons/specificenergy/specificenergy1_6_0.png"
      },
      "needs_background": "light"
     },
     "output_type": "display_data"
    }
   ],
   "source": [
    "# Or make a graph and read from a prot\n",
    "Q = 2\n",
    "B = 1\n",
    "g = 9.81\n",
    "ylist = []\n",
    "Elist = []\n",
    "startvalue = 0.1\n",
    "for i in range(600):\n",
    "    guess = startvalue + float(i)*0.01\n",
    "    ylist.append(guess)\n",
    "    Elist.append(spNRG(guess,B,Q,g))\n",
    "import matplotlib.pyplot as plt # the python plotting library\n",
    "plottitle ='Specific Energy Plot for Q = ' + str(Q) + ' B = ' + str(B)\n",
    "mydata = plt.figure(figsize = (10,5)) # build a square drawing canvass from figure class\n",
    "plt.plot([0,7], [0,7], c='red',linewidth=1) \n",
    "plt.plot(Elist, ylist, c='blue',linewidth=1)\n",
    "plt.xlabel('Specific Energy')\n",
    "plt.ylabel('Depth')\n",
    "plt.title(plottitle)\n",
    "plt.show()"
   ]
  },
  {
   "cell_type": "markdown",
   "metadata": {},
   "source": [
    "## Choke"
   ]
  },
  {
   "cell_type": "markdown",
   "metadata": {},
   "source": [
    "A limiting condition for the step in a channel occurs when $\\Delta z$ is larger than $\\Delta z_c$, which is the difference between the approach specific energy and the minimum specific energy.  \n",
    "\n",
    "For an approach energy $E_1$\n",
    "\n",
    "$$ E_1 =  y_1 + \\frac{ Q^2}{2g B^2 y_1^2}  $$\n",
    "\n",
    "If the step height $\\Delta z$ is larger than the energy difference from approach to critical\n",
    "\n",
    "$$ \\Delta z > E_1 - E_{min} =  y_1 + \\frac{ Q^2}{2g B^2 y_1^2} - (y_c + \\frac{ Q^2}{2g B^2 y_c^2}) $$\n",
    "\n",
    "then the condition is called choking (or throttling) and the depth upstream of the choke must rise to maintain enough energy for the depth over the step to be at least at critical depth.\n",
    "\n",
    "\n"
   ]
  },
  {
   "cell_type": "markdown",
   "metadata": {},
   "source": []
  },
  {
   "cell_type": "code",
   "execution_count": null,
   "metadata": {},
   "outputs": [],
   "source": []
  },
  {
   "cell_type": "markdown",
   "metadata": {},
   "source": [
    "## Examples\n",
    "\n",
    "## References"
   ]
  },
  {
   "cell_type": "markdown",
   "metadata": {},
   "source": []
  },
  {
   "cell_type": "code",
   "execution_count": null,
   "metadata": {},
   "outputs": [],
   "source": []
  }
 ],
 "metadata": {
  "kernelspec": {
   "display_name": "Python 3",
   "language": "python",
   "name": "python3"
  },
  "language_info": {
   "codemirror_mode": {
    "name": "ipython",
    "version": 3
   },
   "file_extension": ".py",
   "mimetype": "text/x-python",
   "name": "python",
   "nbconvert_exporter": "python",
   "pygments_lexer": "ipython3",
   "version": "3.8.10"
  }
 },
 "nbformat": 4,
 "nbformat_minor": 4
}