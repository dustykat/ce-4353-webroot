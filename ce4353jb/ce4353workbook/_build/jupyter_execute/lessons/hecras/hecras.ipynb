{
 "cells": [
  {
   "cell_type": "markdown",
   "metadata": {},
   "source": [
    "# HEC-RAS \n",
    "\n",
    "[HEC-River Analysis System (RAS)](https://www.hec.usace.army.mil/software/hec-ras/)  the U.S. Army Corps of Engineers’ software package for modeling constant flows and flood-wave movement through a series of river cross sections, including the presence of a culvert structure. The software and documentation are available free of charge.\n",
    "\n",
    "There are multiple versions. Choose the version for your particular architecture (computer)\n",
    "\n"
   ]
  },
  {
   "cell_type": "markdown",
   "metadata": {},
   "source": [
    "## Installation\n",
    "\n",
    "Navigate to the HEC-RAS website, select software appropriate for your computer.  Apple users will choose the Linux versions and have to figure out an interface, or get a [CodeWeaver](https://www.codeweavers.com/) application layer, or get [Parallels](https://www.parallels.com/pd/general/?gclid=CjwKCAjw79iaBhAJEiwAPYwoCFORJ8sEPl3m0sP2EEj6TExbC4rKqt6LUsS22AVAmTK8PkgnfLqbkxoC_dcQAvD_BwE), or build a [Cloud Application](https://aws.amazon.com/free/compute/lightsail/?trk=56417dfe-8849-4622-bfa4-7ec30bd6f5a3&sc_channel=ps&s_kwcid=AL!4422!3!536323500429!e!!g!!aws%20lightsail&ef_id=CjwKCAjw79iaBhAJEiwAPYwoCKquJK3Cnwmaf8sZZURFgvZO3FdYDyiQufkvEyD4DGuUCtGIGII50BoC77EQAvD_BwE:G:s&s_kwcid=AL!4422!3!536323500429!e!!g!!aws%20lightsail)\n",
    "\n",
    ":::{note}\n",
    "The HEC-RAS On-Line below is such a cloud application hosted on AWS.  You can get your own for \\$12.00/month.\n",
    ":::\n",
    "\n",
    "For a typical winders machine:\n",
    "\n",
    "![](hecrasinstall.png)\n",
    "\n",
    "Then run the installer\n",
    "\n",
    "![](installer.png)\n",
    "\n",
    "Upon sucessful install you should be able to select the program and launch it and get the control interface\n",
    "\n",
    "![](success.png)\n",
    "\n",
    "To install the examples, navigate to the help tab and select download examples\n",
    "\n",
    "![](examples.png)\n",
    "\n",
    ":::{note}\n",
    "Usually the above works, unless you try something fancy and are [clueless](https://www.imdb.com/title/tt0112697/).  If you cannot figure it out go [here](https://apply.mysubwaycareer.com/us/en/)\n",
    ":::"
   ]
  },
  {
   "cell_type": "markdown",
   "metadata": {},
   "source": [
    "## HEC-RAS On-Line\n",
    "\n",
    "A fully provisioned Windows Implementation of HEC-RAS is located at:\n",
    "\n",
    "- server_name: **kittyinthewindow.ddns.net**\n",
    "- user_name: **texas-skew**\n",
    "- passwd: **peakfq73$hare**\n",
    "\n",
    "Users must access using [Remote Desktop Protocol](https://learn.microsoft.com/en-us/windows-server/remote/remote-desktop-services/clients/remote-desktop-mac) (Built into Windows, Apple Store has a free Mac application)."
   ]
  },
  {
   "cell_type": "markdown",
   "metadata": {},
   "source": [
    "## Example 5.5 (Sturm pp. 188-191)\n",
    "\n",
    "The example in the textbook loosely corresponds to the steady flow example in HEC-RAS from Chapter 4 of the users manual.\n",
    "\n",
    "![](hecrasexample4.png)\n",
    "\n",
    "In class we will examine the HEC-RAS supplied example to learn how to drive HEC-RAS.  The motivated reader may be able to convert the existing HEC-RAS supplied example into the book example by changing stationing of the cross sections, assuming the geometry is essentially the same."
   ]
  },
  {
   "cell_type": "markdown",
   "metadata": {},
   "source": [
    "## References\n"
   ]
  },
  {
   "cell_type": "code",
   "execution_count": null,
   "metadata": {},
   "outputs": [],
   "source": []
  }
 ],
 "metadata": {
  "kernelspec": {
   "display_name": "Python 3",
   "language": "python",
   "name": "python3"
  },
  "language_info": {
   "codemirror_mode": {
    "name": "ipython",
    "version": 3
   },
   "file_extension": ".py",
   "mimetype": "text/x-python",
   "name": "python",
   "nbconvert_exporter": "python",
   "pygments_lexer": "ipython3",
   "version": "3.8.10"
  }
 },
 "nbformat": 4,
 "nbformat_minor": 4
}