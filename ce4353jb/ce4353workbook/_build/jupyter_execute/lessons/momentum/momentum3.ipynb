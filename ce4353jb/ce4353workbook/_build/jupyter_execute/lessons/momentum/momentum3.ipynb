{
 "cells": [
  {
   "cell_type": "markdown",
   "metadata": {},
   "source": [
    "# Surges\n",
    "\n",
    "The sudden changes of flow in open channel results in the increase or decrease of flow depth is called\n",
    "a \"surge\" in open channel. The phenomenon occurs when there is a breaching of dams from say an earthquake or regulating the overflow/underflow sluice gates, which results in positive and negative surges in\n",
    "downstream river channel or in downstream tail channel of hydropower projects. The phenomenon\n",
    "also occurs to some extent when there is flooding (unsteady flow) in channels and the hydrograph significantly varies as the rainfall inputs change. The flood wave speed generated during the positive or negative surges is called the celerity (wave velocity).\n",
    "\n",
    "The analysis of surge waves matters in the design of canals, especially for the hydropower & irrigation projects they play a vital role for the design of the canals. The design depth of the\n",
    "flow in the canals during the surges must be able to accommodate the required discharge\n",
    "accumulated during the propagation of the surges in downstream or upstream of the canals. Typically\n",
    "the designer specifies enough free board in the canals to accommodate the additional height of the surges in addition to the normal depth of the canal flow.\n",
    "\n",
    "\n",
    "## Definitions\n",
    "\n",
    "A sketch of typical surge wave is\n",
    "\n",
    "![](surge-diagram.png)\n",
    "\n",
    "The positive or negative surge travels downstream or upstream depending on the situation.\n",
    "The increase in flow depth would become the crest of the surges and the decrease in the flow depth\n",
    "would become the trough of the surges. \n",
    "\n",
    "The phenomenon is an unsteady flow situation, but in many practical instances can be analyzed as a steady flow situation by switching from an inertial fixed reference frame (Euler), to a moving reference frame (LaGrange) fixed on some part of the surge wave.  With the moving reference frame, the surge appears as a standing wave (like a hydraulic jump).\n",
    "\n",
    "![](standingwave.png)\n",
    "\n",
    "\n",
    "The speed of the wave is related to the depth of flow and the velocity $c=\\sqrt{gy} \\pm V$\n",
    "\n",
    "A continunity across the surge (CV moving at the surge velocity) is\n",
    "\n",
    "$$ (V_1+V_S)A_1 = (V_2+V_S)A_2 $$\n",
    "\n",
    "Solving for the surge velocity, (setting $V_2 =0$)\n",
    "\n",
    "$$ V_S = \\frac{V_1 A_1}{A_2 - A_1} $$\n",
    "\n",
    "The momentum balance for the same situation is\n",
    "\n",
    "$$ \\frac{(V_1+V_S)^2}{g~A_1} = \\frac{1}{2}\\frac{A_2}{A_1}(1+\\frac{A_2}{A_1}) $$\n",
    "\n",
    "For a rectangular channel, the areas $A_i$ can be replaced with the flow depths $y_i$ to obtain equations identical to the book."
   ]
  },
  {
   "cell_type": "markdown",
   "metadata": {},
   "source": [
    "## Example\n",
    "\n",
    "A rectangular tailrace channel of hydropower project, $15~m$ wide having bed slope $0.0002$ and\n",
    "manning roughness coefficient of $n= 0.017$ conveys a steady discharge of $45~\\frac{m^3}{s}$ from the hydropower installation. A power increase results from a sudden increase in flow to the turbines to $100~\\frac{m^3}{s}$.\n",
    "\n",
    "Estimate the depth and celerity of the resulting surge wave in the tailrace channel.\n",
    "\n",
    "![](powerchannel.png)\n",
    "\n",
    "In this example, $V_2$ is associated with the $45~\\frac{m^3}{s}$ flow and $V_1$ is associated with the $100~\\frac{m^3}{s}$\n",
    "\n",
    "First apply Manning's equation to the $Q_2$ side of the tailrace, a safe bet being that before the change on output power that channel had already equilibrated to the flow and would be running at normal depth."
   ]
  },
  {
   "cell_type": "code",
   "execution_count": 1,
   "metadata": {},
   "outputs": [
    {
     "name": "stdout",
     "output_type": "stream",
     "text": [
      "Discharge : 45.005  m^3/s\n",
      "Velocity :  1.243  m/s\n"
     ]
    }
   ],
   "source": [
    "# \n",
    "Snot = 0.0002\n",
    "B = 15.0\n",
    "n = 0.017\n",
    "Qtarget = 45.0\n",
    "\n",
    "def Qm(B,Y,N,S):\n",
    "    Qm = (1/N)*(B*Y)*((B*Y/(B+2*Y))**(2/3))*S**(1/2)\n",
    "    return(Qm)\n",
    "\n",
    "#yguess = 2.5  #trial-n-error\n",
    "#yguess = 2.45  #trial-n-error\n",
    "#yguess = 2.40  #trial-n-error\n",
    "#yguess = 2.41  #trial-n-error\n",
    "#yguess = 2.415  #trial-n-error\n",
    "yguess = 2.414  #trial-n-error\n",
    "\n",
    "print(\"Discharge :\",round(Qm(B,yguess,n,Snot),3),\" m^3/s\")\n",
    "print(\"Velocity : \",round(Qm(B,yguess,n,Snot)/(B*yguess),3),\" m/s\")\n"
   ]
  },
  {
   "cell_type": "markdown",
   "metadata": {},
   "source": [
    "So now we have the downstream depth value and velocity\n",
    "\n",
    "Apply equation 3.16 in the book (or the above equations for rectangular channel).  Notice the sign change because relative velocities on upstream side appear to add to the moving observer and subtract on the downstream side (this is a negative surge)\n",
    "\n",
    "$$ (V_1+V_S)(y_1*15.0) = (1.243+V_S)(2.414*15.0) $$\n",
    "\n",
    "Now substitute the velocity representation\n",
    "\n",
    "$$ (\\frac{100}{y_1*15}+V_S)(y_1*15.0) = (1.243+V_S)(2.414*15.0) $$\n",
    "\n",
    "We can solve for $V_S$\n",
    "\n",
    "$$ V_S = \\frac{(\\frac{100}{y_1*15}(y_1*15) - 1.243*2.414*15)}{1.243*2.414*15 - (y_1*15)} =  $$\n",
    "\n",
    "So thats one equation, two unknowns - next use momentum in the same way.  First momentum for the (moving) CV.\n",
    "\n",
    "$$  (\\rho~g~ \\frac{1}{2}~y^2_1 B) + \\rho Q~V_1 = (\\rho~g~ \\frac{1}{2}~y^2_2 B) + \\rho Q~V_2$$\n",
    "\n",
    "Next substitute known values\n",
    "\n",
    "$$  (\\rho~g~ \\frac{15}{2}~y^2_1) + \\rho~100~(\\frac{100}{y_1*15}+V_S) = (\\rho~g~ \\frac{15}{2}~(2.414)^2) + \\rho~ 45*(1.243+V_S)$$\n",
    "\n",
    "Divide by specific weight\n",
    "\n",
    "$$  (\\frac{15}{2}~y^2_1) + \\frac{100}{g}~(\\frac{100}{y_1*15}+V_S) = (\\frac{15}{2}~(2.414)^2) + \\frac{ 45}{g}*(1.243+V_S)$$\n",
    "\n",
    "\n",
    "Now either solve the two simultaneously, or substitute $V_S$ into momentum.\n",
    "\n",
    "A trial-and-error approach is:"
   ]
  },
  {
   "cell_type": "code",
   "execution_count": 2,
   "metadata": {},
   "outputs": [
    {
     "name": "stdout",
     "output_type": "stream",
     "text": [
      "y1 : 2.945  y2 : 2.414\n",
      "V1 : 2.264  V2 : 1.243\n",
      "Wave speed : -6.905  m/s\n",
      "Continunity Error : 0.0\n",
      "Momentum Error : 0.003\n"
     ]
    }
   ],
   "source": [
    "# Guess Vs each equation, find the y values.  Stop when all satisfied.\n",
    "\n",
    "def VS(y1,y2,V1,V2):\n",
    "    VS = (V1*y1-V2*y2)/(y2-y1)\n",
    "    return(VS)\n",
    "\n",
    "Q1 = 100\n",
    "Q2 = 45\n",
    "\n",
    "y1 = 2.945 #<<<< Guess This Value\n",
    "y2 = 2.414\n",
    "B = 15\n",
    "V1 = Q1/(y1*B)\n",
    "V2 = Q2/(y2*B)\n",
    "g = 9.81\n",
    "\n",
    "print(\"y1 :\",y1,\" y2 :\",y2)\n",
    "print(\"V1 :\",round(V1,3),\" V2 :\",round(V2,3))\n",
    "\n",
    "Vs = VS(y1,y2,V1,V2)\n",
    "\n",
    "print(\"Wave speed :\",round(Vs,3),\" m/s\") # <<<< Get this value\n",
    "\n",
    "def C1(y1,y2,V1,V2,VS,B):\n",
    "    C1 = (V1+VS)*(y1*B) - (V2+VS)*(y2*B)\n",
    "    return(C1)\n",
    "\n",
    "print(\"Continunity Error :\",round(C1(y1,y2,V1,V2,Vs,B),3))\n",
    "\n",
    "def M1(y1,y2,V1,V2,VS,Q1,Q2,B,g):\n",
    "    M1 = (B/2)*(y1**2)+(Q1/g)*(V1+VS) - ((B/2)*(y2**2)+(Q2/g)*(V2+VS))\n",
    "    return(M1)\n",
    "    \n",
    "print(\"Momentum Error :\",round(M1(y1,y2,V1,V2,Vs,Q1,Q2,B,g),3))"
   ]
  },
  {
   "cell_type": "markdown",
   "metadata": {},
   "source": [
    "So for the case depicted the wave speed is $-6 m/s$ (a negative surge), and the upstream flow depth is $2.95~m$ so if this is a typical power change, we would want the tail race to have the ability to convey the flow without overtopping."
   ]
  },
  {
   "cell_type": "markdown",
   "metadata": {},
   "source": [
    "## Example 3.2 (from Book)\n",
    "\n",
    "Steady flow in a rectangular channel with velocity $1 m/s$ and depth $3.0 m$ is stopped suddenly by a sluice gate (or landslide!) closure.  What are the height and speed of the upstream surge?\n",
    "\n",
    "Here we just reuse code:"
   ]
  },
  {
   "cell_type": "code",
   "execution_count": 3,
   "metadata": {},
   "outputs": [
    {
     "name": "stdout",
     "output_type": "stream",
     "text": [
      "y1 : 3.0  y2 : 3.578\n",
      "V1 : 1.0  V2 : 0.0\n",
      "Wave speed : 5.19  m/s\n",
      "Continunity Error : 0.0\n",
      "Momentum Error : -0.008\n"
     ]
    }
   ],
   "source": [
    "def VS(y1,y2,V1,V2):\n",
    "    VS = (V1*y1-V2*y2)/(y2-y1)\n",
    "    return(VS)\n",
    "\n",
    "y1 = 3.0 \n",
    "y2 = 3.578 # <<<< Guess this value\n",
    "B = 1\n",
    "Q1 = y1*B\n",
    "Q2 = 0.0 # <<< Given\n",
    "V1 = Q1/(y1*B)\n",
    "V2 = Q2/(y2*B)\n",
    "g = 9.81\n",
    "\n",
    "print(\"y1 :\",y1,\" y2 :\",y2)\n",
    "print(\"V1 :\",round(V1,3),\" V2 :\",round(V2,3))\n",
    "\n",
    "Vs = VS(y1,y2,V1,V2)\n",
    "\n",
    "print(\"Wave speed :\",round(Vs,3),\" m/s\") # <<<< Get this value\n",
    "\n",
    "def C1(y1,y2,V1,V2,VS,B):\n",
    "    C1 = (V1+VS)*(y1*B) - (V2+VS)*(y2*B)\n",
    "    return(C1)\n",
    "\n",
    "print(\"Continunity Error :\",round(C1(y1,y2,V1,V2,Vs,B),3))\n",
    "\n",
    "def M1(y1,y2,V1,V2,VS,Q1,Q2,B,g):\n",
    "    M1 = (B/2)*(y1**2)+(Q1/g)*(V1+VS) - ((B/2)*(y2**2)+(Q2/g)*(V2+VS))\n",
    "    return(M1)\n",
    "    \n",
    "print(\"Momentum Error :\",round(M1(y1,y2,V1,V2,Vs,Q1,Q2,B,g),3))"
   ]
  },
  {
   "cell_type": "markdown",
   "metadata": {},
   "source": [
    "The answer agrees with the values in the textbook!"
   ]
  },
  {
   "cell_type": "markdown",
   "metadata": {},
   "source": [
    "## References"
   ]
  },
  {
   "cell_type": "markdown",
   "metadata": {},
   "source": []
  },
  {
   "cell_type": "markdown",
   "metadata": {},
   "source": []
  },
  {
   "cell_type": "code",
   "execution_count": null,
   "metadata": {},
   "outputs": [],
   "source": []
  }
 ],
 "metadata": {
  "kernelspec": {
   "display_name": "Python 3",
   "language": "python",
   "name": "python3"
  },
  "language_info": {
   "codemirror_mode": {
    "name": "ipython",
    "version": 3
   },
   "file_extension": ".py",
   "mimetype": "text/x-python",
   "name": "python",
   "nbconvert_exporter": "python",
   "pygments_lexer": "ipython3",
   "version": "3.8.10"
  }
 },
 "nbformat": 4,
 "nbformat_minor": 4
}