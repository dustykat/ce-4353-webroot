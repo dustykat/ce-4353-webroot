{
 "cells": [
  {
   "cell_type": "markdown",
   "metadata": {},
   "source": [
    "# Rectangular Cross Sections\n",
    "\n",
    "The momentum balance can be rearranged to yield the depth ratio:\n",
    "\n",
    "$$\\frac{y_2}{y_1} = \\frac{1}{2} [\\sqrt{1 + 8 Fr_1^2} - 1]$$\n",
    "\n",
    "Across the jump $E_1 \\ne E_2$ and head loss is greater than zero.\n",
    "\n",
    "\n",
    "$$h_L = E_1 - E_2 = (y_1+\\frac{V_1^2}{2g})-(y_2+\\frac{V_2^2}{2g})$$\n",
    "\n",
    "## Trapezoidal Cross Sections\n",
    "\n",
    "Figure 3.2 plots the depth ratios\n",
    "\n",
    "![](trapdepthratio.png)\n",
    "\n",
    "## Circular Cross Sections\n",
    "\n",
    "Figure 3.3 plots the depth ratios\n",
    "\n",
    "![](circledepthratio.png)\n",
    "\n",
    "## Other Sections\n",
    "\n",
    "There are no simple equations for the depth ratios for non-rectangular shapes, however the $M_1=M_2$ relationship holds, so it is simple enough to use computation methods to find the alternate and sequent depths in any geometry \n",
    "\n",
    "1. Compute critical depth for the section.\n",
    "2. Alternate depth will be smaller, and Fr larger than 1.\n",
    "3. Sequent depth will be larger, and Fr less than 1.\n",
    "\n",
    "## Examples\n",
    "\n",
    "\n",
    "## References"
   ]
  },
  {
   "cell_type": "code",
   "execution_count": null,
   "metadata": {},
   "outputs": [],
   "source": []
  }
 ],
 "metadata": {
  "kernelspec": {
   "display_name": "Python 3",
   "language": "python",
   "name": "python3"
  },
  "language_info": {
   "codemirror_mode": {
    "name": "ipython",
    "version": 3
   },
   "file_extension": ".py",
   "mimetype": "text/x-python",
   "name": "python",
   "nbconvert_exporter": "python",
   "pygments_lexer": "ipython3",
   "version": "3.8.10"
  }
 },
 "nbformat": 4,
 "nbformat_minor": 4
}