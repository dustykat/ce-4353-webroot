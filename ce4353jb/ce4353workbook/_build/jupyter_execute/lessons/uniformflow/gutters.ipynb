{
 "cells": [
  {
   "cell_type": "markdown",
   "metadata": {},
   "source": [
    "# Gutter Flow and Gravity Sewer Design\n",
    "\n",
    "Curb and gutters on transportation infrastructure (streets, bridges, highways, ...) conveys runoff parallel to the travel paths to inlets, which collect the flow and convey it to storm sewer systems (or ditches)\n",
    "\n",
    "![](gutterflowintro.png)\n",
    "\n",
    "[Pavement Drainage (Texas Hydraulics Manual 2019)](http://onlinemanuals.txdot.gov/txdotmanuals/hyd/pavement_drainage.htm)\n",
    "\n",
    "## Gutter Geometry\n",
    "\n",
    "![](guttergeometry.png) ![](gutterterms.png)\n",
    "\n",
    "More in the link below under inlets\n",
    "\n",
    "## Inlets\n",
    "\n",
    "![](inlettypes.png)\n",
    "\n",
    "[Inlet (Texas Hydraulics Manual 2019)](http://onlinemanuals.txdot.gov/txdotmanuals/hyd/storm_drain_inlets.htm)\n",
    "\n",
    "[Gutter and Inlet Equations (Texas Hydraulics Manual 2019)](http://onlinemanuals.txdot.gov/txdotmanuals/hyd/gutter_and_inlet_equations.htm)\n",
    "\n",
    "Inlets of various types to collect stormwater and deliver to drainage infrastructure [Cleveland, T.G. (2020) *Water Systems Design (Storm Sewers, Inlets, and Conduits) to accompany CE-3372*, Department of Civil, Environmental, and Construction Engineering, Whitacre College of Engineering.](http://54.243.252.9/ce-3372-webroot/1-Lessons/Lesson16/PowerPointInLecture/CE3372-Lesson-16.key.pdf)\n",
    "\n",
    "## Tools(Spreadsheets)\n",
    "\n",
    "The spreadsheets below implement the inlet equations described in [Gutter and Inlet Equations (Texas Hydraulics Manual 2019)](http://onlinemanuals.txdot.gov/txdotmanuals/hyd/gutter_and_inlet_equations.htm).\n",
    "\n",
    "The spreadhseets should work as-is in Excel 2014 and older, you may have to jack with them a bit in newer Excel.  They work fine in LibreOffice.\n",
    "\n",
    "1. [Curb Inlet on Grade](http://54.243.252.9/ce-4353-webroot/ce4353jb/ce4353workbook/lessons/uniformflow/HDM-CurbInletOnGrade.xlsx)\n",
    "2. [Grate Inlet on Grade](http://54.243.252.9/ce-4353-webroot/ce4353jb/ce4353workbook/lessons/uniformflow/HDM-GrateOnGrade.xlsx)\n",
    "3. [Slot Inlet on Grade](http://54.243.252.9/ce-4353-webroot/ce4353jb/ce4353workbook/lessons/uniformflow/HDM-SlotOnGrade.xlsx)\n",
    "4. [Curb Inlet in Sag](http://54.243.252.9/ce-4353-webroot/ce4353jb/ce4353workbook/lessons/uniformflow/HDM-CurbOnSag.xlsx)\n",
    "5. [Grate Inlet in Sag](http://54.243.252.9/ce-4353-webroot/ce4353jb/ce4353workbook/lessons/uniformflow/HDM-GrateOnSag.xlsx)\n",
    "6. [Median Inlet in Sag](http://54.243.252.9/ce-4353-webroot/ce4353jb/ce4353workbook/lessons/uniformflow/HDM-MedianGrateSag.xlsx)\n",
    "7. [Example Calculations to accompany CE-3372 notes above](http://54.243.252.9/ce-4353-webroot/ce4353jb/ce4353workbook/lessons/uniformflow/InletCapacityCalculations.xlsx)\n",
    "\n"
   ]
  },
  {
   "cell_type": "markdown",
   "metadata": {},
   "source": [
    "## Gravity Sewers\n",
    "\n",
    "[Conduit Design Procedure (Taxes Hydraulics Manual 2019)](http://onlinemanuals.txdot.gov/txdotmanuals/hyd/conduit_systems.htm#QBDUPXXE)\n",
    "\n",
    "### Example 4.6\n",
    "Find the discharge capacity of a 24-inch diameter PVC storm sewer flowing at 80\\% fill ratio, if the sewer slope is 0.003.\n",
    "\n",
    "#### Solution\n",
    "Use techniques in textbook, or as alternative the following.\n",
    "\n",
    "1. [Manning's n for PVC (source of values below)](https://www.conteches.com/pipe-article/article/7/hydraulics-for-gravity-sewer-pipe-a-few-things-to-consider)  \n",
    "\n",
    "![](manningsNpvc.png)  or\n",
    "\n",
    "2. [Manning's n Database (http://54.243.252.9/)](http://54.243.252.9/toolbox/Databases/ManningN/ManningsN.html)  \n",
    "\n",
    "![](manningsNwebster.png)\n",
    "\n",
    "2. Now just reuse code"
   ]
  },
  {
   "cell_type": "code",
   "execution_count": 1,
   "metadata": {},
   "outputs": [
    {
     "name": "stdout",
     "output_type": "stream",
     "text": [
      "Estimated Discharge 17.54  CFS\n"
     ]
    }
   ],
   "source": [
    "# prototype functions\n",
    "\n",
    "def area(theta,diameter):\n",
    "    import math\n",
    "    area=(1/8)*(theta-math.sin(theta))*diameter**2\n",
    "    return(area)\n",
    "\n",
    "def topw(theta,diameter):\n",
    "    import math\n",
    "    topw=diameter*math.sin(theta/2)\n",
    "    return(topw)\n",
    "\n",
    "def perimeter(theta,diameter):\n",
    "    perimeter = diameter*theta/2\n",
    "    return(perimeter)\n",
    "\n",
    "def angle(depth,diameter):\n",
    "    import math\n",
    "    angle=2*math.acos(1-2*depth/diameter)\n",
    "    return(angle)\n",
    "\n",
    "def Qman(Kn,n,A,R,S):\n",
    "    Qman=(Kn/n)*(A)*(R**(2/3))*(S**(1/2))\n",
    "    return(Qman)\n",
    "\n",
    "# Our problem\n",
    "n = 0.009 # https://www.conteches.com/pipe-article/article/7/hydraulics-for-gravity-sewer-pipe-a-few-things-to-consider\n",
    "diameter = 24 #inches\n",
    "D = diameter/12 #inches to feets\n",
    "fillratio = 80 # percent\n",
    "y = D*fillratio/100 #y in feets (unit conversions embedded in formula)\n",
    "#print(round(y/D,3))  # check work, suppress for the money shot\n",
    "slope = 0.003\n",
    "\n",
    "theta = angle(y,D)\n",
    "A = area(theta,D)\n",
    "P = perimeter(theta,D)\n",
    "R = A/P\n",
    "Qcap = Qman(1.49,n,A,R,slope)\n",
    "\n",
    "print('Estimated Discharge',round(Qcap,2),' CFS')"
   ]
  },
  {
   "cell_type": "markdown",
   "metadata": {},
   "source": [
    "3. Compare our answer of 17.54 CFS, to the book result of 17.5 CFS.  In this case the same, but textbook used a more rigorous approach involving friction factors.  Typically one would expect similar results in most applications - using the mighty internet, defendible Manning's n values are practically unlimited."
   ]
  },
  {
   "cell_type": "markdown",
   "metadata": {},
   "source": [
    "### Example 4.7\n",
    "\n",
    "Find the concrete sewer (n=0.015) diameter required to carry a maximum discharge of 10.0 CFS on a slope of 0.003.  Minimum discharge is anticipated to be 2.5 cfs.  Check for self-cleansing critical velocity adherence.\n",
    "\n",
    "#### Solution\n",
    "\n",
    "1. Use $\\frac{y}{D} = 0.8$ as design fill ratio.\n",
    "2. Guess a diameter (use the code above) and increment diameter until can get the design discharge.  Round up to nearest commercial diameter.\n"
   ]
  },
  {
   "cell_type": "code",
   "execution_count": 2,
   "metadata": {},
   "outputs": [
    {
     "name": "stdout",
     "output_type": "stream",
     "text": [
      "Estimated Discharge 10.0  CFS\n"
     ]
    }
   ],
   "source": [
    "# prototype functions\n",
    "\n",
    "def area(theta,diameter):\n",
    "    import math\n",
    "    area=(1/8)*(theta-math.sin(theta))*diameter**2\n",
    "    return(area)\n",
    "\n",
    "def topw(theta,diameter):\n",
    "    import math\n",
    "    topw=diameter*math.sin(theta/2)\n",
    "    return(topw)\n",
    "\n",
    "def perimeter(theta,diameter):\n",
    "    perimeter = diameter*theta/2\n",
    "    return(perimeter)\n",
    "\n",
    "def angle(depth,diameter):\n",
    "    import math\n",
    "    angle=2*math.acos(1-2*depth/diameter)\n",
    "    return(angle)\n",
    "\n",
    "def Qman(Kn,n,A,R,S):\n",
    "    Qman=(Kn/n)*(A)*(R**(2/3))*(S**(1/2))\n",
    "    return(Qman)\n",
    "\n",
    "# Our problem\n",
    "n = 0.015 # https://www.conteches.com/pipe-article/article/7/hydraulics-for-gravity-sewer-pipe-a-few-things-to-consider\n",
    "diameter = 23.545 #inches <<< Guess this value\n",
    "D = diameter/12 #inches to feets\n",
    "fillratio = 80 # percent\n",
    "y = D*fillratio/100 #y in feets (unit conversions embedded in formula)\n",
    "#print(round(y/D,3))  # check work, suppress for the money shot\n",
    "slope = 0.003\n",
    "\n",
    "theta = angle(y,D)\n",
    "A = area(theta,D)\n",
    "P = perimeter(theta,D)\n",
    "R = A/P\n",
    "Qcap = Qman(1.49,n,A,R,slope)\n",
    "\n",
    "print('Estimated Discharge',round(Qcap,2),' CFS')"
   ]
  },
  {
   "cell_type": "markdown",
   "metadata": {},
   "source": [
    "23.545 inches, nearest commerical is 24-inch, so specify that value.\n",
    "\n",
    "3. Now compute y for 10 CFS and 2.5 CFS in this pipe"
   ]
  },
  {
   "cell_type": "code",
   "execution_count": 3,
   "metadata": {},
   "outputs": [
    {
     "name": "stdout",
     "output_type": "stream",
     "text": [
      "Estimated Discharge 10.0  CFS\n",
      "Hydraulic Radius 0.605\n",
      "Critical Velocity 0.819\n",
      "Section Velocity 3.893\n"
     ]
    }
   ],
   "source": [
    "# 10CFS\n",
    "n = 0.015 # https://www.conteches.com/pipe-article/article/7/hydraulics-for-gravity-sewer-pipe-a-few-things-to-consider\n",
    "diameter = 24 #inches \n",
    "depth = 18.29 #inches <<< Guess this value\n",
    "y=depth/12\n",
    "D = diameter/12 #inches to feets\n",
    "fillratio = 80 # percent\n",
    "#y = D*fillratio/100 #y in feets (unit conversions embedded in formula)\n",
    "#print(round(y/D,3))  # check work, suppress for the money shot\n",
    "slope = 0.003\n",
    "\n",
    "theta = angle(y,D)\n",
    "A = area(theta,D)\n",
    "P = perimeter(theta,D)\n",
    "R = A/P\n",
    "Qcap = Qman(1.49,n,A,R,slope)\n",
    "\n",
    "print('Estimated Discharge',round(Qcap,2),' CFS')\n",
    "print('Hydraulic Radius',round(R,3))\n",
    "Vcrit = (R/D)**(1/6)\n",
    "print('Critical Velocity',round(Vcrit,3))\n",
    "print('Section Velocity',round(Qcap/A,3))"
   ]
  },
  {
   "cell_type": "code",
   "execution_count": 4,
   "metadata": {},
   "outputs": [
    {
     "name": "stdout",
     "output_type": "stream",
     "text": [
      "Estimated Discharge 2.5  CFS\n",
      "Hydraulic Radius 0.368\n",
      "Critical Velocity 0.754\n",
      "Section Velocity 2.791\n"
     ]
    }
   ],
   "source": [
    "# 2.5CFS\n",
    "n = 0.015 # https://www.conteches.com/pipe-article/article/7/hydraulics-for-gravity-sewer-pipe-a-few-things-to-consider\n",
    "diameter = 24 #inches \n",
    "depth = 7.87 #inches <<< Guess this value\n",
    "y = depth/12\n",
    "D = diameter/12 #inches to feets\n",
    "fillratio = 80 # percent\n",
    "#y = D*fillratio/100 #y in feets (unit conversions embedded in formula)\n",
    "#print(round(y/D,3))  # check work, suppress for the money shot\n",
    "slope = 0.003\n",
    "\n",
    "theta = angle(y,D)\n",
    "A = area(theta,D)\n",
    "P = perimeter(theta,D)\n",
    "R = A/P\n",
    "Qcap = Qman(1.49,n,A,R,slope)\n",
    "\n",
    "print('Estimated Discharge',round(Qcap,2),' CFS')\n",
    "print('Hydraulic Radius',round(R,3))\n",
    "Vcrit = (R/D)**(1/6)\n",
    "print('Critical Velocity',round(Vcrit,3))\n",
    "print('Section Velocity',round(Qcap/A,3))"
   ]
  },
  {
   "cell_type": "markdown",
   "metadata": {},
   "source": [
    "4. Now check the critical cleansing velocities,  at the two discharges the section velocity is larger than the critical velocity, so these sewers should have acceptable self-cleansing properties."
   ]
  },
  {
   "cell_type": "code",
   "execution_count": null,
   "metadata": {},
   "outputs": [],
   "source": []
  }
 ],
 "metadata": {
  "kernelspec": {
   "display_name": "Python 3",
   "language": "python",
   "name": "python3"
  },
  "language_info": {
   "codemirror_mode": {
    "name": "ipython",
    "version": 3
   },
   "file_extension": ".py",
   "mimetype": "text/x-python",
   "name": "python",
   "nbconvert_exporter": "python",
   "pygments_lexer": "ipython3",
   "version": "3.8.10"
  }
 },
 "nbformat": 4,
 "nbformat_minor": 4
}