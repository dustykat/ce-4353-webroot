{
 "cells": [
  {
   "cell_type": "code",
   "execution_count": 9,
   "metadata": {},
   "outputs": [
    {
     "name": "stdout",
     "output_type": "stream",
     "text": [
      "\n",
      "\u001b[92m===============================================================================\u001b[0m\n",
      "\n",
      "Your _build directory has been emptied except for .jupyter_cache\n",
      "\n",
      "\u001b[92m===============================================================================\u001b[0m\n",
      "\n"
     ]
    }
   ],
   "source": [
    "! jupyter-book clean ce4353workbook/"
   ]
  },
  {
   "cell_type": "code",
   "execution_count": null,
   "metadata": {},
   "outputs": [
    {
     "name": "stdout",
     "output_type": "stream",
     "text": [
      "\u001b[32m\u001b[1mRunning Jupyter-Book v0.12.0\u001b[0m\n",
      "\u001b[34m\u001b[1mSource Folder: \u001b[0m/home/sensei/ce-4353-webroot/ce4353jb/ce4353workbook\n",
      "\u001b[34m\u001b[1mConfig Path: \u001b[0m/home/sensei/ce-4353-webroot/ce4353jb/ce4353workbook/_config.yml\n",
      "\u001b[34m\u001b[1mOutput Path: \u001b[0m/home/sensei/ce-4353-webroot/ce4353jb/ce4353workbook/_build/html\n",
      "\u001b[01mRunning Sphinx v3.5.2\u001b[39;49;00m\n",
      "[etoc] Changing master_doc to 'intro'\n",
      "\u001b[01mloading pickled environment... \u001b[39;49;00mchecking for /home/sensei/ce-4353-webroot/ce4353jb/ce4353workbook/references.bib in bibtex cache... up to date\n",
      "done\n",
      "\u001b[01mmyst v0.15.2:\u001b[39;49;00m MdParserConfig(renderer='sphinx', commonmark_only=False, enable_extensions=['colon_fence', 'dollarmath', 'linkify', 'substitution', 'tasklist'], dmath_allow_labels=True, dmath_allow_space=True, dmath_allow_digits=True, dmath_double_inline=False, update_mathjax=True, mathjax_classes='tex2jax_process|mathjax_process|math|output_area', disable_syntax=[], url_schemes=['mailto', 'http', 'https'], heading_anchors=None, heading_slug_func=None, html_meta=[], footnote_transition=True, substitutions=[], sub_delimiters=['{', '}'], words_per_minute=200)\n",
      "\u001b[01mbuilding [mo]: \u001b[39;49;00mtargets for 0 po files that are out of date\n",
      "\u001b[01mbuilding [html]: \u001b[39;49;00mtargets for 1 source files that are out of date\n",
      "\u001b[01mupdating environment: \u001b[39;49;00m1 added, 3 changed, 0 removed\n",
      "Executing: lessons/graduallyvariedflow/wspfixeddepth in: /home/sensei/ce-4353-webroot/ce4353jb/ce4353workbook/lessons/graduallyvariedflow\n",
      "Executing: lessons/hecras/hecras in: /home/sensei/ce-4353-webroot/ce4353jb/ce4353workbook/lessons/hecras        \n",
      "Executing: lessons/hecras/homebrewtohecras in: /home/sensei/ce-4353-webroot/ce4353jb/ce4353workbook/lessons/hecras\n",
      "\n",
      "\u001b[91m/home/sensei/ce-4353-webroot/ce4353jb/ce4353workbook/lessons/graduallyvariedflow/wspfixeddepth.ipynb:: WARNING: image file not readable: lessons/graduallyvariedflow/bw_curve1.png\u001b[39;49;00m\n",
      "\u001b[91m/home/sensei/ce-4353-webroot/ce4353jb/ce4353workbook/lessons/graduallyvariedflow/wspfixeddepth.ipynb:: WARNING: image file not readable: lessons/graduallyvariedflow/bw_curve2.png\u001b[39;49;00m\n",
      "\u001b[01mlooking for now-outdated files... \u001b[39;49;00mnone found\n",
      "\u001b[01mpickling environment... \u001b[39;49;00mdone\n",
      "\u001b[01mchecking consistency... \u001b[39;49;00mdone\n",
      "\u001b[01mpreparing documents... \u001b[39;49;00mdone\n",
      "\u001b[01mwriting output... \u001b[39;49;00m[ 60%] \u001b[32mlessons/graduallyvariedflow/wspfixeddepth\u001b[39;49;00m              \r"
     ]
    }
   ],
   "source": [
    "! jupyter-book build ce4353workbook/"
   ]
  },
  {
   "cell_type": "code",
   "execution_count": null,
   "metadata": {},
   "outputs": [],
   "source": []
  },
  {
   "cell_type": "code",
   "execution_count": null,
   "metadata": {},
   "outputs": [],
   "source": []
  }
 ],
 "metadata": {
  "kernelspec": {
   "display_name": "Python 3",
   "language": "python",
   "name": "python3"
  },
  "language_info": {
   "codemirror_mode": {
    "name": "ipython",
    "version": 3
   },
   "file_extension": ".py",
   "mimetype": "text/x-python",
   "name": "python",
   "nbconvert_exporter": "python",
   "pygments_lexer": "ipython3",
   "version": "3.8.10"
  }
 },
 "nbformat": 4,
 "nbformat_minor": 4
}
