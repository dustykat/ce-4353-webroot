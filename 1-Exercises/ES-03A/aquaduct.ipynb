{
 "cells": [
  {
   "cell_type": "code",
   "execution_count": null,
   "metadata": {},
   "outputs": [],
   "source": []
  },
  {
   "cell_type": "markdown",
   "metadata": {},
   "source": []
  },
  {
   "cell_type": "markdown",
   "metadata": {},
   "source": [
    "---\n",
    "\n",
    "Problem 1\n",
    "\n",
    "Determine the normal depth for a 5 meter wide rectangular channel with profile grade (bottom slope) $S_0=0.001$ and Manning's $n= 0.013$."
   ]
  },
  {
   "cell_type": "markdown",
   "metadata": {},
   "source": [
    "---\n",
    "\n",
    "Problem 2\n",
    "\n",
    "An engineered channel with cross section shown in Figure XX has a discharge of 150 cubic meters per second.  The slope of the channel bottom is $S_0=0.002$ and Manning's $n=0.03$.  Determine the normal depth in the channel, and the Froude number in the channel at normal depth. \n",
    "![](trapezoid.png)"
   ]
  },
  {
   "cell_type": "markdown",
   "metadata": {},
   "source": [
    "--- \n",
    "\n",
    "Problem 3\n",
    "\n",
    "Figure XX is a photograph of the Pont du Gard; an ancient Roman aqueduct bridge built in the first century AD to carry water over 50 km (31 mi) to the Roman colony of Nemausus (Nîmes). It crosses the river Gardon near the town of Vers-Pont-du-Gard in southern France. The Pont du Gard is the highest of all Roman aqueduct bridges, as well as one of the best preserved.  \n",
    "\n",
    "![](pontdugard.png)\n",
    "\n",
    "Figure XX is a schematic map of the Roman Aqueduct layout (plan view, not-to-scale).\n",
    "\n",
    "![](overviewmap.png)\n",
    "\n",
    "Figure XX is an elevation view sketch of the aquaduct showing the relative positions of the origin and terminus of the feature, profile grades (bottom slopes) and approximate land surface elevation and aquedict elevations (in meters).  The Pont du Gard bridge begins roughly at the slope change from 0.67 to 0.07.  \n",
    "\n",
    "![](elevationview.png)\n",
    "\n",
    "The various channel cross sections are shown in Figure XX.  The \"subterranean channel\" portion is roughly the 24 kilometer section terminating at Nimes.  The portion upstream of the Pont du Gard crossing is represented by the \"elevated channel\" cross section drawing, whereas the \"Pont du Gard channel\" represents the middle 10 kilometer porton of the aqueduct.\n",
    "\n",
    "![](crosssectionspr1.png)\n",
    "\n",
    "Assuming Manning's $n=0.0125$ for the channel portions, compute the normal depth in different segments for flows ranging from 100 to 450 liters per second in 25 lps increments, to complete the table below.\n",
    "\n",
    "|Discharge (lps)|Elevated Channel Section ($S_0=0.67$)|Pont du Gard Section ($S_0=0.07$)|Subterranean Section ($S_0=0.17$)|Subterranean Section ($S_0=0.30$)|\n",
    "|:---|:---|:---|:---|:---|\n",
    "|100 ||||\n",
    "|125 ||||\n",
    "|150 ||||\n",
    "|175 ||||\n",
    "|200 ||||\n",
    "|225 ||||\n",
    "|250 ||||\n",
    "|275 ||||\n",
    "|300 ||||\n",
    "|325 ||||\n",
    "|350 ||||\n",
    "|375 ||||\n",
    "|400 ||||\n",
    "|425 ||||\n",
    "|450 ||||\n"
   ]
  },
  {
   "cell_type": "code",
   "execution_count": null,
   "metadata": {},
   "outputs": [],
   "source": []
  }
 ],
 "metadata": {
  "kernelspec": {
   "display_name": "Python 3",
   "language": "python",
   "name": "python3"
  },
  "language_info": {
   "codemirror_mode": {
    "name": "ipython",
    "version": 3
   },
   "file_extension": ".py",
   "mimetype": "text/x-python",
   "name": "python",
   "nbconvert_exporter": "python",
   "pygments_lexer": "ipython3",
   "version": "3.8.10"
  }
 },
 "nbformat": 4,
 "nbformat_minor": 4
}
