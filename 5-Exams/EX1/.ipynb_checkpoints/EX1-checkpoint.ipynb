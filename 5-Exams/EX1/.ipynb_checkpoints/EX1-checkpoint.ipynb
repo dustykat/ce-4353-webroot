{
 "cells": [
  {
   "cell_type": "markdown",
   "metadata": {},
   "source": [
    "**Download** (right-click, save target as ...) this page as a Jupyterlab notebook from: [EX-1](http://54.243.252.9/ce-4353-webroot/5-Exams/EX1/EX1.ipynb)\n",
    "\n",
    "___"
   ]
  },
  {
   "cell_type": "markdown",
   "metadata": {},
   "source": [
    "# <font color=darkblue>CE 4353/5360 Design of Hydraulic Systems <br> Fall 2022 Exam 1</font>\n",
    "\n",
    "**LAST NAME, FIRST NAME**\n",
    "\n",
    "**R00000000**\n",
    "\n",
    "___\n",
    "\n",
    "### Purpose : \n",
    "Demonstrate ability to apply oen channel hydraulic design principles to ....\n",
    "\n",
    "### Additional Instructions\n",
    "\n",
    "The test is intended to be completed by downloading the JupyterLab Notebook, then inserting answers/code directly into the notebook - rendering the entire notebook and uploading a PDF copy (and the .ipynb file) to Blackboard.  Students who are unable to complete the test in this fashion will have to manually extract the problem statements and insert worked answers, including computations into a document for uploading.\n"
   ]
  },
  {
   "cell_type": "markdown",
   "metadata": {},
   "source": [
    "---\n",
    "\n",
    "### Problem 1\n",
    "Water flows at 600 cfs and 4.0 ft of depth through a 20-ft wide rectangular open channel.  \n",
    "A rise in the channel bottom elevation is being considered for the downstream portion of the channel.   \n",
    "($g = 32.2 \\frac{ft}{sec^2}$, $\\gamma_{water} = 62.4~\\frac{lbf}{ft^3}$,$\\rho_{water} = 1.94~\\frac{slugs}{ft^3}$)\n",
    "\n",
    "Determine: \n",
    "- The maximum allowable rise in the channel bottom in ft that will just avoid choking."
   ]
  },
  {
   "cell_type": "code",
   "execution_count": 6,
   "metadata": {},
   "outputs": [],
   "source": [
    "# sketch(s) \n",
    "# list known quantities\n",
    "# list unknown quantities\n",
    "# governing principles\n",
    "# solution details (e.g. step-by-step computations)\n",
    "# discussion"
   ]
  },
  {
   "cell_type": "markdown",
   "metadata": {},
   "source": [
    "---\n",
    "\n",
    "### Problem 2\n",
    "A contracted sharp-crested weir has been placed across a stream that has a total channel width of 4.0 m.  \n",
    "The weir crest length is 2.7 m, and the weir crest height is 1.0 m above the channel bottom.  \n",
    "Under a certain flow condition, the head of water above the weir crest is 0.25 m.  \n",
    "The correction for the head on the weir is $k_H = 0.001 m$.    \n",
    "($g = 9.81 \\frac{m}{sec^2}$, $\\gamma_{water} = 9810~\\frac{N}{m^3}$,$\\rho_{water} = 1000~\\frac{kg}{m^3}$)\n",
    "\n",
    "Determine\n",
    "\n",
    "- The flow rate through the weir in $\\frac{m^3}{sec}$, considering the appropriate correction factors and discharge coefficient."
   ]
  },
  {
   "cell_type": "code",
   "execution_count": 6,
   "metadata": {},
   "outputs": [],
   "source": [
    "# sketch(s) \n",
    "# list known quantities\n",
    "# list unknown quantities\n",
    "# governing principles\n",
    "# solution details (e.g. step-by-step computations)\n",
    "# discussion"
   ]
  },
  {
   "cell_type": "markdown",
   "metadata": {},
   "source": [
    "---\n",
    "\n",
    "### Problem 3\n",
    "\n",
    "A stilling basin is being designed to manage a hydraulic jump downstream of an emergency spillway.  \n",
    "The stilling basin is a rectangular channel with width of 20 ft.  \n",
    "At a flow rate of 1000 cfs, the incoming upstream depth is 2.5 ft.  \n",
    "($g = 32.2 \\frac{ft}{sec^2}$, $\\gamma_{water} = 62.4~\\frac{lbf}{ft^3}$,$\\rho_{water} = 1.94~\\frac{slugs}{ft^3}$)\n",
    "\n",
    "Determine\n",
    "\n",
    "- The sequent downstream depth in ft.\n",
    "- The head loss across the jump in ft.\n",
    "- The drag coefficient, $C_d$ for a set of 12 baffle blocks that are capable of holding the downstream depth to 5.0 ft.   Each block is 2.0 ft tall and 2.0 ft wide (as facing upstream.)"
   ]
  },
  {
   "cell_type": "code",
   "execution_count": 6,
   "metadata": {},
   "outputs": [],
   "source": [
    "# sketch(s) \n",
    "# list known quantities\n",
    "# list unknown quantities\n",
    "# governing principles\n",
    "# solution details (e.g. step-by-step computations)\n",
    "# discussion"
   ]
  },
  {
   "cell_type": "markdown",
   "metadata": {},
   "source": [
    "---\n",
    "\n",
    "### Problem 4 "
   ]
  },
  {
   "cell_type": "markdown",
   "metadata": {},
   "source": [
    "A trapezoidal channel carries a flow rate of 30 $\\frac{m^3}{sec}$ at a depth of 2.5 m.  \n",
    "The channel bottom width is 25 m, and the side wall slopes are 2 horizontal to 1 vertical.    \n",
    "\n",
    "Determine \n",
    "\n",
    "- The velocity in $\\frac{m}{sec}$.  \n",
    "- If the flow supercritical or subcritical"
   ]
  },
  {
   "cell_type": "code",
   "execution_count": 6,
   "metadata": {},
   "outputs": [],
   "source": [
    "# sketch(s) \n",
    "# list known quantities\n",
    "# list unknown quantities\n",
    "# governing principles\n",
    "# solution details (e.g. step-by-step computations)\n",
    "# discussion"
   ]
  },
  {
   "cell_type": "markdown",
   "metadata": {},
   "source": [
    "---\n",
    "\n",
    "### Problem 5 (CE 5360)\n"
   ]
  },
  {
   "cell_type": "markdown",
   "metadata": {},
   "source": [
    "A 1.0-m diameter pipe carries a partially full flow of water.  The maximum depth of water (as measured from the pipe invert - thelowest point in the cross-section) is 0.40 m.  \n",
    "The flow rate is 1.5 $\\frac{m^3}{sec}$.  \n",
    "\n",
    "Determine \n",
    "\n",
    "- The velocity in $\\frac{m}{sec}$.  \n",
    "- If the flow supercritical or subcritical"
   ]
  },
  {
   "cell_type": "code",
   "execution_count": 6,
   "metadata": {},
   "outputs": [],
   "source": [
    "# sketch(s) \n",
    "# list known quantities\n",
    "# list unknown quantities\n",
    "# governing principles\n",
    "# solution details (e.g. step-by-step computations)\n",
    "# discussion"
   ]
  },
  {
   "cell_type": "markdown",
   "metadata": {},
   "source": [
    "---\n",
    "\n",
    "### Problem 6 (CE 5360)\n",
    "\n",
    "A parabolic channel with maximum topwidth of 60 feet is constructed on a longitudinal slope of 0.005.  The maximum depth is 8 feet.  The channel is cement stabilized with a Manning's n of 0.013.  What is the discharge in the channel when it is full, and when it is half full.  Make a plot of the parabolic channel cross section, and indicate the two water surfaces on the plot."
   ]
  },
  {
   "cell_type": "code",
   "execution_count": null,
   "metadata": {},
   "outputs": [],
   "source": []
  }
 ],
 "metadata": {
  "kernelspec": {
   "display_name": "Python 3",
   "language": "python",
   "name": "python3"
  },
  "language_info": {
   "codemirror_mode": {
    "name": "ipython",
    "version": 3
   },
   "file_extension": ".py",
   "mimetype": "text/x-python",
   "name": "python",
   "nbconvert_exporter": "python",
   "pygments_lexer": "ipython3",
   "version": "3.8.10"
  }
 },
 "nbformat": 4,
 "nbformat_minor": 4
}
