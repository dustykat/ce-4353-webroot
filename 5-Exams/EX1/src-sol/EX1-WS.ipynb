{
 "cells": [
  {
   "cell_type": "markdown",
   "metadata": {},
   "source": [
    "**Download** (right-click, save target as ...) this page as a Jupyterlab notebook from: [EX-1](http://54.243.252.9/ce-4353-webroot/5-Exams/EX1/EX1.ipynb)\n",
    "\n",
    "___"
   ]
  },
  {
   "cell_type": "markdown",
   "metadata": {},
   "source": [
    "# <font color=darkblue>CE 4353/5360 Design of Hydraulic Systems <br> Fall 2022 Exam 1</font>\n",
    "\n",
    "**LAST NAME, FIRST NAME**\n",
    "\n",
    "**R00000000**\n",
    "\n",
    "___\n",
    "\n",
    "### Purpose : \n",
    "Demonstrate ability to apply oen channel hydraulic design principles to ....\n",
    "\n",
    "### Additional Instructions\n",
    "\n",
    "The test is intended to be completed by downloading the JupyterLab Notebook, then inserting answers/code directly into the notebook - rendering the entire notebook and uploading a PDF copy (and the .ipynb file) to Blackboard.  Students who are unable to complete the test in this fashion will have to manually extract the problem statements and insert worked answers, including computations into a document for uploading.\n"
   ]
  },
  {
   "cell_type": "markdown",
   "metadata": {},
   "source": [
    "___\n",
    "\n",
    "### Problem 1\n",
    "\n",
    "Prepare short answer (written) responses to the list of questions below.\n",
    "\n",
    "> Students enrolled in 4353 choose 5 of the 7 questions.  Students enrolled in 5360 answer all of the questions.  Use complete English sentences as appropriate.  Clearly identify the questions you omit. "
   ]
  },
  {
   "cell_type": "markdown",
   "metadata": {},
   "source": [
    "1.1  Distinguish between supercritical and subcritical flow.\n",
    "> Subcritical, flow depth above critical depth, velocities lower. Fr < 1; supercritical, flow depth below critical depth, velocities high, Fr > 1\n",
    "\n",
    "1.2 Distinguish between alternate depths and sequent depths.\n",
    "> Alternate and sequent are the approach and departure depths in a hydraulic jump\n",
    "\n",
    "1.3 Explain the choking condition that can happen when we reduce the width of a rectangular open channel as we go downstream.  \n",
    "> The choking condition that takes place when the width is gradually reduced is when there is not \n",
    "enough energy for the flow to continue at its previous velocity, backing up flow and increasing \n",
    "its depth.\n",
    "\n",
    "1.4 Explain the concept of a hydraulic jump, and describe at least one flow situation that can cause a hydraulic jump.\n",
    "> A hydraulic jump is an abrupt change in depth and has significant energy loss as the flow \n",
    "changes from supercritical to subcritical flow. For example, on a weir, a hydraulic jump takes \n",
    "place at the toe of the spillway.\n",
    "\n",
    "1.5 Explain the purpose of a stilling basin as presented in this course.\n",
    "> The purpose of a stilling basin is to hold and stabilize a hydraulic jump. This basin results in lower flow velocities and subcritical flow that is to be released downstream, preventing erosion as \n",
    "supercritical flow results in the greatest eroding capabilities.\n",
    "\n",
    "1.6 Explain the flow conditions we are trying to control in the proper design of a supercritical contraction.\n",
    "> Supercritical contractions are designed to control standing wave fronts. This is when two waves \n",
    "are moving in opposite directions with the same frequency and interference takes place. The \n",
    "goal is to minimize the transmission of standing waves downstream by the inclusion of the \n",
    "correct wall angle.\n",
    "\n",
    "1.7 Explain why the hydraulic depth is an important quantity for use in open channel flow analyses.\n",
    "> Hydraulic depth is important because it allows for calculation of the Froude number, which \n",
    "characterizes the flow type as either subcritical or supercritical. Without hydraulic depth, there \n",
    "would be no analysis for non-rectangular, geometric properties."
   ]
  },
  {
   "cell_type": "markdown",
   "metadata": {},
   "source": [
    "---\n",
    "\n",
    "### Problem 2\n",
    "Water flows at 600 cfs and 4.0 ft of depth through a 20-ft wide rectangular open channel.  \n",
    "A rise in the channel bottom elevation is being considered for the downstream portion of the channel.   \n",
    "($g = 32.2 \\frac{ft}{sec^2}$, $\\gamma_{water} = 62.4~\\frac{lbf}{ft^3}$,$\\rho_{water} = 1.94~\\frac{slugs}{ft^3}$)\n",
    "\n",
    "Determine: \n",
    "- The maximum allowable rise in the channel bottom in ft that will just prevent choking."
   ]
  },
  {
   "cell_type": "markdown",
   "metadata": {},
   "source": [
    "# sketch(s) here\n",
    "![](pr2draw.png)"
   ]
  },
  {
   "cell_type": "markdown",
   "metadata": {},
   "source": [
    "# list known quantities\n",
    "- g = 32.2 \n",
    "- Q = 600 CFS\n",
    "- y1= 4 ft\n",
    "- B1=20 ft\n",
    "\n",
    "- B2=20 ft"
   ]
  },
  {
   "cell_type": "markdown",
   "metadata": {},
   "source": [
    "# list unknown quantities\n",
    "- dz = 0.321"
   ]
  },
  {
   "cell_type": "markdown",
   "metadata": {},
   "source": [
    "# governing principles\n",
    "Easiest but non-elegant way is\n",
    "\n",
    "1. Compute E before and on the step.\n",
    "2. Adjust flow depth on step so E2+step = E1\n",
    "3. For choking, set flow on step to criticail"
   ]
  },
  {
   "cell_type": "code",
   "execution_count": 18,
   "metadata": {},
   "outputs": [
    {
     "name": "stdout",
     "output_type": "stream",
     "text": [
      "Small Step in Horizontal Channel\n",
      "Section 1: Sp. energy  4.873447204968944  depth  4  step height  0 Fr  0.6608506657971013\n",
      "Section 2: Sp. energy  4.873187462239683  depth  3.034791641493122  step height  0.321 Fr  1.0\n"
     ]
    }
   ],
   "source": [
    "# solution (step-by-step/computations)\n",
    "def spNRG(y,width,discharge,gravity): #specific energy in a rectangular channel\n",
    "    numerator=discharge**2\n",
    "    denominator=(2.0*gravity)*(width**2)*(y**2)\n",
    "    if denominator == 0.0: #probably depth is zero\n",
    "        raise Exception(\"divide by zero, check your inputs dumbass!\")\n",
    "    spNRG=numerator/denominator + y\n",
    "    return(spNRG)\n",
    "\n",
    "def Fr2(y,width,discharge,gravity):\n",
    "    Fr2=(width*discharge**2)/(gravity*(width*y)**3)\n",
    "    return(Fr2)\n",
    "\n",
    "g = 32.2 #given\n",
    "Q =600 #given\n",
    "y1= 4 #given\n",
    "B1=20 #given\n",
    "dz=0.321#find\n",
    "B2=20 # given\n",
    "y2 = ((Q**2)/(g*B2*B2))**(1/3) # force yc on step\n",
    "NRG1=spNRG(y1,B1,Q,g)\n",
    "NRG2=spNRG(y2,B2,Q,g)\n",
    "FR1=Fr2(y1,B1,Q,g)**(1/2)\n",
    "FR2=Fr2(y2,B2,Q,g)**(1/2)\n",
    "\n",
    "print(\"Small Step in Horizontal Channel\")\n",
    "print(\"Section 1: \"+\"Sp. energy \",NRG1,\" depth \",y1,\" step height \",0,\"Fr \",FR1)\n",
    "print(\"Section 2: \"+\"Sp. energy \",NRG2+dz,\" depth \",y2,\" step height \",dz,\"Fr \",FR2)"
   ]
  },
  {
   "cell_type": "code",
   "execution_count": 58,
   "metadata": {},
   "outputs": [
    {
     "name": "stdout",
     "output_type": "stream",
     "text": [
      "y2 =  3.084 f(y2)= -0.0\n"
     ]
    }
   ],
   "source": [
    "# check with \n",
    "# Find y2 given y1, B, Q, deltaz\n",
    "deltaz = 0.3201 #m zero means no step\n",
    "B = 20.0  #m\n",
    "y1 = 4 #m\n",
    "Q = 600  #m^3/s\n",
    "g = 32.2 #m/s^2\n",
    "y2 = 3.982 #m initial guess\n",
    "\n",
    "def spNRG(y,width,discharge,gravity): #specific energy in a rectangular channel\n",
    "    numerator=discharge**2\n",
    "    denominator=(2.0*gravity)*(width**2)*(y**2)\n",
    "    if denominator == 0.0: #probably depth is zero\n",
    "        raise Exception(\"divide by zero, check your inputs dumbass!\")\n",
    "    spNRG=numerator/denominator + y\n",
    "    return(spNRG)\n",
    "\n",
    "def func(y1,y2,width,discharge,gravity,deltaz): #our function to find zeros\n",
    "    func = spNRG(y2,width,discharge,gravity) + deltaz - spNRG(y1,width,discharge,gravity)\n",
    "    return(func)\n",
    "# Set-up a bisection-type solver\n",
    "howmany = 25 # number of iterations\n",
    "clow = 3.0 # lower limit for y2\n",
    "chigh = 5.0 # upper limit for y2\n",
    "dtrue = 0.0000001 # ground truth value\n",
    "tol = 1e-5 # desired accuracy\n",
    "\n",
    "import numpy # useful library with absolute value and sign functions\n",
    "\n",
    "############ Learning Phase ################\n",
    "# check if clow and chigh bound a solution\n",
    "if numpy.sign(func(y1,clow,B,Q,g,deltaz)-dtrue) == numpy.sign(func(y1,chigh,B,Q,g,deltaz)-dtrue):\n",
    "    print(func(y1,clow,B,Q,g,deltaz)-dtrue)\n",
    "    print(func(y1,chigh,B,Q,g,deltaz)-dtrue)\n",
    "    raise Exception(\"The scalars clow and chigh do not bound a solution\")\n",
    "\n",
    "for iteration in range(howmany):  \n",
    "\n",
    "# get midpoint\n",
    "    m = (clow + chigh)/2\n",
    "\n",
    "    if numpy.abs(func(y1,m,B,Q,g,deltaz)-dtrue) < tol:\n",
    "        # stopping condition, report m as root\n",
    "        print('y2 = ',round(m,3),\"f(y2)=\",round(func(y1,m,B,Q,g,deltaz),3))\n",
    "        break\n",
    "    elif numpy.sign(func(y1,clow,B,Q,g,deltaz)-dtrue) == numpy.sign(func(y1,m,B,Q,g,deltaz)-dtrue):\n",
    "        # case where m is an improvement on a. \n",
    "        # Make recursive call with a = m\n",
    "        clow = m # update clow with m\n",
    "    elif numpy.sign(func(y1,chigh,B,Q,g,deltaz)-dtrue) == numpy.sign(func(y1,m,B,Q,g,deltaz)-dtrue):\n",
    "        # case where m is an improvement on b. \n",
    "        # Make recursive call with b = m\n",
    "        chigh = m # update chigh with m\n",
    "####################################################"
   ]
  },
  {
   "cell_type": "markdown",
   "metadata": {},
   "source": [
    "# discussion\n",
    "Maximum step is 0.321 feet (not very much)"
   ]
  },
  {
   "cell_type": "markdown",
   "metadata": {},
   "source": [
    "---\n",
    "\n",
    "### Problem 3\n",
    "A contracted sharp-crested weir has been placed across a stream that has a total channel width of 4.0 m.  \n",
    "The weir crest length is 2.7 m, and the weir crest height is 1.0 m above the channel bottom.  \n",
    "Under a certain flow condition, the head of water above the weir crest is 0.25 m.  \n",
    "The correction for the head on the weir is $k_H = 0.001 m$.    \n",
    "($g = 9.81 \\frac{m}{sec^2}$, $\\gamma_{water} = 9810~\\frac{N}{m^3}$,$\\rho_{water} = 1000~\\frac{kg}{m^3}$)\n",
    "\n",
    "Determine\n",
    "\n",
    "- The flow rate through the weir in $\\frac{m^3}{sec}$, considering the appropriate correction factors and discharge coefficient."
   ]
  },
  {
   "cell_type": "markdown",
   "metadata": {},
   "source": [
    "# sketch(s) here\n",
    "![](pr3draw.png)"
   ]
  },
  {
   "cell_type": "markdown",
   "metadata": {},
   "source": [
    "# list known quantities\n",
    "- L = 2.7 # crest width\n",
    "- H = [0.25] # approach head\n",
    "- B = 4 # ft given\n",
    "- k_l = 0.002 #chart 2.23(c) pg 44\n",
    "- k_h = 0.001 #ft pg 44 given\n",
    "- P = 1.0 #ft minimum value suggested p45\n",
    "- g= 9.81"
   ]
  },
  {
   "cell_type": "markdown",
   "metadata": {},
   "source": [
    "# list unknown quantities\n",
    "- Q = [0 for i in range(len(H))]"
   ]
  },
  {
   "cell_type": "markdown",
   "metadata": {},
   "source": [
    "# governing principles\n",
    "1. Weir equation, using Kindsvater-Carter formula "
   ]
  },
  {
   "cell_type": "markdown",
   "metadata": {},
   "source": [
    "# solution (step-by-step) "
   ]
  },
  {
   "cell_type": "code",
   "execution_count": 105,
   "metadata": {},
   "outputs": [],
   "source": [
    "# Rectangular weir formula\n",
    "def Qrect(C_de,L_e,H_e,g):\n",
    "    import math\n",
    "    Qrect=(2/3)*math.sqrt(2.0*g)*C_de*L_e*(H_e**(3/2))\n",
    "    return(Qrect)"
   ]
  },
  {
   "cell_type": "code",
   "execution_count": 106,
   "metadata": {},
   "outputs": [],
   "source": [
    "# Kindsvater-Carter formula interpolation\n",
    "\n",
    "def lagint(xlist,ylist,xpred):\n",
    "    # lagrangian interpolation of order len(xlist)-1 \n",
    "    # \n",
    "    lagint = 0.0 # ypred is an accumulator, and will be output\n",
    "    norder = len(xlist)\n",
    "    for i in range(norder):\n",
    "        term = ylist[i] # build up terms of polynomial\n",
    "        for j in range(norder):\n",
    "            if (i != j):\n",
    "                term = term * (xpred-xlist[j])/(xlist[i]-xlist[j])\n",
    "#            pass # may not need this expression\n",
    "        lagint = lagint + term\n",
    "#    print(i,j) #debugging expression\n",
    "    return(lagint)\n",
    "\n",
    "L_over_b = [1,0.9,0.8,0.7,0.6,0.5,0.4,0.3,0.2,0.1,0]\n",
    "beta1 = [0.602,0.599,0.597,0.595,0.593,0.592,0.591,0.59,0.589,0.588,0.587]\n",
    "beta2 = [0.075,0.064,0.045,0.03,0.018,0.011,0.0058,0.002,-0.0018,-0.0021,-0.0023]"
   ]
  },
  {
   "cell_type": "code",
   "execution_count": 109,
   "metadata": {},
   "outputs": [
    {
     "name": "stdout",
     "output_type": "stream",
     "text": [
      "Approach head  0.25  feet Weir Discharge  0.603  CMS C_d  0.601\n"
     ]
    }
   ],
   "source": [
    "# build a table to find discharge\n",
    "L = 2.7 # feet crest width\n",
    "H = [0.25] # approach head\n",
    "B = 4 # ft given\n",
    "k_l = 0.002 #chart 2.23(c) pg 44\n",
    "k_h = 0.001 #ft pg 44\n",
    "P = 1.0 #ft minimum value suggested p45\n",
    "Q = [0 for i in range(len(H))]\n",
    "g=9.81\n",
    "\n",
    "for i in range(len(H)):\n",
    "    He = H[i]+k_h\n",
    "    Le = L + k_l\n",
    "    Cd = lagint(L_over_b,beta1,L/B)+ (He/P)*lagint(L_over_b,beta2,L/B)\n",
    "    Q[i] = Qrect(Cd,Le,He,g)\n",
    "    print(\"Approach head \",round(H[i],3),\" feet Weir Discharge \",round(Q[i],3),\" CMS\",\"C_d \",round(Cd,3))"
   ]
  },
  {
   "cell_type": "markdown",
   "metadata": {},
   "source": [
    "# discussion\n",
    "A subtle change in solution for ES3 solves this case.  Q=0.606 cms"
   ]
  },
  {
   "cell_type": "markdown",
   "metadata": {},
   "source": [
    "---\n",
    "\n",
    "### Problem 4\n",
    "\n",
    "A stilling basin is being designed to manage a hydraulic jump downstream of an emergency spillway.  \n",
    "The stilling basin is a rectangular channel with width of 20 ft.  \n",
    "At a flow rate of 1000 cfs, the incoming upstream depth is 2.5 ft.  \n",
    "($g = 32.2 \\frac{ft}{sec^2}$, $\\gamma_{water} = 62.4~\\frac{lbf}{ft^3}$,$\\rho_{water} = 1.94~\\frac{slugs}{ft^3}$)\n",
    "\n",
    "Determine\n",
    "\n",
    "- The sequent downstream depth in ft.\n",
    "- The head loss across the jump in ft.\n",
    "- The drag coefficient, $C_d$ for a set of 12 baffle blocks that are capable of holding the downstream depth to 5.0 ft.   Each block is 2.0 ft tall and 2.0 ft wide (as facing upstream.)"
   ]
  },
  {
   "cell_type": "markdown",
   "metadata": {},
   "source": [
    "# sketch(s) here\n",
    "Ordinary rectangular channel\n",
    "\n",
    "![](pr4draw1.png)\n",
    "\n",
    "Baffle blocks in stilling basin\n",
    "\n",
    "![](pr4draw2.png)"
   ]
  },
  {
   "cell_type": "markdown",
   "metadata": {},
   "source": [
    "# list known quantities\n",
    "\n",
    "- y1 = 2.5 # given\n",
    "- B1 = 20 #given\n",
    "- Q = 1000 #given\n",
    "- g = 32.2 #given\n"
   ]
  },
  {
   "cell_type": "markdown",
   "metadata": {},
   "source": [
    "# list unknown quantities\n",
    "- y2\n",
    "- $\\Delta$ EGL\n",
    "- $C_d$"
   ]
  },
  {
   "cell_type": "markdown",
   "metadata": {},
   "source": [
    "# governing principles\n",
    "1. Depth ratio rectangular channel: $$\\frac{y_2}{y_1} = \\frac{1}{2} [\\sqrt{1 + 8 Fr_1^2} - 1]$$\n",
    "2. Head loss: $$h_L = E_1 - E_2 = (y_1+\\frac{V_1^2}{2g})-(y_2+\\frac{V_2^2}{2g})$$\n",
    "3. Baffle blocks behavior:\n",
    "- Compute drag force from momentum functions\n",
    "- Find Cd from definition of form drag"
   ]
  },
  {
   "cell_type": "markdown",
   "metadata": {},
   "source": [
    "# solution (step-by-step) "
   ]
  },
  {
   "cell_type": "code",
   "execution_count": 112,
   "metadata": {},
   "outputs": [
    {
     "name": "stdout",
     "output_type": "stream",
     "text": [
      "Approach depth  2.5 meters\n",
      "Departure depth  6.73 meters\n"
     ]
    }
   ],
   "source": [
    "# prototype functions\n",
    "import math\n",
    "\n",
    "def spNRG(y,width,discharge,gravity): #specific energy in a rectangular channel\n",
    "    numerator=discharge**2\n",
    "    denominator=(2.0*gravity)*(width**2)*(y**2)\n",
    "    if denominator == 0.0: #probably depth is zero\n",
    "        raise Exception(\"divide by zero, check your inputs dumbass!\")\n",
    "    spNRG=numerator/denominator + y\n",
    "    return(spNRG)\n",
    "\n",
    "def Fr2(y,width,discharge,gravity):\n",
    "    Fr2=(width*discharge**2)/(gravity*(width*y)**3)\n",
    "    return(Fr2)\n",
    "\n",
    "y1 = 2.5 # given\n",
    "B1 = 20 #given\n",
    "Q = 1000 #given\n",
    "g = 32.2 #given\n",
    "\n",
    "FR1 = math.sqrt(Fr2(y1,B1,Q,g))\n",
    "\n",
    "y2 = (y1/2.0)*(math.sqrt(1+8*FR1**2)-1)\n",
    "\n",
    "print(\"Approach depth \",round(y1,3),\"meters\\nDeparture depth \",round(y2,3),\"meters\")"
   ]
  },
  {
   "cell_type": "code",
   "execution_count": 113,
   "metadata": {},
   "outputs": [
    {
     "name": "stdout",
     "output_type": "stream",
     "text": [
      "Head loss in jump  1.124 meters\n"
     ]
    }
   ],
   "source": [
    "# Now head losses\n",
    "NRG1=spNRG(y1,B1,Q,g)\n",
    "NRG2=spNRG(y2,B1,Q,g)\n",
    "deltah = NRG1-NRG2\n",
    "print(\"Head loss in jump \",round(deltah,3),\"meters\")"
   ]
  },
  {
   "cell_type": "code",
   "execution_count": 114,
   "metadata": {},
   "outputs": [
    {
     "name": "stdout",
     "output_type": "stream",
     "text": [
      "Drag force required  7678.882\n"
     ]
    }
   ],
   "source": [
    "# Baffle blocks analysis\n",
    "# M1 = M2 + Drag/sp.weight\n",
    "def MFN(y,width,discharge,gravity):\n",
    "    MFN=(width*y**2)/2.0+(discharge**2)/(gravity*width*y)\n",
    "    return(MFN)\n",
    "y1 = 2.5\n",
    "y2 = 5.0\n",
    "m1 = MFN(y1,B1,Q,g)\n",
    "m2 = MFN(y2,B1,Q,g)\n",
    "gamma = 62.4\n",
    "\n",
    "drag = (m1-m2)*gamma\n",
    "\n",
    "print(\"Drag force required \",round(drag,3))\n"
   ]
  },
  {
   "cell_type": "code",
   "execution_count": 115,
   "metadata": {},
   "outputs": [
    {
     "name": "stdout",
     "output_type": "stream",
     "text": [
      "Cd  0.413\n"
     ]
    }
   ],
   "source": [
    "# Cd needed\n",
    "# Cd = 2Drag/rho A V^2\n",
    "blockW = 2.0 # given\n",
    "blockH = 2.0 # given\n",
    "blockA = blockH*blockW\n",
    "howmanyblocks = 12\n",
    "Ap = blockA*howmanyblocks\n",
    "Va = Q/(y1*B1)\n",
    "Cd = 2*drag/((gamma/g)*Ap*Va**2)\n",
    "print(\"Cd \",round(Cd,3))"
   ]
  },
  {
   "cell_type": "markdown",
   "metadata": {},
   "source": [
    "# discussion\n",
    "The $C_d$ value is the required value to balance momentum, but seems a bit small, should check Reynolds number and look up in literature"
   ]
  },
  {
   "cell_type": "markdown",
   "metadata": {},
   "source": [
    "---\n",
    "\n",
    "### Problem 5 "
   ]
  },
  {
   "cell_type": "markdown",
   "metadata": {},
   "source": [
    "A trapezoidal channel carries a flow rate of 30 $\\frac{m^3}{sec}$ at a depth of 2.5 m.  \n",
    "The channel bottom width is 25 m, and the side wall slopes are 2 horizontal to 1 vertical.    \n",
    "\n",
    "Determine \n",
    "\n",
    "- The velocity in $\\frac{m}{sec}$.  \n",
    "- If the flow supercritical or subcritical"
   ]
  },
  {
   "cell_type": "markdown",
   "metadata": {},
   "source": [
    "# sketch(s) here\n",
    "![](pr5draw.png)"
   ]
  },
  {
   "cell_type": "code",
   "execution_count": null,
   "metadata": {},
   "outputs": [],
   "source": [
    "# list known quantities"
   ]
  },
  {
   "cell_type": "code",
   "execution_count": null,
   "metadata": {},
   "outputs": [],
   "source": [
    "# list unknown quantities"
   ]
  },
  {
   "cell_type": "code",
   "execution_count": null,
   "metadata": {},
   "outputs": [],
   "source": [
    "# governing principles"
   ]
  },
  {
   "cell_type": "code",
   "execution_count": null,
   "metadata": {},
   "outputs": [],
   "source": [
    "# solution (step-by-step) "
   ]
  },
  {
   "cell_type": "code",
   "execution_count": 103,
   "metadata": {},
   "outputs": [],
   "source": [
    "# prototype functions\n",
    "\n",
    "def Atrap(depth,width,sideslope):\n",
    "    Atrap = width*depth+sideslope*depth**2\n",
    "    return(Atrap)\n",
    "\n",
    "def Ttrap(depth,width,sideslope):\n",
    "    Ttrap = width + 2*depth*sideslope\n",
    "    return(Ttrap)\n",
    "\n",
    "def Ptrap(depth,width,sideslope):\n",
    "    Ptrap = width + 2*depth* ((sideslope**2 + 1)**(1/2))\n",
    "    return(Ptrap)\n",
    "\n",
    "def Rhyd(area,perimeter):\n",
    "    Rhyd=area/perimeter\n",
    "    return(Rhyd)\n",
    "\n",
    "def Fr(depth,velocity,gravity):\n",
    "    import math\n",
    "    Fr = velocity/(math.sqrt(gravity*depth))\n",
    "    return(Fr)\n",
    "\n"
   ]
  },
  {
   "cell_type": "code",
   "execution_count": 104,
   "metadata": {},
   "outputs": [
    {
     "name": "stdout",
     "output_type": "stream",
     "text": [
      "Mean Section Velocity  0.4  m/s\n",
      "Froude Number  0.081 \n"
     ]
    }
   ],
   "source": [
    "Q = 30 #given\n",
    "g = 9.8 #given\n",
    "y = 2.5 #given\n",
    "m = 2 #given\n",
    "B = 25 #given\n",
    "A = Atrap(y,B,m)\n",
    "V = Q/A\n",
    "print(\"Mean Section Velocity \",round(V,3),\" m/s\")\n",
    "dhyd = A/Ttrap(y,B,m)\n",
    "FrT = Fr(y,V,g)\n",
    "print(\"Froude Number \",round(FrT,3),\"\")"
   ]
  },
  {
   "cell_type": "markdown",
   "metadata": {},
   "source": [
    "# discussion\n",
    "Fr <1; thus subcritical"
   ]
  },
  {
   "cell_type": "markdown",
   "metadata": {},
   "source": [
    "---\n",
    "\n",
    "### Problem 6 \n",
    "\n",
    "**Students enrolled in CE 4353 omit this problem.  CE 5360 complete this problem**"
   ]
  },
  {
   "cell_type": "markdown",
   "metadata": {},
   "source": [
    "A 1.0-m diameter pipe carries a partially full flow of water.  The maximum depth of water (as measured from the pipe invert - thelowest point in the cross-section) is 0.40 m.  \n",
    "The flow rate is 1.5 $\\frac{m^3}{sec}$.  \n",
    "\n",
    "Determine \n",
    "\n",
    "- The velocity in $\\frac{m}{sec}$.  \n",
    "- If the flow supercritical or subcritical"
   ]
  },
  {
   "cell_type": "markdown",
   "metadata": {},
   "source": [
    "# sketch(s) here\n",
    "![](pr6draw.png)"
   ]
  },
  {
   "cell_type": "markdown",
   "metadata": {},
   "source": [
    "# list known quantities\n",
    "- D = 1.0 #given\n",
    "- y = 0.40 #given\n",
    "- Q = 1.5 #given\n",
    "- g = 9.8 #given"
   ]
  },
  {
   "cell_type": "markdown",
   "metadata": {},
   "source": [
    "# list unknown quantities\n",
    "- $\\bar V$\n",
    "- $D=\\frac{A}{T}$\n",
    "- $Fr$"
   ]
  },
  {
   "cell_type": "markdown",
   "metadata": {},
   "source": [
    "# governing principles\n",
    "- Compute area\n",
    "- Compute topwidth\n",
    "- V = Q/A\n",
    "- D = A/T\n",
    "- $Fr = \\frac{V}{\\sqrt{gD}}$"
   ]
  },
  {
   "cell_type": "markdown",
   "metadata": {},
   "source": [
    "# solution (step-by-step) "
   ]
  },
  {
   "cell_type": "code",
   "execution_count": 117,
   "metadata": {},
   "outputs": [],
   "source": [
    "# prototype functions\n",
    "\n",
    "def area(theta,diameter):\n",
    "    import math\n",
    "    area=(1/8)*(theta-math.sin(theta))*diameter**2\n",
    "    return(area)\n",
    "\n",
    "def topw(theta,diameter):\n",
    "    import math\n",
    "    topw=diameter*math.sin(theta/2)\n",
    "    return(topw)\n",
    "\n",
    "def perimeter(theta,diameter):\n",
    "    perimeter = diameter*theta/2\n",
    "    return(perimeter)\n",
    "\n",
    "def angle(depth,diameter):\n",
    "    import math\n",
    "    angle=2*math.acos(1-2*depth/diameter)\n",
    "    return(angle)"
   ]
  },
  {
   "cell_type": "code",
   "execution_count": 118,
   "metadata": {},
   "outputs": [
    {
     "name": "stdout",
     "output_type": "stream",
     "text": [
      "Mean Section Velocity  5.113 m/s\n",
      "Froude Number  2.985 \n"
     ]
    }
   ],
   "source": [
    "D = 1.0 #given\n",
    "y = 0.40 #given\n",
    "Q = 1.5 #given\n",
    "g = 9.8 #given\n",
    "\n",
    "alpha=angle(y,D)\n",
    "A = area(alpha,D)\n",
    "\n",
    "V = Q/A\n",
    "dhyd = A/topw(alpha,D)\n",
    "FRC = Fr(dhyd,V,g)\n",
    "\n",
    "print(\"Mean Section Velocity \",round(V,3),\"m/s\")\n",
    "print(\"Froude Number \",round(FRC,3),\"\")"
   ]
  },
  {
   "cell_type": "markdown",
   "metadata": {},
   "source": [
    "# discussion\n",
    "Fr >1 supercritical"
   ]
  },
  {
   "cell_type": "markdown",
   "metadata": {},
   "source": [
    "---\n",
    "\n",
    "### Problem 7 \n",
    "\n",
    "**Students enrolled in CE 4353 omit this problem.  CE 5360 complete this problem**\n",
    "\n",
    "A parabolic channel with maximum topwidth of 60 feet is constructed on a longitudinal slope of 0.005.  The maximum depth is 8 feet.  The channel is cement stabilized with a Manning's n of 0.013.  What is the discharge in the channel when it is full, and when it is half full.  Make a plot of the parabolic channel cross section, and indicate the two water surfaces on the plot."
   ]
  },
  {
   "cell_type": "markdown",
   "metadata": {},
   "source": [
    "![](pr7draw.png)"
   ]
  },
  {
   "cell_type": "markdown",
   "metadata": {},
   "source": [
    "## From parabolic definitions\n",
    "\n",
    "$$T = 2\\frac{\\sqrt{y}}{\\sqrt{k}} $$\n",
    "\n",
    "$$A = 4y \\frac{\\sqrt{\\frac{y}{k}}}{3} $$\n",
    "\n",
    "$$\\sqrt{k} = \\frac{2 \\sqrt{y_{max}}}{T_{max}}$$\n",
    "\n"
   ]
  },
  {
   "cell_type": "code",
   "execution_count": 139,
   "metadata": {},
   "outputs": [
    {
     "name": "stdout",
     "output_type": "stream",
     "text": [
      "Qfull  8217.756  cfs\n",
      "Qhalf  1482.508  cfs\n"
     ]
    }
   ],
   "source": [
    "# prototype functions\n",
    "def Qman(K,n,area,radius,slope):\n",
    "    Qman=(K/n)*(area)*(radius**(2/3))*(slope**(1/2))\n",
    "    return(Qman)\n",
    "\n",
    "def Apara(depth,k):\n",
    "    Apara= 4*depth*((depth/k)**(1/2))/3\n",
    "    return(Apara)\n",
    "\n",
    "def Tpara(depth,k):\n",
    "    Tpara=2*((depth/k)**(1/2))\n",
    "    \n",
    "def Ppara(depth,B):\n",
    "    Ppara = B+(8/3)*((depth**2)/B)\n",
    "    return(Ppara)\n",
    "    \n",
    "Tmax=64 # given\n",
    "ymax=8  # given\n",
    "k = 2*(ymax**(1/2))/Tmax\n",
    "k=k**2\n",
    "n =0.013 #given\n",
    "slope = 0.005 #given\n",
    "\n",
    "\n",
    "# Full\n",
    "Afull = Apara(ymax,k)\n",
    "Pfull = Ppara(ymax,Tmax)\n",
    "Rfull = Afull/Pfull\n",
    "Qfull = Qman(1.49,n,Afull,Rfull,slope)\n",
    "# 1/2full\n",
    "Ahalf = Apara(ymax/2,k)\n",
    "Phalf = Ppara(ymax/2,Tmax)\n",
    "Rhalf = Ahalf/Phalf\n",
    "Qhalf = Qman(1.49,n,Ahalf,Rhalf,slope)\n",
    "\n",
    "print(\"Qfull \",round(Qfull,3),\" cfs\\nQhalf \",round(Qhalf,3),\" cfs\")\n"
   ]
  },
  {
   "cell_type": "code",
   "execution_count": 140,
   "metadata": {},
   "outputs": [
    {
     "data": {
      "image/png": "[encoded data removed]",
      "text/plain": [
       "<Figure size 720x360 with 1 Axes>"
      ]
     },
     "metadata": {
      "needs_background": "light"
     },
     "output_type": "display_data"
    }
   ],
   "source": [
    "x = [0 for i in range(65)]\n",
    "y = [0 for i in range(65)]\n",
    "xf = [0 for i in range(65)]\n",
    "xh = [0 for i in range(65)]\n",
    "yf = [ymax for i in range(65)]\n",
    "yh = [ymax/2 for i in range(65)]\n",
    "\n",
    "for i in range(65):\n",
    "    x[i]=float(i)-32.0\n",
    "    y[i]=k*x[i]**2\n",
    "    xf[i]=x[i]\n",
    "    if y[i] < ymax:\n",
    "        xf[i]=x[i]\n",
    "    if y[i] < ymax/2.:\n",
    "        xh[i]=x[i]\n",
    "    \n",
    "\n",
    "import matplotlib.pyplot # the python plotting library\n",
    "myfigure = matplotlib.pyplot.figure(figsize = (10,5)) # generate a object from the figure class, set aspect ratio\n",
    "# Built the plot\n",
    "matplotlib.pyplot.plot(x, y, color ='blue') \n",
    "matplotlib.pyplot.plot(xf, yf, color ='red') \n",
    "matplotlib.pyplot.plot(xh, yh, color ='green') \n",
    "matplotlib.pyplot.xlabel(\"Width (x)\") \n",
    "matplotlib.pyplot.ylabel(\"Depth (y)\") \n",
    "matplotlib.pyplot.title(\"Parabolic Channel\")\n",
    "matplotlib.pyplot.legend([\"Channel\",\"Full Depth\",\"Half-Full Depth\"])\n",
    "matplotlib.pyplot.show() "
   ]
  },
  {
   "cell_type": "code",
   "execution_count": null,
   "metadata": {},
   "outputs": [],
   "source": []
  }
 ],
 "metadata": {
  "kernelspec": {
   "display_name": "Python 3",
   "language": "python",
   "name": "python3"
  },
  "language_info": {
   "codemirror_mode": {
    "name": "ipython",
    "version": 3
   },
   "file_extension": ".py",
   "mimetype": "text/x-python",
   "name": "python",
   "nbconvert_exporter": "python",
   "pygments_lexer": "ipython3",
   "version": "3.8.10"
  }
 },
 "nbformat": 4,
 "nbformat_minor": 4
}
