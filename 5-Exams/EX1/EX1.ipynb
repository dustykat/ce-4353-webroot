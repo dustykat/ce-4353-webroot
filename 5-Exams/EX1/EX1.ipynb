{
 "cells": [
  {
   "cell_type": "markdown",
   "metadata": {},
   "source": [
    "**Download** (right-click, save target as ...) this page as a Jupyterlab notebook from: [EX-1](http://54.243.252.9/ce-4353-webroot/5-Exams/EX1/EX1.ipynb)\n",
    "\n",
    "___"
   ]
  },
  {
   "cell_type": "markdown",
   "metadata": {},
   "source": [
    "# <font color=darkblue>CE 4353/5360 Design of Hydraulic Systems <br> Fall 2023 Exam 1 Source Template</font>\n",
    "\n",
    "**LAST NAME, FIRST NAME**\n",
    "\n",
    "**R00000000**\n",
    "\n",
    "___\n",
    "\n",
    "### Purpose : \n",
    "Demonstrate ability to apply open channel hydraulic design principles to ....\n",
    "\n",
    "### Additional Instructions\n",
    "\n",
    "The test is intended to be completed in Blackboard - these problems are transcribed into BB file response-type questions.\n"
   ]
  },
  {
   "cell_type": "markdown",
   "metadata": {},
   "source": [
    "## Problem 0 \n",
    "Multiple guess and short answer-type questions\n",
    "\n",
    "### 0.1\n",
    "When considering hydraulic jumps in open channel flow, how do alternate depths differ from sequent depths?\n",
    "\n",
    "1. Alternate depths refer to the depths before the hydraulic jump, while sequent depths refer to the depths after the hydraulic jump.\n",
    "1. Alternate depths refer to the depths after the hydraulic jump, while sequent depths refer to the depths before the hydraulic jump.\n",
    "1. Alternate depths refer to the depths at the start of the hydraulic jump, while sequent depths refer to the depths at the end of the hydraulic jump.\n",
    "1. Alternate depths refer to the depths at the end of the hydraulic jump, while sequent depths refer to the depths at the start of the hydraulic jump.\n",
    "1. Alternate depths and sequent depths are two different terms used to describe the same depths during hydraulic jumps.\n",
    "\n",
    "### 0.2 \n",
    "What is a hydraulic jump and what is one flow situation that can cause a hydraulic jump?\n",
    "\n",
    "1. A hydraulic jump occurs when there is a sudden decrease in flow velocity, causing a rapid rise in water level. It can be caused by a sudden narrowing of the channel.\n",
    "1. A hydraulic jump occurs when there is a sudden increase in flow velocity, causing a rapid drop in water level. It can be caused by a sudden widening of the channel.\n",
    "1. A hydraulic jump occurs when there is a sudden decrease in flow velocity, causing a rapid drop in water level. It can be caused by a sudden widening of the channel.\n",
    "1. A hydraulic jump occurs when there is a sudden increase in flow velocity, causing a rapid rise in water level. It can be caused by a sudden narrowing of the channel.\n",
    "1. A hydraulic jump occurs when there is a sudden change in flow direction, causing turbulence and increased water levels. It can be caused by the presence of obstacles in the channel.\n",
    "\n",
    "### 0.3 \n",
    "What is the purpose of a stilling basin?\n",
    "\n",
    "1. A stilling basin is designed to provide a stable water surface for recreational activities such as swimming and boating.\n",
    "1. A stilling basin is used to regulate water flow in irrigation systems and maintain a consistent water supply.\n",
    "1. A stilling basin is utilized to control sediment deposition and prevent erosion in river channels.\n",
    "1. A stilling basin is designed to measure the flow rate of water in open channels accurately.\n",
    "1. A stilling basin is used to dissipate the energy of a hydraulic jump and reduce downstream turbulence.\n",
    "\n",
    "### 0.4\n",
    "In the proper design of a supercritical contraction, what flow conditions are we trying to control?\n",
    "\n",
    "1. We are trying to control high flow velocities to maximize the transport capacity of the channel.\n",
    "1. We are trying to control the water level to ensure it remains below the channel banks.\n",
    "1. We are trying to control the flow direction to prevent backflow and turbulence.\n",
    "1. We are trying to control the depth of flow to maintain a constant water level throughout the contraction.\n",
    "1. We are trying to control the flow transition from supercritical to subcritical to avoid hydraulic jumps and excessive energy loss.\n",
    "\n",
    "### 0.5\n",
    "Explain why the hydraulic depth is an important quantity for use in open channel flow analyses.\n",
    "\n",
    "### 0.6\n",
    "Explain why the hydraulic radius is an important quantity for use in open channel flow analyses.\n",
    "\n",
    "### 0.7\n",
    "Of the two; hydraulic depth and hydraulic radius; which is more commonly used in practical hydraulics situations? Explain.\n",
    "\n",
    "### 0.8 \n",
    "Why is hydraulic depth an important parameter in open channel flow?\n",
    "\n",
    "1. Hydraulic depth determines the width of the channel.\n",
    "2. Hydraulic depth affects the flow resistance and conveyance capacity.\n",
    "3. Hydraulic depth represents the velocity of the flow.\n",
    "4. Hydraulic depth controls the depth of sediment deposition.\n",
    "5. Hydraulic depth determines the channel slope.\n",
    "\n",
    "### 0.9\n",
    "Why is hydraulic radius an important parameter in open channel flow?\n",
    "\n",
    "1. Hydraulic radius determines the width of the channel.\n",
    "1. Hydraulic radius affects the flow resistance and conveyance capacity.\n",
    "1. Hydraulic radius represents the velocity of the flow.\n",
    "1. Hydraulic radius determines the channel slope.\n",
    "\n",
    "### 0.10 \n",
    "Some chump question like:\n",
    "\n",
    "What is a normal depth in open channel flow?\n",
    "\n",
    "1. The depth of flow when the channel is partially filled.\n",
    "1. The depth of flow when the water surface is above the channel banks.\n",
    "1. The depth of flow when the water surface is below the channel banks.\n",
    "1. The depth of flow when the channel is completely filled.\n",
    "1. The depth of flow when the water surface is at its maximum elevation."
   ]
  },
  {
   "cell_type": "markdown",
   "metadata": {},
   "source": [
    "---\n",
    "\n",
    "### Problem 1\n",
    "Water flows at 600 cfs and 4.0 ft of depth through a 20-ft wide rectangular open channel.  \n",
    "A rise in the channel bottom elevation is being considered for the downstream portion of the channel.   \n",
    "($g = 32.2 \\frac{ft}{sec^2}$, $\\gamma_{water} = 62.4~\\frac{lbf}{ft^3}$,$\\rho_{water} = 1.94~\\frac{slugs}{ft^3}$)\n",
    "\n",
    "Determine: \n",
    "- The maximum allowable rise in the channel bottom in ft that will just avoid choking."
   ]
  },
  {
   "cell_type": "code",
   "execution_count": 6,
   "metadata": {},
   "outputs": [],
   "source": [
    "# sketch(s) \n",
    "# list known quantities\n",
    "# list unknown quantities\n",
    "# governing principles\n",
    "# solution details (e.g. step-by-step computations)\n",
    "# discussion"
   ]
  },
  {
   "cell_type": "markdown",
   "metadata": {},
   "source": [
    "---\n",
    "\n",
    "### Problem 2\n",
    "A contracted sharp-crested weir has been placed across a stream that has a total channel width of 4.0 m.  \n",
    "The weir crest length is 2.7 m, and the weir crest height is 1.0 m above the channel bottom.  \n",
    "Under a certain flow condition, the head of water above the weir crest is 0.25 m.  \n",
    "The correction for the head on the weir is $k_H = 0.001 m$.    \n",
    "($g = 9.81 \\frac{m}{sec^2}$, $\\gamma_{water} = 9810~\\frac{N}{m^3}$,$\\rho_{water} = 1000~\\frac{kg}{m^3}$)\n",
    "\n",
    "Determine\n",
    "\n",
    "- The flow rate through the weir in $\\frac{m^3}{sec}$, considering the appropriate correction factors and discharge coefficient."
   ]
  },
  {
   "cell_type": "code",
   "execution_count": 6,
   "metadata": {},
   "outputs": [],
   "source": [
    "# sketch(s) \n",
    "# list known quantities\n",
    "# list unknown quantities\n",
    "# governing principles\n",
    "# solution details (e.g. step-by-step computations)\n",
    "# discussion"
   ]
  },
  {
   "cell_type": "markdown",
   "metadata": {},
   "source": [
    "---\n",
    "\n",
    "### Problem 3\n",
    "\n",
    "A stilling basin is being designed to manage a hydraulic jump downstream of an emergency spillway.  \n",
    "The stilling basin is a rectangular channel with width of 20 ft.  \n",
    "At a flow rate of 1000 cfs, the incoming upstream depth is 2.5 ft.  \n",
    "($g = 32.2 \\frac{ft}{sec^2}$, $\\gamma_{water} = 62.4~\\frac{lbf}{ft^3}$,$\\rho_{water} = 1.94~\\frac{slugs}{ft^3}$)\n",
    "\n",
    "Determine\n",
    "\n",
    "- The sequent downstream depth in ft.\n",
    "- The head loss across the jump in ft.\n",
    "- The drag coefficient, $C_d$ for a set of 12 baffle blocks that are capable of holding the downstream depth to 5.0 ft.   Each block is 2.0 ft tall and 2.0 ft wide (as facing upstream.)"
   ]
  },
  {
   "cell_type": "code",
   "execution_count": 6,
   "metadata": {},
   "outputs": [],
   "source": [
    "# sketch(s) \n",
    "# list known quantities\n",
    "# list unknown quantities\n",
    "# governing principles\n",
    "# solution details (e.g. step-by-step computations)\n",
    "# discussion"
   ]
  },
  {
   "cell_type": "markdown",
   "metadata": {},
   "source": [
    "---\n",
    "\n",
    "### Problem 4 "
   ]
  },
  {
   "cell_type": "markdown",
   "metadata": {},
   "source": [
    "A trapezoidal channel carries a flow rate of 30 $\\frac{m^3}{sec}$ at a depth of 2.5 m.  \n",
    "The channel bottom width is 25 m, and the side wall slopes are 2 horizontal to 1 vertical.    \n",
    "\n",
    "Determine \n",
    "\n",
    "- The velocity in $\\frac{m}{sec}$.  \n",
    "- If the flow supercritical or subcritical"
   ]
  },
  {
   "cell_type": "code",
   "execution_count": 6,
   "metadata": {},
   "outputs": [],
   "source": [
    "# sketch(s) \n",
    "# list known quantities\n",
    "# list unknown quantities\n",
    "# governing principles\n",
    "# solution details (e.g. step-by-step computations)\n",
    "# discussion"
   ]
  },
  {
   "cell_type": "markdown",
   "metadata": {},
   "source": [
    "---\n",
    "\n",
    "### Problem 5 (CE 5360)\n"
   ]
  },
  {
   "cell_type": "markdown",
   "metadata": {},
   "source": [
    "A 1.0-m diameter pipe carries a partially full flow of water.  The maximum depth of water (as measured from the pipe invert - the lowest point in the cross-section) is 0.40 m.  \n",
    "The flow rate is 1.5 $\\frac{m^3}{sec}$.  \n",
    "\n",
    "Determine \n",
    "\n",
    "- The velocity in $\\frac{m}{sec}$.  \n",
    "- If the flow supercritical or subcritical"
   ]
  },
  {
   "cell_type": "code",
   "execution_count": 1,
   "metadata": {},
   "outputs": [],
   "source": [
    "# sketch(s) \n",
    "# list known quantities\n",
    "# list unknown quantities\n",
    "# governing principles\n",
    "# solution details (e.g. step-by-step computations)\n",
    "# discussion"
   ]
  },
  {
   "cell_type": "markdown",
   "metadata": {},
   "source": [
    "---\n",
    "\n",
    "### Problem 6 (CE 5360)\n",
    "\n",
    "A parabolic channel with maximum topwidth of 60 feet is constructed on a longitudinal slope of 0.005.  The maximum depth is 8 feet.  The channel is cement stabilized with a Manning's n of 0.013.  What is the discharge in the channel when it is full, and when it is half full.  Make a plot of the parabolic channel cross section, and indicate the two water surfaces on the plot."
   ]
  },
  {
   "cell_type": "code",
   "execution_count": null,
   "metadata": {},
   "outputs": [],
   "source": []
  }
 ],
 "metadata": {
  "kernelspec": {
   "display_name": "Python 3",
   "language": "python",
   "name": "python3"
  },
  "language_info": {
   "codemirror_mode": {
    "name": "ipython",
    "version": 3
   },
   "file_extension": ".py",
   "mimetype": "text/x-python",
   "name": "python",
   "nbconvert_exporter": "python",
   "pygments_lexer": "ipython3",
   "version": "3.8.10"
  }
 },
 "nbformat": 4,
 "nbformat_minor": 4
}
