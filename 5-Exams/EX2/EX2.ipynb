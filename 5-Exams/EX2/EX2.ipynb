{
 "cells": [
  {
   "cell_type": "markdown",
   "metadata": {},
   "source": [
    "**Download** (right-click, save target as ...) this page as a Jupyterlab notebook from: [EX-1](http://54.243.252.9/ce-4353-webroot/5-Exams/EX1/EX1.ipynb)\n",
    "\n",
    "___"
   ]
  },
  {
   "cell_type": "markdown",
   "metadata": {},
   "source": [
    "# <font color=darkblue>CE 4353/5360 Design of Hydraulic Systems <br> Fall 2022 Exam 2</font>\n",
    "\n",
    "**LAST NAME, FIRST NAME**\n",
    "\n",
    "**R00000000**\n",
    "\n",
    "___\n",
    "\n",
    "### Purpose : \n",
    "Demonstrate ability to apply oen channel hydraulic design principles to ....\n",
    "\n",
    "### Additional Instructions\n",
    "\n",
    "The test is intended to be completed by downloading the JupyterLab Notebook, then inserting answers/code directly into the notebook - rendering the entire notebook and uploading a PDF copy (and the .ipynb file) to Blackboard.  Students who are unable to complete the test in this fashion will have to manually extract the problem statements and insert worked answers, including computations into a document for uploading.\n"
   ]
  },
  {
   "cell_type": "markdown",
   "metadata": {},
   "source": [
    "___\n",
    "\n",
    "### Problem 1\n",
    "\n",
    "Prepare short answer (written) responses to the list of questions below.\n",
    "\n",
    "> Students enrolled in 4353 choose 5 of the 7 questions.  Students enrolled in 5360 answer all of the questions.  Use complete English sentences as appropriate.  Clearly identify the questions you omit. "
   ]
  },
  {
   "cell_type": "markdown",
   "metadata": {},
   "source": [
    "1.1  Which two important forces must be balanced for normal or uniform depth to occur in open channel flow?  What types of channel conditions are necessary for normal depth to occur?\n",
    "> Switch to markdown edit mode, and put your answer here\n",
    "\n",
    "1.2 Explain how the Manning equation can be used to represent frictional energy losses in open channel flow under gradually varied flow conditions (don’t just write an equation, tell how we estimate head loss)?\n",
    "> Switch to markdown edit mode, and put your answer here\n",
    "\n",
    "1.3 Why do people debate how to account for different roughness conditions in different portions of compound channel cross-section?  How do we try to deal with this concern?\n",
    "> Switch to markdown edit mode, and put your answer here\n",
    "\n",
    "1.4 What is riprap, and why is it often used in open channel construction?\n",
    "> Switch to markdown edit mode, and put your answer here\n",
    "\n",
    "1.5 One way to characterize the slope of an open channel reach is the relationship between the normal depth and critical depth.  Identify whether yo is less than or greater than $y_c$ for each of the following slope names.  If $y_o$ is infinite, note that as well.\n",
    "\n",
    "|Slope Type|$y_o$ vs. $y_c$|$y_o$ infinite?|\n",
    "|:---|:---|:---|\n",
    "|Mild|??|??|\n",
    "|Adverse|??|??|\n",
    "|Steep|??|??|\n",
    "\n",
    "\n",
    "> Switch to markdown edit mode, and complete the table above\n",
    "\n",
    "1.6 If we want to find the location of a hydraulic jump between two GVF profiles, explain how we combine the direct step method and conservation of momentum to do so  \n",
    "> Switch to markdown edit mode, and put your answer here\n",
    "\n",
    "1.7 Explain why we have to check both the inlet and outlet conditions when analyzing a culvert configuration for a given flow rate.  How do we know which one controls?\n",
    "> Switch to markdown edit mode, and put your answer here\n",
    "\n",
    "1.8 Explain why we prefer to have a performance curve for a culvert, instead of analyzing a single design flow.\n",
    "> Switch to markdown edit mode, and put your answer here"
   ]
  },
  {
   "cell_type": "markdown",
   "metadata": {},
   "source": [
    "---\n",
    "\n",
    "### Problem 2\n",
    "A compound channel has the cross-section shape shown in Figure 2 below.  \n",
    "\n",
    "<figure align=\"center\">\n",
    "<img src=\"./channelcrosssectionex2-1.png\" width=\"600\" >\n",
    "<!--<img src=\"http://54.243.252.9/ce-4353-webroot/5-Exams/EX2/channelcrosssectionex2-1.png\" width=\"300\" >-->\n",
    "<figcaption>Figure 2: Engineered channel cross-section</figcaption>\n",
    "</figure>\n",
    "\n",
    "The rectangular central channel has n = 0.025, and the two overbanks have n = 0.070.  The bed slope is 0.018.  \n",
    "  \n",
    "Determine:\n",
    "\n",
    "- The total flow rate in cfs for the cross-section for the water surface position shown, considering vertical interfaces between the subsections and including those interfaces in the wetted perimeter. "
   ]
  },
  {
   "cell_type": "code",
   "execution_count": null,
   "metadata": {},
   "outputs": [],
   "source": [
    "# sketch(s) here"
   ]
  },
  {
   "cell_type": "code",
   "execution_count": null,
   "metadata": {},
   "outputs": [],
   "source": [
    "# list known quantities"
   ]
  },
  {
   "cell_type": "code",
   "execution_count": null,
   "metadata": {},
   "outputs": [],
   "source": [
    "# list unknown quantities"
   ]
  },
  {
   "cell_type": "code",
   "execution_count": null,
   "metadata": {},
   "outputs": [],
   "source": [
    "# governing principles"
   ]
  },
  {
   "cell_type": "code",
   "execution_count": null,
   "metadata": {},
   "outputs": [],
   "source": [
    "# solution (step-by-step/computations)"
   ]
  },
  {
   "cell_type": "code",
   "execution_count": null,
   "metadata": {},
   "outputs": [],
   "source": [
    "# discussion"
   ]
  },
  {
   "cell_type": "markdown",
   "metadata": {},
   "source": [
    "---\n",
    "\n",
    "### Problem 3\n",
    "A rectangular channel is 8 m wide, has bed slope of 0.0025, and Manning roughness of 0.020.  \n",
    "\n",
    "Determine\n",
    "\n",
    "- The flow rate in $\\frac{m^3}{sec}$ if the normal depth is 4.1 m for this channel. \n",
    "- The critical depth in m for this channel.  \n",
    "- Whether the channel slope is mild or steep.\n",
    "- The depth of flow in the channel at the point where x = 115 m is 2.0 m.  Complete the direct step method table below and find the x-positions of the next two depth values shown below.  Show the equations used and demonstrate the calculations for one row across the table.  \n",
    "\n",
    "|y (m)|A (m2)|P (m)|R (m)|V (m/s)|E (m)|$S_e$|$S_{ebar}$|∆E (m)|∆x (m)|$\\sum{x}$(m)|\n",
    "|:----|:-----|:----|:----|:----|:----|:---|:----|:----|:----|:---|\n",
    "|2.0|??|||||||||115|\n",
    "|2.2|||||||||||\n",
    "|2.4|||||||||||\n",
    "\n"
   ]
  },
  {
   "cell_type": "code",
   "execution_count": null,
   "metadata": {},
   "outputs": [],
   "source": [
    "# sketch(s) here"
   ]
  },
  {
   "cell_type": "code",
   "execution_count": null,
   "metadata": {},
   "outputs": [],
   "source": [
    "# list known quantities"
   ]
  },
  {
   "cell_type": "code",
   "execution_count": null,
   "metadata": {},
   "outputs": [],
   "source": [
    "# list unknown quantities"
   ]
  },
  {
   "cell_type": "code",
   "execution_count": null,
   "metadata": {},
   "outputs": [],
   "source": [
    "# governing principles"
   ]
  },
  {
   "cell_type": "code",
   "execution_count": null,
   "metadata": {},
   "outputs": [],
   "source": [
    "# solution (step-by-step) "
   ]
  },
  {
   "cell_type": "code",
   "execution_count": null,
   "metadata": {},
   "outputs": [],
   "source": [
    "# discussion"
   ]
  },
  {
   "cell_type": "markdown",
   "metadata": {},
   "source": [
    "---\n",
    "\n",
    "### Problem 4\n",
    "\n",
    "A rectangular box culvert, 5 ft wide by 4 ft tall, with 90° headwall with 33.7° bevels, will be used to carry a flow of 180 cfs.  The culvert is 150 ft long with a natural slope of 1.5%.  The tailwater depth is 3.0 ft above the outlet invert.  The streambed elevation at the culvert inlet is 205.0 ft, which also aligns with the upstream culvert inlet.  The maximum allowable headwater elevation is 212.0 ft.  \n",
    "\n",
    "Determine\n",
    "\n",
    "- Whether the headwater condition is met at this design flow rate.  "
   ]
  },
  {
   "cell_type": "code",
   "execution_count": null,
   "metadata": {},
   "outputs": [],
   "source": [
    "# sketch(s) here"
   ]
  },
  {
   "cell_type": "code",
   "execution_count": null,
   "metadata": {},
   "outputs": [],
   "source": [
    "# list known quantities"
   ]
  },
  {
   "cell_type": "code",
   "execution_count": null,
   "metadata": {},
   "outputs": [],
   "source": [
    "# list unknown quantities"
   ]
  },
  {
   "cell_type": "code",
   "execution_count": null,
   "metadata": {},
   "outputs": [],
   "source": [
    "# governing principles"
   ]
  },
  {
   "cell_type": "code",
   "execution_count": null,
   "metadata": {},
   "outputs": [],
   "source": [
    "# solution (step-by-step) "
   ]
  },
  {
   "cell_type": "code",
   "execution_count": null,
   "metadata": {},
   "outputs": [],
   "source": [
    "# discussion"
   ]
  },
  {
   "cell_type": "markdown",
   "metadata": {},
   "source": [
    "---\n",
    "\n",
    "### Problem 5 "
   ]
  },
  {
   "cell_type": "markdown",
   "metadata": {},
   "source": [
    "Assume the following channel slopes occur in a prismatic open channel depicted in Figure 5.  Note where the water surface begins on the left. Number the water surface curves with a 1 if the water surface is above both $y_c$ and $y_o$, 2 if the water surface is between $y_c$ and $y_o$, and 3 if the water surface is below both $y_c$ and $y_o$.   \n",
    "\n",
    "<figure align=\"center\">\n",
    "<img src=\"./free-overfallex2-5.png\" width=\"600\" >\n",
    "<!--<img src=\"http://54.243.252.9/ce-4353-webroot/5-Exams/EX2/free-overfall2-5.png\" width=\"300\" >-->\n",
    "<figcaption>Figure 5: Engineered channel profile view</figcaption>\n",
    "</figure>\n",
    "\n",
    "Determine \n",
    "\n",
    "- Label $y_c$ and $y_o$ for each reach (state if $y_o$ is infinite).  \n",
    "- Label the bed slopes.\n",
    "- Label the control points.\n",
    "- Draw a possible gradually varied flow profile and label all the curves (letter and number).  \n"
   ]
  },
  {
   "cell_type": "code",
   "execution_count": null,
   "metadata": {},
   "outputs": [],
   "source": [
    "# sketch(s) here"
   ]
  },
  {
   "cell_type": "code",
   "execution_count": null,
   "metadata": {},
   "outputs": [],
   "source": [
    "# list known quantities"
   ]
  },
  {
   "cell_type": "code",
   "execution_count": null,
   "metadata": {},
   "outputs": [],
   "source": [
    "# list unknown quantities"
   ]
  },
  {
   "cell_type": "code",
   "execution_count": null,
   "metadata": {},
   "outputs": [],
   "source": [
    "# governing principles"
   ]
  },
  {
   "cell_type": "code",
   "execution_count": null,
   "metadata": {},
   "outputs": [],
   "source": [
    "# solution (step-by-step) "
   ]
  },
  {
   "cell_type": "code",
   "execution_count": null,
   "metadata": {},
   "outputs": [],
   "source": [
    "# discussion"
   ]
  },
  {
   "cell_type": "markdown",
   "metadata": {},
   "source": [
    "---\n",
    "\n",
    "### Problem 6 \n",
    "\n",
    "Students enrolled in CE 4353 omit this problem."
   ]
  },
  {
   "cell_type": "markdown",
   "metadata": {},
   "source": [
    "Assume the following channel slopes occur in a prismatic open channel.  Note where the water surface begins on the left, as well as where it ends on the right.\n",
    "\n",
    "<figure align=\"center\">\n",
    "<img src=\"./overfallex2-6.png\" width=\"600\" >\n",
    "<!--<img src=\"http://54.243.252.9/ce-4353-webroot/5-Exams/EX2/overfallex2-6.png\" width=\"300\" >-->\n",
    "<figcaption>Figure 6: Engineered channel profile view</figcaption>\n",
    "</figure>\n",
    "\n",
    "Determine \n",
    "\n",
    "- Label $y_c$ and $y_o$ for each reach (state if $y_o$ is infinite).  \n",
    "- Label the bed slopes.\n",
    "- Label the control points.\n",
    "- Draw a possible gradually varied flow profile and label all the curves (letter and number).  \n"
   ]
  },
  {
   "cell_type": "code",
   "execution_count": null,
   "metadata": {},
   "outputs": [],
   "source": [
    "# sketch(s) here"
   ]
  },
  {
   "cell_type": "code",
   "execution_count": null,
   "metadata": {},
   "outputs": [],
   "source": [
    "# list known quantities"
   ]
  },
  {
   "cell_type": "code",
   "execution_count": null,
   "metadata": {},
   "outputs": [],
   "source": [
    "# list unknown quantities"
   ]
  },
  {
   "cell_type": "code",
   "execution_count": null,
   "metadata": {},
   "outputs": [],
   "source": [
    "# governing principles"
   ]
  },
  {
   "cell_type": "code",
   "execution_count": null,
   "metadata": {},
   "outputs": [],
   "source": [
    "# solution (step-by-step) "
   ]
  },
  {
   "cell_type": "code",
   "execution_count": null,
   "metadata": {},
   "outputs": [],
   "source": [
    "# discussion"
   ]
  }
 ],
 "metadata": {
  "kernelspec": {
   "display_name": "Python 3",
   "language": "python",
   "name": "python3"
  },
  "language_info": {
   "codemirror_mode": {
    "name": "ipython",
    "version": 3
   },
   "file_extension": ".py",
   "mimetype": "text/x-python",
   "name": "python",
   "nbconvert_exporter": "python",
   "pygments_lexer": "ipython3",
   "version": "3.8.10"
  }
 },
 "nbformat": 4,
 "nbformat_minor": 4
}
