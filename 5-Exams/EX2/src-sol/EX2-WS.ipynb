{
 "cells": [
  {
   "cell_type": "markdown",
   "metadata": {},
   "source": [
    "**Download** (right-click, save target as ...) this page as a Jupyterlab notebook from: [EX-2](http://54.243.252.9/ce-4353-webroot/5-Exams/EX2/EX2.ipynb)\n",
    "\n",
    "___"
   ]
  },
  {
   "cell_type": "markdown",
   "metadata": {},
   "source": [
    "# <font color=darkblue>CE 4353/5360 Design of Hydraulic Systems <br> Fall 2022 Exam 2</font>\n",
    "\n",
    "**LAST NAME, FIRST NAME**\n",
    "\n",
    "**R00000000**\n",
    "\n",
    "___\n",
    "\n",
    "### Purpose : \n",
    "Demonstrate ability to apply oen channel hydraulic design principles to ....\n",
    "\n",
    "### Additional Instructions\n",
    "\n",
    "The test is intended to be completed by downloading the JupyterLab Notebook, then inserting answers/code directly into the notebook - rendering the entire notebook and uploading a PDF copy (and the .ipynb file) to Blackboard.  Students who are unable to complete the test in this fashion will have to manually extract the problem statements and insert worked answers, including computations into a document for uploading.\n"
   ]
  },
  {
   "cell_type": "markdown",
   "metadata": {},
   "source": [
    "___\n",
    "\n",
    "### Problem 1\n",
    "\n",
    "Prepare short answer (written) responses to the list of questions below.\n",
    "\n",
    "> Students enrolled in 4353 choose 5 of the 7 questions.  Students enrolled in 5360 answer all of the questions.  Use complete English sentences as appropriate.  Clearly identify the questions you omit. "
   ]
  },
  {
   "cell_type": "markdown",
   "metadata": {},
   "source": [
    "1.1  Which two important forces must be balanced for normal or uniform depth to occur in open channel flow?  What types of channel conditions are necessary for normal depth to occur?\n",
    "> The two important forces that must be balanced for normal or uniform depth to occur in open \n",
    "channel flow are elevation and friction. Uniform flow can only occur when the cross section \n",
    "in the channel is constant. If the water surface is parallel to the channel bottom, flow is \n",
    "uniform, and the water surface is at normal depth. The type of channel conditions that are \n",
    "necessary for normal depth to occur is that the slope of the water surface must be the same as \n",
    "the channel bottom surface, this makes sure that the depth of flow remain constant.\n",
    "\n",
    "1.2 Explain how the Manning equation can be used to represent frictional energy losses in open channel flow under gradually varied flow conditions (don’t just write an equation, tell how we estimate head loss)?\n",
    "> Manning's equation relates the slope of the energy grade line to section geometry and velocity as \n",
    "$\\frac{h_L}{L} = \\frac{n^2 V^2}{K_n^2 R^{4/3}}$  The geometry information is contained in the hydraulic radius, the velocity term contains the kinetic energy information. Head losses are estimated as the difference between the topographic slope ($s_0$) and slope of the EGL \n",
    "($s_f = \\frac{h_L}{L}$) which is related to the depth taper, $\\frac{dy}{dx}$, by the cross section Froude number.\n",
    "\n",
    "1.3 Why do people debate how to account for different roughness conditions in different portions of compound channel cross-section?  How do we try to deal with this concern?\n",
    "> Compound channels have different channel cross-sections as main channels and flood \n",
    "plains. Each of them might have different roughness and frictional forces and each of them affects \n",
    "the flow in their adjacent channels. So, the total conveyance depends on all these factors. \n",
    "Compound channels are vertically divided into sections with vertical interfaces to calculate the \n",
    "overall flow rate. Difference occurs in considering and not considering the vertical interfaces as \n",
    "wetted perimeter because the interfaces affect the flow. If 2D flow fields were considered similar issues would arise, but the resistance terms could be localized to the computation cell, rather than needing to be averaged across the entire section\n",
    "\n",
    "1.4 What is riprap, and why is it often used in open channel construction?\n",
    "> Riprap is human-places rock or other material used to protect shoreline structures against \n",
    "scour and water, wave, or ice erosion. Riprap is used to armor foundational infrastructure \n",
    "support and other shoreline structures against erosion. Riprap is often used by engineers in \n",
    "open channel construction to create a flexible lining in distinct contrast with a rigid lined \n",
    "channel.\n",
    "\n",
    "1.5 One way to characterize the slope of an open channel reach is the relationship between the normal depth and critical depth.  Identify whether yo is less than or greater than $y_c$ for each of the following slope names.  If $y_o$ is infinite, note that as well.\n",
    "\n",
    "|Slope Type|$y_o$ vs. $y_c$|$y_o$ infinite?||\n",
    "|---|---|---|---|\n",
    "|Mild|$y_o$ > $y_c$|no||\n",
    "|Adverse|$s_o$ < $0~$|yes||\n",
    "|Steep|$y_o$ < $y_c$|no||\n",
    "\n",
    "\n",
    "> Switch to markdown edit mode, and complete the table above\n",
    "\n",
    "1.6 If we want to find the location of a hydraulic jump between two GVF profiles, explain how we combine the direct step method and conservation of momentum to do so  \n",
    "> The direct step method allows us to compute the water level depths for different distances \n",
    "along the channel assuming the depth as a function of distance subject to a boundary condition \n",
    "(normal depth, critical depth, etc.,). To determine the location of the hydraulic jump, the momentum \n",
    "function is computed for each profile. The intersection of momentum function profiles determines \n",
    "the location of the jump.\n",
    "\n",
    "1.7 Explain why we have to check both the inlet and outlet conditions when analyzing a culvert configuration for a given flow rate.  How do we know which one controls?\n",
    "> We must check the inlet and outlet conditions when analyzing a culvert configuration for a given \n",
    "flow rate because it helps engineers determine whether the culvert is under inlet or outlet control. \n",
    "The inlet and outlet control are set by the slope of the stream. In addition, if water can flow \n",
    "through and out of the culvert faster than it can enter then it is under inlet control, but if water \n",
    "can flow into the culvert faster than it can flow through and out then it is under outlet control.\n",
    "\n",
    "1.8 Explain why we prefer to have a performance curve for a culvert, instead of analyzing a single design flow.\n",
    "> We must prefer to have a performance curve for a culvert, instead of analyzing a single design \n",
    "flow because the performance curve shows engineers the overall performance of the culvert \n",
    "rather than the data from a single condition. By using a performance curve, the engineers can see \n",
    "how the culvert functions under different conditions and environmental changes. A performance \n",
    "curve is flow rate plots containing variables such as depth, elevation, velocity, or outlet scour, \n",
    "that help the engineers analyze the culvert more accurately than a single design flow."
   ]
  },
  {
   "cell_type": "markdown",
   "metadata": {},
   "source": [
    "---\n",
    "\n",
    "### Problem 2\n",
    "A compound channel has the cross-section shape shown in Figure 2 below.  \n",
    "\n",
    "<figure align=\"center\">\n",
    "<!--<img src=\"./channelcrosssectionex2-1.png\" width=\"600\" >-->\n",
    "<img src=\"http://54.243.252.9/ce-4353-webroot/5-Exams/EX2/channelcrosssectionex2-1.png\" width=\"600\" >\n",
    "<figcaption>Figure 2: Engineered channel cross-section</figcaption>\n",
    "</figure>\n",
    "\n",
    "The rectangular central channel has n = 0.025, and the two overbanks have n = 0.070.  The bed slope is 0.018.  \n",
    "  \n",
    "Determine:\n",
    "\n",
    "- The total flow rate in cfs for the cross-section for the water surface position shown, considering vertical interfaces between the subsections and including those interfaces in the wetted perimeter. "
   ]
  },
  {
   "cell_type": "markdown",
   "metadata": {},
   "source": [
    "# sketch(s) here\n",
    "\n",
    "![](composite-section.png)"
   ]
  },
  {
   "cell_type": "code",
   "execution_count": 195,
   "metadata": {},
   "outputs": [],
   "source": [
    "# list known quantities"
   ]
  },
  {
   "cell_type": "code",
   "execution_count": null,
   "metadata": {},
   "outputs": [],
   "source": [
    "# list unknown quantities"
   ]
  },
  {
   "cell_type": "markdown",
   "metadata": {},
   "source": [
    "# governing principles\n",
    "\n",
    "![](equations-pr2-1.png)"
   ]
  },
  {
   "cell_type": "code",
   "execution_count": null,
   "metadata": {},
   "outputs": [],
   "source": [
    "# solution (step-by-step/computations)"
   ]
  },
  {
   "cell_type": "code",
   "execution_count": 187,
   "metadata": {},
   "outputs": [],
   "source": [
    "# prototype functions\n",
    "def A_L(depth,offset,width,side_slope):\n",
    "    y_L = depth-offset\n",
    "    if y_L <= 0:\n",
    "        A_L = 0.0\n",
    "    elif y_L > 0:\n",
    "        A_L = y_L*width+0.5*side_slope*y_L**2\n",
    "    return(A_L)\n",
    "\n",
    "def A_R(depth,offset,width,side_slope):\n",
    "    y_R = depth-offset\n",
    "    if y_R <= 0:\n",
    "        A_R = 0.0\n",
    "    elif y_R > 0:\n",
    "        A_R = y_R*width+0.5*side_slope*y_R**2\n",
    "    return(A_R)\n",
    "\n",
    "def A_C(depth,width):\n",
    "    A_C = depth*width\n",
    "    return(A_C)\n",
    "\n",
    "def P_L(depth,offset,width,side_slope):\n",
    "    y_L = depth-offset\n",
    "    if y_L <= 0:\n",
    "        P_L = 0.0001\n",
    "    elif y_L > 0:\n",
    "        P_L = y_L+width+((1+side_slope**2)*y_L**2)**(1/2)\n",
    "    return(P_L)  \n",
    "\n",
    "def P_R(depth,offset,width,side_slope):\n",
    "    y_R = depth-offset\n",
    "    if y_R <= 0:\n",
    "        P_R = 0.0001\n",
    "    elif y_R > 0:\n",
    "        P_R = y_R+width+((1+side_slope**2)*y_R**2)**(1/2)\n",
    "    return(P_R)  \n",
    "\n",
    "def P_C(depth,width):\n",
    "    P_C = 2.0*depth+width\n",
    "    return(P_C)\n",
    "\n",
    "def Qman(K,n,A,R,S):\n",
    "    Qman = (K/n)*A*(R**(2/3))*(S**(1/2))\n",
    "    return(Qman)"
   ]
  },
  {
   "cell_type": "code",
   "execution_count": 192,
   "metadata": {},
   "outputs": [
    {
     "name": "stdout",
     "output_type": "stream",
     "text": [
      "Depth (ft)|Area (ft^2)|Discharge (CFS)|\n",
      "1.0       |    20.0 | 150.08 |\n",
      "2.0       |    40.0 | 449.62 |\n",
      "3.0       |    60.0 | 837.82 |\n",
      "4.0       |    80.0 | 1288.03 |\n",
      "5.0       |    132.08 | 1815.52 |\n",
      "6.0       |    314.88 | 2931.06 |\n",
      "7.0       |    501.68 | 4556.67 |\n",
      "8.0       |    692.48 | 6583.86 |\n",
      "9.0       |    887.28 | 8959.61 |\n"
     ]
    }
   ],
   "source": [
    "bed_slope = 0.018\n",
    "side_slope = 2\n",
    "n_L = n_R = 0.070\n",
    "n_C = 0.025\n",
    "K = 1.49\n",
    "w_L = w_R = 80.0\n",
    "w_C = 20.0\n",
    "offset = 4.8\n",
    "# make a table\n",
    "print(\"Depth (ft)|Area (ft^2)|Discharge (CFS)|\")\n",
    "for idepth in range(1,10):\n",
    "    depth = float(idepth)\n",
    "    areaL = A_L(depth,offset,w_L,side_slope)\n",
    "    periL = P_L(depth,offset,w_L,side_slope)\n",
    "    radiL = areaL/periL\n",
    "    QL = Qman(K,n_L,areaL,radiL,bed_slope)\n",
    "    areaR = A_R(depth,offset,w_R,side_slope)\n",
    "    periR = P_R(depth,offset,w_R,side_slope)\n",
    "    radiR = areaR/periR\n",
    "    QR = Qman(K,n_R,areaR,radiR,bed_slope)\n",
    "    areaC = A_C(depth,w_C)\n",
    "    periC = P_C(depth,w_C)\n",
    "    radiC = areaC/periC\n",
    "    QC = Qman(K,n_C,areaC,radiC,bed_slope)\n",
    "    areaT = areaL + areaR + areaC\n",
    "    Qtotal = QL + QR + QC\n",
    "    print(round(depth,1),\"      |   \",round(areaT,2),\"|\",round(Qtotal,2),\"|\")"
   ]
  },
  {
   "cell_type": "code",
   "execution_count": 193,
   "metadata": {},
   "outputs": [],
   "source": [
    "# discussion"
   ]
  },
  {
   "cell_type": "markdown",
   "metadata": {},
   "source": [
    "---\n",
    "\n",
    "### Problem 3\n",
    "A rectangular channel is 8 m wide, has bed slope of 0.0025, and Manning roughness of 0.020.  \n",
    "\n",
    "Determine\n",
    "\n",
    "- The flow rate in $\\frac{m^3}{sec}$ if the normal depth is 4.1 m for this channel. \n",
    "- The critical depth in m for this channel.  \n",
    "- Whether the channel slope is mild or steep.\n",
    "- The depth of flow in the channel at the point where x = 115 m is 2.0 m.  Complete the direct step method table below and find the x-positions of the next two depth values shown below.  Show the equations used and demonstrate the calculations for one row across the table.  \n",
    "\n",
    "|y (m)|A (m2)|P (m)|R (m)|V (m/s)|E (m)|$S_e$|$S_{ebar}$|∆E (m)|∆x (m)|$\\sum{x}$(m)|\n",
    "|:----|:-----|:----|:----|:----|:----|:---|:----|:----|:----|:---|\n",
    "|2.0|??|||||||||115|\n",
    "|2.2|||||||||||\n",
    "|2.4|||||||||||\n",
    "\n"
   ]
  },
  {
   "cell_type": "code",
   "execution_count": 67,
   "metadata": {},
   "outputs": [],
   "source": [
    "# sketch(s) here"
   ]
  },
  {
   "cell_type": "code",
   "execution_count": 68,
   "metadata": {},
   "outputs": [],
   "source": [
    "# list known quantities"
   ]
  },
  {
   "cell_type": "code",
   "execution_count": 69,
   "metadata": {},
   "outputs": [],
   "source": [
    "# list unknown quantities"
   ]
  },
  {
   "cell_type": "code",
   "execution_count": 70,
   "metadata": {},
   "outputs": [],
   "source": [
    "# governing principles"
   ]
  },
  {
   "cell_type": "code",
   "execution_count": 111,
   "metadata": {},
   "outputs": [],
   "source": [
    "# solution (step-by-step) \n",
    "\n",
    "## prototype functions\n",
    "def A(width,depth):\n",
    "    A = width*depth\n",
    "    return(A)\n",
    "def P(width,depth):\n",
    "    P = 2*depth+width\n",
    "    return(P)\n",
    "def R(width,depth):\n",
    "    R = A(width,depth)/P(width,depth)\n",
    "    return(R)\n",
    "def V(discharge,area):\n",
    "    V = discharge/area\n",
    "    return(V)\n",
    "def SpNRG(width,depth,discharge,gravity):\n",
    "    SpNRG = depth + (V(discharge,A(width,depth))**2)/(2*gravity)\n",
    "    return(SpNRG)\n",
    "def Sfric(man,velocity,radius,konstant):\n",
    "    Sfric = ((man*velocity)/(konstant*radius**(2/3)))**2\n",
    "    return(Sfric)\n",
    "def Qman(man,depth,width,slope,konstant):\n",
    "    Qman = (konstant/man)*A(width,depth)*(R(width,depth)**(2/3))*slope**(1/2)\n",
    "    return(Qman)\n",
    "def ycrit(width,discharge,gravity): # critical depth in a rectangular channel\n",
    "    ycrit = (((discharge/width)**2)/gravity)**(1.0/3.0) # sneaky cube root here!\n",
    "    return(ycrit)"
   ]
  },
  {
   "cell_type": "code",
   "execution_count": 112,
   "metadata": {},
   "outputs": [
    {
     "name": "stdout",
     "output_type": "stream",
     "text": [
      "Discharge at depth y =  4.1  meters is  131.2  cms\n"
     ]
    }
   ],
   "source": [
    "y = 4.1 # given\n",
    "w = 8.0 # given\n",
    "s = 0.0025 # given\n",
    "n = 0.020 # given\n",
    "k = 1.0 # SI units\n",
    "g = 9.81 # SI units\n",
    "q = Qman(n,y,w,s,k)\n",
    "print(\"Discharge at depth y = \",y,\" meters is \",round(q,1),\" cms\")"
   ]
  },
  {
   "cell_type": "code",
   "execution_count": 113,
   "metadata": {},
   "outputs": [
    {
     "name": "stdout",
     "output_type": "stream",
     "text": [
      "Critical depth y_c =  3.0\n"
     ]
    }
   ],
   "source": [
    "print(\"Critical depth y_c = \",round(ycrit(w,q,g),1))"
   ]
  },
  {
   "cell_type": "markdown",
   "metadata": {},
   "source": [
    "$y_n = 4.1 > y_c = 3.0$ thus slope is mild (pg XX Sturm)\n",
    "\n",
    "Now complete the table:"
   ]
  },
  {
   "cell_type": "code",
   "execution_count": 159,
   "metadata": {},
   "outputs": [
    {
     "name": "stdout",
     "output_type": "stream",
     "text": [
      "y(m)|A(m^2)| P(m) |  R(m) |V(m/s) |  E(m) | S_f  | S_fbar |DE | DX| SumX |\n",
      "2.0 | 16.0 | 12.0 | 1.333 | 8.202 | 5.429 | 0.018 | 0.018 | 0 | 0 | 115 |\n",
      "2.2 | 17.6 | 12.4 | 1.419 | 7.457 | 5.034 | 0.014 | 0.016 | -0.395 | 29.0 | 144.0 |\n",
      "2.4 | 19.2 | 12.8 | 1.5 | 6.835 | 4.781 | 0.011 | 0.012 | -0.253 | 25.5 | 169.5 |\n"
     ]
    },
    {
     "data": {
      "image/png": "[encoded data removed]",
      "text/plain": [
       "<Figure size 720x360 with 1 Axes>"
      ]
     },
     "metadata": {
      "needs_background": "light"
     },
     "output_type": "display_data"
    }
   ],
   "source": [
    "yy = [2.0,2.2,2.4]\n",
    "aa = [0 for i in range(3)]\n",
    "pp = [0 for i in range(3)]\n",
    "rr = [0 for i in range(3)]\n",
    "vv = [0 for i in range(3)]\n",
    "ee = [0 for i in range(3)]\n",
    "se = [0 for i in range(3)]\n",
    "sebar = [0 for i in range(3)]\n",
    "de = [0 for i in range(3)]\n",
    "dx = [0 for i in range(3)]\n",
    "sumx = [0 for i in range(3)]\n",
    "\n",
    "for irow in range(3):\n",
    "    aa[irow]= A(w,yy[irow])\n",
    "    pp[irow]= P(w,yy[irow])\n",
    "    rr[irow]= R(w,yy[irow])\n",
    "    vv[irow]= V(q,aa[irow])\n",
    "    ee[irow]= SpNRG(w,yy[irow],q,g)\n",
    "    se[irow]= Sfric(n,vv[irow],rr[irow],k)\n",
    "\n",
    "sebar[0]=se[0]\n",
    "sumx[0]=115 #given\n",
    "for irow in range(1,3):\n",
    "    sebar[irow] = 0.5*(se[irow]+se[irow-1])\n",
    "    de[irow] = ee[irow]-ee[irow-1]\n",
    "    dx[irow] = de[irow]/(s-sebar[irow])\n",
    "    sumx[irow]=sumx[irow-1]+dx[irow]\n",
    "\n",
    "print(\"y(m)|A(m^2)| P(m) |  R(m) |V(m/s) |  E(m) | S_f  | S_fbar |DE | DX| SumX |\")\n",
    "for irow in range(3):\n",
    "    print(round(yy[irow],3),\"|\",round(aa[irow],3),\"|\",round(pp[irow],3),\"|\",round(rr[irow],3),\n",
    "          \"|\",round(vv[irow],3),\"|\",round(ee[irow],3),\"|\",round(se[irow],3),\"|\",round(sebar[irow],3),\"|\",round(de[irow],3),\n",
    "          \"|\",round(dx[irow],1),\"|\",round(sumx[irow],1),\"|\")\n",
    "   \n",
    "\n",
    "bse      = [0 for i in range(3)] #channel bottom elevation\n",
    "wse      = [0 for i in range(3)] #water surface elevation\n",
    "distance = [115 for i in range(3)] #station locations\n",
    "wse[0]=bse[0]+depth[0] # water surface at control point\n",
    "for i in range(1,3):\n",
    "    distance[i] = distance[i-1]+dx[i]; # station distances\n",
    "    bse[i] = bse[i-1]-dx[i]*s; # bottom elevations\n",
    "    wse[i] = bse[i]+yy[i] # water surface elevations\n",
    "import matplotlib.pyplot as plt # the python plotting library\n",
    "plottitle ='Water Surface Profile for Q=' + str(round(discharge,1)) + ' CMS '\n",
    "mydata = plt.figure(figsize = (10,5)) # build a square drawing canvass from figure class\n",
    "plt.plot(distance, bse, c='black', linewidth=6) # basic line plot\n",
    "plt.plot(distance, wse, c='blue', linewidth= 6) # basic line plot\n",
    "plt.legend(['Channel Bottom','Water Surface'])\n",
    "plt.xlabel('Station Location (meters)')\n",
    "plt.ylabel('Elevation (meters)')\n",
    "plt.title(plottitle)\n",
    "plt.show()"
   ]
  },
  {
   "cell_type": "code",
   "execution_count": 75,
   "metadata": {},
   "outputs": [],
   "source": [
    "# discussion\n"
   ]
  },
  {
   "cell_type": "markdown",
   "metadata": {},
   "source": [
    "---\n",
    "\n",
    "### Problem 4\n",
    "\n",
    "A rectangular box culvert, 5 ft wide by 4 ft tall, with 90° headwall with 33.7° bevels, will be used to carry a flow of 180 cfs.  The culvert is 150 ft long with a natural slope of 1.5%.  The tailwater depth is 3.0 ft above the outlet invert.  The streambed elevation at the culvert inlet is 205.0 ft, which also aligns with the upstream culvert inlet.  The maximum allowable headwater elevation is 212.0 ft.  \n",
    "\n",
    "Determine\n",
    "\n",
    "- Whether the headwater condition is met at this design flow rate.  "
   ]
  },
  {
   "cell_type": "markdown",
   "metadata": {},
   "source": [
    "# sketch(s) here\n",
    "\n",
    "![](culvert-drawing.png)"
   ]
  },
  {
   "cell_type": "code",
   "execution_count": 77,
   "metadata": {},
   "outputs": [],
   "source": [
    "# list known quantities"
   ]
  },
  {
   "cell_type": "code",
   "execution_count": 78,
   "metadata": {},
   "outputs": [],
   "source": [
    "# list unknown quantities"
   ]
  },
  {
   "cell_type": "markdown",
   "metadata": {},
   "source": [
    "# governing principles\n",
    "\n",
    "Determine inverts up/down\n",
    "\n",
    "![](inverts.png)\n",
    "\n",
    "Assume outlet control, check critical depth, determine outlet depth\n",
    "\n",
    "![](outletctrl.png)\n",
    "\n",
    "![](outletctrl2.png)\n",
    "\n",
    "Assume inlet control determine upstream depth. \n",
    "\n",
    "![](inletctrl.png)\n",
    "\n",
    "Use data tables below as needed in solution script\n",
    "\n",
    "![](table16-2-1.png)\n",
    "\n",
    "![](table16-2-2.png)\n",
    "\n",
    "![](table16-2-3.png)\n",
    "\n",
    "Use figure below to check outlet depth\n",
    "\n",
    "![](fig16-2-9.png)\n"
   ]
  },
  {
   "cell_type": "code",
   "execution_count": 179,
   "metadata": {},
   "outputs": [
    {
     "name": "stdout",
     "output_type": "stream",
     "text": [
      "tailwater depth         3.0\n",
      "critical depth          3.43\n",
      "tailwater soffit height 4.0\n",
      "probably outlet control see figure 16.2.9 Mays Ch. 16\n",
      "outlet depth is critical then drops to TW\n",
      "head loss through culvert (assume full flow) eqn 16.2.4b  2.194\n",
      "outlet based HW elevation  210.62\n",
      "HW elevation is submerged, check inlet control\n",
      "inlet control HW elevation  210.34\n",
      "HW elevation at design flow  210.62\n"
     ]
    }
   ],
   "source": [
    "# solution\n",
    "L = 150.0 # given\n",
    "So = 0.015 # given\n",
    "TW = 3.0 # given\n",
    "B = 5.0 # given\n",
    "D = 4.0\n",
    "Q = 180.0 # given\n",
    "g = 32.2 # given\n",
    "ZHW = 205 # given\n",
    "ZTW = 202.5 # given\n",
    "n = 0.012 # Table 16.2.2  Mays Ch 16\n",
    "Ke = 0.2 # Table 16.2.3 Mays Ch 16\n",
    "yc = ((Q/B)**2/g)**(1/3)\n",
    "print(\"tailwater depth        \",round(TW,2))\n",
    "print(\"critical depth         \",round(yc,2))\n",
    "print(\"tailwater soffit height\",round(D,2))\n",
    "print(\"probably outlet control see figure 16.2.9 Mays Ch. 16\")\n",
    "print(\"outlet depth is critical then drops to TW\")\n",
    "\n",
    "V = Q/(B*D) # full culvert area\n",
    "R = (B*D)/(2*(B+D))\n",
    "HL = ( 1+Ke+(29*(n**2)*L)/(R**(1.33)) )*((V**2)/(2*g)) # Eq. 16.2.4b (US Customary) Mays Ch 16\n",
    "\n",
    "print(\"head loss through culvert (assume full flow) eqn 16.2.4b \", round(HL,3))\n",
    "HW_O = yc + HL + ZHW\n",
    "print(\"outlet based HW elevation \",round(HW_O,2))\n",
    "print(\"HW elevation is submerged, check inlet control\")\n",
    "\n",
    "C = 0.0249\n",
    "Y = 0.83\n",
    "Z = -0.5*So\n",
    "\n",
    "HW_I = D*(C*(Q/(B*D*D**(1/2)))**2 + Y) + ZHW\n",
    "print(\"inlet control HW elevation \",round(HW_I,2))\n",
    "print(\"HW elevation at design flow \",round(max(HW_I,HW_O),2))"
   ]
  },
  {
   "cell_type": "markdown",
   "metadata": {},
   "source": [
    "# discussion\n",
    "HW is below maximum allowable, thus conditions met for given design flow and TW elevation"
   ]
  },
  {
   "cell_type": "markdown",
   "metadata": {},
   "source": [
    "---\n",
    "\n",
    "### Problem 5 "
   ]
  },
  {
   "cell_type": "markdown",
   "metadata": {},
   "source": [
    "Assume the following channel slopes occur in a prismatic open channel depicted in Figure 5.  Note where the water surface begins on the left. Number the water surface curves with a 1 if the water surface is above both $y_c$ and $y_o$, 2 if the water surface is between $y_c$ and $y_o$, and 3 if the water surface is below both $y_c$ and $y_o$.   \n",
    "\n",
    "\n",
    "\n",
    "<figure align=\"center\">\n",
    "<!--<img src=\"./free-overfallex2-5.png\" width=\"600\" >-->\n",
    "<img src=\"http://54.243.252.9/ce-4353-webroot/5-Exams/EX2/free-overfallex2-5.png\" width=\"600\" >\n",
    "<figcaption>Figure 5: Engineered channel profile view</figcaption>\n",
    "</figure>\n",
    "\n",
    "Determine \n",
    "\n",
    "- Label $y_c$ and $y_o$ for each reach (state if $y_o$ is infinite).  \n",
    "- Label the bed slopes.\n",
    "- Label the control points.\n",
    "- Draw a possible gradually varied flow profile and label all the curves (letter and number).  \n"
   ]
  },
  {
   "cell_type": "markdown",
   "metadata": {},
   "source": [
    "# sketch(s) here\n",
    "\n",
    "![](free-willy.png)"
   ]
  },
  {
   "cell_type": "code",
   "execution_count": 181,
   "metadata": {},
   "outputs": [],
   "source": [
    "# list known quantities"
   ]
  },
  {
   "cell_type": "code",
   "execution_count": 182,
   "metadata": {},
   "outputs": [],
   "source": [
    "# list unknown quantities"
   ]
  },
  {
   "cell_type": "code",
   "execution_count": 183,
   "metadata": {},
   "outputs": [],
   "source": [
    "# governing principles"
   ]
  },
  {
   "cell_type": "code",
   "execution_count": 184,
   "metadata": {},
   "outputs": [],
   "source": [
    "# solution (step-by-step) "
   ]
  },
  {
   "cell_type": "code",
   "execution_count": 185,
   "metadata": {},
   "outputs": [],
   "source": [
    "# discussion"
   ]
  },
  {
   "cell_type": "markdown",
   "metadata": {},
   "source": [
    "---\n",
    "\n",
    "### Problem 6 \n",
    "\n",
    "Students enrolled in CE 4353 omit this problem."
   ]
  },
  {
   "cell_type": "markdown",
   "metadata": {},
   "source": [
    "Assume the following channel slopes occur in a prismatic open channel.  Note where the water surface begins on the left, as well as where it ends on the right.\n",
    "\n",
    "\n",
    "\n",
    "<figure align=\"center\">\n",
    "<!--<img src=\"./overfallex2-6.png\" width=\"600\" >-->\n",
    "<img src=\"http://54.243.252.9/ce-4353-webroot/5-Exams/EX2/overfallex2-6.png\" width=\"600\" >\n",
    "<figcaption>Figure 6: Engineered channel profile view</figcaption>\n",
    "</figure>\n",
    "\n",
    "Determine \n",
    "\n",
    "- Label $y_c$ and $y_o$ for each reach (state if $y_o$ is infinite).  \n",
    "- Label the bed slopes.\n",
    "- Label the control points.\n",
    "- Draw a possible gradually varied flow profile and label all the curves (letter and number).  \n"
   ]
  },
  {
   "cell_type": "markdown",
   "metadata": {},
   "source": [
    "# sketch(s) here\n",
    "\n",
    "![](no-free-willy.png)"
   ]
  },
  {
   "cell_type": "code",
   "execution_count": 89,
   "metadata": {},
   "outputs": [],
   "source": [
    "# list known quantities"
   ]
  },
  {
   "cell_type": "code",
   "execution_count": 90,
   "metadata": {},
   "outputs": [],
   "source": [
    "# list unknown quantities"
   ]
  },
  {
   "cell_type": "code",
   "execution_count": 91,
   "metadata": {},
   "outputs": [],
   "source": [
    "# governing principles"
   ]
  },
  {
   "cell_type": "code",
   "execution_count": 92,
   "metadata": {},
   "outputs": [],
   "source": [
    "# solution (step-by-step) "
   ]
  },
  {
   "cell_type": "code",
   "execution_count": 93,
   "metadata": {},
   "outputs": [],
   "source": [
    "# discussion"
   ]
  },
  {
   "cell_type": "code",
   "execution_count": null,
   "metadata": {},
   "outputs": [],
   "source": []
  }
 ],
 "metadata": {
  "kernelspec": {
   "display_name": "Python 3",
   "language": "python",
   "name": "python3"
  },
  "language_info": {
   "codemirror_mode": {
    "name": "ipython",
    "version": 3
   },
   "file_extension": ".py",
   "mimetype": "text/x-python",
   "name": "python",
   "nbconvert_exporter": "python",
   "pygments_lexer": "ipython3",
   "version": "3.8.10"
  }
 },
 "nbformat": 4,
 "nbformat_minor": 4
}
