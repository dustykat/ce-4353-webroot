{
 "cells": [
  {
   "cell_type": "markdown",
   "metadata": {},
   "source": [
    "**Download** (right-click, save target as ...) this page as a Jupyterlab notebook from: [EX-2](http://54.243.252.9/ce-4353-webroot/5-Exams/EX2/EX2.ipynb)\n",
    "\n",
    "___"
   ]
  },
  {
   "cell_type": "markdown",
   "metadata": {},
   "source": [
    "# <font color=darkblue>CE 4353/5360 Design of Hydraulic Systems <br> Fall 2022 Exam 2</font>\n",
    "\n",
    "**Williams, Henry**\n",
    "\n",
    "**R11586055**\n",
    "\n",
    "___\n",
    "\n",
    "### Purpose : \n",
    "Demonstrate ability to apply oen channel hydraulic design principles to ....\n",
    "\n",
    "### Additional Instructions\n",
    "\n",
    "The test is intended to be completed by downloading the JupyterLab Notebook, then inserting answers/code directly into the notebook - rendering the entire notebook and uploading a PDF copy (and the .ipynb file) to Blackboard.  Students who are unable to complete the test in this fashion will have to manually extract the problem statements and insert worked answers, including computations into a document for uploading.\n"
   ]
  },
  {
   "cell_type": "markdown",
   "metadata": {},
   "source": [
    "___\n",
    "\n",
    "### Problem 1\n",
    "\n",
    "Prepare short answer (written) responses to the list of questions below.\n",
    "\n",
    "> Students enrolled in 4353 choose 5 of the 7 questions.  Students enrolled in 5360 answer all of the questions.  Use complete English sentences as appropriate.  Clearly identify the questions you omit. "
   ]
  },
  {
   "cell_type": "markdown",
   "metadata": {},
   "source": [
    "1.1  Which two important forces must be balanced for normal or uniform depth to occur in open channel flow?  What types of channel conditions are necessary for normal depth to occur?\n",
    "\n",
    "    Resistance to flow and driving force\n",
    "\n",
    "1.2 Explain how the Manning equation can be used to represent frictional energy losses in open channel flow under gradually varied flow conditions (don’t just write an equation, tell how we estimate head loss)?\n",
    "> Switch to markdown edit mode, and put your answer here\n",
    "\n",
    "1.3 Why do people debate how to account for different roughness conditions in different portions of compound channel cross-section?  How do we try to deal with this concern?\n",
    "> Switch to markdown edit mode, and put your answer here\n",
    "\n",
    "1.4 What is riprap, and why is it often used in open channel construction?\n",
    "\n",
    "    A flexible lining to protect against erosion, and is typically rock but can be other materials.\n",
    "\n",
    "1.5 One way to characterize the slope of an open channel reach is the relationship between the normal depth and critical depth.  Identify whether yo is less than or greater than $y_c$ for each of the following slope names.  If $y_o$ is infinite, note that as well.\n",
    "\n",
    "|Slope Type|$y_o$ vs. $y_c$|$y_o$ infinite?|\n",
    "|:---|:---|:---|\n",
    "|Mild|??|??|\n",
    "|Adverse|??|??|\n",
    "|Steep|??|??|\n",
    "\n",
    "\n",
    "    For mild yo is greater than yc, for steep slope yo is less that yc, and for adverse yo is infinite.\n",
    "    \n",
    "1.6 If we want to find the location of a hydraulic jump between two GVF profiles, explain how we combine the direct step method and conservation of momentum to do so  \n",
    "> Switch to markdown edit mode, and put your answer here\n",
    "\n",
    "1.7 Explain why we have to check both the inlet and outlet conditions when analyzing a culvert configuration for a given flow rate.  How do we know which one controls?\n",
    "\n",
    "    The larger HW chooses which controls and we check both to see if the inlet can take as much flow as allowed or if the outlet can take as much flow as the inlet is allowed.\n",
    "\n",
    "1.8 Explain why we prefer to have a performance curve for a culvert, instead of analyzing a single design flow.\n",
    "\n",
    "    The design process is iterative and finding the most cost effective or best performing design is the goal of having the performance curve based on different materials or sizes."
   ]
  },
  {
   "cell_type": "markdown",
   "metadata": {},
   "source": [
    "---\n",
    "\n",
    "### Problem 2\n",
    "A compound channel has the cross-section shape shown in Figure 2 below.  \n",
    "\n",
    "<figure align=\"center\">\n",
    "<!--<img src=\"./channelcrosssectionex2-1.png\" width=\"600\" >-->\n",
    "<img src=\"http://54.243.252.9/ce-4353-webroot/5-Exams/EX2/channelcrosssectionex2-1.png\" width=\"600\" >\n",
    "<figcaption>Figure 2: Engineered channel cross-section</figcaption>\n",
    "</figure>\n",
    "\n",
    "The rectangular central channel has n = 0.025, and the two overbanks have n = 0.070.  The bed slope is 0.018.  \n",
    "  \n",
    "Determine:\n",
    "\n",
    "- The total flow rate in cfs for the cross-section for the water surface position shown, considering vertical interfaces between the subsections and including those interfaces in the wetted perimeter. "
   ]
  },
  {
   "cell_type": "code",
   "execution_count": 1,
   "metadata": {},
   "outputs": [],
   "source": [
    "# sketch(s) here"
   ]
  },
  {
   "cell_type": "code",
   "execution_count": 6,
   "metadata": {},
   "outputs": [],
   "source": [
    "# list known quantities\n",
    "cn=.025 #centralchannel\n",
    "on=.07 #overbank channel\n",
    "bs=.018 #bed slope"
   ]
  },
  {
   "cell_type": "code",
   "execution_count": 7,
   "metadata": {},
   "outputs": [],
   "source": [
    "# list unknown quantities\n",
    "tf=0 #total flow rate"
   ]
  },
  {
   "cell_type": "code",
   "execution_count": 8,
   "metadata": {},
   "outputs": [],
   "source": [
    "# governing principles"
   ]
  },
  {
   "cell_type": "code",
   "execution_count": 14,
   "metadata": {},
   "outputs": [
    {
     "name": "stdout",
     "output_type": "stream",
     "text": [
      "The total flow rate is 2247.87 cfs\n"
     ]
    }
   ],
   "source": [
    "# solution (step-by-step/computations)\n",
    "ca=160\n",
    "cp=36\n",
    "oa=519\n",
    "op=87.5472\n",
    "\n",
    "q=2*(1/on)*oa*((oa/op)**(2/3))*(bs**(1/2))+(1/cn)*ca*((ca/cp)**(2/3))*(bs**(1/2))\n",
    "print(\"The total flow rate is\",round(q,2),\"cfs\")"
   ]
  },
  {
   "cell_type": "code",
   "execution_count": null,
   "metadata": {},
   "outputs": [],
   "source": [
    "# discussion\n"
   ]
  },
  {
   "cell_type": "markdown",
   "metadata": {},
   "source": [
    "---\n",
    "\n",
    "### Problem 3\n",
    "A rectangular channel is 8 m wide, has bed slope of 0.0025, and Manning roughness of 0.020.  \n",
    "\n",
    "Determine\n",
    "\n",
    "- The flow rate in $\\frac{m^3}{sec}$ if the normal depth is 4.1 m for this channel. \n",
    "- The critical depth in m for this channel.  \n",
    "- Whether the channel slope is mild or steep.\n",
    "- The depth of flow in the channel at the point where x = 115 m is 2.0 m.  Complete the direct step method table below and find the x-positions of the next two depth values shown below.  Show the equations used and demonstrate the calculations for one row across the table.  \n",
    "\n",
    "|y (m)|A (m2)|P (m)|R (m)|V (m/s)|E (m)|$S_e$|$S_{ebar}$|∆E (m)|∆x (m)|$\\sum{x}$(m)|\n",
    "|:----|:-----|:----|:----|:----|:----|:---|:----|:----|:----|:---|\n",
    "|2.0|??|||||||||115|\n",
    "|2.2|||||||||||\n",
    "|2.4|||||||||||\n",
    "\n"
   ]
  },
  {
   "cell_type": "code",
   "execution_count": 37,
   "metadata": {},
   "outputs": [],
   "source": [
    "# sketch(s) here"
   ]
  },
  {
   "cell_type": "code",
   "execution_count": 84,
   "metadata": {},
   "outputs": [],
   "source": [
    "# list known quantities\n",
    "w=8 #channel width\n",
    "bs=.0025 #bed slope\n",
    "n=.02 #manning roughness\n",
    "y1=2\n",
    "y2=2.2\n",
    "y3=2.4\n",
    "yn=4.1 #normal depth\n",
    "g=9.81"
   ]
  },
  {
   "cell_type": "code",
   "execution_count": 85,
   "metadata": {},
   "outputs": [],
   "source": [
    "# list unknown quantities\n",
    "q=0"
   ]
  },
  {
   "cell_type": "code",
   "execution_count": 86,
   "metadata": {},
   "outputs": [],
   "source": [
    "# governing principles"
   ]
  },
  {
   "cell_type": "code",
   "execution_count": 98,
   "metadata": {},
   "outputs": [
    {
     "name": "stdout",
     "output_type": "stream",
     "text": [
      "The flow rate with the normal depth is 131.236 m^3/sec \n",
      "The critical depth is 3.016 ft \n",
      "The slope is mild with respect of the normal depth being 4.1\n",
      "---  ----  ----  -----  -----  -----  ---------  ------  -------  -------  ------------------\n",
      "y    A     P     R      V      E      Se         Sbar    delta E  delta x  sigma x\n",
      "2.0  16    12    1.333  8.202  5.429  0.0183375                            115\n",
      "2.2  17.6  12.4  1.419  7.457  5.034  0.0139429  0.0161  -0.3951  28.9669  143.9669333421864\n",
      "2.4  19.2  12.8  1.5    7.457  4.781  0.0108837  0.0124  -0.2526  25.4844  169.45133168699772\n",
      "---  ----  ----  -----  -----  -----  ---------  ------  -------  -------  ------------------\n"
     ]
    }
   ],
   "source": [
    "# solution (step-by-step) \n",
    "q=((((w*yn)**(5/3))/((w+2*yn)**(2/3)))*(.0025**(1/2)))/.02\n",
    "yc=(((q/8)**2)/(g))**(1/3)\n",
    "\n",
    "A1=(w*y1)\n",
    "A2=(w*y2)\n",
    "A3=(w*y3)\n",
    "P1=(w+2*y1)\n",
    "P2=(w+2*y2)\n",
    "P3=(w+2*y3)\n",
    "R1=A1/P1\n",
    "R2=A2/P2\n",
    "R3=A3/P3\n",
    "V1=q/A1\n",
    "V2=q/A2\n",
    "V3=q/A3\n",
    "E1=y1+(V1**2)/(2*g)\n",
    "E2=y2+(V2**2)/(2*g)\n",
    "E3=y3+(V3**2)/(2*g)\n",
    "S1=((n**2)*(V1**2))/(R1**(4/3))\n",
    "S2=((n**2)*(V2**2))/(R2**(4/3))\n",
    "S3=((n**2)*(V3**2))/(R3**(4/3))\n",
    "Sb2=((S1+S2)/2)\n",
    "Sb3=((S2+S3)/2)\n",
    "dE2=E2-E1\n",
    "dE3=E3-E2\n",
    "dX2=dE2/(bs-Sb2)\n",
    "dX3=dE3/(bs-Sb3)\n",
    "sX2=115+dX2\n",
    "sX3=115+(dX2+dX3)\n",
    "print('The flow rate with the normal depth is',round(q,3),'m^3/sec','\\nThe critical depth is',round(yc,3),'ft','\\nThe slope is mild with respect of the normal depth being 4.1')\n",
    "from tabulate import tabulate\n",
    "\n",
    "table = [['y', 'A', 'P','R','V','E','Se','Sbar','delta E','delta x','sigma x'], \n",
    "        ['2.0', A1, P1, round(R1,3),round(V1,3), round(E1,3), round(S1,7), \" \",\" \",\" \", 115], \n",
    "        ['2.2', A2, P2, round(R2,3),round(V2,3), round(E2,3), round(S2,7), round(Sb2,4),round(dE2,4),round(dX2,4), sX2], \n",
    "        ['2.4', A3, P3, round(R3,3), round(V2,3), round(E3,3), round(S3,7), round(Sb3,4),round(dE3,4),round(dX3,4), sX3]]\n",
    "print(tabulate(table))"
   ]
  },
  {
   "cell_type": "code",
   "execution_count": 99,
   "metadata": {},
   "outputs": [],
   "source": [
    "# discussion"
   ]
  },
  {
   "cell_type": "markdown",
   "metadata": {},
   "source": [
    "---\n",
    "\n",
    "### Problem 4\n",
    "\n",
    "A rectangular box culvert, 5 ft wide by 4 ft tall, with 90° headwall with 33.7° bevels, will be used to carry a flow of 180 cfs.  The culvert is 150 ft long with a natural slope of 1.5%.  The tailwater depth is 3.0 ft above the outlet invert.  The streambed elevation at the culvert inlet is 205.0 ft, which also aligns with the upstream culvert inlet.  The maximum allowable headwater elevation is 212.0 ft.  \n",
    "\n",
    "Determine\n",
    "\n",
    "- Whether the headwater condition is met at this design flow rate.  "
   ]
  },
  {
   "cell_type": "code",
   "execution_count": null,
   "metadata": {},
   "outputs": [],
   "source": [
    "# sketch(s) here"
   ]
  },
  {
   "cell_type": "code",
   "execution_count": 15,
   "metadata": {},
   "outputs": [],
   "source": [
    "# list known quantities\n",
    "w=5 #wide\n",
    "h=4 #tall\n",
    "hw=90 #headwall\n",
    "bv=33.7 #bevels\n",
    "q=180 #flowrate\n",
    "sl=.015 #slope\n",
    "l=150 #length"
   ]
  },
  {
   "cell_type": "code",
   "execution_count": 16,
   "metadata": {},
   "outputs": [],
   "source": [
    "# list unknown quantities"
   ]
  },
  {
   "cell_type": "code",
   "execution_count": 17,
   "metadata": {},
   "outputs": [],
   "source": [
    "# governing principles"
   ]
  },
  {
   "cell_type": "code",
   "execution_count": 28,
   "metadata": {},
   "outputs": [
    {
     "name": "stdout",
     "output_type": "stream",
     "text": [
      "The headwater condition is met as the headwater needed is 5.47 ft and less than the limit of 7 ft\n"
     ]
    }
   ],
   "source": [
    "# solution (step-by-step) \n",
    "midstep=q/(w*h*(4**.5))\n",
    "HW1=(.0252*((midstep)**2)+.865-.5*(sl))*h\n",
    "yc=(((q/h)**2)/32.2)**(1/3)\n",
    "midstep2=(yc+h)/2\n",
    "HW2=midstep2-(sl*l)+(1+.2+((64.4*(.012**2)*150)/((1.49**2)*(((w*h)/(2*(w+h)))))**(4/3)))*((q**2)/(64.4*((w*h)**2)))\n",
    "#print(HW2)\n",
    "#print(midstep2)\n",
    "#print(yc)\n",
    "#print(HW1)\n",
    "print('The headwater condition is met as the headwater needed is',round(HW1,2),'ft and less than the limit of 7 ft')"
   ]
  },
  {
   "cell_type": "code",
   "execution_count": null,
   "metadata": {},
   "outputs": [],
   "source": [
    "# discussion"
   ]
  },
  {
   "cell_type": "markdown",
   "metadata": {},
   "source": [
    "---\n",
    "\n",
    "### Problem 5 "
   ]
  },
  {
   "cell_type": "markdown",
   "metadata": {},
   "source": [
    "Assume the following channel slopes occur in a prismatic open channel depicted in Figure 5.  Note where the water surface begins on the left. Number the water surface curves with a 1 if the water surface is above both $y_c$ and $y_o$, 2 if the water surface is between $y_c$ and $y_o$, and 3 if the water surface is below both $y_c$ and $y_o$.   \n",
    "\n",
    "<figure align=\"center\">\n",
    "<!--<img src=\"./free-overfallex2-5.png\" width=\"600\" >-->\n",
    "<img src=\"http://54.243.252.9/ce-4353-webroot/5-Exams/EX2/free-overfallex2-5.png\" width=\"600\" >\n",
    "<figcaption>Figure 5: Engineered channel profile view</figcaption>\n",
    "</figure>\n",
    "\n",
    "Determine \n",
    "\n",
    "- Label $y_c$ and $y_o$ for each reach (state if $y_o$ is infinite).  \n",
    "- Label the bed slopes.\n",
    "- Label the control points.\n",
    "- Draw a possible gradually varied flow profile and label all the curves (letter and number).  \n"
   ]
  },
  {
   "cell_type": "code",
   "execution_count": null,
   "metadata": {},
   "outputs": [],
   "source": [
    "# sketch(s) here"
   ]
  },
  {
   "cell_type": "code",
   "execution_count": null,
   "metadata": {},
   "outputs": [],
   "source": [
    "# list known quantities"
   ]
  },
  {
   "cell_type": "code",
   "execution_count": null,
   "metadata": {},
   "outputs": [],
   "source": [
    "# list unknown quantities"
   ]
  },
  {
   "cell_type": "code",
   "execution_count": null,
   "metadata": {},
   "outputs": [],
   "source": [
    "# governing principles"
   ]
  },
  {
   "cell_type": "code",
   "execution_count": null,
   "metadata": {},
   "outputs": [],
   "source": [
    "# solution (step-by-step) "
   ]
  },
  {
   "cell_type": "code",
   "execution_count": null,
   "metadata": {},
   "outputs": [],
   "source": [
    "# discussion"
   ]
  },
  {
   "cell_type": "markdown",
   "metadata": {},
   "source": [
    "---\n",
    "\n",
    "### Problem 6 \n",
    "\n",
    "Students enrolled in CE 4353 omit this problem."
   ]
  },
  {
   "cell_type": "markdown",
   "metadata": {},
   "source": [
    "Assume the following channel slopes occur in a prismatic open channel.  Note where the water surface begins on the left, as well as where it ends on the right.\n",
    "\n",
    "<figure align=\"center\">\n",
    "<!--<img src=\"./overfallex2-6.png\" width=\"600\" >-->\n",
    "<img src=\"http://54.243.252.9/ce-4353-webroot/5-Exams/EX2/overfallex2-6.png\" width=\"600\" >\n",
    "<figcaption>Figure 6: Engineered channel profile view</figcaption>\n",
    "</figure>\n",
    "\n",
    "Determine \n",
    "\n",
    "- Label $y_c$ and $y_o$ for each reach (state if $y_o$ is infinite).  \n",
    "- Label the bed slopes.\n",
    "- Label the control points.\n",
    "- Draw a possible gradually varied flow profile and label all the curves (letter and number).  \n"
   ]
  },
  {
   "cell_type": "code",
   "execution_count": null,
   "metadata": {},
   "outputs": [],
   "source": [
    "# sketch(s) here"
   ]
  },
  {
   "cell_type": "code",
   "execution_count": null,
   "metadata": {},
   "outputs": [],
   "source": [
    "# list known quantities"
   ]
  },
  {
   "cell_type": "code",
   "execution_count": null,
   "metadata": {},
   "outputs": [],
   "source": [
    "# list unknown quantities"
   ]
  },
  {
   "cell_type": "code",
   "execution_count": null,
   "metadata": {},
   "outputs": [],
   "source": [
    "# governing principles"
   ]
  },
  {
   "cell_type": "code",
   "execution_count": null,
   "metadata": {},
   "outputs": [],
   "source": [
    "# solution (step-by-step) "
   ]
  },
  {
   "cell_type": "code",
   "execution_count": null,
   "metadata": {},
   "outputs": [],
   "source": [
    "# discussion"
   ]
  }
 ],
 "metadata": {
  "kernelspec": {
   "display_name": "Python 3 (ipykernel)",
   "language": "python",
   "name": "python3"
  },
  "language_info": {
   "codemirror_mode": {
    "name": "ipython",
    "version": 3
   },
   "file_extension": ".py",
   "mimetype": "text/x-python",
   "name": "python",
   "nbconvert_exporter": "python",
   "pygments_lexer": "ipython3",
   "version": "3.9.12"
  }
 },
 "nbformat": 4,
 "nbformat_minor": 4
}
