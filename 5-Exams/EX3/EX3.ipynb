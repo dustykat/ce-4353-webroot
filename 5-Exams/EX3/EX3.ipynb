{
 "cells": [
  {
   "cell_type": "markdown",
   "metadata": {},
   "source": [
    "**Download** (right-click, save target as ...) this page as a Jupyterlab notebook from: [EX-2](http://54.243.252.9/ce-4353-webroot/5-Exams/EX2/EX2.ipynb)\n",
    "\n",
    "___"
   ]
  },
  {
   "cell_type": "markdown",
   "metadata": {},
   "source": [
    "# <font color=darkblue>CE 4353 Design of Hydraulic Systems<br>CE 5360 Open Channel Flow <br> Fall 2023 Exam 3</font>\n",
    "\n",
    "**LAST NAME, FIRST NAME**\n",
    "\n",
    "**R00000000**\n",
    "\n",
    "___\n",
    "\n",
    "### Purpose : \n",
    "Demonstrate ability to apply oen channel hydraulic design principles to ....\n",
    "\n",
    "### Additional Instructions\n",
    "\n",
    "The test is intended to be completed by downloading the JupyterLab Notebook, then inserting answers/code directly into the notebook - rendering the entire notebook and uploading a PDF copy (and the .ipynb file) to Blackboard.  Students who are unable to complete the test in this fashion will have to manually extract the problem statements and insert worked answers, including computations into a document for uploading.\n"
   ]
  },
  {
   "cell_type": "markdown",
   "metadata": {},
   "source": [
    "---\n",
    "\n",
    "## Problem 1 \n",
    "\n",
    "A rectangular channel 6.1 m wide with n = 0.014 is laid on a slope of 0.001 and terminates in a free overfall. Upstream 300 m from the overfall is a sluice gate that produces a depth of 0.47 m immediately downstream. For a discharge of 17.0 $\\frac{m3}{s}$, compute and plot the water surface profiles and the location of the hydraulic jump using HEC-RAS."
   ]
  },
  {
   "cell_type": "markdown",
   "metadata": {},
   "source": [
    "## Problem 2\n",
    "hecras wurbs example"
   ]
  },
  {
   "cell_type": "markdown",
   "metadata": {},
   "source": [
    "## Problem 3\n",
    "diamondback detention pond size widda porous wall"
   ]
  },
  {
   "cell_type": "markdown",
   "metadata": {},
   "source": [
    "---\n",
    "\n",
    "## Problem 4 (CE 5360) \n",
    "*repeat problem 1, but with different tools*\n",
    "\n",
    "A rectangular channel 6.1 m wide with n = 0.014 is laid on a slope of 0.001 and terminates in a free overfall. Upstream 300 m from the overfall is a sluice gate that produces a depth of 0.47 m immediately downstream. For a discharge of 17.0 $\\frac{m3}{s}$, compute and plot the water surface profiles and the location of the hydraulic jump using **the direct step method**."
   ]
  },
  {
   "cell_type": "code",
   "execution_count": null,
   "metadata": {},
   "outputs": [],
   "source": []
  }
 ],
 "metadata": {
  "kernelspec": {
   "display_name": "Python 3",
   "language": "python",
   "name": "python3"
  },
  "language_info": {
   "codemirror_mode": {
    "name": "ipython",
    "version": 3
   },
   "file_extension": ".py",
   "mimetype": "text/x-python",
   "name": "python",
   "nbconvert_exporter": "python",
   "pygments_lexer": "ipython3",
   "version": "3.8.10"
  }
 },
 "nbformat": 4,
 "nbformat_minor": 4
}
