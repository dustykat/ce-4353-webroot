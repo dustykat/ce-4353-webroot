{
 "cells": [
  {
   "cell_type": "markdown",
   "metadata": {},
   "source": [
    "**Download** (right-click, save target as ...) this page as a Jupyterlab notebook from: [ES-1](http://54.243.252.9/ce-4353-webroot/2-Exercises/ES1/ES1.ipynb)\n",
    "\n",
    "___"
   ]
  },
  {
   "cell_type": "markdown",
   "metadata": {},
   "source": [
    "# <font color=darkblue>CE 4353/5360 Design of Hydraulic Systems <br> Fall 2022 Exercise Set 1</font>\n",
    "\n",
    "**LAST NAME, FIRST NAME**\n",
    "\n",
    "**R00000000**\n",
    "\n",
    "___\n",
    "\n",
    "### Purpose : \n",
    " \n",
    "### Assessment Criteria : \n",
    "Completion, results plausible, format correct, calculations (Jupyter Notebook) are shown.  \n",
    "\n",
    "___"
   ]
  },
  {
   "cell_type": "markdown",
   "metadata": {},
   "source": [
    "## Problem 1\n",
    "\n",
    "The river flow at an upstream gauging station is measured as 1500 $\\frac{m^3}{sec}$, and at another gauging station 3 $km$ downstream, the discharge is measured as 750 $\\frac{m^3}{sec}$ at the same moment in time. The channel is uniform, with a width of 300 $m$.\n",
    "\n",
    "Determine:\n",
    "\n",
    "- The rate of change in the average water surface elevation in meters per hour.\n",
    "- Whether the stage (average water surface elevation) is rising or falling."
   ]
  },
  {
   "cell_type": "markdown",
   "metadata": {},
   "source": [
    "# sketch(s) here\n",
    "\n",
    "![](risingtide.png)"
   ]
  },
  {
   "cell_type": "markdown",
   "metadata": {},
   "source": [
    "# list known quantities\n",
    "\n",
    "The problem statement supplies:\n",
    "- Station 1 is upstream of station 2\n",
    "- At station 1;  $Q_1=~1500 \\frac{m^3}{s}$,$x_1=0~m$,$T_1=300~m$\n",
    "- At station 2;  $Q_2=~750 \\frac{m^3}{s}$,$x_2=3000~m$,$T_2=300~m$<br>\n"
   ]
  },
  {
   "cell_type": "markdown",
   "metadata": {},
   "source": [
    "# list unknown quantities\n",
    "\n",
    "The change in $y$, and the sign of the change."
   ]
  },
  {
   "cell_type": "markdown",
   "metadata": {},
   "source": [
    "# governing principles\n",
    "\n",
    "Here we apply continunity in a generalized structure:\n",
    "\n",
    "$$( \\frac{\\partial y}{\\partial t}) *T(y) + \\frac{\\partial Q}{\\partial x} = 0$$\n",
    "\n"
   ]
  },
  {
   "cell_type": "markdown",
   "metadata": {},
   "source": [
    "## Solution (step-by-step/computations)\n",
    "\n",
    "So we will set-up the computations for this case\n",
    "\n",
    "$\\frac{\\Delta WSE}{\\Delta t} = \\frac{\\partial(y)}{\\partial t} + \\frac{\\partial(z)}{\\partial t}$\n",
    "<br>but $z$ is the channel bottom, which should be time invariant so \n",
    "<br>$\\frac{\\Delta WSE}{\\Delta t} = \\frac{\\partial y}{\\partial t}$\n",
    "<br>The spatial change in discharge is given in the problem so that\n",
    "<br>$\\frac{\\partial Q}{\\partial x} = \\frac{\\Delta Q}{\\Delta x} = \\frac{Q_2 - Q_1}{x_2 - x_1}$\n",
    "<br>Now make the substitutions \n",
    "<br>$ \\frac{\\partial y}{\\partial t}   =  \\frac{(\\frac{Q_1 - Q_2}{x_1 - x_2})}{T(y)}$\n",
    "<br>And script a solution"
   ]
  },
  {
   "cell_type": "code",
   "execution_count": 40,
   "metadata": {},
   "outputs": [
    {
     "name": "stdout",
     "output_type": "stream",
     "text": [
      "WSE is changing at 3.0 meters per hour, and rising\n"
     ]
    }
   ],
   "source": [
    "# script\n",
    "Q1 = 1500\n",
    "Q2 = 750\n",
    "T1 = 300\n",
    "T2 = 300\n",
    "X1 = 0\n",
    "X2 = 3000\n",
    "\n",
    "DQDX = (Q2-Q1)/(X2-X1)\n",
    "dydt = -DQDX/((T1+T2)*0.5)\n",
    "if dydt > 0.0:\n",
    "    print(\"WSE is changing at\",dydt*3600,\"meters per hour, and rising\")\n",
    "else:\n",
    "    print(\"WSE is changing at\",dydt*3600,\"meters per hour, and falling\")"
   ]
  },
  {
   "cell_type": "markdown",
   "metadata": {},
   "source": [
    "# discussion\n",
    "\n",
    "- Direct application of conservation of mass.\n",
    "- In this case we used the average topwidth to quantify the storage prism."
   ]
  },
  {
   "cell_type": "markdown",
   "metadata": {},
   "source": [
    "---\n",
    "\n",
    "## Problem 2\n",
    "\n",
    "A paved parking lot section has a uniform slope over a length of 100 $m$ (in the flow direction) from the point of a drainage area divide to the inlet grate, which extends across the lot width of 30 $m$.  Rainfall is occuring at a constant intensity of 100 $\\frac{mm}{hr}$. The detention storage on the paved section is accumulating (increasing) at a rate of 60 $\\frac{m^3}{hr}$\n",
    "\n",
    "Determine:\n",
    "\n",
    "- Runoff rate into the inlet grate (in $\\frac{m^3}{sec}$)"
   ]
  },
  {
   "cell_type": "markdown",
   "metadata": {},
   "source": [
    "# sketch(s) here\n",
    "\n",
    "![](raro.png)"
   ]
  },
  {
   "cell_type": "markdown",
   "metadata": {},
   "source": [
    "# list known quantities\n",
    "\n",
    "- $P = 100~\\frac{mm}{hr}$\n",
    "- $S = 60~\\frac{m^3}{hr}\n",
    "- Geometry (on sketch)"
   ]
  },
  {
   "cell_type": "markdown",
   "metadata": {},
   "source": [
    "# list unknown quantities\n",
    "\n",
    "- R"
   ]
  },
  {
   "cell_type": "markdown",
   "metadata": {},
   "source": [
    "# governing principles\n",
    "\n",
    "- Conservation of mass $\\dot I - \\dot O = \\frac{\\Delta S}{\\Delta t}$"
   ]
  },
  {
   "cell_type": "code",
   "execution_count": 42,
   "metadata": {},
   "outputs": [
    {
     "name": "stdout",
     "output_type": "stream",
     "text": [
      "Runoff = 240.0  m^3/hr\n"
     ]
    }
   ],
   "source": [
    "# solution (step-by-step/computations)\n",
    "P = 100*(1/1000) # mm/hr convert to m/hr\n",
    "A = 100*30 # area m^2\n",
    "Inflow = P*A\n",
    "DsDt = 60 # m^3/hr\n",
    "Outflow = Inflow - DsDt\n",
    "print(\"Runoff =\",round(Outflow,3),\" m^3/hr\")"
   ]
  },
  {
   "cell_type": "markdown",
   "metadata": {},
   "source": [
    "# discussion\n",
    "\n",
    "Direct application of mass balance"
   ]
  },
  {
   "cell_type": "markdown",
   "metadata": {},
   "source": [
    "---\n",
    "\n",
    "## Problem 3\n",
    "\n",
    "A symmetric compound channel in overbank flow has a main channel with a bottom width of 30 $m$, side slopes of 1:1,and a flow depth of 3 $m$.  The floodplains on either side of the main channel are 300 $m$ wide and flowing at a depth of 0.5 $m$.  The mean velocity in the main channel is 1.5 $\\frac{m}{sec}$ whereas the floodplain flow portion has a mean section velocity of 0.3 $\\frac{m}{sec}$. The velocity variation within the main channel and floodplain subsections are assumed to be much smaller than the change in mean velocities between subsections.\n",
    "\n",
    "Determine:\n",
    "\n",
    "- The value of the kinetic energy correction coefficient $\\alpha$"
   ]
  },
  {
   "cell_type": "code",
   "execution_count": null,
   "metadata": {},
   "outputs": [],
   "source": [
    "# sketch(s) here"
   ]
  },
  {
   "cell_type": "code",
   "execution_count": null,
   "metadata": {},
   "outputs": [],
   "source": [
    "# list known quantities"
   ]
  },
  {
   "cell_type": "code",
   "execution_count": null,
   "metadata": {},
   "outputs": [],
   "source": [
    "# list unknown quantities"
   ]
  },
  {
   "cell_type": "code",
   "execution_count": null,
   "metadata": {},
   "outputs": [],
   "source": [
    "# governing principles"
   ]
  },
  {
   "cell_type": "code",
   "execution_count": 5,
   "metadata": {},
   "outputs": [
    {
     "data": {
      "text/plain": [
       "98.75"
      ]
     },
     "execution_count": 5,
     "metadata": {},
     "output_type": "execute_result"
    }
   ],
   "source": [
    "# solution (step-by-step/computations)\n",
    "amain=0.5*35+2.5*30+2.5*2.5\n",
    "amain"
   ]
  },
  {
   "cell_type": "code",
   "execution_count": 8,
   "metadata": {},
   "outputs": [
    {
     "name": "stdout",
     "output_type": "stream",
     "text": [
      "Kinetic energy correction coefficient  4.02\n"
     ]
    }
   ],
   "source": [
    "afp = 300\n",
    "qtotal = 1.5*amain+0.3*afp\n",
    "Vs = qtotal/(amain+afp)\n",
    "alpha = ((1.5**3)*amain+(0.3**3)*afp)/((amain+afp)*Vs**3)\n",
    "print(\"Kinetic energy correction coefficient \",round(alpha,3))"
   ]
  },
  {
   "cell_type": "code",
   "execution_count": null,
   "metadata": {},
   "outputs": [],
   "source": [
    "# discussion"
   ]
  },
  {
   "cell_type": "markdown",
   "metadata": {},
   "source": [
    "---\n",
    "\n",
    "## Problem 4\n",
    "\n",
    "A bridge has cylindrical piers 1 $m$ in diameter and spaced 15 $m$ apart.  \n",
    "Downstream of the bridge, where the flow disturbance from the piers is no longer present, the flow depth is 2.9 $m$ and the mean velocity is 2.5 $\\frac{m}{sec}$\n",
    "\n",
    "Figure 4 is a typical graph of drag coefficient for a single cylinder \n",
    "\n",
    "> Figure 4 adapted from [Wenjun Gao, Daniel Nelias, Yaguo Lyu, Nicolas Boisson,\n",
    "Numerical investigations on drag coefficient of circular cylinder with two free ends in roller bearings,\n",
    "Tribology International,\n",
    "Volume 123,\n",
    "2018,\n",
    "Pages 43-49,\n",
    "ISSN 0301-679X,\n",
    "https://doi.org/10.1016/j.triboint.2018.02.044.](https://www.sciencedirect.com/science/article/pii/S0301679X18301324)\n",
    "\n",
    "<figure align=\"center\">\n",
    "<!--<img src=\"./cylinderdrages1.png\" width=\"600\" >-->\n",
    "<img src=\"http://54.243.252.9/ce-4353-webroot/2-Exercises/ES1/Cdforacylinder.png\" width=\"600\" >\n",
    "<figcaption>Figure 4: The drag coefficient, $C_D$, for a circular cylinder as a function of Reynolds number. </figcaption>\n",
    "\n",
    "</figure>\n",
    "\n",
    "Determine\n",
    "\n",
    "- The Reynolds number for the flow described (use the flow depth as the characteristic length)\n",
    "- The drag coefficient, $C_d$ for a cylinder at the computed Reynolds number \n",
    "- The depth of flow upstream of the bridge\n",
    "- The head loss caused by the piers"
   ]
  },
  {
   "cell_type": "markdown",
   "metadata": {},
   "source": [
    "# sketch(s) here\n",
    "\n",
    "The sketch below ia a plan view of the described conditions, we will analyze a 16 meter wide portion of the flow field; total width is unknown, and we will assume the single pier estimate applies across entire width.\n",
    "\n",
    "![](pierplanview.png)\n",
    "\n",
    "An elevation view sketch is below - showing the energy grade line (as a nice gradient, in actuality all the head loss will be quite near the pier.\n",
    "\n",
    "![](pierelevationview.png)"
   ]
  },
  {
   "cell_type": "markdown",
   "metadata": {},
   "source": [
    "# list known quantities\n",
    "\n",
    "- $y_d = 2.9$ meters\n",
    "- $u_d = 2.5$ meters per second\n",
    "- $D_{pier} = 1.0$ meter\n",
    "- Pier array spacing is 15 meters"
   ]
  },
  {
   "cell_type": "markdown",
   "metadata": {},
   "source": [
    "# list unknown quantities\n",
    "\n",
    "- $y_o = ?$ meters\n",
    "- $u_o = ?$ meters per second\n"
   ]
  },
  {
   "cell_type": "markdown",
   "metadata": {},
   "source": [
    "# governing principles\n",
    "\n",
    "- Continunity; will appear as specific discharge $\\frac{Q}{width} = const.$\n",
    "- Conservation of linear momentum\n",
    "- Concept of drag force\n",
    "\n",
    "Approach is use Continunity and Momentum to find the upstream depth and velocity, then use the energy equation to infer head loss."
   ]
  },
  {
   "cell_type": "code",
   "execution_count": 6,
   "metadata": {},
   "outputs": [
    {
     "name": "stdout",
     "output_type": "stream",
     "text": [
      "Reynolds Number based on depth 7250000.0\n"
     ]
    }
   ],
   "source": [
    "## solution (step-by-step/computations)\n",
    "\n",
    "# Material Properties\n",
    "rho = 1000 #kg/m^3\n",
    "mu = 0.001 #N-s/m^2\n",
    "nu = 1e-06 #s/m^2\n",
    "vd = 2.5 # downstream velocity\n",
    "dchar = 2.9 # characteristic depth\n",
    "\n",
    "## Reynolds number\n",
    "def Re(v,d,nu):\n",
    "    Re = v*d/nu\n",
    "    return(Re)\n",
    "\n",
    "print(\"Reynolds Number based on depth\",round(Re(vd,dchar,nu),3))"
   ]
  },
  {
   "cell_type": "code",
   "execution_count": 9,
   "metadata": {},
   "outputs": [
    {
     "name": "stdout",
     "output_type": "stream",
     "text": [
      "Specific discharge  7.25  m^2/sec\n"
     ]
    }
   ],
   "source": [
    "## Discharge/unit width\n",
    "\n",
    "q = vd*dchar\n",
    "\n",
    "print(\"Specific discharge \",round(q,3),\" m^2/sec\")"
   ]
  },
  {
   "cell_type": "code",
   "execution_count": 10,
   "metadata": {},
   "outputs": [
    {
     "name": "stdout",
     "output_type": "stream",
     "text": [
      "Drag on Cylinder  8700.0  Newtons\n"
     ]
    }
   ],
   "source": [
    "Cd = 0.96 #look up in chart\n",
    "\n",
    "def Fd(Cd,A,rho,V):\n",
    "    Fd = 0.5*Cd*A*rho*V**2\n",
    "    return(Fd)\n",
    "\n",
    "print(\"Drag on Cylinder \",round(Fd(Cd,1*dchar,rho,vd),3),\" Newtons\")"
   ]
  },
  {
   "cell_type": "markdown",
   "metadata": {},
   "source": [
    "Now some more analysis\n",
    "\n",
    "First a control volume on a 16-meter wide portion of channel that encloses 1 pier (as in the plan view)\n",
    "\n",
    "![](CVanalysis.png)\n",
    "\n",
    "Now the force balance rendering\n",
    "\n",
    "![](mombalance.png)\n",
    "\n",
    "Next some algebra\n",
    "\n",
    "![](algebra.png)\n",
    "\n",
    "We can probably switch back to code"
   ]
  },
  {
   "cell_type": "code",
   "execution_count": 38,
   "metadata": {},
   "outputs": [
    {
     "name": "stdout",
     "output_type": "stream",
     "text": [
      "Depth (m) | Velocity (m/s) | Momentum Error \n",
      "2.923  |  2.48   |  -0.413\n",
      "2.924  |  2.479   |  -0.05\n",
      "2.925  |  2.479   |  0.313\n"
     ]
    }
   ],
   "source": [
    "W = 16 #m channel withn between equally spaced piers\n",
    "g = 9.8 #m/s^2 our friend grabity\n",
    "yd = 2.9 #m yes i know its the same as dchar, but dont want python equivalence here\n",
    "ud = 2.5 # m/s\n",
    "Cd = 0.96 # from above\n",
    "Q = q*W\n",
    "D = 1.0 # m diameter of a pier\n",
    "\n",
    "#now a couple of fun shuns\n",
    "\n",
    "def lhs(yu,yd,width,uu,Cd,gravity,diameter):\n",
    "    term1 = (gravity*width*yu**2)/2\n",
    "    term2 = (gravity*width*yd**2)/2\n",
    "    term3 = (Cd*diameter*yu*uu**2)/2\n",
    "    lhs = term1-term2-term3\n",
    "    return(lhs)\n",
    "\n",
    "def rhs(uu,ud,Q):\n",
    "    rhs = (ud-uu)*Q\n",
    "    return(rhs)\n",
    "\n",
    "# check using \n",
    "\n",
    "#print(lhs(2.92,yd,W,2.48,Cd,g,D))\n",
    "#print(rhs(2.48,ud,Q))\n",
    "\n",
    "# by brute force - guess yu, compute uu from Q supply to lhs,rhs when same have a solution print result\n",
    "\n",
    "tolerance = 0.5\n",
    "import math\n",
    "\n",
    "yrange = [i/1000 for i in range(1000,10000)]\n",
    "print(\"Depth (m) |\",\"Velocity (m/s) |\",\"Momentum Error \")\n",
    "for irow in range(len(yrange)):\n",
    "    yu = yrange[irow]\n",
    "    uu = Q/(W*yu)\n",
    "    test = lhs(yu,yd,W,uu,Cd,g,D)-rhs(uu,ud,Q)\n",
    "    if abs(test) < tolerance:\n",
    "        print(round(yu,3),\" | \",round(uu,3),\"  | \",round(lhs(yu,yd,W,uu,Cd,g,D)-rhs(uu,ud,Q),3))\n",
    "\n",
    "#yrange"
   ]
  },
  {
   "cell_type": "markdown",
   "metadata": {},
   "source": [
    "So by a brute force search, the following values are indicated\n",
    "\n",
    "- $y_o = 2.924$\n",
    "- $u_o = 2.479$\n",
    "\n",
    "The momentum balance error is $-0.05$, if we wanted could jack the search a bit to get another digit maybe.  But this is probably close enough.\n",
    "\n",
    "Now finally determine the energy loss from \n",
    "\n",
    "$$ y_o + \\frac{u_o^2}{2g} = y_d + \\frac{u_d^2}{2g} + \\Delta H $$\n",
    "\n",
    "Solve for $\\Delta H$"
   ]
  },
  {
   "cell_type": "code",
   "execution_count": 39,
   "metadata": {},
   "outputs": [
    {
     "name": "stdout",
     "output_type": "stream",
     "text": [
      "Head loss  0.019  meters\n"
     ]
    }
   ],
   "source": [
    "yu = 2.924\n",
    "uu = 2.479\n",
    "Eup = yu + (uu**2)/(2*g)\n",
    "Edown = yd + (ud**2)/(2*g)\n",
    "DeltaH = Eup - Edown\n",
    "print(\"Head loss \",round(DeltaH,3),\" meters\")"
   ]
  },
  {
   "cell_type": "markdown",
   "metadata": {},
   "source": [
    "# discussion\n",
    "This is just a fluid mechanics problem, to find the drag force impact on flow, then definition of head loss.  Only hard part is finding Nemo ($C_d$)"
   ]
  },
  {
   "cell_type": "code",
   "execution_count": null,
   "metadata": {},
   "outputs": [],
   "source": []
  }
 ],
 "metadata": {
  "kernelspec": {
   "display_name": "Python 3",
   "language": "python",
   "name": "python3"
  },
  "language_info": {
   "codemirror_mode": {
    "name": "ipython",
    "version": 3
   },
   "file_extension": ".py",
   "mimetype": "text/x-python",
   "name": "python",
   "nbconvert_exporter": "python",
   "pygments_lexer": "ipython3",
   "version": "3.8.10"
  }
 },
 "nbformat": 4,
 "nbformat_minor": 4
}
