{
 "cells": [
  {
   "cell_type": "markdown",
   "metadata": {},
   "source": [
    "**Download** (right-click, save target as ...) this page as a Jupyterlab notebook from: [ES-1](http://54.243.252.9/ce-4353-webroot/2-Exercises/ES1/ES1.ipynb)\n",
    "\n",
    "___"
   ]
  },
  {
   "cell_type": "markdown",
   "metadata": {},
   "source": [
    "# <font color=darkblue>CE 4353/5360 Design of Hydraulic Systems <br> Fall 2022 Exercise Set 1</font>\n",
    "\n",
    "**LAST NAME, FIRST NAME**\n",
    "\n",
    "**R00000000**\n",
    "\n",
    "___\n",
    "\n",
    "### Purpose : \n",
    " \n",
    "### Assessment Criteria : \n",
    "Completion, results plausible, format correct, calculations (Jupyter Notebook) are shown.  \n",
    "\n",
    "___"
   ]
  },
  {
   "cell_type": "markdown",
   "metadata": {},
   "source": [
    "## Problem 1\n",
    "\n",
    "The river flow at an upstream gauging station is measured as 1500 $\\frac{m^3}{sec}$, and at another gauging station 3 $km$ downstream, the discharge is measured as 750 $\\frac{m^3}{sec}$ at the same moment in time. The channel is uniform, with a width of 300 $m$.\n",
    "\n",
    "Determine:\n",
    "\n",
    "- The rate of change in the average water surface elevation in meters per hour.\n",
    "- Whether the stage (average water surface elevation) is rising or falling."
   ]
  },
  {
   "cell_type": "code",
   "execution_count": null,
   "metadata": {},
   "outputs": [],
   "source": [
    "# sketch(s) here"
   ]
  },
  {
   "cell_type": "code",
   "execution_count": null,
   "metadata": {},
   "outputs": [],
   "source": [
    "# list known quantities"
   ]
  },
  {
   "cell_type": "code",
   "execution_count": null,
   "metadata": {},
   "outputs": [],
   "source": [
    "# list unknown quantities"
   ]
  },
  {
   "cell_type": "code",
   "execution_count": null,
   "metadata": {},
   "outputs": [],
   "source": [
    "# governing principles"
   ]
  },
  {
   "cell_type": "code",
   "execution_count": 1,
   "metadata": {},
   "outputs": [
    {
     "name": "stdout",
     "output_type": "stream",
     "text": [
      "dydt 3.0  m per hour\n"
     ]
    }
   ],
   "source": [
    "# solution (step-by-step/computations)\n",
    "qin = 1500\n",
    "qout = 750\n",
    "asurf = 300*3000\n",
    "dydt = (qin-qout)/asurf\n",
    "print(\"dydt\",round(dydt*3600,3),\" m per hour\")"
   ]
  },
  {
   "cell_type": "code",
   "execution_count": null,
   "metadata": {},
   "outputs": [],
   "source": [
    "# discussion"
   ]
  },
  {
   "cell_type": "markdown",
   "metadata": {},
   "source": [
    "---\n",
    "\n",
    "## Problem 2\n",
    "\n",
    "A paved parking lot section has a uniform slope over a length of 100 $m$ (in the flow direction) from the point of a drainage area divide to the inlet grate, which extends across the lot width of 30 $m$.  Rainfall is occuring at a constant intensity of 100 $\\frac{mm}{hr}$. The detention storage on the paved section is accumulating (increasing) at a rate of 60 $\\frac{m^3}{hr}$\n",
    "\n",
    "Determine:\n",
    "\n",
    "- Runoff rate into the inlet grate (in $\\frac{m^3}{sec}$)"
   ]
  },
  {
   "cell_type": "code",
   "execution_count": null,
   "metadata": {},
   "outputs": [],
   "source": [
    "# sketch(s) here"
   ]
  },
  {
   "cell_type": "code",
   "execution_count": null,
   "metadata": {},
   "outputs": [],
   "source": [
    "# list known quantities"
   ]
  },
  {
   "cell_type": "code",
   "execution_count": null,
   "metadata": {},
   "outputs": [],
   "source": [
    "# list unknown quantities"
   ]
  },
  {
   "cell_type": "code",
   "execution_count": null,
   "metadata": {},
   "outputs": [],
   "source": [
    "# governing principles"
   ]
  },
  {
   "cell_type": "code",
   "execution_count": 4,
   "metadata": {},
   "outputs": [
    {
     "name": "stdout",
     "output_type": "stream",
     "text": [
      "Runoff to the grate in m3/hr 240.0\n"
     ]
    }
   ],
   "source": [
    "# solution (step-by-step/computations)\n",
    "precip = 0.1\n",
    "areain = 100*30\n",
    "dsdt = 60\n",
    "outflow = precip*areain-dsdt\n",
    "print(\"Runoff to the grate in m3/hr\",round(outflow,3))"
   ]
  },
  {
   "cell_type": "code",
   "execution_count": null,
   "metadata": {},
   "outputs": [],
   "source": [
    "# discussion"
   ]
  },
  {
   "cell_type": "markdown",
   "metadata": {},
   "source": [
    "---\n",
    "\n",
    "## Problem 3\n",
    "\n",
    "A symmetric compound channel in overbank flow has a main channel with a bottom width of 30 $m$, side slopes of 1:1,and a flow depth of 3 $m$.  The floodplains on either side of the main channel are 300 $m$ wide and flowing at a depth of 0.5 $m$.  The mean velocity in the main channel is 1.5 $\\frac{m}{sec}$ whereas the floodplain flow portion has a mean section velocity of 0.3 $\\frac{m}{sec}$. The velocity variation within the main channel and floodplain subsections are assumed to be much smaller than the change in mean velocities between subsections.\n",
    "\n",
    "Determine:\n",
    "\n",
    "- The value of the kinetic energy correction coefficient $\\alpha$"
   ]
  },
  {
   "cell_type": "code",
   "execution_count": null,
   "metadata": {},
   "outputs": [],
   "source": [
    "# sketch(s) here"
   ]
  },
  {
   "cell_type": "code",
   "execution_count": null,
   "metadata": {},
   "outputs": [],
   "source": [
    "# list known quantities"
   ]
  },
  {
   "cell_type": "code",
   "execution_count": null,
   "metadata": {},
   "outputs": [],
   "source": [
    "# list unknown quantities"
   ]
  },
  {
   "cell_type": "code",
   "execution_count": null,
   "metadata": {},
   "outputs": [],
   "source": [
    "# governing principles"
   ]
  },
  {
   "cell_type": "code",
   "execution_count": 5,
   "metadata": {},
   "outputs": [
    {
     "data": {
      "text/plain": [
       "98.75"
      ]
     },
     "execution_count": 5,
     "metadata": {},
     "output_type": "execute_result"
    }
   ],
   "source": [
    "# solution (step-by-step/computations)\n",
    "amain=0.5*35+2.5*30+2.5*2.5\n",
    "amain"
   ]
  },
  {
   "cell_type": "code",
   "execution_count": 8,
   "metadata": {},
   "outputs": [
    {
     "name": "stdout",
     "output_type": "stream",
     "text": [
      "Kinetic energy correction coefficient  4.02\n"
     ]
    }
   ],
   "source": [
    "afp = 300\n",
    "qtotal = 1.5*amain+0.3*afp\n",
    "Vs = qtotal/(amain+afp)\n",
    "alpha = ((1.5**3)*amain+(0.3**3)*afp)/((amain+afp)*Vs**3)\n",
    "print(\"Kinetic energy correction coefficient \",round(alpha,3))"
   ]
  },
  {
   "cell_type": "code",
   "execution_count": null,
   "metadata": {},
   "outputs": [],
   "source": [
    "# discussion"
   ]
  },
  {
   "cell_type": "markdown",
   "metadata": {},
   "source": [
    "---\n",
    "\n",
    "## Problem 4\n",
    "\n",
    "A bridge has cylindrical piers 1 $m$ in diameter and spaced 15 $m$ apart.  \n",
    "Downstream of the bridge, where the flow disturbance from the piers is no longer present, the flow depth is 2.9 $m$ and the mean velocity is 2.5 $\\frac{m}{sec}$\n",
    "\n",
    "Figure 4 is a typical graph of drag coefficient for a single cylinder taken from [Brennen, C.E. (2016). Internet Book on Fluid Mechanics. Dankat Publishing.](http://brennen.caltech.edu/fluidbook/externalflows/drag/dragonasphere.pdf)\n",
    "\n",
    "<figure align=\"center\">\n",
    "<!--<img src=\"./cylinderdrages1.png\" width=\"600\" >-->\n",
    "<img src=\"http://54.243.252.9/ce-4353-webroot/2-Exercises/ES1/Cdforacylinder.png\" width=\"600\" >\n",
    "<figcaption>Figure 4: The drag coefficient, $C_D$, for a circular cylinder as a function of Reynolds number. </figcaption>\n",
    "\n",
    "</figure>\n",
    "\n",
    "Determine\n",
    "\n",
    "- The Reynolds number for the flow described (use the flow depth as the characteristic length)\n",
    "- The drag coefficient, $C_d$ for a cylinder at the computed Reynolds number \n",
    "- The depth of flow upstream of the bridge\n",
    "- The head loss caused by the piers"
   ]
  },
  {
   "cell_type": "code",
   "execution_count": null,
   "metadata": {},
   "outputs": [],
   "source": [
    "# sketch(s) here"
   ]
  },
  {
   "cell_type": "code",
   "execution_count": null,
   "metadata": {},
   "outputs": [],
   "source": [
    "# list known quantities"
   ]
  },
  {
   "cell_type": "code",
   "execution_count": null,
   "metadata": {},
   "outputs": [],
   "source": [
    "# list unknown quantities"
   ]
  },
  {
   "cell_type": "code",
   "execution_count": null,
   "metadata": {},
   "outputs": [],
   "source": [
    "# governing principles"
   ]
  },
  {
   "cell_type": "code",
   "execution_count": 24,
   "metadata": {},
   "outputs": [
    {
     "name": "stdout",
     "output_type": "stream",
     "text": [
      "7250000.0\n"
     ]
    }
   ],
   "source": [
    "# solution (step-by-step/computations)\n",
    "def Re(v,d,nu):\n",
    "    Re = v*d/nu\n",
    "    return(Re)\n",
    "\n",
    "rho = 1000 #kg/m^3\n",
    "mu = 0.001 #N-s/m^2\n",
    "nu = 1e-06\n",
    "vd = 2.5\n",
    "dchar = 2.9\n",
    "print(Re(vd,dchar,nu))"
   ]
  },
  {
   "cell_type": "code",
   "execution_count": null,
   "metadata": {},
   "outputs": [],
   "source": [
    "# discussion"
   ]
  }
 ],
 "metadata": {
  "kernelspec": {
   "display_name": "Python 3",
   "language": "python",
   "name": "python3"
  },
  "language_info": {
   "codemirror_mode": {
    "name": "ipython",
    "version": 3
   },
   "file_extension": ".py",
   "mimetype": "text/x-python",
   "name": "python",
   "nbconvert_exporter": "python",
   "pygments_lexer": "ipython3",
   "version": "3.8.10"
  }
 },
 "nbformat": 4,
 "nbformat_minor": 4
}
