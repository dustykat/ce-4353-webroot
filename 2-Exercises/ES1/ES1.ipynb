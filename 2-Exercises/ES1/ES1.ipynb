{
 "cells": [
  {
   "cell_type": "markdown",
   "metadata": {},
   "source": [
    "**Download** (right-click, save target as ...) this page as a Jupyterlab notebook from: [ES-1](http://54.243.252.9/ce-4353-webroot/2-Exercises/ES1/ES1.ipynb)\n",
    "\n",
    "___"
   ]
  },
  {
   "cell_type": "markdown",
   "metadata": {},
   "source": [
    "# <font color=darkblue>CE 4353/5360 Design of Hydraulic Systems <br> Fall 2022 Exercise Set 1</font>\n",
    "\n",
    "**LAST NAME, FIRST NAME**\n",
    "\n",
    "**R00000000**\n",
    "\n",
    "___\n",
    "\n",
    "### Purpose : \n",
    " \n",
    "### Assessment Criteria : \n",
    "Completion, results plausible, format correct, calculations (Jupyter Notebook) are shown.  \n",
    "\n",
    "___"
   ]
  },
  {
   "cell_type": "markdown",
   "metadata": {},
   "source": [
    "## Problem 1\n",
    "\n",
    "The river flow at an upstream gauging station is measured as 1500 $\\frac{m^3}{sec}$, and at another gauging station 3 $km$ downstream, the discharge is measured as 750 $\\frac{m^3}{sec}$ at the same moment in time. The channel is uniform, with a width of 300 $m$.\n",
    "\n",
    "Determine:\n",
    "\n",
    "- The rate of change in the average water surface elevation in meters per hour.\n",
    "- Whether the stage (average water surface elevation) is rising or falling."
   ]
  },
  {
   "cell_type": "code",
   "execution_count": null,
   "metadata": {},
   "outputs": [],
   "source": [
    "# sketch(s) here"
   ]
  },
  {
   "cell_type": "code",
   "execution_count": null,
   "metadata": {},
   "outputs": [],
   "source": [
    "# list known quantities"
   ]
  },
  {
   "cell_type": "code",
   "execution_count": null,
   "metadata": {},
   "outputs": [],
   "source": [
    "# list unknown quantities"
   ]
  },
  {
   "cell_type": "code",
   "execution_count": null,
   "metadata": {},
   "outputs": [],
   "source": [
    "# governing principles"
   ]
  },
  {
   "cell_type": "code",
   "execution_count": null,
   "metadata": {},
   "outputs": [],
   "source": [
    "# solution (step-by-step/computations)"
   ]
  },
  {
   "cell_type": "code",
   "execution_count": null,
   "metadata": {},
   "outputs": [],
   "source": [
    "# discussion"
   ]
  },
  {
   "cell_type": "markdown",
   "metadata": {},
   "source": [
    "---\n",
    "\n",
    "## Problem 2\n",
    "\n",
    "A paved parking lot section has a uniform slope over a length of 100 $m$ (in the flow direction) from the point of a drainage area divide to the inlet grate, which extends across the lot width of 30 $m$.  Rainfall is occuring at a constant intensity of 100 $\\frac{mm}{hr}$. The detention storage on the paved section is accumulating (increasing) at a rate of 60 $\\frac{m^3}{hr}$\n",
    "\n",
    "Determine:\n",
    "\n",
    "- Runoff rate into the inlet grate (in $\\frac{m^3}{sec}$)"
   ]
  },
  {
   "cell_type": "code",
   "execution_count": null,
   "metadata": {},
   "outputs": [],
   "source": [
    "# sketch(s) here"
   ]
  },
  {
   "cell_type": "code",
   "execution_count": null,
   "metadata": {},
   "outputs": [],
   "source": [
    "# list known quantities"
   ]
  },
  {
   "cell_type": "code",
   "execution_count": null,
   "metadata": {},
   "outputs": [],
   "source": [
    "# list unknown quantities"
   ]
  },
  {
   "cell_type": "code",
   "execution_count": null,
   "metadata": {},
   "outputs": [],
   "source": [
    "# governing principles"
   ]
  },
  {
   "cell_type": "code",
   "execution_count": null,
   "metadata": {},
   "outputs": [],
   "source": [
    "# solution (step-by-step/computations)"
   ]
  },
  {
   "cell_type": "code",
   "execution_count": null,
   "metadata": {},
   "outputs": [],
   "source": [
    "# discussion"
   ]
  },
  {
   "cell_type": "markdown",
   "metadata": {},
   "source": [
    "---\n",
    "\n",
    "## Problem 3\n",
    "\n",
    "A symmetric compound channel in overbank flow has a main channel with a bottom width of 30 $m$, side slopes of 1:1,and a flow depth of 3 $m$.  The floodplains on either side of the main channel are 300 $m$ wide and flowing at a depth of 0.5 $m$.  The mean velocity in the main channel is 1.5 $\\frac{m}{sec}$ whereas the floodplain flow portion has a mean section velocity of 0.3 $\\frac{m}{sec}$. The velocity variation within the main channel and floodplain subsections are assumed to be much smaller than the change in mean velocities between subsections.\n",
    "\n",
    "Determine:\n",
    "\n",
    "- The value of the kinetic energy correction coefficient $\\alpha$"
   ]
  },
  {
   "cell_type": "code",
   "execution_count": null,
   "metadata": {},
   "outputs": [],
   "source": [
    "# sketch(s) here"
   ]
  },
  {
   "cell_type": "code",
   "execution_count": null,
   "metadata": {},
   "outputs": [],
   "source": [
    "# list known quantities"
   ]
  },
  {
   "cell_type": "code",
   "execution_count": null,
   "metadata": {},
   "outputs": [],
   "source": [
    "# list unknown quantities"
   ]
  },
  {
   "cell_type": "code",
   "execution_count": null,
   "metadata": {},
   "outputs": [],
   "source": [
    "# governing principles"
   ]
  },
  {
   "cell_type": "code",
   "execution_count": null,
   "metadata": {},
   "outputs": [],
   "source": [
    "# solution (step-by-step/computations)"
   ]
  },
  {
   "cell_type": "code",
   "execution_count": null,
   "metadata": {},
   "outputs": [],
   "source": [
    "# discussion"
   ]
  },
  {
   "cell_type": "markdown",
   "metadata": {},
   "source": [
    "---\n",
    "\n",
    "## Problem 4\n",
    "\n",
    "A bridge has cylindrical piers 1 $m$ in diameter and spaced 15 $m$ apart.  \n",
    "Downstream of the bridge, where the flow disturbance from the piers is no longer present, the flow depth is 2.9 $m$ and the mean velocity is 2.5 $\\frac{m}{sec}$\n",
    "\n",
    "Figure 4 is a typical graph of drag coefficient for a single cylinder \n",
    "\n",
    "> Figure 4 adapted from [Wenjun Gao, Daniel Nelias, Yaguo Lyu, Nicolas Boisson,\n",
    "Numerical investigations on drag coefficient of circular cylinder with two free ends in roller bearings,\n",
    "Tribology International,\n",
    "Volume 123,\n",
    "2018,\n",
    "Pages 43-49,\n",
    "ISSN 0301-679X,\n",
    "https://doi.org/10.1016/j.triboint.2018.02.044.](https://www.sciencedirect.com/science/article/pii/S0301679X18301324)\n",
    "\n",
    "<figure align=\"center\">\n",
    "<!--<img src=\"./cylinderdrages1.png\" width=\"600\" >-->\n",
    "<img src=\"http://54.243.252.9/ce-4353-webroot/2-Exercises/ES1/Cdforacylinder.png\" width=\"600\" >\n",
    "<figcaption>Figure 4: The drag coefficient, $C_D$, for a circular cylinder as a function of Reynolds number. </figcaption>\n",
    "\n",
    "</figure>\n",
    "\n",
    "Determine\n",
    "\n",
    "- The Reynolds number for the flow described (use the flow depth as the characteristic length)\n",
    "- The drag coefficient, $C_d$ for a cylinder at the computed Reynolds number \n",
    "- The depth of flow upstream of the bridge\n",
    "- The head loss caused by the piers"
   ]
  },
  {
   "cell_type": "code",
   "execution_count": null,
   "metadata": {},
   "outputs": [],
   "source": [
    "# sketch(s) here"
   ]
  },
  {
   "cell_type": "code",
   "execution_count": null,
   "metadata": {},
   "outputs": [],
   "source": [
    "# list known quantities"
   ]
  },
  {
   "cell_type": "code",
   "execution_count": null,
   "metadata": {},
   "outputs": [],
   "source": [
    "# list unknown quantities"
   ]
  },
  {
   "cell_type": "code",
   "execution_count": null,
   "metadata": {},
   "outputs": [],
   "source": [
    "# governing principles"
   ]
  },
  {
   "cell_type": "code",
   "execution_count": 44,
   "metadata": {},
   "outputs": [
    {
     "name": "stdout",
     "output_type": "stream",
     "text": [
      "7250000.0\n",
      "950.017 950.017\n",
      "2.480646678927334\n",
      "head loss  0.017712051257554595\n"
     ]
    }
   ],
   "source": [
    "# solution (step-by-step/computations)\n",
    "# guess values\n",
    "yu = 2.922625\n",
    "Cd = 0.9\n",
    "#fixed values\n",
    "nu = 1.0e-06\n",
    "D = 1.0\n",
    "W = 16\n",
    "g = 9.81\n",
    "yd = 2.9\n",
    "vd = 2.5\n",
    "Q = vd*yd*W\n",
    "Re = Q/W/nu\n",
    "print(round(Re,1))\n",
    "# imtermediate calculations\n",
    "R1 = vd*Q\n",
    "R2 = 0.5*g*W*yd**2\n",
    "L1 = 0.5*g*W*yu**2 \n",
    "L2 = (Q**2)/(yu*W)\n",
    "L3 = (1 - (Cd*D)/(2*W))\n",
    "# left side\n",
    "left = L1 + L2*L3\n",
    "# right side\n",
    "right = R1 + R2\n",
    "print(round(left,3),round(right,3))\n",
    "uu=Q/W/yu\n",
    "print(uu)\n",
    "hup = yu + (uu**2)/(2*g)\n",
    "hdn = yd + (vd**2)/(2*g)\n",
    "print('head loss ',hup-hdn)"
   ]
  },
  {
   "cell_type": "markdown",
   "metadata": {},
   "source": [
    "### discussion"
   ]
  }
 ],
 "metadata": {
  "kernelspec": {
   "display_name": "Python 3",
   "language": "python",
   "name": "python3"
  },
  "language_info": {
   "codemirror_mode": {
    "name": "ipython",
    "version": 3
   },
   "file_extension": ".py",
   "mimetype": "text/x-python",
   "name": "python",
   "nbconvert_exporter": "python",
   "pygments_lexer": "ipython3",
   "version": "3.8.10"
  }
 },
 "nbformat": 4,
 "nbformat_minor": 4
}
