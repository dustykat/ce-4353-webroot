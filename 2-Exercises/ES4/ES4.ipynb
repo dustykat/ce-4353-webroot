{
 "cells": [
  {
   "cell_type": "markdown",
   "metadata": {},
   "source": [
    "**Download** (right-click, save target as ...) this page as a Jupyterlab notebook from: [ES-4](http://54.243.252.9/ce-4353-webroot/2-Exercises/ES4/ES4.ipynb)\n",
    "\n",
    "___"
   ]
  },
  {
   "cell_type": "markdown",
   "metadata": {},
   "source": [
    "# <font color=darkblue>CE 4353 Design of Hydraulic Systems <br> CE 5360 Open Channel Flow <br> Fall 2023 Exercise Set 4</font>\n",
    "\n",
    "**LAST NAME, FIRST NAME**\n",
    "\n",
    "**R00000000**\n",
    "\n",
    "___\n",
    "\n",
    "### Purpose : \n",
    "Apply principles of momentum conservation and rapidly varied flow concepts to open channel analysis and design\n",
    " \n",
    "### Assessment Criteria : \n",
    "Completion, results plausible, format correct, calculations (Jupyter Notebook) are shown.  \n",
    "\n",
    "### Instructions :\n",
    "- CE 4353 Complete Problems 1-4\n",
    "- CE 5360 Complete All Problems\n",
    "\n",
    "___"
   ]
  },
  {
   "cell_type": "markdown",
   "metadata": {},
   "source": [
    "## Problem 1\n",
    "\n",
    "A hydraulic jump occurs in a 20 ft wide rectangular channel, the upstream depth is 3.5 ft at a flow rate of 2500 cfs.  \n",
    "\n",
    "\n",
    "\n",
    "\n",
    "Determine:\n",
    "\n",
    "- The downstream depth in ft \n",
    "- The head loss across the jump.\n"
   ]
  },
  {
   "cell_type": "code",
   "execution_count": 6,
   "metadata": {},
   "outputs": [],
   "source": [
    "# sketch(s) \n",
    "# list known quantities\n",
    "# list unknown quantities\n",
    "# governing principles\n",
    "# solution details (e.g. step-by-step computations)\n",
    "# discussion"
   ]
  },
  {
   "cell_type": "markdown",
   "metadata": {},
   "source": [
    "---\n",
    "\n",
    "## Problem 2\n",
    "\n",
    "A hydraulic jump is to be formed in a trapezoidal channel with a base width of 20 ft and side slopes of 2:1. The upstream depth is 1.35 ft and Q=1100 cfs. Figure 3-2 below is from the textbook.\n",
    "\n",
    "<figure align=\"center\">\n",
    "<!--<img src=\"./TrapHydJump.png\" width=\"700\" >-->\n",
    "<img src=\"http://54.243.252.9/ce-4353-webroot/2-Exercises/ES4/TrapHydJump.png\" width=\"700\" >\n",
    "<figcaption> </figcaption>\n",
    "\n",
    "</figure>\n",
    "\n",
    "\n",
    "\n",
    "\n",
    "Determine:\n",
    "\n",
    "- The downstream depth in the jump\n",
    "- The head loss in the jump\n",
    "- The approach momentum function value $M_1$ \n",
    "- The exit momentum function value $M_2$ \n"
   ]
  },
  {
   "cell_type": "code",
   "execution_count": 6,
   "metadata": {},
   "outputs": [],
   "source": [
    "# sketch(s) \n",
    "# list known quantities\n",
    "# list unknown quantities\n",
    "# governing principles\n",
    "# solution details (e.g. step-by-step computations)\n",
    "# discussion"
   ]
  },
  {
   "cell_type": "markdown",
   "metadata": {},
   "source": [
    "---\n",
    "\n",
    "## Problem 3\n",
    "\n",
    "A 3-ft diameter storm sewer carries a discharge of 6.5 cfs with a flow depth of 0.65 ft.\n",
    "Figure 3-3 below is from the textbook.\n",
    "\n",
    "<figure align=\"center\">\n",
    "<!--<img src=\"./CircularHydJump.png\" width=\"700\" >-->\n",
    "<img src=\"http://54.243.252.9/ce-4353-webroot/2-Exercises/ES4/CircularHydJump.png\" width=\"700\" >\n",
    "<figcaption> </figcaption>\n",
    "\n",
    "</figure>\n",
    "\n",
    "\n",
    "Determine:\n",
    "\n",
    "- The downstream depth in the jump\n",
    "- The head loss in the jump\n",
    "- The approach momentum function value $M_1$ \n",
    "- The exit momentum function value $M_2$ "
   ]
  },
  {
   "cell_type": "code",
   "execution_count": 1,
   "metadata": {},
   "outputs": [],
   "source": [
    "# sketch(s) \n",
    "# list known quantities\n",
    "# list unknown quantities\n",
    "# governing principles\n",
    "# solution details (e.g. step-by-step computations)\n",
    "# discussion"
   ]
  },
  {
   "cell_type": "markdown",
   "metadata": {},
   "source": [
    "---\n",
    "\n",
    "## Problem 4\n",
    "\n",
    "A flume with triangular cross section contains water flowing at a depth of 0.15 $m$ and at a discharge of 0.35 $\\frac{m^3}{s}$. The side slopes of the flume are 2:1. \n",
    "\n",
    "Determine:\n",
    "\n",
    "- The downstream depth for a hydraulic jump\n",
    "- The head loss in the jump\n",
    "- The approach momentum function value $M_1$ \n",
    "- The exit momentum function value $M_2$ "
   ]
  },
  {
   "cell_type": "code",
   "execution_count": 6,
   "metadata": {},
   "outputs": [],
   "source": [
    "# sketch(s) \n",
    "# list known quantities\n",
    "# list unknown quantities\n",
    "# governing principles\n",
    "# solution details (e.g. step-by-step computations)\n",
    "# discussion"
   ]
  },
  {
   "cell_type": "markdown",
   "metadata": {},
   "source": [
    "<a href=\"http://54.243.252.9/ce-4353-webroot/2-Exercises/ES4/src-sol/ES4-WS.html\"> <img src=\"http://54.243.252.9/ce-4353-webroot/2-Exercises/ES4/easy-button.png\" alt=\"EZ Button Link to ES-4 sample solution\" style=\"width:42px;height:42px;align:left\"> </a> "
   ]
  },
  {
   "cell_type": "markdown",
   "metadata": {},
   "source": [
    "---\n",
    "\n",
    "## Problem 5 (CE 5360)\n",
    "\n",
    "Download and read [H. Azinfar and J.A. Kells (2011). Backwater effect due to a single spur dike. Canadian Journal of Civil Engineering  No. 34 pp 107-115 DOI: 10.1139/l06-117\n",
    "](http://54.243.252.9/ce-4353-webroot/2-Exercises/ES4/Backwater_effect_due_to_a_single_spur_dike.pdf)"
   ]
  },
  {
   "cell_type": "markdown",
   "metadata": {},
   "source": [
    "Answer the following questions using complete sentences.  You do not need to write equations or draw figures to answer the questions.   Short paragraphs should be sufficient to answer the questions.  You may copy the text of the questions into your own document.  Use 1.5 line spacing to make it easy to read.\n",
    "1.  State the apparent objective(s) of the article.  \n",
    "2.  Explain the effect of Froude number on drag coefficient.\n",
    "3.  Explain the effect of submergence ratio on the drag coefficient.\n",
    "4.  Describe the significance and utility of these two parameters in spur dike performance estimates.\n",
    "5. Summarize a procedure to estimate backwater effects of a single spur dike using the principles presented in the paper."
   ]
  }
 ],
 "metadata": {
  "kernelspec": {
   "display_name": "Python 3",
   "language": "python",
   "name": "python3"
  },
  "language_info": {
   "codemirror_mode": {
    "name": "ipython",
    "version": 3
   },
   "file_extension": ".py",
   "mimetype": "text/x-python",
   "name": "python",
   "nbconvert_exporter": "python",
   "pygments_lexer": "ipython3",
   "version": "3.8.10"
  }
 },
 "nbformat": 4,
 "nbformat_minor": 4
}
