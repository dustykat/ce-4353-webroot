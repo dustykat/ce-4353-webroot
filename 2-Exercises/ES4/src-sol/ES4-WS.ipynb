{
 "cells": [
  {
   "cell_type": "markdown",
   "metadata": {},
   "source": [
    "**Download** (right-click, save target as ...) this page as a Jupyterlab notebook from: [ES-4](http://54.243.252.9/ce-4353-webroot/2-Exercises/ES4/ES4.ipynb)\n",
    "\n",
    "___"
   ]
  },
  {
   "cell_type": "markdown",
   "metadata": {},
   "source": [
    "# <font color=darkblue>CE 4353/5360 Design of Hydraulic Systems <br> Fall 2022 Exercise Set 4</font>\n",
    "\n",
    "**LAST NAME, FIRST NAME**\n",
    "\n",
    "**R00000000**\n",
    "\n",
    "___\n",
    "\n",
    "### Purpose : \n",
    "Apply principles of momentum conservation and rapidly varied flow concepts to open channel analysis and design\n",
    " \n",
    "### Assessment Criteria : \n",
    "Completion, results plausible, format correct, calculations (Jupyter Notebook) are shown.  \n",
    "\n",
    "___"
   ]
  },
  {
   "cell_type": "markdown",
   "metadata": {},
   "source": [
    "## Problem 1\n",
    "\n",
    "A hydraulic jump occurs in a 20 ft wide rectangular channel, the upstream depth is 3.5 ft at a flow rate of 2500 cfs.  \n",
    "\n",
    "\n",
    "\n",
    "\n",
    "Determine:\n",
    "\n",
    "- The downstream depth in ft \n",
    "- The head loss across the jump.\n"
   ]
  },
  {
   "cell_type": "code",
   "execution_count": null,
   "metadata": {},
   "outputs": [],
   "source": [
    "# sketch(s) here"
   ]
  },
  {
   "cell_type": "code",
   "execution_count": null,
   "metadata": {},
   "outputs": [],
   "source": [
    "# list known quantities"
   ]
  },
  {
   "cell_type": "code",
   "execution_count": null,
   "metadata": {},
   "outputs": [],
   "source": [
    "# list unknown quantities"
   ]
  },
  {
   "cell_type": "markdown",
   "metadata": {},
   "source": [
    "# governing principles\n",
    "\n",
    "![](Problem1-1.png)\n"
   ]
  },
  {
   "cell_type": "code",
   "execution_count": 92,
   "metadata": {},
   "outputs": [
    {
     "name": "stdout",
     "output_type": "stream",
     "text": [
      "y1 =  3.5 y2 =  14.99  Momentum Error =  0.918\n",
      "head loss  7.236  feet\n"
     ]
    }
   ],
   "source": [
    "# solution (step-by-step/computations)\n",
    "g = 32.2 # ft/s/s given\n",
    "y1 = 3.5  # ft given\n",
    "y2 = 14.99 #14.9936 # <<<< Guess this value, adjust to obtain momentum balance for section\n",
    "Q  = 2500 # cfs given\n",
    "b  = 20.0 # ft. given\n",
    "deltaY = 0.0001\n",
    "tolerance = 10000\n",
    "\n",
    "def funcM(A,hc,Q,g):\n",
    "    funcM = (A*hc)+(Q**2)/(g*A)\n",
    "    return(funcM)\n",
    "\n",
    "A1 = b*y1\n",
    "A2 = b*y2\n",
    "h1 = y1/2.0\n",
    "h2 = y2/2.0\n",
    "LHS = funcM(A1,h1,Q,g)\n",
    "RHS = funcM(A2,h2,Q,g)\n",
    "print(\"y1 = \",round(y1,3),\"y2 = \",round(y2,4),\" Momentum Error = \",round(LHS-RHS,3))\n",
    "\n",
    "E1 = y1+Q**2/(2*g*A1**2)\n",
    "E2 = y2+Q**2/(2*g*A2**2)\n",
    "print(\"head loss \",round(E1-E2,3),\" feet\")"
   ]
  },
  {
   "cell_type": "markdown",
   "metadata": {},
   "source": [
    "---\n",
    "\n",
    "## Problem 2\n",
    "\n",
    "A hydraulic jump is to be formed in a trapezoidal channel with a base width of 20 ft and side slopes of 2:1. The upstream depth is 1.35 ft and Q=1100 cfs. Figure 3-2 below is from the textbook.\n",
    "\n",
    "<figure align=\"center\">\n",
    "<!--<img src=\"./TrapHydJump.png\" width=\"700\" >-->\n",
    "<img src=\"http://54.243.252.9/ce-4353-webroot/2-Exercises/ES4/TrapHydJump.png\" width=\"700\" >\n",
    "<figcaption> </figcaption>\n",
    "\n",
    "</figure>\n",
    "\n",
    "\n",
    "\n",
    "\n",
    "Determine:\n",
    "\n",
    "- The downstream depth in the jump\n",
    "- The head loss in the jump\n",
    "- The approach momentum function value $M_1$ \n",
    "- The exit momentum function value $M_2$ \n"
   ]
  },
  {
   "cell_type": "code",
   "execution_count": null,
   "metadata": {},
   "outputs": [],
   "source": [
    "# sketch(s) here"
   ]
  },
  {
   "cell_type": "code",
   "execution_count": null,
   "metadata": {},
   "outputs": [],
   "source": [
    "# list known quantities"
   ]
  },
  {
   "cell_type": "code",
   "execution_count": null,
   "metadata": {},
   "outputs": [],
   "source": [
    "# list unknown quantities"
   ]
  },
  {
   "cell_type": "code",
   "execution_count": null,
   "metadata": {},
   "outputs": [],
   "source": [
    "# governing principles"
   ]
  },
  {
   "cell_type": "code",
   "execution_count": 101,
   "metadata": {},
   "outputs": [
    {
     "name": "stdout",
     "output_type": "stream",
     "text": [
      "y1 =  1.35 y2 =  8.482  Momentum Error =  -0.029\n",
      "head loss  12.684  feet\n"
     ]
    }
   ],
   "source": [
    "# solution (step-by-step/computations)\n",
    "# just reuse code\n",
    "g = 32.2 # ft/s/s given\n",
    "y1 = 1.35  # ft given\n",
    "y2 = 8.482 # <<<< Guess this value, adjust to obtain momentum balance for section\n",
    "Q  = 1100 # cfs given\n",
    "b  = 20.0 # ft. given\n",
    "m  = 2.0 # given\n",
    "\n",
    "\n",
    "def TopTrap(y,m,b):\n",
    "    TopTrap=b+2*m*y\n",
    "    return(TopTrap)\n",
    "    \n",
    "def AreaTrap(y,m,b):\n",
    "    AreaTrap=y*(b+m*y)\n",
    "    return(AreaTrap)\n",
    "\n",
    "def funcM(A,hc,Q,g):\n",
    "    funcM = (A*hc)+(Q**2)/(g*A)\n",
    "    return(funcM)\n",
    "\n",
    "def ybar(y,b,m):\n",
    "    ybar=((m*y**3)/6+(b*y**2)/2+(m*y**3)/6)/(y*(b+m*y))\n",
    "    return(ybar)\n",
    "\n",
    "A1 = AreaTrap(y1,m,b)\n",
    "A2 = AreaTrap(y2,m,b)\n",
    "h1 = ybar(y1,b,m)\n",
    "h2 = ybar(y2,b,m)\n",
    "LHS = funcM(A1,h1,Q,g)\n",
    "RHS = funcM(A2,h2,Q,g)\n",
    "print(\"y1 = \",round(y1,3),\"y2 = \",round(y2,4),\" Momentum Error = \",round(LHS-RHS,3))\n",
    "\n",
    "E1 = y1+Q**2/(2*g*A1**2)\n",
    "E2 = y2+Q**2/(2*g*A2**2)\n",
    "print(\"head loss \",round(E1-E2,3),\" feet\")"
   ]
  },
  {
   "cell_type": "code",
   "execution_count": null,
   "metadata": {},
   "outputs": [],
   "source": [
    "# discussion"
   ]
  },
  {
   "cell_type": "markdown",
   "metadata": {},
   "source": [
    "---\n",
    "\n",
    "## Problem 3\n",
    "\n",
    "A 3-ft diameter storm sewer carries a discharge of 6.5 cfs with a flow depth of 0.65 ft.\n",
    "Figure 3-3 below is from the textbook.\n",
    "\n",
    "<figure align=\"center\">\n",
    "<!--<img src=\"./CircularHydJump.png\" width=\"700\" >-->\n",
    "<img src=\"http://54.243.252.9/ce-4353-webroot/2-Exercises/ES4/CircularHydJump.png\" width=\"700\" >\n",
    "<figcaption> </figcaption>\n",
    "\n",
    "</figure>\n",
    "\n",
    "\n",
    "Determine:\n",
    "\n",
    "- The downstream depth in the jump\n",
    "- The head loss in the jump\n",
    "- The approach momentum function value $M_1$ \n",
    "- The exit momentum function value $M_2$ "
   ]
  },
  {
   "cell_type": "code",
   "execution_count": null,
   "metadata": {},
   "outputs": [],
   "source": [
    "# sketch(s) here"
   ]
  },
  {
   "cell_type": "code",
   "execution_count": null,
   "metadata": {},
   "outputs": [],
   "source": [
    "# list known quantities"
   ]
  },
  {
   "cell_type": "code",
   "execution_count": null,
   "metadata": {},
   "outputs": [],
   "source": [
    "# list unknown quantities"
   ]
  },
  {
   "cell_type": "code",
   "execution_count": null,
   "metadata": {},
   "outputs": [],
   "source": [
    "# governing principles"
   ]
  },
  {
   "cell_type": "code",
   "execution_count": 120,
   "metadata": {},
   "outputs": [
    {
     "name": "stdout",
     "output_type": "stream",
     "text": [
      "y1 =  0.65 y2 =  0.8583  Momentum Error =  0.0\n",
      "y1 =  0.65 y2 =  0.8584  Momentum Error =  0.0\n",
      "y1 =  0.65 y2 =  0.8585  Momentum Error =  -0.0\n",
      "y1 =  0.65 y2 =  0.8586  Momentum Error =  -0.0\n"
     ]
    }
   ],
   "source": [
    "# solution (step-by-step/computations)\n",
    "# just reuse code\n",
    "g = 32.2 # ft/s/s given\n",
    "y1 = 0.65  # ft given\n",
    "y2 = 0.85 # <<<< Guess this value, adjust to obtain momentum balance for section\n",
    "Q  = 6.5 # cfs given\n",
    "diam  = 3.0 # ft. given\n",
    "deltaY =0.0001\n",
    "tolerance = 0.0001\n",
    "\n",
    "#Angle = ARCCOS[1 - 2(y/D)] (in radians)\n",
    "#Area = (D^2/4)(Angle - SIN(Angle)*COS(Angle))\n",
    "#Topwidth = D*SIN(Angle)\n",
    "\n",
    "def guppy(y,diam):\n",
    "    import math\n",
    "    guppy=math.acos(1.0-2*(y/diam))\n",
    "    return(guppy)\n",
    "    \n",
    "def areaC(y,diam):\n",
    "    import math\n",
    "    areaC=((diam**2)/4)*(guppy(y,diam) - math.sin(guppy(y,diam))*math.cos(guppy(y,diam)))\n",
    "    return(areaC)\n",
    "\n",
    "def topC(y,diam):\n",
    "    import math\n",
    "    topC = diam*math.sin(guppy(y,diam))\n",
    "    return(topC)\n",
    "    \n",
    "\n",
    "def funcM(A,hc,Q,g):\n",
    "    funcM = (A*hc)+(Q**2)/(g*A)\n",
    "    return(funcM)\n",
    "\n",
    "def ybar(y,diam):\n",
    "    import math\n",
    "    ybar=(diam*math.sin(guppy(y,diam))/(3*guppy(y,diam)))\n",
    "    return(ybar)\n",
    "for i in range(1000):\n",
    "    y2 += deltaY\n",
    "    A1 = areaC(y1,diam)\n",
    "    A2 = areaC(y2,diam)\n",
    "    h1 = ybar(y1,diam)\n",
    "    h2 = ybar(y2,diam)\n",
    "    LHS = funcM(A1,h1,Q,g)\n",
    "    RHS = funcM(A2,h2,Q,g)\n",
    "    if abs(LHS-RHS) <= tolerance:\n",
    "        print(\"y1 = \",round(y1,3),\"y2 = \",round(y2,4),\" Momentum Error = \",round(LHS-RHS,3))"
   ]
  },
  {
   "cell_type": "code",
   "execution_count": 114,
   "metadata": {},
   "outputs": [
    {
     "name": "stdout",
     "output_type": "stream",
     "text": [
      "head loss  0.072  feet\n"
     ]
    }
   ],
   "source": [
    "y2=0.8585\n",
    "A2 = areaC(y2,diam)\n",
    "E1 = y1+Q**2/(2*g*A1**2)\n",
    "E2 = y2+Q**2/(2*g*A2**2)\n",
    "print(\"head loss \",round(E1-E2,3),\" feet\")"
   ]
  },
  {
   "cell_type": "markdown",
   "metadata": {},
   "source": [
    "# discussion\n",
    "\n",
    "A nice brute force approach; here's same solved by using charts first some dimensionless parameters"
   ]
  },
  {
   "cell_type": "code",
   "execution_count": 126,
   "metadata": {},
   "outputs": [],
   "source": [
    "Zcirc = Q/math.sqrt(g*diam**5)\n",
    "y1oD = y1/diam\n",
    "print(Zcirc,y1oD)"
   ]
  },
  {
   "cell_type": "markdown",
   "metadata": {},
   "source": [
    "Then use the chart\n",
    "\n",
    "![](CircularHydJump-Annotate.png)\n",
    "\n",
    "Then print the depth"
   ]
  },
  {
   "cell_type": "code",
   "execution_count": 127,
   "metadata": {},
   "outputs": [
    {
     "name": "stdout",
     "output_type": "stream",
     "text": [
      "y2 approx.  0.8645\n"
     ]
    }
   ],
   "source": [
    "print(\"y2 approx. \",1.33*y1)"
   ]
  },
  {
   "cell_type": "markdown",
   "metadata": {},
   "source": [
    "Which is about the same as the momentum balance computations."
   ]
  },
  {
   "cell_type": "markdown",
   "metadata": {},
   "source": [
    "---\n",
    "\n",
    "## Problem 4\n",
    "\n",
    "A flume with triangular cross section contains water flowing at a depth of 0.15 $m$ and at a discharge of 0.35 $\\frac{m^3}{s}$. The side slopes of the flume are 2:1. \n",
    "\n",
    "Determine:\n",
    "\n",
    "- The downstream depth for a hydraulic jump\n",
    "- The head loss in the jump\n",
    "- The approach momentum function value $M_1$ \n",
    "- The exit momentum function value $M_2$ "
   ]
  },
  {
   "cell_type": "code",
   "execution_count": null,
   "metadata": {},
   "outputs": [],
   "source": [
    "# sketch(s) here"
   ]
  },
  {
   "cell_type": "code",
   "execution_count": null,
   "metadata": {},
   "outputs": [],
   "source": [
    "# list known quantities"
   ]
  },
  {
   "cell_type": "code",
   "execution_count": null,
   "metadata": {},
   "outputs": [],
   "source": [
    "# list unknown quantities"
   ]
  },
  {
   "cell_type": "code",
   "execution_count": null,
   "metadata": {},
   "outputs": [],
   "source": [
    "# governing principles"
   ]
  },
  {
   "cell_type": "code",
   "execution_count": null,
   "metadata": {},
   "outputs": [],
   "source": [
    "# solution (step-by-step/computations)"
   ]
  },
  {
   "cell_type": "code",
   "execution_count": null,
   "metadata": {},
   "outputs": [],
   "source": [
    "# discussion"
   ]
  }
 ],
 "metadata": {
  "kernelspec": {
   "display_name": "Python 3",
   "language": "python",
   "name": "python3"
  },
  "language_info": {
   "codemirror_mode": {
    "name": "ipython",
    "version": 3
   },
   "file_extension": ".py",
   "mimetype": "text/x-python",
   "name": "python",
   "nbconvert_exporter": "python",
   "pygments_lexer": "ipython3",
   "version": "3.8.10"
  }
 },
 "nbformat": 4,
 "nbformat_minor": 4
}
