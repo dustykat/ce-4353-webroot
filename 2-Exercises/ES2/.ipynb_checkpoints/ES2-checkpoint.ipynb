{
 "cells": [
  {
   "cell_type": "markdown",
   "metadata": {},
   "source": [
    "**Download** (right-click, save target as ...) this page as a Jupyterlab notebook from: [ES-2](http://54.243.252.9/ce-4353-webroot/2-Exercises/ES2/ES2.ipynb)\n",
    "\n",
    "___"
   ]
  },
  {
   "cell_type": "markdown",
   "metadata": {},
   "source": [
    "# <font color=darkblue>CE 4353 Design of Hydraulic Systems <br> CE 5360 Open Channel Flow <br> Fall 2023 Exercise Set 2</font>\n",
    "\n",
    "**LAST NAME, FIRST NAME**\n",
    "\n",
    "**R00000000**\n",
    "\n",
    "___\n",
    "\n",
    "### Purpose : \n",
    "Apply principles of specific energy in rectangular open channels; apply definition of choked flow\n",
    " \n",
    "### Assessment Criteria : \n",
    "Completion, results plausible, format correct, calculations (Jupyter Notebook) are shown.  \n",
    "\n",
    "### Instructions :\n",
    "- CE 4353 Complete Problems 1-2\n",
    "- CE 5360 Complete All Problems\n",
    "___\n",
    "\n"
   ]
  },
  {
   "cell_type": "markdown",
   "metadata": {},
   "source": [
    "## Problem 1\n",
    "\n",
    "Water is flowing at a depth of 10 $ft$ with a velocity of 10 $\\frac{ft}{sec}$ in a rectangular channel.  A smooth upward step in the channel bottom of 1 $ft$ is proposed\n",
    "\n",
    "Determine:\n",
    "\n",
    "- The flow depth (on the step).\n",
    "- The change in water surface elevation.\n",
    "- The maximum allowable step height that prevents choking (assume a head loss coefficient of 0)."
   ]
  },
  {
   "cell_type": "code",
   "execution_count": 6,
   "metadata": {},
   "outputs": [],
   "source": [
    "# sketch(s) \n",
    "# list known quantities\n",
    "# list unknown quantities\n",
    "# governing principles\n",
    "# solution details (e.g. step-by-step computations)\n",
    "# discussion"
   ]
  },
  {
   "cell_type": "markdown",
   "metadata": {},
   "source": [
    "---\n",
    "\n",
    "## Problem 2\n",
    "\n",
    "Water is flowing at a depth of 10 $ft$ with a velocity of 10 $\\frac{ft}{sec}$ in a rectangular channel.  A smooth contraction in width from 10 $ft$ to 9 $ft$ on a horizontal bottom is proposed\n",
    "\n",
    "Determine:\n",
    "\n",
    "- The flow depth (in the contracted section).\n",
    "- The change in water surface elevation.\n",
    "- The maximum allowable contraction width that prevents choking (assume a head loss coefficient of 0)."
   ]
  },
  {
   "cell_type": "code",
   "execution_count": 6,
   "metadata": {},
   "outputs": [],
   "source": [
    "# sketch(s) \n",
    "# list known quantities\n",
    "# list unknown quantities\n",
    "# governing principles\n",
    "# solution details (e.g. step-by-step computations)\n",
    "# discussion"
   ]
  },
  {
   "cell_type": "markdown",
   "metadata": {},
   "source": [
    "---\n",
    "\n",
    "## Problem 3 (CE 5360)\n",
    "\n",
    "Download and read [Granata, Francesco & Gargano, Rudy & DE MARINIS, Giovanni & Hager, W. (2010). CHOKING FEATURES OF DROP MANHOLES IN SEWER SYSTEMS, 1st European IAHR Congress. Edinburgh, UK. ](http://54.243.252.9/ce-4353-webroot/2-Exercises/ES2/ChokingFeaturesofDropManholesinSewerSystems.pdf)"
   ]
  },
  {
   "cell_type": "markdown",
   "metadata": {},
   "source": [
    "Answer the following questions using complete sentences.  You do not need to write equations or draw figures to answer the questions.   Short paragraphs should be sufficient to answer the questions.  You may copy the text of the questions into your own document.  Use 1.5 line spacing to make it easy to read.\n",
    "1.  State the apparent objective(s) of the article.  \n",
    "2.  Explain the effect of downstream pipe slope on flow choking.\n",
    "3.  Explain the meaning of the approach flow filling ratio $y_0$.\n",
    "4.  Explain the meaning of the choking inception parameter $\\psi$.\n",
    "5.  Describe the significance and utility of these two parameters in drop manholes.\n",
    "6. Explain why sewers would be a concern in an open channel flow context."
   ]
  }
 ],
 "metadata": {
  "kernelspec": {
   "display_name": "Python 3",
   "language": "python",
   "name": "python3"
  },
  "language_info": {
   "codemirror_mode": {
    "name": "ipython",
    "version": 3
   },
   "file_extension": ".py",
   "mimetype": "text/x-python",
   "name": "python",
   "nbconvert_exporter": "python",
   "pygments_lexer": "ipython3",
   "version": "3.8.10"
  }
 },
 "nbformat": 4,
 "nbformat_minor": 4
}
