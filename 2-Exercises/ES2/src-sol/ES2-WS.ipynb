{
 "cells": [
  {
   "cell_type": "markdown",
   "metadata": {},
   "source": [
    "**Download** (right-click, save target as ...) this page as a Jupyterlab notebook from: [ES-2](http://54.243.252.9/ce-4353-webroot/2-Exercises/ES2/ES2.ipynb)\n",
    "\n",
    "___"
   ]
  },
  {
   "cell_type": "markdown",
   "metadata": {},
   "source": [
    "# <font color=darkblue>CE 4353/5360 Design of Hydraulic Systems <br> Fall 2022 Exercise Set 2</font>\n",
    "\n",
    "**LAST NAME, FIRST NAME**\n",
    "\n",
    "**R00000000**\n",
    "\n",
    "___\n",
    "\n",
    "### Purpose : \n",
    "Apply principles of specific energy in rectangular open channels; apply definition of choked flow\n",
    " \n",
    "### Assessment Criteria : \n",
    "Completion, results plausible, format correct, calculations (Jupyter Notebook) are shown.  \n",
    "\n",
    "___"
   ]
  },
  {
   "cell_type": "markdown",
   "metadata": {},
   "source": [
    "## Problem 1\n",
    "\n",
    "Water is flowing at a depth of 10 $ft$ with a velocity of 10 $\\frac{ft}{sec}$ in a rectangular channel.  A smooth upward step in the channel bottom of 1 $ft$ is proposed\n",
    "\n",
    "Determine:\n",
    "\n",
    "- The flow depth (on the step).\n",
    "- The change in water surface elevation.\n",
    "- The maximum allowable step height that prevents choking (assume a head loss coefficient of 0)."
   ]
  },
  {
   "cell_type": "code",
   "execution_count": null,
   "metadata": {},
   "outputs": [],
   "source": [
    "# sketch(s) here"
   ]
  },
  {
   "cell_type": "code",
   "execution_count": null,
   "metadata": {},
   "outputs": [],
   "source": [
    "# list known quantities"
   ]
  },
  {
   "cell_type": "code",
   "execution_count": null,
   "metadata": {},
   "outputs": [],
   "source": [
    "# list unknown quantities"
   ]
  },
  {
   "cell_type": "code",
   "execution_count": null,
   "metadata": {},
   "outputs": [],
   "source": [
    "# governing principles\n",
    "# match sp energy before after step\n",
    "# check Fr <1 on step"
   ]
  },
  {
   "cell_type": "code",
   "execution_count": 104,
   "metadata": {},
   "outputs": [
    {
     "name": "stdout",
     "output_type": "stream",
     "text": [
      "Small Step in Horizontal Channel\n",
      "Section 1: Sp. energy  11.5527950310559  depth  10  step height  0 Fr  0.5572782125753528\n",
      "Section 2: Sp. energy  11.558599372185657  depth  8.31  step height  1.0 Fr  0.7356487959258888\n"
     ]
    }
   ],
   "source": [
    "def spNRG(y,width,discharge,gravity): #specific energy in a rectangular channel\n",
    "    numerator=discharge**2\n",
    "    denominator=(2.0*gravity)*(width**2)*(y**2)\n",
    "    if denominator == 0.0: #probably depth is zero\n",
    "        raise Exception(\"divide by zero, check your inputs dumbass!\")\n",
    "    spNRG=numerator/denominator + y\n",
    "    return(spNRG)\n",
    "\n",
    "def Fr2(y,width,discharge,gravity):\n",
    "    Fr2=(width*discharge**2)/(gravity*(width*y)**3)\n",
    "    return(Fr2)\n",
    "\n",
    "g= 32.2 #given\n",
    "V1=10 #given\n",
    "y1=10 #given\n",
    "B1=10 #analyst choice\n",
    "Q=V1*y1*B1\n",
    "y2=8.31\n",
    "dz=1.0\n",
    "B2=10\n",
    "NRG1=spNRG(y1,B1,Q,g)\n",
    "NRG2=spNRG(y2,B2,Q,g)\n",
    "FR1=Fr2(y1,B1,Q,g)**(1/2)\n",
    "FR2=Fr2(y2,B2,Q,g)**(1/2)\n",
    "\n",
    "print(\"Small Step in Horizontal Channel\")\n",
    "print(\"Section 1: \"+\"Sp. energy \",NRG1,\" depth \",y1,\" step height \",0,\"Fr \",FR1)\n",
    "print(\"Section 2: \"+\"Sp. energy \",NRG2+dz,\" depth \",y2,\" step height \",dz,\"Fr \",FR2)"
   ]
  },
  {
   "cell_type": "code",
   "execution_count": 127,
   "metadata": {},
   "outputs": [
    {
     "name": "stdout",
     "output_type": "stream",
     "text": [
      "Small Step in Horizontal Channel\n",
      "Section 1: Sp. energy  11.5527950310559  depth  10  step height  0 Fr  0.5572782125753528\n",
      "Section 2: Sp. energy  11.554961884807609  depth  6.78  step height  1.397 Fr  0.9982228877217582\n"
     ]
    }
   ],
   "source": [
    "def spNRG(y,width,discharge,gravity): #specific energy in a rectangular channel\n",
    "    numerator=discharge**2\n",
    "    denominator=(2.0*gravity)*(width**2)*(y**2)\n",
    "    if denominator == 0.0: #probably depth is zero\n",
    "        raise Exception(\"divide by zero, check your inputs dumbass!\")\n",
    "    spNRG=numerator/denominator + y\n",
    "    return(spNRG)\n",
    "\n",
    "def Fr2(y,width,discharge,gravity):\n",
    "    Fr2=(width*discharge**2)/(gravity*(width*y)**3)\n",
    "    return(Fr2)\n",
    "\n",
    "g= 32.2 #given\n",
    "V1=10 #given\n",
    "y1=10 #given\n",
    "B1=10 #analyst choice\n",
    "Q=V1*y1*B1\n",
    "y2=6.78 # set to get Fr=1 criotical depth\n",
    "dz=1.397 # set until until NRGs match\n",
    "B2=10\n",
    "NRG1=spNRG(y1,B1,Q,g)\n",
    "NRG2=spNRG(y2,B2,Q,g)\n",
    "FR1=Fr2(y1,B1,Q,g)**(1/2)\n",
    "FR2=Fr2(y2,B2,Q,g)**(1/2)\n",
    "\n",
    "print(\"Small Step in Horizontal Channel\")\n",
    "print(\"Section 1: \"+\"Sp. energy \",NRG1,\" depth \",y1,\" step height \",0,\"Fr \",FR1)\n",
    "print(\"Section 2: \"+\"Sp. energy \",NRG2+dz,\" depth \",y2,\" step height \",dz,\"Fr \",FR2)"
   ]
  },
  {
   "cell_type": "code",
   "execution_count": null,
   "metadata": {},
   "outputs": [],
   "source": [
    "# discussion"
   ]
  },
  {
   "cell_type": "markdown",
   "metadata": {},
   "source": [
    "---\n",
    "\n",
    "## Problem 2\n",
    "\n",
    "Water is flowing at a depth of 10 $ft$ with a velocity of 10 $\\frac{ft}{sec}$ in a rectangular channel.  A smooth contraction in width from 10 $ft$ to 9 $ft$ on a horizontal bottom is proposed\n",
    "\n",
    "Determine:\n",
    "\n",
    "- The flow depth (in the contracted section).\n",
    "- The change in water surface elevation.\n",
    "- The maximum allowable contraction in width that prevents choking (assume a head loss coefficient of 0)."
   ]
  },
  {
   "cell_type": "code",
   "execution_count": null,
   "metadata": {},
   "outputs": [],
   "source": [
    "# sketch(s) here"
   ]
  },
  {
   "cell_type": "code",
   "execution_count": null,
   "metadata": {},
   "outputs": [],
   "source": [
    "# list known quantities"
   ]
  },
  {
   "cell_type": "code",
   "execution_count": null,
   "metadata": {},
   "outputs": [],
   "source": [
    "# list unknown quantities"
   ]
  },
  {
   "cell_type": "code",
   "execution_count": null,
   "metadata": {},
   "outputs": [],
   "source": [
    "# governing principles"
   ]
  },
  {
   "cell_type": "code",
   "execution_count": 154,
   "metadata": {},
   "outputs": [
    {
     "name": "stdout",
     "output_type": "stream",
     "text": [
      "Contraction in Horizontal Channel\n",
      "Section 1: Sp. energy  11.5527950310559  depth  10  step height  0 Fr  0.5572782125753528\n",
      "Section 2: Sp. energy  11.556155160221182  depth  9.375  step height  0 Fr  0.6821386228965383\n"
     ]
    }
   ],
   "source": [
    "def spNRG(y,width,discharge,gravity): #specific energy in a rectangular channel\n",
    "    numerator=discharge**2\n",
    "    denominator=(2.0*gravity)*(width**2)*(y**2)\n",
    "    if denominator == 0.0: #probably depth is zero\n",
    "        raise Exception(\"divide by zero, check your inputs dumbass!\")\n",
    "    spNRG=numerator/denominator + y\n",
    "    return(spNRG)\n",
    "\n",
    "def Fr2(y,width,discharge,gravity):\n",
    "    Fr2=(width*discharge**2)/(gravity*(width*y)**3)\n",
    "    return(Fr2)\n",
    "\n",
    "g= 32.2 #given\n",
    "V1=10 #given\n",
    "y1=10 #given\n",
    "B1=10 #analyst choice\n",
    "Q=V1*y1*B1\n",
    "y2=9.375 # \n",
    "dz=0 # \n",
    "B2=9 # given\n",
    "NRG1=spNRG(y1,B1,Q,g)\n",
    "NRG2=spNRG(y2,B2,Q,g)\n",
    "FR1=Fr2(y1,B1,Q,g)**(1/2)\n",
    "FR2=Fr2(y2,B2,Q,g)**(1/2)\n",
    "\n",
    "print(\"Contraction in Horizontal Channel\")\n",
    "print(\"Section 1: \"+\"Sp. energy \",NRG1,\" depth \",y1,\" step height \",0,\"Fr \",FR1)\n",
    "print(\"Section 2: \"+\"Sp. energy \",NRG2+dz,\" depth \",y2,\" step height \",dz,\"Fr \",FR2)"
   ]
  },
  {
   "cell_type": "code",
   "execution_count": 164,
   "metadata": {},
   "outputs": [
    {
     "name": "stdout",
     "output_type": "stream",
     "text": [
      "Contraction in Horizontal Channel\n",
      "Section 1: Sp. energy  11.5527950310559  depth  10  step height  0 Fr  0.5572782125753528\n",
      "Section 2: Sp. energy  11.557249633571399  depth  7.704833089047598  step height  0 Fr  1.0\n"
     ]
    }
   ],
   "source": [
    "def spNRG(y,width,discharge,gravity): #specific energy in a rectangular channel\n",
    "    numerator=discharge**2\n",
    "    denominator=(2.0*gravity)*(width**2)*(y**2)\n",
    "    if denominator == 0.0: #probably depth is zero\n",
    "        raise Exception(\"divide by zero, check your inputs dumbass!\")\n",
    "    spNRG=numerator/denominator + y\n",
    "    return(spNRG)\n",
    "\n",
    "def Fr2(y,width,discharge,gravity):\n",
    "    Fr2=(width*discharge**2)/(gravity*(width*y)**3)\n",
    "    return(Fr2)\n",
    "\n",
    "g= 32.2 #given\n",
    "V1=10 #given\n",
    "y1=10 #given\n",
    "B1=10 #analyst choice\n",
    "Q=V1*y1*B1\n",
    "y2=7.77 # \n",
    "dz=0 # \n",
    "B2=8.24 # make small adjust y to keep Fr below 1\n",
    "y2 = ((Q**2)/(g*B2*B2))**(1/3)\n",
    "NRG1=spNRG(y1,B1,Q,g)\n",
    "NRG2=spNRG(y2,B2,Q,g)\n",
    "FR1=Fr2(y1,B1,Q,g)**(1/2)\n",
    "FR2=Fr2(y2,B2,Q,g)**(1/2)\n",
    "\n",
    "print(\"Contraction in Horizontal Channel\")\n",
    "print(\"Section 1: \"+\"Sp. energy \",NRG1,\" depth \",y1,\" step height \",0,\"Fr \",FR1)\n",
    "print(\"Section 2: \"+\"Sp. energy \",NRG2+dz,\" depth \",y2,\" step height \",dz,\"Fr \",FR2)"
   ]
  },
  {
   "cell_type": "code",
   "execution_count": 1,
   "metadata": {},
   "outputs": [
    {
     "name": "stdout",
     "output_type": "stream",
     "text": [
      "total 292\n",
      "drwxrwxr-x  3 sensei sensei   4096 Oct  9 03:43 .\n",
      "drwxrwxr-x 12 sensei sensei   4096 Oct  9 03:43 ..\n",
      "drwxrwxr-x  2 sensei sensei   4096 Oct  9 03:43 .ipynb_checkpoints\n",
      "-rw-rw-r--  1 sensei sensei 278507 Oct  9 03:43 ES2.html\n",
      "-rw-rw-r--  1 sensei sensei   4186 Oct  9 03:43 ES2.ipynb\n"
     ]
    }
   ],
   "source": [
    "# discussion\n"
   ]
  },
  {
   "cell_type": "code",
   "execution_count": null,
   "metadata": {},
   "outputs": [],
   "source": []
  }
 ],
 "metadata": {
  "kernelspec": {
   "display_name": "Python 3",
   "language": "python",
   "name": "python3"
  },
  "language_info": {
   "codemirror_mode": {
    "name": "ipython",
    "version": 3
   },
   "file_extension": ".py",
   "mimetype": "text/x-python",
   "name": "python",
   "nbconvert_exporter": "python",
   "pygments_lexer": "ipython3",
   "version": "3.8.10"
  }
 },
 "nbformat": 4,
 "nbformat_minor": 4
}
