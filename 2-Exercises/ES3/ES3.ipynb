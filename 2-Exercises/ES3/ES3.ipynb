{
 "cells": [
  {
   "cell_type": "markdown",
   "metadata": {},
   "source": [
    "**Download** (right-click, save target as ...) this page as a Jupyterlab notebook from: [ES-3](http://54.243.252.9/ce-4353-webroot/2-Exercises/ES3/ES3.ipynb)\n",
    "\n",
    "___"
   ]
  },
  {
   "cell_type": "markdown",
   "metadata": {},
   "source": [
    "# <font color=darkblue>CE 4353 Design of Hydraulic Systems <br> CE 5360 Open Channel Flow <br> Fall 2023 Exercise Set 3</font>\n",
    "\n",
    "**LAST NAME, FIRST NAME**\n",
    "\n",
    "**R00000000**\n",
    "\n",
    "___\n",
    "\n",
    "### Purpose : \n",
    "Apply principles of specific energy in open channel transitions\n",
    " \n",
    "### Assessment Criteria : \n",
    "Completion, results plausible, format correct, calculations (Jupyter Notebook) are shown.  \n",
    "\n",
    "### Instructions :\n",
    "- CE 4353 Complete Problems 1-5\n",
    "- CE 5360 Complete All Problems\n",
    "\n",
    "___"
   ]
  },
  {
   "cell_type": "markdown",
   "metadata": {},
   "source": [
    "## Problem 1\n",
    "\n",
    "A subcritical transition from an upstream rectangular flume that is 49 $ft$ wide to a downstream trapezoidal channel with a width of 75 $ft$ and side slopes of 2:1.\n",
    "The transition bottom drops 1 $ft$ from the upstream flume to the downstream trapezoidal channel.  The steady discharge is 12,600 $cfs$ and the depth of flow in the downstream channel is 22 $ft$.  For a head loss coefficient of 0.5\n",
    "\n",
    "Determine:\n",
    "\n",
    "- The approach flow depth (in the rectangular flume).\n"
   ]
  },
  {
   "cell_type": "code",
   "execution_count": 9,
   "metadata": {},
   "outputs": [],
   "source": [
    "# sketch(s) \n",
    "# list known quantities\n",
    "# list unknown quantities\n",
    "# governing principles\n",
    "# solution details (e.g. step-by-step computations)\n",
    "# discussion"
   ]
  },
  {
   "cell_type": "markdown",
   "metadata": {},
   "source": [
    "---\n",
    "\n",
    "## Problem 2\n",
    "\n",
    "A circular culvert with 1.0 $m$ diameter is placed on a steep slope.  The upstream head is 1.3 $m$ with an unsubmerged entrance. Neglect entrance losses and\n",
    "\n",
    "Determine:\n",
    "\n",
    "- The discharge through the culvert.\n",
    "- The critical depth at the entrance.\n"
   ]
  },
  {
   "cell_type": "code",
   "execution_count": 9,
   "metadata": {},
   "outputs": [],
   "source": [
    "# sketch(s) \n",
    "# list known quantities\n",
    "# list unknown quantities\n",
    "# governing principles\n",
    "# solution details (e.g. step-by-step computations)\n",
    "# discussion"
   ]
  },
  {
   "cell_type": "markdown",
   "metadata": {},
   "source": [
    "---\n",
    "\n",
    "## Problem 3\n",
    "\n",
    "A 1.0 $m$ by 1.0 $m$ box culvert is placed on a steep slope.  The upstream head is 1.3 $m$ with an unsubmerged entrance. Neglect entrance losses and\n",
    "\n",
    "Determine:\n",
    "\n",
    "- The discharge through the culvert.\n",
    "- The critical depth at the entrance.\n"
   ]
  },
  {
   "cell_type": "code",
   "execution_count": 9,
   "metadata": {},
   "outputs": [],
   "source": [
    "# sketch(s) \n",
    "# list known quantities\n",
    "# list unknown quantities\n",
    "# governing principles\n",
    "# solution details (e.g. step-by-step computations)\n",
    "# discussion"
   ]
  },
  {
   "cell_type": "markdown",
   "metadata": {},
   "source": [
    "---\n",
    "\n",
    "## Problem 4\n",
    "\n",
    "A study of natural channel shapes in the western United States reported an average ratio of maximum depth to hydraulic depth ($D=\\frac{A}{T}$) in the main channel (with no overflow) of $\\frac{y}{D} = 1.55$ for 761 measurements.\n",
    "\n",
    "Determine:\n",
    "\n",
    "- The calculated ratio of maximum depth to hydraulic depth for a triangular channel.\n",
    "- The calculated ratio of maximum depth to hydraulic depth for a parabolic channel.\n",
    "- The calculated ratio of maximum depth to hydraulic depth for a rectangular channel.\n",
    "- The significance of these calculated results to the study's reported average.\n",
    "- The discharge for a channel at a critical depth of $y=10.0~ft$ if $\\frac{y}{D} = 1.55$ and $T=100~ft$.\n"
   ]
  },
  {
   "cell_type": "code",
   "execution_count": 9,
   "metadata": {},
   "outputs": [],
   "source": [
    "# sketch(s) \n",
    "# list known quantities\n",
    "# list unknown quantities\n",
    "# governing principles\n",
    "# solution details (e.g. step-by-step computations)\n",
    "# discussion"
   ]
  },
  {
   "cell_type": "markdown",
   "metadata": {},
   "source": [
    "## Problem 5 \n",
    "\n",
    "Prepare a function to compute head-discharge relationships for a rectangular, sharp-crested weir, and another function to compute head-discharge relationship for a 90$^o$ V-notch sharp-crested weir.\n",
    "\n",
    "Incorporate your functions into a supervisory script (a main program) and apply to a situation where the weir is placed in a 5 $ft$ wide channel with the weir crests are 1 $ft$ above the channel bottom.\n",
    "\n",
    "Determine:\n",
    "\n",
    "- Head vs discharge for the rectangular weir with a crest width of 1 $ft$ for approach head in the range $0 - 0.5~ft$\n",
    "- Head vs discharge for the V-notch weir for approach head in the range $0 - 0.5~ft$\n",
    "- Plot both relationships on the same figure (2 curves, 1 graph); properly label the axes of the plot including units,include a plot title, and include a plot legend altering both color and marker type to distinguish between the two different weirs.\n"
   ]
  },
  {
   "cell_type": "code",
   "execution_count": 9,
   "metadata": {},
   "outputs": [],
   "source": [
    "# sketch(s) \n",
    "# list known quantities\n",
    "# list unknown quantities\n",
    "# governing principles\n",
    "# solution details (e.g. step-by-step computations)\n",
    "# discussion"
   ]
  },
  {
   "cell_type": "markdown",
   "metadata": {},
   "source": [
    "<a href=\"http://54.243.252.9/ce-4353-webroot/2-Exercises/ES3/src-sol/ES3-WS.html\"> <img src=\"http://54.243.252.9/ce-4353-webroot/2-Exercises/ES3/easy-button.png\" alt=\"EZ Button Link to ES-3 sample solution\" style=\"width:42px;height:42px;align:left\"> </a> "
   ]
  },
  {
   "cell_type": "markdown",
   "metadata": {},
   "source": [
    "---\n",
    "\n",
    "## Problem 6 (CE 5360)\n",
    "\n",
    "Download and read [Lin, Y.-C.; Ho, H.-C.; Lee, T.-A.; Chen, H.-Y. Application of Image Technique to Obtain Surface Velocity and Bed Elevation in Open-Channel Flow. Water 2022, 14, 1895.](http://54.243.252.9/ce-4353-webroot/2-Exercises/ES3/water-14-01895.pdf)"
   ]
  },
  {
   "cell_type": "markdown",
   "metadata": {},
   "source": [
    "Answer the following questions using complete sentences.  You do not need to write equations or draw figures to answer the questions.   Short paragraphs should be sufficient to answer the questions.  You may copy the text of the questions into your own document.  Use 1.5 line spacing to make it easy to read.\n",
    "1.  State the apparent objective(s) of the article.  \n",
    "2.  Explain the principle of velocity measurement employed.\n",
    "3.  Explain the principle of bathymetry measurement employed.\n",
    "4. Summarize a procedure to field deploy the measurement technology using the principles presented in the paper.\n",
    "5. What fundamental limitation is evident in the technology from a long-term field deployment perspective."
   ]
  },
  {
   "cell_type": "code",
   "execution_count": null,
   "metadata": {},
   "outputs": [],
   "source": []
  }
 ],
 "metadata": {
  "kernelspec": {
   "display_name": "Python 3",
   "language": "python",
   "name": "python3"
  },
  "language_info": {
   "codemirror_mode": {
    "name": "ipython",
    "version": 3
   },
   "file_extension": ".py",
   "mimetype": "text/x-python",
   "name": "python",
   "nbconvert_exporter": "python",
   "pygments_lexer": "ipython3",
   "version": "3.8.10"
  }
 },
 "nbformat": 4,
 "nbformat_minor": 4
}
