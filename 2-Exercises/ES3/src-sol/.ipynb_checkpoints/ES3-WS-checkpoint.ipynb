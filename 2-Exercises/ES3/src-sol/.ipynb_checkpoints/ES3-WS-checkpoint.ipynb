{
 "cells": [
  {
   "cell_type": "markdown",
   "metadata": {},
   "source": [
    "**Download** (right-click, save target as ...) this page as a Jupyterlab notebook from: [ES-3](http://54.243.252.9/ce-4353-webroot/2-Exercises/ES3/ES3.ipynb)\n",
    "\n",
    "___"
   ]
  },
  {
   "cell_type": "markdown",
   "metadata": {},
   "source": [
    "# <font color=darkblue>CE 4353/5360 Design of Hydraulic Systems <br> Fall 2022 Exercise Set 3</font>\n",
    "\n",
    "**LAST NAME, FIRST NAME**\n",
    "\n",
    "**R00000000**\n",
    "\n",
    "___\n",
    "\n",
    "### Purpose : \n",
    "Apply principles of specific energy in open channel transitions\n",
    " \n",
    "### Assessment Criteria : \n",
    "Completion, results plausible, format correct, calculations (Jupyter Notebook) are shown.  \n",
    "\n",
    "___"
   ]
  },
  {
   "cell_type": "markdown",
   "metadata": {},
   "source": [
    "## Problem 1\n",
    "\n",
    "A subcritical transition from an upstream rectangular flume that is 49 $ft$ wide to a downstream trapezoidal channel with a width of 75 $ft$ and side slopes of 2:1.\n",
    "The transition bottom drops 1 $ft$ from the upstream flume to the downstream trapezoidal channel.  The steady discharge is 12,600 $cfs$ and the depth of flow in the downstream channel is 22 $ft$.  For a head loss coefficient of 0.5\n",
    "\n",
    "Determine:\n",
    "\n",
    "- The approach flow depth (in the rectangular flume).\n"
   ]
  },
  {
   "cell_type": "code",
   "execution_count": null,
   "metadata": {},
   "outputs": [],
   "source": [
    "# sketch(s) here"
   ]
  },
  {
   "cell_type": "code",
   "execution_count": null,
   "metadata": {},
   "outputs": [],
   "source": [
    "# list known quantities"
   ]
  },
  {
   "cell_type": "code",
   "execution_count": null,
   "metadata": {},
   "outputs": [],
   "source": [
    "# list unknown quantities"
   ]
  },
  {
   "cell_type": "code",
   "execution_count": null,
   "metadata": {},
   "outputs": [],
   "source": [
    "# governing principles"
   ]
  },
  {
   "cell_type": "code",
   "execution_count": null,
   "metadata": {},
   "outputs": [],
   "source": [
    "# solution (step-by-step/computations)"
   ]
  },
  {
   "cell_type": "code",
   "execution_count": null,
   "metadata": {},
   "outputs": [],
   "source": [
    "# discussion"
   ]
  },
  {
   "cell_type": "markdown",
   "metadata": {},
   "source": [
    "---\n",
    "\n",
    "## Problem 2\n",
    "\n",
    "A circular culvert with 1.0 $m$ diameter is placed on a steep slope.  The upstream head is 1.3 $m$ with an unsubmerged entrance. Neglect entrance losses and\n",
    "\n",
    "Determine:\n",
    "\n",
    "- The discharge through the culvert.\n",
    "- The critical depth at the entrance.\n"
   ]
  },
  {
   "cell_type": "markdown",
   "metadata": {},
   "source": [
    "# sketch(s) here\n",
    "\n",
    "![](Problem2.1.png) <!--![](Problem2.2.png)-->"
   ]
  },
  {
   "cell_type": "code",
   "execution_count": null,
   "metadata": {},
   "outputs": [],
   "source": [
    "# list known quantities"
   ]
  },
  {
   "cell_type": "code",
   "execution_count": null,
   "metadata": {},
   "outputs": [],
   "source": [
    "# list unknown quantities"
   ]
  },
  {
   "cell_type": "code",
   "execution_count": null,
   "metadata": {},
   "outputs": [],
   "source": [
    "# governing principles"
   ]
  },
  {
   "cell_type": "code",
   "execution_count": 17,
   "metadata": {},
   "outputs": [],
   "source": []
  },
  {
   "cell_type": "markdown",
   "metadata": {},
   "source": [
    "# solution (step-by-step/computations)\n",
    "\n",
    "![](Problem2.2.png)"
   ]
  },
  {
   "cell_type": "code",
   "execution_count": 17,
   "metadata": {},
   "outputs": [
    {
     "name": "stdout",
     "output_type": "stream",
     "text": [
      "Entrance Depth =  0.882  meters \n",
      "Discharge =  2.452  m^3/sec \n",
      "Energy Balance Error =  0.0\n"
     ]
    }
   ],
   "source": [
    "# prototype functions\n",
    "def area(theta,diameter):\n",
    "    import math\n",
    "    area=(1/8)*(theta-math.sin(theta))*diameter**2\n",
    "    return(area)\n",
    "\n",
    "def topw(theta,diameter):\n",
    "    import math\n",
    "    topw=diameter*math.sin(theta/2)\n",
    "    return(topw)\n",
    "\n",
    "def angle(depth,diameter):\n",
    "    angle=2*math.acos(1-2*depth/diameter)\n",
    "    return(angle)\n",
    "\n",
    "# solution script\n",
    "import math\n",
    "g = 9.81\n",
    "D = 1.0\n",
    "y = 0.8825  # <<< Guess this value\n",
    "Ec = 1.3\n",
    "\n",
    "Q = math.sqrt(g*area(angle(y,D),D)**3/topw(angle(y,D),D))\n",
    "E = y+Q**2/(2*g*area(angle(y,D),D))\n",
    "print(\"Entrance Depth = \",round(y,3),\" meters \\nDischarge = \",round(Q,3),\" m^3/sec \\nEnergy Balance Error = \",round(E-Ec,3))"
   ]
  },
  {
   "cell_type": "code",
   "execution_count": null,
   "metadata": {},
   "outputs": [],
   "source": [
    "# discussion"
   ]
  },
  {
   "cell_type": "markdown",
   "metadata": {},
   "source": [
    "---\n",
    "\n",
    "## Problem 3\n",
    "\n",
    "A 1.0 $m$ by 1.0 $m$ box culvert is placed on a steep slope.  The upstream head is 1.3 $m$ with an unsubmerged entrance. Neglect entrance losses and\n",
    "\n",
    "Determine:\n",
    "\n",
    "- The discharge through the culvert.\n",
    "- The critical depth at the entrance.\n"
   ]
  },
  {
   "cell_type": "markdown",
   "metadata": {},
   "source": [
    "# sketch(s) here\n",
    "\n",
    "![](Problem3.png)"
   ]
  },
  {
   "cell_type": "code",
   "execution_count": null,
   "metadata": {},
   "outputs": [],
   "source": [
    "# list known quantities"
   ]
  },
  {
   "cell_type": "code",
   "execution_count": null,
   "metadata": {},
   "outputs": [],
   "source": [
    "# list unknown quantities"
   ]
  },
  {
   "cell_type": "code",
   "execution_count": null,
   "metadata": {},
   "outputs": [],
   "source": [
    "# governing principles"
   ]
  },
  {
   "cell_type": "code",
   "execution_count": 16,
   "metadata": {},
   "outputs": [
    {
     "name": "stdout",
     "output_type": "stream",
     "text": [
      "Entrance Depth =  0.897  meters \n",
      "Discharge =  2.663  m^3/sec \n",
      "Energy Balance Error =  0.0\n"
     ]
    }
   ],
   "source": [
    "# solution (step-by-step/computations)\n",
    "# prototype functions\n",
    "def area(width,depth):\n",
    "    import math\n",
    "    area=width*depth\n",
    "    return(area)\n",
    "\n",
    "# solution script\n",
    "import math\n",
    "g = 9.81\n",
    "W = 1.0\n",
    "y = 0.8975 # <<< Guess this value\n",
    "Ec = 1.3\n",
    "\n",
    "Q = math.sqrt(g*area(W,y)**3/W)\n",
    "E = y+Q**2/(2*g*area(W,y))\n",
    "print(\"Entrance Depth = \",round(y,3),\" meters \\nDischarge = \",round(Q,3),\" m^3/sec \\nEnergy Balance Error = \",round(E-Ec,3))"
   ]
  },
  {
   "cell_type": "code",
   "execution_count": null,
   "metadata": {},
   "outputs": [],
   "source": [
    "# discussion"
   ]
  },
  {
   "cell_type": "markdown",
   "metadata": {},
   "source": [
    "---\n",
    "\n",
    "## Problem 4\n",
    "\n",
    "A study of natural channel shapes in the western United States reported an average ratio of maximum depth to hydraulic depth ($D=\\frac{A}{T}$) in the main channel (with no overflow) of $\\frac{y}{D} = 1.55$ for 761 measurements.\n",
    "\n",
    "Determine:\n",
    "\n",
    "- The calculated ratio of maximum depth to hydraulic depth for a triangular channel.\n",
    "- The calculated ratio of maximum depth to hydraulic depth for a parabolic channel.\n",
    "- The calculated ratio of maximum depth to hydraulic depth for a rectangular channel.\n",
    "- The significance of these calculated results to the study's reported average.\n",
    "- The discharge for a channel at a critical depth of $y=10.0~ft$ if $\\frac{y}{D} = 1.55$ and $T=100~ft$.\n"
   ]
  },
  {
   "cell_type": "code",
   "execution_count": null,
   "metadata": {},
   "outputs": [],
   "source": [
    "# sketch(s) here"
   ]
  },
  {
   "cell_type": "code",
   "execution_count": null,
   "metadata": {},
   "outputs": [],
   "source": [
    "# list known quantities"
   ]
  },
  {
   "cell_type": "code",
   "execution_count": null,
   "metadata": {},
   "outputs": [],
   "source": [
    "# list unknown quantities"
   ]
  },
  {
   "cell_type": "code",
   "execution_count": null,
   "metadata": {},
   "outputs": [],
   "source": [
    "# governing principles"
   ]
  },
  {
   "cell_type": "code",
   "execution_count": null,
   "metadata": {},
   "outputs": [],
   "source": [
    "# solution (step-by-step/computations)"
   ]
  },
  {
   "cell_type": "code",
   "execution_count": null,
   "metadata": {},
   "outputs": [],
   "source": [
    "# discussion"
   ]
  },
  {
   "cell_type": "markdown",
   "metadata": {},
   "source": [
    "---\n",
    "\n",
    "## Problem 5 (Application of ENGR-1330 Computational Thinking)\n",
    "\n",
    "Prepare a function (within a JupyterLab Notebook) to compute head-discharge relationships for a rectangular, sharp-crested weir, and another function to compute head-discharge relationship for a 90$^o$ V-notch sharp-crested weir.\n",
    "\n",
    "Incorporate your functions into a supervisory script (a main program) and apply to a situation where the weir is placed in a 5 $ft$ wide channel with the weir crests are 1 $ft$ above the channel bottom.\n",
    "\n",
    "Determine:\n",
    "\n",
    "- Head vs discharge for the rectangular weir with a crest width of 1 $ft$ for approach head in the range $0 - 0.5~ft$\n",
    "- Head vs discharge for the V-notch weir for approach head in the range $0 - 0.5~ft$\n",
    "- Plot both relationships on the same figure (2 curves, 1 graph); properly label the axes of the plot including units,include a plot title, and include a plot legend altering both color and marker type to distinguish between the two different weirs.\n"
   ]
  },
  {
   "cell_type": "code",
   "execution_count": null,
   "metadata": {},
   "outputs": [],
   "source": [
    "# sketch(s) here"
   ]
  },
  {
   "cell_type": "code",
   "execution_count": null,
   "metadata": {},
   "outputs": [],
   "source": [
    "# list known quantities"
   ]
  },
  {
   "cell_type": "code",
   "execution_count": null,
   "metadata": {},
   "outputs": [],
   "source": [
    "# list unknown quantities"
   ]
  },
  {
   "cell_type": "code",
   "execution_count": null,
   "metadata": {},
   "outputs": [],
   "source": [
    "# governing principles"
   ]
  },
  {
   "cell_type": "code",
   "execution_count": null,
   "metadata": {},
   "outputs": [],
   "source": [
    "# solution (step-by-step/computations)\n"
   ]
  },
  {
   "cell_type": "code",
   "execution_count": null,
   "metadata": {},
   "outputs": [],
   "source": [
    "# Rectangular weir formula\n",
    "def Qrect(C_de,L_e,H_e,g):\n",
    "    import math\n",
    "    Qrect=(2/3)*math.sqrt(2.0*g)*C_de*L_e*(H_e**(3/2))\n",
    "    return(Qrect)"
   ]
  },
  {
   "cell_type": "code",
   "execution_count": 18,
   "metadata": {},
   "outputs": [],
   "source": [
    "# Kindsvater-Carter formula interpolation\n",
    "\n",
    "def lagint(xlist,ylist,xpred):\n",
    "    # lagrangian interpolation of order len(xlist)-1 \n",
    "    # \n",
    "    lagint = 0.0 # ypred is an accumulator, and will be output\n",
    "    norder = len(xlist)\n",
    "    for i in range(norder):\n",
    "        term = ylist[i] # build up terms of polynomial\n",
    "        for j in range(norder):\n",
    "            if (i != j):\n",
    "                term = term * (xpred-xlist[j])/(xlist[i]-xlist[j])\n",
    "#            pass # may not need this expression\n",
    "        lagint = lagint + term\n",
    "#    print(i,j) #debugging expression\n",
    "    return(lagint)\n",
    "\n",
    "L_over_b = [1,0.9,0.8,0.7,0.6,0.5,0.4,0.3,0.2,0.1,0]\n",
    "beta1 = [0.602,0.599,0.597,0.595,0.593,0.592,0.591,0.59,0.589,0.588,0.587]\n",
    "beta2 = [0.075,0.064,0.045,0.03,0.018,0.011,0.0058,0.002,-0.0018,-0.0021,-0.0023]"
   ]
  },
  {
   "cell_type": "code",
   "execution_count": 21,
   "metadata": {},
   "outputs": [
    {
     "data": {
      "text/plain": [
       "0.602"
      ]
     },
     "execution_count": 21,
     "metadata": {},
     "output_type": "execute_result"
    }
   ],
   "source": [
    "lagint(L_over_b,beta1,1.0)"
   ]
  },
  {
   "cell_type": "code",
   "execution_count": 22,
   "metadata": {},
   "outputs": [],
   "source": [
    "#\n",
    "\n",
    "L = 1.0 # feet crest width\n",
    "H = [0,0.1,0.2,0.3,0.4,0.5] # approach heads\n",
    "B = 5 # ft given\n",
    "k_l = 0.002 #chart 2.23(c) pg 44\n",
    "k_h = 0.003 #ft pg 44\n",
    "P = 0.3 #ft minimum value suggested p45\n",
    "Q = [0 for i in range(len(H))]\n",
    "g=32.2\n",
    "\n",
    "for i in range(len(H)):\n",
    "    He = H[i]+k_h\n",
    "    Le = L + k_l\n",
    "    Cd = lagint(L_over_b,beta1,L/B)+ He/P*lagint(L_over_b,beta2,L/B)\n",
    "    Q[i] = Qrect(Cd,Le,He,g)\n",
    "    \n",
    "\n",
    "    "
   ]
  },
  {
   "cell_type": "code",
   "execution_count": null,
   "metadata": {},
   "outputs": [],
   "source": [
    "# discussion"
   ]
  }
 ],
 "metadata": {
  "kernelspec": {
   "display_name": "Python 3",
   "language": "python",
   "name": "python3"
  },
  "language_info": {
   "codemirror_mode": {
    "name": "ipython",
    "version": 3
   },
   "file_extension": ".py",
   "mimetype": "text/x-python",
   "name": "python",
   "nbconvert_exporter": "python",
   "pygments_lexer": "ipython3",
   "version": "3.8.10"
  }
 },
 "nbformat": 4,
 "nbformat_minor": 4
}
