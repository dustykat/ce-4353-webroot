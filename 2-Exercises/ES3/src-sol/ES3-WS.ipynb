{
 "cells": [
  {
   "cell_type": "markdown",
   "metadata": {},
   "source": [
    "**Download** (right-click, save target as ...) this page as a Jupyterlab notebook from: [ES-3](http://54.243.252.9/ce-4353-webroot/2-Exercises/ES3/ES3.ipynb)\n",
    "\n",
    "___"
   ]
  },
  {
   "cell_type": "markdown",
   "metadata": {},
   "source": [
    "# <font color=darkblue>CE 4353/5360 Design of Hydraulic Systems <br> Fall 2022 Exercise Set 3</font>\n",
    "\n",
    "**LAST NAME, FIRST NAME**\n",
    "\n",
    "**R00000000**\n",
    "\n",
    "___\n",
    "\n",
    "### Purpose : \n",
    "Apply principles of specific energy in open channel transitions\n",
    " \n",
    "### Assessment Criteria : \n",
    "Completion, results plausible, format correct, calculations (Jupyter Notebook) are shown.  \n",
    "\n",
    "___"
   ]
  },
  {
   "cell_type": "markdown",
   "metadata": {},
   "source": [
    "## Problem 1\n",
    "\n",
    "A subcritical transition from an upstream rectangular flume that is 49 $ft$ wide to a downstream trapezoidal channel with a width of 75 $ft$ and side slopes of 2:1.\n",
    "The transition bottom drops 1 $ft$ from the upstream flume to the downstream trapezoidal channel.  The steady discharge is 12,600 $cfs$ and the depth of flow in the downstream channel is 22 $ft$.  For a head loss coefficient of 0.5\n",
    "\n",
    "Determine:\n",
    "\n",
    "- The approach flow depth (in the rectangular flume).\n"
   ]
  },
  {
   "cell_type": "markdown",
   "metadata": {},
   "source": [
    "# sketch(s) here\n",
    "\n",
    "![](Problem1.png)"
   ]
  },
  {
   "cell_type": "markdown",
   "metadata": {},
   "source": [
    "# list known quantities\n",
    "\n",
    "- $y_2$\n",
    "\n",
    "- $B_1$\n",
    "\n",
    "- $B_2$\n",
    "\n",
    "- $m$\n",
    "\n",
    "- $Q$\n",
    "\n",
    "- Geometry each section\n",
    "\n",
    "- $\\Delta z$"
   ]
  },
  {
   "cell_type": "markdown",
   "metadata": {},
   "source": [
    "# list unknown quantities\n",
    "\n",
    "- $y_1$"
   ]
  },
  {
   "cell_type": "markdown",
   "metadata": {},
   "source": [
    "# governing principles\n",
    "\n",
    "- Modified Bernoulli for open channels"
   ]
  },
  {
   "cell_type": "code",
   "execution_count": 126,
   "metadata": {},
   "outputs": [
    {
     "name": "stdout",
     "output_type": "stream",
     "text": [
      "y1  19.881 y2 22.0  Energy Error  0.0\n"
     ]
    }
   ],
   "source": [
    "# solution (step-by-step/computations)\n",
    "import math\n",
    "y1 = 19.880 # <<< Guess and adjust this value\n",
    "y2 = 22.0 # ft given\n",
    "Q = 12600 # cfs given\n",
    "g = 32.2 # ft/s/s given\n",
    "b1 = 49.0 # given\n",
    "b2 = 75.0 # given\n",
    "m2 = 2.0 #given\n",
    "Dz = -1.0 #given\n",
    "Kl = 0.5 #given\n",
    "deltaY = 0.0001\n",
    "tolerance = 0.0001\n",
    "\n",
    "\n",
    "for i in range(10000):\n",
    "    y1 = y1+float(i)*deltaY\n",
    "    Q2g = (Q**2/(2.0*g))\n",
    "    A1 = b1*y1\n",
    "    A2 = y2*(b2+m2*y2)\n",
    "    E1 = y1 + Q2g/(A1**2)\n",
    "    E2 = y2 + Q2g/(A2**2)\n",
    "    LHS = E1\n",
    "    RHS = E2 + Dz + Kl*abs(1/(A1**2)-1/(A2**2))*Q2g\n",
    "    if abs(LHS-RHS) <= tolerance:\n",
    "        print(\"y1 \",round(y1,3),\"y2\",round(y2,3),\" Energy Error \",round(LHS-RHS,3))\n",
    "        "
   ]
  },
  {
   "cell_type": "markdown",
   "metadata": {},
   "source": [
    "# discussion\n",
    "\n",
    "By a \"brute force\" search approach depth is 19.881 feet."
   ]
  },
  {
   "cell_type": "markdown",
   "metadata": {},
   "source": [
    "---\n",
    "\n",
    "## Problem 2\n",
    "\n",
    "A circular culvert with 1.0 $m$ diameter is placed on a steep slope.  The upstream head is 1.3 $m$ with an unsubmerged entrance. Neglect entrance losses and\n",
    "\n",
    "Determine:\n",
    "\n",
    "- The discharge through the culvert.\n",
    "- The critical depth at the entrance.\n"
   ]
  },
  {
   "cell_type": "markdown",
   "metadata": {},
   "source": [
    "# sketch(s) here\n",
    "\n",
    "![](Problem2.1.png) <!--![](Problem2.2.png)-->"
   ]
  },
  {
   "cell_type": "markdown",
   "metadata": {},
   "source": [
    "# list known quantities\n",
    "\n",
    "- $E_o$\n",
    "- Unsubmerged inlet\n",
    "- Neglect head losses\n",
    "- Hydraulically steep slope"
   ]
  },
  {
   "cell_type": "markdown",
   "metadata": {},
   "source": [
    "# list unknown quantities\n",
    "\n",
    "- $y_c$  Just before jump close to inlet most likely\n",
    "- $Q$"
   ]
  },
  {
   "cell_type": "markdown",
   "metadata": {},
   "source": [
    "# governing principles\n",
    "\n",
    "- Energy balance, critical energy\n",
    "- Algebra too!"
   ]
  },
  {
   "cell_type": "markdown",
   "metadata": {},
   "source": [
    "# solution (step-by-step/computations)\n",
    "\n",
    "Algorithm\n",
    "\n",
    "![](Problem2.2.png)"
   ]
  },
  {
   "cell_type": "code",
   "execution_count": 127,
   "metadata": {},
   "outputs": [
    {
     "name": "stdout",
     "output_type": "stream",
     "text": [
      "Entrance Depth =  0.882  meters \n",
      "Discharge =  2.452  m^3/sec \n",
      "Energy Balance Error =  0.0\n"
     ]
    }
   ],
   "source": [
    "# prototype functions\n",
    "def area(theta,diameter):\n",
    "    import math\n",
    "    area=(1/8)*(theta-math.sin(theta))*diameter**2\n",
    "    return(area)\n",
    "\n",
    "def topw(theta,diameter):\n",
    "    import math\n",
    "    topw=diameter*math.sin(theta/2)\n",
    "    return(topw)\n",
    "\n",
    "def angle(depth,diameter):\n",
    "    angle=2*math.acos(1-2*depth/diameter)\n",
    "    return(angle)\n",
    "\n",
    "# solution script\n",
    "import math\n",
    "g = 9.81\n",
    "D = 1.0\n",
    "y = 0.8825  # <<< Guess this value\n",
    "Ec = 1.3\n",
    "\n",
    "Q = math.sqrt(g*area(angle(y,D),D)**3/topw(angle(y,D),D))\n",
    "E = y+Q**2/(2*g*area(angle(y,D),D))\n",
    "print(\"Entrance Depth = \",round(y,3),\" meters \\nDischarge = \",round(Q,3),\" m^3/sec \\nEnergy Balance Error = \",round(E-Ec,3))"
   ]
  },
  {
   "cell_type": "markdown",
   "metadata": {},
   "source": [
    "# discussion\n",
    "\n",
    "Brute force, non-elegant, balance two sides of equation by guess-and-check."
   ]
  },
  {
   "cell_type": "markdown",
   "metadata": {},
   "source": [
    "---\n",
    "\n",
    "## Problem 3\n",
    "\n",
    "A 1.0 $m$ by 1.0 $m$ box culvert is placed on a steep slope.  The upstream head is 1.3 $m$ with an unsubmerged entrance. Neglect entrance losses and\n",
    "\n",
    "Determine:\n",
    "\n",
    "- The discharge through the culvert.\n",
    "- The critical depth at the entrance.\n"
   ]
  },
  {
   "cell_type": "markdown",
   "metadata": {},
   "source": [
    "# sketch(s) here\n",
    "\n",
    "![](Problem3.png)"
   ]
  },
  {
   "cell_type": "markdown",
   "metadata": {},
   "source": [
    "# list known quantities\n",
    "\n",
    "- $E_o$\n",
    "- Unsubmerged inlet\n",
    "- Neglect head losses\n",
    "- Hydraulically steep slope"
   ]
  },
  {
   "cell_type": "markdown",
   "metadata": {},
   "source": [
    "# list unknown quantities\n",
    "\n",
    "- $y_c$  Just before jump close to inlet most likely\n",
    "- $Q$"
   ]
  },
  {
   "cell_type": "markdown",
   "metadata": {},
   "source": [
    "# governing principles\n",
    "\n",
    "- Energy balance, critical energy\n",
    "- Algebra too!\n",
    "\n",
    "Algorithm: \n",
    "    \n",
    "![](Problem2.2.png)"
   ]
  },
  {
   "cell_type": "code",
   "execution_count": 128,
   "metadata": {},
   "outputs": [
    {
     "name": "stdout",
     "output_type": "stream",
     "text": [
      "Entrance Depth =  0.897  meters \n",
      "Discharge =  2.663  m^3/sec \n",
      "Energy Balance Error =  0.0\n"
     ]
    }
   ],
   "source": [
    "# solution (step-by-step/computations)\n",
    "# prototype functions\n",
    "def area(width,depth):\n",
    "    import math\n",
    "    area=width*depth\n",
    "    return(area)\n",
    "\n",
    "# solution script\n",
    "import math\n",
    "g = 9.81\n",
    "W = 1.0\n",
    "y = 0.8975 # <<< Guess this value\n",
    "Ec = 1.3\n",
    "\n",
    "Q = math.sqrt(g*area(W,y)**3/W)\n",
    "E = y+Q**2/(2*g*area(W,y))\n",
    "print(\"Entrance Depth = \",round(y,3),\" meters \\nDischarge = \",round(Q,3),\" m^3/sec \\nEnergy Balance Error = \",round(E-Ec,3))"
   ]
  },
  {
   "cell_type": "markdown",
   "metadata": {},
   "source": [
    "# discussion\n",
    "\n",
    "Yea, just reuse code, change geometry"
   ]
  },
  {
   "cell_type": "markdown",
   "metadata": {},
   "source": [
    "---\n",
    "\n",
    "## Problem 4\n",
    "\n",
    "A study of natural channel shapes in the western United States reported an average ratio of maximum depth to hydraulic depth ($D=\\frac{A}{T}$) in the main channel (with no overflow) of $\\frac{y}{D} = 1.55$ for 761 measurements.\n",
    "\n",
    "Determine:\n",
    "\n",
    "- The calculated ratio of maximum depth to hydraulic depth for a triangular channel.\n",
    "- The calculated ratio of maximum depth to hydraulic depth for a parabolic channel.\n",
    "- The calculated ratio of maximum depth to hydraulic depth for a rectangular channel.\n",
    "- The significance of these calculated results to the study's reported average.\n",
    "- The discharge for a channel at a critical depth of $y=10.0~ft$ if $\\frac{y}{D} = 1.55$ and $T=100~ft$.\n"
   ]
  },
  {
   "cell_type": "markdown",
   "metadata": {},
   "source": [
    "# sketch(s) here\n",
    "\n",
    "![](Problem4-triangle.png)\n",
    "\n",
    "![](Problem4-parabola.png)\n",
    "\n",
    "![](Problem4-rectangle.png)"
   ]
  },
  {
   "cell_type": "markdown",
   "metadata": {},
   "source": [
    "# list known quantities"
   ]
  },
  {
   "cell_type": "markdown",
   "metadata": {},
   "source": [
    "# list unknown quantities"
   ]
  },
  {
   "cell_type": "markdown",
   "metadata": {},
   "source": [
    "# governing principles\n",
    "\n",
    "Algebra baby!"
   ]
  },
  {
   "cell_type": "code",
   "execution_count": 129,
   "metadata": {},
   "outputs": [
    {
     "data": {
      "image/png": "[encoded data removed]",
      "text/plain": [
       "<Figure size 720x360 with 1 Axes>"
      ]
     },
     "metadata": {
      "needs_background": "light"
     },
     "output_type": "display_data"
    },
    {
     "name": "stdout",
     "output_type": "stream",
     "text": [
      "Average y/D value all depths, all geometries  1.485\n"
     ]
    }
   ],
   "source": [
    "# solution (step-by-step/computations)\n",
    "# For bullet items 1-3\n",
    "# Bullet 4 in discussion below\n",
    "\n",
    "y = [0 for i in range(100)]\n",
    "dtrig = [0 for i in range(100)]\n",
    "dpara = [0 for i in range(100)]\n",
    "drect = [0 for i in range(100)]\n",
    "YoverD = [0 for i in range(100)]\n",
    "\n",
    "sum = 0.0\n",
    "\n",
    "for i in range(1,100): # 1 to 10 in steps of 0.01\n",
    "    y[i] = 100.0*float(i/100)\n",
    "    dtrig[i]=y[i]/(y[i]/2.0)\n",
    "    dpara[i]=y[i]/(2.0*y[i]/3.00)\n",
    "    drect[i]=y[i]/(y[i])\n",
    "    sum +=(dtrig[i]+dpara[i]+drect[i])/3.0\n",
    "    \n",
    "import matplotlib.pyplot # the python plotting library\n",
    "myfigure = matplotlib.pyplot.figure(figsize = (10,5)) # generate a object from the figure class, set aspect ratio\n",
    "# Built the plot\n",
    "matplotlib.pyplot.plot(y, dtrig, color ='blue') \n",
    "matplotlib.pyplot.plot(y, dpara, color ='red') \n",
    "matplotlib.pyplot.plot(y, drect, color ='green') \n",
    "matplotlib.pyplot.xlabel(\"Depth (y)\") \n",
    "matplotlib.pyplot.ylabel(\"Depth (y)/Hydraulic Depth (A/T)\") \n",
    "matplotlib.pyplot.title(\"Hydraulic Depth vs. Thalweg Depth for Different Channel Geometries\")\n",
    "matplotlib.pyplot.legend([\"Triangular Channel\",\"Parabolic Channel\",\"Rectangular Channel\"])\n",
    "matplotlib.pyplot.show() \n",
    "\n",
    "\n",
    "\n",
    "print(\"Average y/D value all depths, all geometries \",round(sum/100.0,3))\n"
   ]
  },
  {
   "cell_type": "code",
   "execution_count": 130,
   "metadata": {},
   "outputs": [
    {
     "name": "stdout",
     "output_type": "stream",
     "text": [
      "Discharge  9298.875  CFS\n"
     ]
    }
   ],
   "source": [
    "# bullet item 4\n",
    "import math\n",
    "g = 32.2\n",
    "yc = 10\n",
    "yOd = 1.55\n",
    "T = 100\n",
    "D = yc/yOd\n",
    "A = T*D\n",
    "Ec = yc+D/2.0\n",
    "QQ = 2*g*(Ec-yc)*A**2\n",
    "Q = math.sqrt(QQ)\n",
    "#Q = math.sqrt(g*(A**3)/T) # or do the algebra\n",
    "print(\"Discharge \",round(Q,3),\" CFS\")"
   ]
  },
  {
   "cell_type": "markdown",
   "metadata": {},
   "source": [
    "# discussion\n",
    "\n",
    "Average for natural channels is 1.55, so natural channels tend to be close to parabolic (y/D =1.5), with some suggestion of rectangularization (some near vertical side walls).  In absence of good bathymetry, a parabola is a useful approximation."
   ]
  },
  {
   "cell_type": "markdown",
   "metadata": {},
   "source": [
    "---\n",
    "\n",
    "## Problem 5 (Application of ENGR-1330 Computational Thinking)\n",
    "\n",
    "Prepare a function (within a JupyterLab Notebook) to compute head-discharge relationships for a rectangular, sharp-crested weir, and another function to compute head-discharge relationship for a 90$^o$ V-notch sharp-crested weir.\n",
    "\n",
    "Incorporate your functions into a supervisory script (a main program) and apply to a situation where the weir is placed in a 5 $ft$ wide channel with the weir crests are 1 $ft$ above the channel bottom.\n",
    "\n",
    "Determine:\n",
    "\n",
    "- Head vs discharge for the rectangular weir with a crest width of 1 $ft$ for approach head in the range $0 - 0.5~ft$\n",
    "- Head vs discharge for the V-notch weir for approach head in the range $0 - 0.5~ft$\n",
    "- Plot both relationships on the same figure (2 curves, 1 graph); properly label the axes of the plot including units,include a plot title, and include a plot legend altering both color and marker type to distinguish between the two different weirs.\n"
   ]
  },
  {
   "cell_type": "code",
   "execution_count": 131,
   "metadata": {},
   "outputs": [],
   "source": [
    "# sketch(s) here"
   ]
  },
  {
   "cell_type": "code",
   "execution_count": 132,
   "metadata": {},
   "outputs": [],
   "source": [
    "# list known quantities"
   ]
  },
  {
   "cell_type": "code",
   "execution_count": 133,
   "metadata": {},
   "outputs": [],
   "source": [
    "# list unknown quantities"
   ]
  },
  {
   "cell_type": "code",
   "execution_count": 134,
   "metadata": {},
   "outputs": [],
   "source": [
    "# governing principles"
   ]
  },
  {
   "cell_type": "code",
   "execution_count": 135,
   "metadata": {},
   "outputs": [],
   "source": [
    "# solution (step-by-step/computations)\n"
   ]
  },
  {
   "cell_type": "code",
   "execution_count": 136,
   "metadata": {},
   "outputs": [],
   "source": [
    "# Rectangular weir formula\n",
    "def Qrect(C_de,L_e,H_e,g):\n",
    "    import math\n",
    "    Qrect=(2/3)*math.sqrt(2.0*g)*C_de*L_e*(H_e**(3/2))\n",
    "    return(Qrect)"
   ]
  },
  {
   "cell_type": "code",
   "execution_count": 137,
   "metadata": {},
   "outputs": [],
   "source": [
    "# Kindsvater-Carter formula interpolation\n",
    "\n",
    "def lagint(xlist,ylist,xpred):\n",
    "    # lagrangian interpolation of order len(xlist)-1 \n",
    "    # \n",
    "    lagint = 0.0 # ypred is an accumulator, and will be output\n",
    "    norder = len(xlist)\n",
    "    for i in range(norder):\n",
    "        term = ylist[i] # build up terms of polynomial\n",
    "        for j in range(norder):\n",
    "            if (i != j):\n",
    "                term = term * (xpred-xlist[j])/(xlist[i]-xlist[j])\n",
    "#            pass # may not need this expression\n",
    "        lagint = lagint + term\n",
    "#    print(i,j) #debugging expression\n",
    "    return(lagint)\n",
    "\n",
    "L_over_b = [1,0.9,0.8,0.7,0.6,0.5,0.4,0.3,0.2,0.1,0]\n",
    "beta1 = [0.602,0.599,0.597,0.595,0.593,0.592,0.591,0.59,0.589,0.588,0.587]\n",
    "beta2 = [0.075,0.064,0.045,0.03,0.018,0.011,0.0058,0.002,-0.0018,-0.0021,-0.0023]"
   ]
  },
  {
   "cell_type": "code",
   "execution_count": 138,
   "metadata": {},
   "outputs": [
    {
     "name": "stdout",
     "output_type": "stream",
     "text": [
      "Approach head  0.0  feet Weir Discharge  0.001  CFS C_d  0.589\n",
      "Approach head  0.1  feet Weir Discharge  0.104  CFS C_d  0.588\n",
      "Approach head  0.2  feet Weir Discharge  0.288  CFS C_d  0.588\n",
      "Approach head  0.3  feet Weir Discharge  0.525  CFS C_d  0.587\n",
      "Approach head  0.4  feet Weir Discharge  0.804  CFS C_d  0.587\n",
      "Approach head  0.5  feet Weir Discharge  1.121  CFS C_d  0.586\n"
     ]
    }
   ],
   "source": [
    "#\n",
    "\n",
    "L = 1.0 # feet crest width\n",
    "H = [0.0,0.1,0.2,0.3,0.4,0.5] # approach heads\n",
    "B = 5 # ft given\n",
    "k_l = 0.002 #chart 2.23(c) pg 44\n",
    "k_h = 0.003 #ft pg 44\n",
    "P = 0.3 #ft minimum value suggested p45\n",
    "Q = [0 for i in range(len(H))]\n",
    "g=32.2\n",
    "\n",
    "for i in range(len(H)):\n",
    "    He = H[i]+k_h\n",
    "    Le = L + k_l\n",
    "    Cd = lagint(L_over_b,beta1,L/B)+ (He/P)*lagint(L_over_b,beta2,L/B)\n",
    "    Q[i] = Qrect(Cd,Le,He,g)\n",
    "    print(\"Approach head \",round(H[i],3),\" feet Weir Discharge \",round(Q[i],3),\" CFS\",\"C_d \",round(Cd,3))\n",
    "    "
   ]
  },
  {
   "cell_type": "code",
   "execution_count": 139,
   "metadata": {},
   "outputs": [],
   "source": [
    "def Qtrig(C_d,theta,H,g):\n",
    "    import math\n",
    "    Qtrig=C_d*(8/15)*math.sqrt(2.0*g)*math.tan(theta/2)*(H**(5/2))\n",
    "    return(Qtrig)"
   ]
  },
  {
   "cell_type": "code",
   "execution_count": 140,
   "metadata": {},
   "outputs": [
    {
     "name": "stdout",
     "output_type": "stream",
     "text": [
      "Approach head  0.0  feet Weir Discharge  0.0  CFS  C_d  0.575\n",
      "Approach head  0.1  feet Weir Discharge  0.153  CFS  C_d  0.575\n",
      "Approach head  0.2  feet Weir Discharge  0.432  CFS  C_d  0.575\n",
      "Approach head  0.3  feet Weir Discharge  0.794  CFS  C_d  0.575\n",
      "Approach head  0.4  feet Weir Discharge  1.222  CFS  C_d  0.575\n",
      "Approach head  0.5  feet Weir Discharge  1.708  CFS  C_d  0.575\n"
     ]
    }
   ],
   "source": [
    "#\n",
    "\n",
    "\n",
    "theta = 90*math.pi/180\n",
    "Cd = 0.575 #pg 46 chart 2.24(b)\n",
    "H = [0.0,0.1,0.2,0.3,0.4,0.5] # approach heads\n",
    "B = 5 # ft given\n",
    "P = 0.3 #ft minimum value suggested p45\n",
    "Qt = [0 for i in range(len(H))]\n",
    "g=32.2\n",
    "\n",
    "for i in range(len(H)):\n",
    "    Qt[i] = Qrect(Cd,theta,H[i],g)\n",
    "    print(\"Approach head \",round(H[i],3),\" feet Weir Discharge \",round(Qt[i],3),\" CFS\",\" C_d \",round(Cd,3))"
   ]
  },
  {
   "cell_type": "code",
   "execution_count": 141,
   "metadata": {},
   "outputs": [
    {
     "data": {
      "image/png": "[encoded data removed]",
      "text/plain": [
       "<Figure size 720x360 with 1 Axes>"
      ]
     },
     "metadata": {
      "needs_background": "light"
     },
     "output_type": "display_data"
    }
   ],
   "source": [
    "import matplotlib.pyplot # the python plotting library\n",
    "myfigure = matplotlib.pyplot.figure(figsize = (10,5)) # generate a object from the figure class, set aspect ratio\n",
    "# Built the plot\n",
    "matplotlib.pyplot.plot(H, Q, color ='blue') \n",
    "matplotlib.pyplot.plot(H, Qt, color ='red') \n",
    "matplotlib.pyplot.xlabel(\"Approach Depth H (feet)\") \n",
    "matplotlib.pyplot.ylabel(\"Weir Discharge Q (cfs)\") \n",
    "matplotlib.pyplot.title(\"Weir Discharge for Specificed Conditions \")\n",
    "matplotlib.pyplot.legend([\"Rectangular Weir\",\"Triangular Weir\"])\n",
    "matplotlib.pyplot.show() "
   ]
  },
  {
   "cell_type": "code",
   "execution_count": 142,
   "metadata": {},
   "outputs": [],
   "source": [
    "# discussion"
   ]
  }
 ],
 "metadata": {
  "kernelspec": {
   "display_name": "Python 3",
   "language": "python",
   "name": "python3"
  },
  "language_info": {
   "codemirror_mode": {
    "name": "ipython",
    "version": 3
   },
   "file_extension": ".py",
   "mimetype": "text/x-python",
   "name": "python",
   "nbconvert_exporter": "python",
   "pygments_lexer": "ipython3",
   "version": "3.8.10"
  }
 },
 "nbformat": 4,
 "nbformat_minor": 4
}
