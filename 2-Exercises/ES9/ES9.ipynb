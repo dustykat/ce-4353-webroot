{
 "cells": [
  {
   "cell_type": "markdown",
   "metadata": {},
   "source": [
    "**Download** (right-click, save target as ...) this page as a Jupyterlab notebook from: [ES-9](http://54.243.252.9/ce-4353-webroot/2-Exercises/ES9/ES9.ipynb)\n",
    "\n",
    "___"
   ]
  },
  {
   "cell_type": "markdown",
   "metadata": {},
   "source": [
    "# <font color=darkblue>CE 4353 Design of Hydraulic Systems <br> CE 5360 Open Channel Flow <br> Fall 2023 Exercise Set 9</font>\n",
    "\n",
    "**LAST NAME, FIRST NAME**\n",
    "\n",
    "**R00000000**\n",
    "\n",
    "___\n",
    "\n",
    "### Purpose : \n",
    "Apply principles of gradually varied flow to open channel analysis and design\n",
    " \n",
    "### Assessment Criteria : \n",
    "Completion, results plausible, format correct, calculations (Jupyter Notebook) are shown.  \n",
    "\n",
    "### Instructions :\n",
    "- CE 4353 Complete Problems 1-2\n",
    "- CE 5360 Complete Problems 1-3\n",
    "___"
   ]
  },
  {
   "cell_type": "markdown",
   "metadata": {},
   "source": [
    "---\n",
    "\n",
    "## Problem 1\n",
    "\n",
    "A 5ft x 5ft with a 45$^o$ beveled-edge entrance reinforced concrete box culvert is to be specified for a new roadway crossing to convey a 50-year peak discharge of 300 $\\frac{ft^3}{sec}$. The site conditions include:\n",
    "\n",
    "1. Stream bed elevation at culvert entrance is 100 ft.\n",
    "2. Natural stream bed slope is 0.02.\n",
    "3. Tailwater depth is 4.0 ft.\n",
    "4. Approximate culvert length is 250 ft.\n",
    "5. Shoulder elevation is 113.5 ft.\n",
    "6. Allowable headwater elevation is 110ft.\n",
    "7. Inlet invert is at natural stream elevation (no fall at inlet).\n",
    "\n",
    "Determine:\n",
    "\n",
    "- If the culvert is adequate to convey the discharge\n",
    "- Produce a performance curve that shows culvert discharge as a function of headwater elevation\n"
   ]
  },
  {
   "cell_type": "code",
   "execution_count": 6,
   "metadata": {},
   "outputs": [],
   "source": [
    "# sketch(s) \n",
    "# list known quantities\n",
    "# list unknown quantities\n",
    "# governing principles\n",
    "# solution details (e.g. step-by-step computations)\n",
    "# discussion"
   ]
  },
  {
   "cell_type": "markdown",
   "metadata": {},
   "source": [
    "---\n",
    "\n",
    "## Problem 2\n",
    "\n",
    "A culvert is to be specified for a new roadway crossing to convey a 25-year peak discharge of 200 $\\frac{ft^3}{sec}$. A circular metal corrugated pipe culvert with standard 2-1/3 by 1/2 corrugations and beveled edges is to be considered. The site conditions include:\n",
    "\n",
    "1. Stream bed elevation at culvert entrance is 100 ft.\n",
    "2. Natural stream bed slope is 0.01.\n",
    "3. Tailwater depth is 3.5 ft.\n",
    "4. Approximate culvert length is 200 ft.\n",
    "5. Shoulder elevation is 110 ft.\n",
    "6. Design headwater is to be based on shoulder elevation with 2 ft. freeboard\n",
    "7. Inlet invert is at natural stream elevation (no fall at inlet).\n",
    "\n",
    "Determine:\n",
    "\n",
    "- Culvert diameter and barrel count to maintain design freeboard\n",
    "- Produce a performance curve that shows your culvert system discharge as a function of headwater elevation, for the fixed tailwater elevation of 3.5 feet."
   ]
  },
  {
   "cell_type": "code",
   "execution_count": 6,
   "metadata": {},
   "outputs": [],
   "source": [
    "# sketch(s) \n",
    "# list known quantities\n",
    "# list unknown quantities\n",
    "# governing principles\n",
    "# solution details (e.g. step-by-step computations)\n",
    "# discussion"
   ]
  },
  {
   "cell_type": "markdown",
   "metadata": {},
   "source": [
    "---\n",
    "\n",
    "## Problem 3 (CE 5360)\n",
    "\n",
    "Download and read [Charbeneau, R.J., Henderson, A.D., and Sherman, L.C., 2006.  Hydraulic Performance Curves for Highway Culverts, Journal of Hydraulic Engineering, ASCE, Vol. 132, No. 5, pp. 474-481.](http://54.243.252.9/ce-4353-webroot/2-Exercises/ES9/Charbeneauetal.2006.pdf)\n"
   ]
  },
  {
   "cell_type": "markdown",
   "metadata": {},
   "source": [
    "Answer the following questions using complete sentences.  You do not need to write equations or draw figures to answer the questions.   Short paragraphs should be sufficient to answer the questions.  You may copy the text of the questions into your own document.  Use 1.5 line spacing to make it easy to read.\n",
    "1.  State the two apparent objectives of the article.  \n",
    "2.  Explain why the disconnection between the FHWA performance curves for submerged and unsubmerged inlet conditions was troubling to the authors and probably to you as well.  Feel free to refer to the Mays reading for this answer.  How did the authors connect the two equations?\n",
    "3.  Explain the difference between the Cc and Cb coefficients used in the UT-CRWR equation.  Were they the same values for all culvert shapes?\n",
    "4.  The physical experiments allowed single and multi-barrel culvert operation.  Why did the 4-barrel and 6-barrel experimental results require adjustments?  Comment on whether this situation would be expected, based on the configuration of the physical model.\n",
    "5.  The authors compared their design procedure to the FHWA procedure with a box culvert example.  Which procedure indicated a larger culvert configuration?  Comment on the trade-off between construction cost savings versus a possible “factor of safety” due to excess flow capacity in a culvert design. \n"
   ]
  }
 ],
 "metadata": {
  "kernelspec": {
   "display_name": "Python 3",
   "language": "python",
   "name": "python3"
  },
  "language_info": {
   "codemirror_mode": {
    "name": "ipython",
    "version": 3
   },
   "file_extension": ".py",
   "mimetype": "text/x-python",
   "name": "python",
   "nbconvert_exporter": "python",
   "pygments_lexer": "ipython3",
   "version": "3.8.10"
  }
 },
 "nbformat": 4,
 "nbformat_minor": 4
}
