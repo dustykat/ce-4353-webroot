{
 "cells": [
  {
   "cell_type": "markdown",
   "metadata": {},
   "source": [
    "**Download** (right-click, save target as ...) this page as a Jupyterlab notebook from: [PR-1](http://54.243.252.9/ce-4353-webroot/2-Exercises/PR1/PR1.ipynb)\n",
    "\n",
    "___"
   ]
  },
  {
   "cell_type": "markdown",
   "metadata": {},
   "source": [
    "# <font color=darkblue>CE 4353/5360 Design of Hydraulic Systems <br> Fall 2022 Project 1</font>\n",
    "\n",
    "**LAST NAME, FIRST NAME**\n",
    "\n",
    "**R00000000**\n",
    "\n",
    "___\n",
    "\n",
    "### Purpose : \n",
    "Apply hydraulic modeling principles and HEC-RAS to simulate the design and specification of a culvert system in a semi-arid climate.\n",
    " \n",
    "### Assessment Criteria : \n",
    "Completion, results plausible, format correct, calculations (Jupyter Notebook) are shown.  \n",
    "\n",
    "___"
   ]
  },
  {
   "cell_type": "markdown",
   "metadata": {},
   "source": [
    "## Culvert Insertion Design\n",
    "\n",
    "Buckbrush Wash carries storm runoff through a small community in Nevada.  Currently, several roads cross the wash at grade as low water crossings.  The pdf file on the [Buckbrush Wash Cross Sections]() that shows how the channel cross-sections have been located by the surveyor.  It has been decided to replace the low water crossing between cross-sections 37 and 38 with a box culvert so that a flat 50-ft wide roadway can be built at a flat elevation of 4881 ft.  It may be necessary to do excavation to adjust the cross-sections to fit the culvert and roadway.  The roadway and culvert will be supported by an earthen structure with similar embankment slopes on both the upstream and downstream faces.  A rectangular box culvert is to be sized (consider its length and width dimensions to the nearest foot) and located to carry a flow of 200 cfs while keeping the water surface at least 2 ft below the roadway.  After the successful culvert is found, you are also to analyze its performance for a 650-cfs flow.\n",
    "\n",
    "> The cross-section provided are to be will be used as delivered, except for those modified and added to represent the culvert location.  >Follow the instruction in the HEC-RAS documentation to properly describe the cross-sections, culvert, ineffective flow areas, and other pertinent input requirements.  Your HEC-RAS outputs will be used to show the water levels in several cross-sections (3 upstream and 3 downstream) near the culvert site for the 200-cfs and 650-cfs flows both without and with your culvert.  You will also provide a flow profile for each of these four conditions.\n",
    "\n",
    "A project report will be required to describe your culvert design (only the one that works, not any failures) well enough to show the input requirements for HEC-RAS and to prove the outputs that support the findings in the previous paragraph.  A prescribed outline is shown below.  You are doing hydraulic analyses of the selected conditions only, as we are not going to consider any costs for the culvert and roadway construction.\n",
    "\n",
    "> You are probably going to write your report in Word or LibreOffice, so no need to try to craft a Jupyter Notebook for the project.  Be sure the report you upload is a PDF file - Blackboard has a size limitation, so a graphic dense word file will not get stored.  Save your final report to a PDF file and use the Adobe Acrobat Reduce File Size tools.\n",
    "\n",
    "### Data\n",
    "1. [Buckbrush Wash Cross Sections](http://54.243.252.9/ce-4353-webroot/2-Exercises/PR1/0552-007Sections.pdf) \n",
    "2. [buckbrush-sections.xls (Tab Names correspond to sections in image in file above)](http://54.243.252.9/ce-4353-webroot/2-Exercises/PR1/buckbrush-sections.xls)\n",
    "\n",
    "### Submittal Requirements\n",
    "\n",
    "1. Sketches [30 points total] (neat [using a straightedge] by hand or CAD, in scale and with dimensioning and elevation labels)\n",
    "  1. [10] Side view of roadway and culvert combination (upstream left, downstream right)\n",
    "  1. [10] Top view with locations of the four cross-sections required by HEC-RAS\n",
    "  1. [10] Upstream and downstream views showing culvert orientation and ineffective flow areas\n",
    "2. Input Data [40 points total]\n",
    "  1. [20] Added cross-sections (locations on channel, tables of station vs. elevation, graphs). \n",
    "> Include the extrapolated and elevations for Sections 37 and 38. \n",
    "> Include any hand calculations that were used. \n",
    "> Screen captures of completed input windows in HEC-RAS (see guidance below). \n",
    "> Make sure you have saved your work in a project file with your name in it so it shows up on your HEC-RAS work outputs\n",
    "  2. [20] Culvert data\n",
    "    1. Present and describe your selections with brief text (for justifications) and tables (if that helps you order your presentation)\n",
    "    2. Screen captures of completed input windows in HEC-RAS (see guidance below)\n",
    "3. Results [30 points]\n",
    "> Only need the results for the cross-sections near the culvert, so, both to the upstream and downstream directions, we will go one cross-section past the two required for culvert analyses.  You must show where the water levels on the upstream and downstream sides of the added culvert.  You are to simulate 200-cfs and 650-cfs steady-state flows both without and with your successful culvert, so you will have four sets of results to present.\n",
    "  1. [24] Graphical presentations.  You can either ask HEC-RAS to show the water levels at the selected cross-sections, or you can make your own tables and graphs in Excel.  The graphs should show channel bottom, critical water surface elevation, and water surface elevations for the different runs.  It is probably best to have the four graphs separated, in case the lines are hard to distinguish.\n",
    "  2. [6] Brief discussion of limitations\n",
    "\n",
    "### Exhibit Guidance\n",
    "\n",
    "- Figures in the report should be cropped with appropriate captions as depicted below:\n",
    "\n",
    "> ![](figure1.png)\n",
    "\n",
    "- Tables should also be cropped showing just the meaningful portion:\n",
    "\n",
    "> ![](figure2.png)\n",
    "\n",
    "- [Example Report](http://54.243.252.9/ce-4353-webroot/2-Exercises/PR1/goby.pdf)\n"
   ]
  },
  {
   "cell_type": "code",
   "execution_count": null,
   "metadata": {},
   "outputs": [],
   "source": []
  }
 ],
 "metadata": {
  "kernelspec": {
   "display_name": "Python 3",
   "language": "python",
   "name": "python3"
  },
  "language_info": {
   "codemirror_mode": {
    "name": "ipython",
    "version": 3
   },
   "file_extension": ".py",
   "mimetype": "text/x-python",
   "name": "python",
   "nbconvert_exporter": "python",
   "pygments_lexer": "ipython3",
   "version": "3.8.10"
  }
 },
 "nbformat": 4,
 "nbformat_minor": 4
}
