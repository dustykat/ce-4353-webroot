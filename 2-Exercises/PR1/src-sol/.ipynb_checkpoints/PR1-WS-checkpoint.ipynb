{
 "cells": [
  {
   "cell_type": "markdown",
   "metadata": {},
   "source": [
    "HEC-RAS projects are contained at\n",
    "1. [Buckbrush2016.zip](http://54.243.252.9/ce-4353-webroot/2-Exercises/PR1/src-sol/buckbrush2016.zip)\n",
    "2. [Buckbrush2021.zip](http://54.243.252.9/ce-4353-webroot/2-Exercises/PR1/src-sol/buckbrush2021.zip)"
   ]
  },
  {
   "cell_type": "code",
   "execution_count": null,
   "metadata": {},
   "outputs": [],
   "source": []
  }
 ],
 "metadata": {
  "kernelspec": {
   "display_name": "Python 3",
   "language": "python",
   "name": "python3"
  },
  "language_info": {
   "codemirror_mode": {
    "name": "ipython",
    "version": 3
   },
   "file_extension": ".py",
   "mimetype": "text/x-python",
   "name": "python",
   "nbconvert_exporter": "python",
   "pygments_lexer": "ipython3",
   "version": "3.8.10"
  }
 },
 "nbformat": 4,
 "nbformat_minor": 4
}
