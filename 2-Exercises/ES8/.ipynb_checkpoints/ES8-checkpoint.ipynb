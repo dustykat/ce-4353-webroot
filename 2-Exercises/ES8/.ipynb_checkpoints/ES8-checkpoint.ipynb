{
 "cells": [
  {
   "cell_type": "markdown",
   "metadata": {},
   "source": [
    "**Download** (right-click, save target as ...) this page as a Jupyterlab notebook from: [ES-7](http://54.243.252.9/ce-4353-webroot/2-Exercises/ES8/ES8.ipynb)\n",
    "\n",
    "___"
   ]
  },
  {
   "cell_type": "markdown",
   "metadata": {},
   "source": [
    "# <font color=darkblue>CE 4353/5360 Design of Hydraulic Systems <br> Fall 2022 Exercise Set 8</font>\n",
    "\n",
    "**LAST NAME, FIRST NAME**\n",
    "\n",
    "**R00000000**\n",
    "\n",
    "___\n",
    "\n",
    "### Purpose : \n",
    "Apply principles of uniform flow to open channel analysis and design\n",
    " \n",
    "### Assessment Criteria : \n",
    "Completion, results plausible, format correct, calculations (Jupyter Notebook) are shown.  \n",
    "\n",
    "___"
   ]
  },
  {
   "cell_type": "markdown",
   "metadata": {},
   "source": [
    "---\n",
    "\n",
    "## Problem 1\n",
    "\n",
    "Figure 1 is a compound channel which has symmetric floodplains, each of which is 100 m wide with Manning's n = 0.06, and a main channel, which is trapezoidal with a bottom width of 10 m, side slopes of 1.5:1, a bank-full depth of 2.5 m, and a Manning’s n of 0.03. The channel longitudinal slope is 0.001 and the total depth is 3.7 m  \n",
    "\n",
    "<figure align=\"center\">\n",
    "<!--<img src=\"./profile1.png\" width=\"700\" >-->\n",
    "<img src=\"http://54.243.252.9/ce-4353-webroot/2-Exercises/ES7/profile1.png\" width=\"700\" >\n",
    "<figcaption> Figure 1. EProfile of a channel</figcaption>\n",
    "\n",
    "</figure>\n",
    "\n",
    "Determine:\n",
    "\n",
    "- The uniform flow discharge using the divided channel method with vertical interfaces separating the main channel from the overbank areas and including these in the wetted perimeters\n",
    "- The uniform flow discharge using the divided channel method with vertical interfaces separating the main channel from the overbank areas without including these in the wetted perimeters\n",
    "- The uniform flow discharge using the divided channel method using the diagonal interface approach to separate the flow areas, but don’t use the diagonal interfaces in the wetted perimeters.\n"
   ]
  },
  {
   "cell_type": "markdown",
   "metadata": {},
   "source": [
    "---\n",
    "\n",
    "## Problem 2\n",
    "\n",
    "Figure 4 is a compound channel which has symmetric floodplains, each of which is 100 m wide with Manning's n = 0.06, and a main channel, which is trapezoidal with a bottom width of 10 m, side slopes of 1.5:1, a bank-full depth of 2.5 m, and a Manning’s n of 0.03. The channel longitudinal slope is 0.001 and the total depth is 3.7 m  \n",
    "\n",
    "<figure align=\"center\">\n",
    "<!--<img src=\"./profile2.png\" width=\"700\" >-->\n",
    "<img src=\"http://54.243.252.9/ce-4353-webroot/2-Exercises/ES7/profile2.png\" width=\"700\" >\n",
    "<figcaption> Figure 2. Profile of a channel</figcaption>\n",
    "\n",
    "</figure>\n",
    "\n",
    "Determine:\n",
    "\n",
    "- The uniform flow discharge using the divided channel method with vertical interfaces separating the main channel from the overbank areas and including these in the wetted perimeters\n",
    "- The uniform flow discharge using the divided channel method with vertical interfaces separating the main channel from the overbank areas without including these in the wetted perimeters\n",
    "- The uniform flow discharge using the divided channel method using the diagonal interface approach to separate the flow areas, but don’t use the diagonal interfaces in the wetted perimeters.\n"
   ]
  },
  {
   "cell_type": "markdown",
   "metadata": {},
   "source": [
    "---\n",
    "\n",
    "## Problem 3\n",
    "\n",
    "Figure 3 is a compound channel which has symmetric floodplains, each of which is 100 m wide with Manning's n = 0.06, and a main channel, which is trapezoidal with a bottom width of 10 m, side slopes of 1.5:1, a bank-full depth of 2.5 m, and a Manning’s n of 0.03. The channel longitudinal slope is 0.001 and the total depth is 3.7 m  \n",
    "\n",
    "<figure align=\"center\">\n",
    "<!--<img src=\"./profile3.png\" width=\"700\" >-->\n",
    "<img src=\"http://54.243.252.9/ce-4353-webroot/2-Exercises/ES8/profile3.png\" width=\"700\" >\n",
    "<figcaption> Figure 3. Profile of a channel </figcaption>\n",
    "\n",
    "</figure>\n",
    "\n",
    "Determine:\n",
    "\n",
    "- The uniform flow discharge using the divided channel method with vertical interfaces separating the main channel from the overbank areas and including these in the wetted perimeters\n",
    "- The uniform flow discharge using the divided channel method with vertical interfaces separating the main channel from the overbank areas without including these in the wetted perimeters\n",
    "- The uniform flow discharge using the divided channel method using the diagonal interface approach to separate the flow areas, but don’t use the diagonal interfaces in the wetted perimeters.\n"
   ]
  },
  {
   "cell_type": "markdown",
   "metadata": {},
   "source": [
    "---\n",
    "\n",
    "## Problem 4\n",
    "\n",
    "Figure 4 is a compound channel which has symmetric floodplains, each of which is 100 m wide with Manning's n = 0.06, and a main channel, which is trapezoidal with a bottom width of 10 m, side slopes of 1.5:1, a bank-full depth of 2.5 m, and a Manning’s n of 0.03. The channel longitudinal slope is 0.001 and the total depth is 3.7 m  \n",
    "\n",
    "<figure align=\"center\">\n",
    "<!--<img src=\"./profile3.png\" width=\"700\" >-->\n",
    "<img src=\"http://54.243.252.9/ce-4353-webroot/2-Exercises/ES8/profile4.png\" width=\"700\" >\n",
    "<figcaption> Figure 4. Profile of a channel</figcaption>\n",
    "\n",
    "</figure>\n",
    "\n",
    "Determine:\n",
    "\n",
    "- The uniform flow discharge using the divided channel method with vertical interfaces separating the main channel from the overbank areas and including these in the wetted perimeters\n",
    "- The uniform flow discharge using the divided channel method with vertical interfaces separating the main channel from the overbank areas without including these in the wetted perimeters\n",
    "- The uniform flow discharge using the divided channel method using the diagonal interface approach to separate the flow areas, but don’t use the diagonal interfaces in the wetted perimeters.\n"
   ]
  },
  {
   "cell_type": "markdown",
   "metadata": {},
   "source": [
    "---\n",
    "\n",
    "## Problem 5\n",
    "\n",
    "A reservoir discharges into a long trapezoidal channel that has a bottom width of 20 ft,\n",
    "side slopes of 3:1, a Manning's n of 0.025, and a bed slope of 0.001. The reservoir water surface is 10 ft above the invert of the channel entrance. \n",
    " \n",
    "\n",
    "Determine:\n",
    "- Channel discharge"
   ]
  },
  {
   "cell_type": "code",
   "execution_count": null,
   "metadata": {},
   "outputs": [],
   "source": [
    "# sketch(s) here"
   ]
  },
  {
   "cell_type": "code",
   "execution_count": null,
   "metadata": {},
   "outputs": [],
   "source": [
    "# list known quantities"
   ]
  },
  {
   "cell_type": "code",
   "execution_count": null,
   "metadata": {},
   "outputs": [],
   "source": [
    "# list unknown quantities"
   ]
  },
  {
   "cell_type": "code",
   "execution_count": null,
   "metadata": {},
   "outputs": [],
   "source": [
    "# governing principles"
   ]
  },
  {
   "cell_type": "code",
   "execution_count": null,
   "metadata": {},
   "outputs": [],
   "source": [
    "# solution (step-by-step/computations)"
   ]
  },
  {
   "cell_type": "code",
   "execution_count": null,
   "metadata": {},
   "outputs": [],
   "source": [
    "# discussion"
   ]
  },
  {
   "cell_type": "markdown",
   "metadata": {},
   "source": [
    "---\n",
    "\n",
    "## Problem 6 (Application of ENGR 1330 Computational Thinking)\n",
    "\n",
    "A rectangular channel 6.1 m wide with n = 0.014 is laid on a slope of 0.001 and terminates in a free overfall. Upstream 300 m from the overfall is a sluice gate that produces a depth of 0.47 m immediately downstream. For a discharge of 17.0 $\\frac{m3}{s}$, Create a script (Jupyter Notebook) to compute and plot the water surface profiles and the location of the hydraulic jump using the direct step method."
   ]
  },
  {
   "cell_type": "code",
   "execution_count": null,
   "metadata": {},
   "outputs": [],
   "source": [
    "# sketch(s) here"
   ]
  },
  {
   "cell_type": "code",
   "execution_count": null,
   "metadata": {},
   "outputs": [],
   "source": [
    "# list known quantities/inputs"
   ]
  },
  {
   "cell_type": "code",
   "execution_count": null,
   "metadata": {},
   "outputs": [],
   "source": [
    "# list unknown quantities/outputs"
   ]
  },
  {
   "cell_type": "code",
   "execution_count": null,
   "metadata": {},
   "outputs": [],
   "source": [
    "# governing principles/algorithms used"
   ]
  },
  {
   "cell_type": "code",
   "execution_count": null,
   "metadata": {},
   "outputs": [],
   "source": [
    "# solution (step-by-step/computations)"
   ]
  },
  {
   "cell_type": "code",
   "execution_count": null,
   "metadata": {},
   "outputs": [],
   "source": [
    "# discussion"
   ]
  }
 ],
 "metadata": {
  "kernelspec": {
   "display_name": "Python 3",
   "language": "python",
   "name": "python3"
  },
  "language_info": {
   "codemirror_mode": {
    "name": "ipython",
    "version": 3
   },
   "file_extension": ".py",
   "mimetype": "text/x-python",
   "name": "python",
   "nbconvert_exporter": "python",
   "pygments_lexer": "ipython3",
   "version": "3.8.10"
  }
 },
 "nbformat": 4,
 "nbformat_minor": 4
}
