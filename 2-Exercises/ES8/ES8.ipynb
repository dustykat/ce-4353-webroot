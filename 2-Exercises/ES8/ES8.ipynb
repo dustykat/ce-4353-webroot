{
 "cells": [
  {
   "cell_type": "markdown",
   "metadata": {},
   "source": [
    "**Download** (right-click, save target as ...) this page as a Jupyterlab notebook from: [ES-7](http://54.243.252.9/ce-4353-webroot/2-Exercises/ES8/ES8.ipynb)\n",
    "\n",
    "___"
   ]
  },
  {
   "cell_type": "markdown",
   "metadata": {},
   "source": [
    "# <font color=darkblue>CE 4353 Design of Hydraulic Systems <br> CE 5360 Open Channel Flow <br> Fall 2023 Exercise Set 8</font>\n",
    "\n",
    "**LAST NAME, FIRST NAME**\n",
    "\n",
    "**R00000000**\n",
    "\n",
    "___\n",
    "\n",
    "### Purpose : \n",
    "Apply principles of gradually varied flow to open channel analysis and design\n",
    " \n",
    "### Assessment Criteria : \n",
    "Completion, results plausible, format correct, calculations (Jupyter Notebook) are shown.  \n",
    "\n",
    "### Instructions :\n",
    "- CE 4353 Complete All Problems \n",
    "- CE 5360 Complete All Problems\n",
    "\n",
    "___"
   ]
  },
  {
   "cell_type": "markdown",
   "metadata": {},
   "source": [
    "\n",
    "\n",
    "## Problem 1\n",
    "\n",
    "Figure 1 is a profile (elevation) view of a prismatic open channel assume the channel slopes occur as depicted.  Note where the water surface begins on the left.  \n",
    "\n",
    "<figure align=\"center\">\n",
    "<!--<img src=\"./profile1.png\" width=\"700\" >-->\n",
    "<img src=\"http://54.243.252.9/ce-4353-webroot/2-Exercises/ES8/profile1.png\" width=\"700\" >\n",
    "<figcaption> Figure 1. Profile of a channel</figcaption>\n",
    "\n",
    "</figure>\n",
    "\n",
    "Determine:\n",
    "\n",
    "- $y_c$ and $y_o$ for each reach (state if $y_o$ is infinite).  Annotate the figure with these items\n",
    "- Identify and label the bed slopes.\n",
    "- Identify and label the control points.\n",
    "- Draw a possible gradually varied flow profile and label all the curves (hydraulic slope and curve type). \n",
    "\n"
   ]
  },
  {
   "cell_type": "markdown",
   "metadata": {},
   "source": [
    "---\n",
    "\n",
    "## Problem 2\n",
    "\n",
    "Figure 2 is a profile (elevation) view of a prismatic open channel assume the channel slopes occur as depicted.  Note where the water surface begins on the left. \n",
    "\n",
    "<figure align=\"center\">\n",
    "<!--<img src=\"./profile2.png\" width=\"700\" >-->\n",
    "<img src=\"http://54.243.252.9/ce-4353-webroot/2-Exercises/ES8/profile2.png\" width=\"700\" >\n",
    "<figcaption> Figure 2. Profile of a channel</figcaption>\n",
    "\n",
    "</figure>\n",
    "\n",
    "Determine:\n",
    "\n",
    "- $y_c$ and $y_o$ for each reach (state if $y_o$ is infinite).  Annotate the figure with these items\n",
    "- Identify and label the bed slopes.\n",
    "- Identify and label the control points.\n",
    "- Draw a possible gradually varied flow profile and label all the curves (hydraulic slope and curve type). \n"
   ]
  },
  {
   "cell_type": "markdown",
   "metadata": {},
   "source": [
    "---\n",
    "\n",
    "## Problem 3\n",
    "\n",
    "Figure 3 is a profile (elevation) view of a prismatic open channel assume the channel slopes occur as depicted.  Note where the water surface begins on the left.  \n",
    "\n",
    "<figure align=\"center\">\n",
    "<!--<img src=\"./profile3.png\" width=\"700\" >-->\n",
    "<img src=\"http://54.243.252.9/ce-4353-webroot/2-Exercises/ES8/profile3.png\" width=\"700\" >\n",
    "<figcaption> Figure 3. Profile of a channel </figcaption>\n",
    "\n",
    "</figure>\n",
    "\n",
    "Determine:\n",
    "\n",
    "- $y_c$ and $y_o$ for each reach (state if $y_o$ is infinite).  Annotate the figure with these items\n",
    "- Identify and label the bed slopes.\n",
    "- Identify and label the control points.\n",
    "- Draw a possible gradually varied flow profile and label all the curves (hydraulic slope and curve type). \n"
   ]
  },
  {
   "cell_type": "markdown",
   "metadata": {},
   "source": [
    "---\n",
    "\n",
    "## Problem 4\n",
    "\n",
    "Figure 4 is a profile (elevation) view of a prismatic open channel assume the channel slopes occur as depicted.  Note where the water surface begins on the left.  \n",
    "\n",
    "<figure align=\"center\">\n",
    "<!--<img src=\"./profile3.png\" width=\"700\" >-->\n",
    "<img src=\"http://54.243.252.9/ce-4353-webroot/2-Exercises/ES8/profile4.png\" width=\"700\" >\n",
    "<figcaption> Figure 4. Profile of a channel</figcaption>\n",
    "\n",
    "</figure>\n",
    "\n",
    "Determine:\n",
    "\n",
    "- $y_c$ and $y_o$ for each reach (state if $y_o$ is infinite).  Annotate the figure with these items\n",
    "- Identify and label the bed slopes.\n",
    "- Identify and label the control points.\n",
    "- Draw a possible gradually varied flow profile and label all the curves (hydraulic slope and curve type). \n"
   ]
  },
  {
   "cell_type": "markdown",
   "metadata": {},
   "source": [
    "---\n",
    "\n",
    "## Problem 5\n",
    "\n",
    "A reservoir discharges into a long trapezoidal channel that has a bottom width of 20 ft,\n",
    "side slopes of 3:1, a Manning's n of 0.025, and a bed slope of 0.001. The reservoir water surface is 10 ft above the invert of the channel entrance. \n",
    " \n",
    "\n",
    "Determine:\n",
    "- Channel discharge"
   ]
  },
  {
   "cell_type": "code",
   "execution_count": null,
   "metadata": {},
   "outputs": [],
   "source": [
    "# sketch(s) here"
   ]
  },
  {
   "cell_type": "code",
   "execution_count": null,
   "metadata": {},
   "outputs": [],
   "source": [
    "# list known quantities"
   ]
  },
  {
   "cell_type": "code",
   "execution_count": null,
   "metadata": {},
   "outputs": [],
   "source": [
    "# list unknown quantities"
   ]
  },
  {
   "cell_type": "code",
   "execution_count": null,
   "metadata": {},
   "outputs": [],
   "source": [
    "# governing principles"
   ]
  },
  {
   "cell_type": "code",
   "execution_count": null,
   "metadata": {},
   "outputs": [],
   "source": [
    "# solution (step-by-step/computations)"
   ]
  },
  {
   "cell_type": "code",
   "execution_count": null,
   "metadata": {},
   "outputs": [],
   "source": [
    "# discussion"
   ]
  },
  {
   "cell_type": "code",
   "execution_count": null,
   "metadata": {},
   "outputs": [],
   "source": []
  }
 ],
 "metadata": {
  "kernelspec": {
   "display_name": "Python 3",
   "language": "python",
   "name": "python3"
  },
  "language_info": {
   "codemirror_mode": {
    "name": "ipython",
    "version": 3
   },
   "file_extension": ".py",
   "mimetype": "text/x-python",
   "name": "python",
   "nbconvert_exporter": "python",
   "pygments_lexer": "ipython3",
   "version": "3.8.10"
  }
 },
 "nbformat": 4,
 "nbformat_minor": 4
}
