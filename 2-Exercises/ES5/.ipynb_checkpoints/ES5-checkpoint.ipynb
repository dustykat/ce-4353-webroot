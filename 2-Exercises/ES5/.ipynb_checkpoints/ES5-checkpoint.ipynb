{
 "cells": [
  {
   "cell_type": "markdown",
   "metadata": {},
   "source": [
    "**Download** (right-click, save target as ...) this page as a Jupyterlab notebook from: [ES-5](http://54.243.252.9/ce-4353-webroot/2-Exercises/ES5/ES5.ipynb)\n",
    "\n",
    "___"
   ]
  },
  {
   "cell_type": "markdown",
   "metadata": {},
   "source": [
    "# <font color=darkblue>CE 4353 Design of Hydraulic Systems <br> CE 5360 Open Channel Flow <br> Fall 2023 Exercise Set 5</font>\n",
    "\n",
    "**LAST NAME, FIRST NAME**\n",
    "\n",
    "**R00000000**\n",
    "\n",
    "___\n",
    "\n",
    "### Purpose : \n",
    "Apply principles of momentum conservation and rapidly varied flow concepts to open channel analysis and design\n",
    " \n",
    "### Assessment Criteria : \n",
    "Completion, results plausible, format correct, calculations (Jupyter Notebook) are shown.  \n",
    "\n",
    "### Instructions :\n",
    "- CE 4353 Complete Problems 1-3\n",
    "- CE 5360 Complete All Problems\n",
    "\n",
    "___"
   ]
  },
  {
   "cell_type": "markdown",
   "metadata": {},
   "source": [
    "## Problem 1\n",
    "\n",
    "A spillway chute and the hydraulic jump stilling basin at the end of the chute are rectangular in shape with a width of 80 ft. The incoming flow has a depth of 2.60 ft at a design discharge of 10,000 cfs. \n",
    "Within the basin are 20 baffle blocks that are each 3.0 ft high and 3.0 ft wide.\n",
    "Using an effective coefficient of drag of 0.6 for the baffle blocks, based on the upstream velocity and combined frontal area of the blocks\n",
    "\n",
    "Determine:\n",
    "\n",
    "- The sequent depth (ft) after the jump.\n",
    "- The energy loss in ft in the basin with the blocks in place.\n",
    "- The sequent depth (ft) after the jump without baffle blocks.\n",
    "- The energy loss in ft in the basin without the blocks in place.\n",
    "\n"
   ]
  },
  {
   "cell_type": "code",
   "execution_count": 6,
   "metadata": {},
   "outputs": [],
   "source": [
    "# sketch(s) \n",
    "# list known quantities\n",
    "# list unknown quantities\n",
    "# governing principles\n",
    "# solution details (e.g. step-by-step computations)\n",
    "# discussion"
   ]
  },
  {
   "cell_type": "code",
   "execution_count": null,
   "metadata": {},
   "outputs": [],
   "source": [
    "# sketch(s) here"
   ]
  },
  {
   "cell_type": "code",
   "execution_count": null,
   "metadata": {},
   "outputs": [],
   "source": [
    "# list known quantities"
   ]
  },
  {
   "cell_type": "code",
   "execution_count": null,
   "metadata": {},
   "outputs": [],
   "source": [
    "# list unknown quantities"
   ]
  },
  {
   "cell_type": "code",
   "execution_count": null,
   "metadata": {},
   "outputs": [],
   "source": [
    "# governing principles"
   ]
  },
  {
   "cell_type": "code",
   "execution_count": null,
   "metadata": {},
   "outputs": [],
   "source": [
    "# solution (step-by-step/computations)"
   ]
  },
  {
   "cell_type": "code",
   "execution_count": null,
   "metadata": {},
   "outputs": [],
   "source": [
    "# discussion"
   ]
  },
  {
   "cell_type": "markdown",
   "metadata": {},
   "source": [
    "---\n",
    "\n",
    "## Problem 2\n",
    "\n",
    "A river flows between bridge piers 3 m in diameter with a spacing of 15 m the downstream depth is 4.0 m and the downstream velocity is 2.5 m/s. \n",
    "\n",
    "Determine:\n",
    "\n",
    "- The approach depth using a coefficient of drag determined from the Figure below for the bridge piers. <br>![](http://54.243.252.9/ce-4353-webroot/2-Exercises/ES5/cddiagram.png)\n",
    "- The approach momentum function value $M_1$ \n",
    "- The exit momentum function value $M_2$ \n"
   ]
  },
  {
   "cell_type": "code",
   "execution_count": 6,
   "metadata": {},
   "outputs": [],
   "source": [
    "# sketch(s) \n",
    "# list known quantities\n",
    "# list unknown quantities\n",
    "# governing principles\n",
    "# solution details (e.g. step-by-step computations)\n",
    "# discussion"
   ]
  },
  {
   "cell_type": "code",
   "execution_count": null,
   "metadata": {},
   "outputs": [],
   "source": [
    "# sketch(s) here"
   ]
  },
  {
   "cell_type": "code",
   "execution_count": null,
   "metadata": {},
   "outputs": [],
   "source": [
    "# list known quantities"
   ]
  },
  {
   "cell_type": "code",
   "execution_count": null,
   "metadata": {},
   "outputs": [],
   "source": [
    "# list unknown quantities"
   ]
  },
  {
   "cell_type": "code",
   "execution_count": null,
   "metadata": {},
   "outputs": [],
   "source": [
    "# governing principles"
   ]
  },
  {
   "cell_type": "code",
   "execution_count": null,
   "metadata": {},
   "outputs": [],
   "source": [
    "# solution (step-by-step/computations)"
   ]
  },
  {
   "cell_type": "code",
   "execution_count": null,
   "metadata": {},
   "outputs": [],
   "source": [
    "# discussion"
   ]
  },
  {
   "cell_type": "markdown",
   "metadata": {},
   "source": [
    "---\n",
    "\n",
    "## Problem 3\n",
    "\n",
    "A straight-walled contraction connects two rectangular channels 12 ft and 7.2 ft wide. \n",
    "The discharge through the contraction is 300 cfs, and the depth of the approach flow is 0.815 ft.  \n",
    "\n",
    "\n",
    "Determine:\n",
    "\n",
    "- The the downstream depth (ft)\n",
    "- The Froude number \n",
    "- The length (ft) of the contraction that will minimize standing waves\n",
    "- If choking will occur "
   ]
  },
  {
   "cell_type": "code",
   "execution_count": 6,
   "metadata": {},
   "outputs": [],
   "source": [
    "# sketch(s) \n",
    "# list known quantities\n",
    "# list unknown quantities\n",
    "# governing principles\n",
    "# solution details (e.g. step-by-step computations)\n",
    "# discussion"
   ]
  },
  {
   "cell_type": "markdown",
   "metadata": {},
   "source": [
    "---\n",
    "\n",
    "<a href=\"http://54.243.252.9/ce-4353-webroot/2-Exercises/ES5/src-sol/ES5-WS.html\"> <img src=\"http://54.243.252.9/ce-4353-webroot/2-Exercises/ES5/easy-button.png\" alt=\"EZ Button Link to ES-4 sample solution\" style=\"width:42px;height:42px;align:left\"> </a> "
   ]
  },
  {
   "cell_type": "code",
   "execution_count": null,
   "metadata": {},
   "outputs": [],
   "source": [
    "# sketch(s) here"
   ]
  },
  {
   "cell_type": "code",
   "execution_count": null,
   "metadata": {},
   "outputs": [],
   "source": [
    "# list known quantities"
   ]
  },
  {
   "cell_type": "code",
   "execution_count": null,
   "metadata": {},
   "outputs": [],
   "source": [
    "# list unknown quantities"
   ]
  },
  {
   "cell_type": "code",
   "execution_count": null,
   "metadata": {},
   "outputs": [],
   "source": [
    "# governing principles"
   ]
  },
  {
   "cell_type": "code",
   "execution_count": null,
   "metadata": {},
   "outputs": [],
   "source": [
    "# solution (step-by-step/computations)"
   ]
  },
  {
   "cell_type": "code",
   "execution_count": null,
   "metadata": {},
   "outputs": [],
   "source": [
    "# discussion"
   ]
  }
 ],
 "metadata": {
  "kernelspec": {
   "display_name": "Python 3",
   "language": "python",
   "name": "python3"
  },
  "language_info": {
   "codemirror_mode": {
    "name": "ipython",
    "version": 3
   },
   "file_extension": ".py",
   "mimetype": "text/x-python",
   "name": "python",
   "nbconvert_exporter": "python",
   "pygments_lexer": "ipython3",
   "version": "3.8.10"
  }
 },
 "nbformat": 4,
 "nbformat_minor": 4
}
