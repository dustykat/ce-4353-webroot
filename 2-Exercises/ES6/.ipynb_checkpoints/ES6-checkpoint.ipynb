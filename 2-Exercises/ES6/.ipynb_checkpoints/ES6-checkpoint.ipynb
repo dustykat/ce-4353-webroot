{
 "cells": [
  {
   "cell_type": "markdown",
   "metadata": {},
   "source": [
    "**Download** (right-click, save target as ...) this page as a Jupyterlab notebook from: [ES-6](http://54.243.252.9/ce-4353-webroot/2-Exercises/ES6/ES6.ipynb)\n",
    "\n",
    "___"
   ]
  },
  {
   "cell_type": "markdown",
   "metadata": {},
   "source": [
    "# <font color=darkblue>CE 4353/5360 Design of Hydraulic Systems <br> Fall 2022 Exercise Set 6</font>\n",
    "\n",
    "**LAST NAME, FIRST NAME**\n",
    "\n",
    "**R00000000**\n",
    "\n",
    "___\n",
    "\n",
    "### Purpose : \n",
    "Apply principles of uniform flow to open channel analysis and design\n",
    " \n",
    "### Assessment Criteria : \n",
    "Completion, results plausible, format correct, calculations (Jupyter Notebook) are shown.  \n",
    "\n",
    "___"
   ]
  },
  {
   "cell_type": "markdown",
   "metadata": {},
   "source": [
    "## Problem 1\n",
    "\n",
    "A 5 meter wide rectangular channel with profile grade (bottom slope) $S_0=0.001$ and Manning's $n= 0.013$.\n",
    "\n",
    "Determine:\n",
    "- The normal depth in the channel for a prescribed discharge, $Q$"
   ]
  },
  {
   "cell_type": "code",
   "execution_count": null,
   "metadata": {},
   "outputs": [],
   "source": [
    "# sketch(s) here"
   ]
  },
  {
   "cell_type": "code",
   "execution_count": null,
   "metadata": {},
   "outputs": [],
   "source": [
    "# list known quantities"
   ]
  },
  {
   "cell_type": "code",
   "execution_count": null,
   "metadata": {},
   "outputs": [],
   "source": [
    "# list unknown quantities"
   ]
  },
  {
   "cell_type": "code",
   "execution_count": null,
   "metadata": {},
   "outputs": [],
   "source": [
    "# governing principles"
   ]
  },
  {
   "cell_type": "code",
   "execution_count": null,
   "metadata": {},
   "outputs": [],
   "source": [
    "# solution (step-by-step/computations)"
   ]
  },
  {
   "cell_type": "code",
   "execution_count": null,
   "metadata": {},
   "outputs": [],
   "source": [
    "# discussion"
   ]
  },
  {
   "cell_type": "markdown",
   "metadata": {},
   "source": [
    "---\n",
    "\n",
    "## Problem 2\n",
    "\n",
    "An engineered channel with cross section shown in Figure XX has a discharge of 150 cubic meters per second.  The slope of the channel bottom is $S_0=0.002$ and Manning's $n=0.03$.  \n",
    "<figure align=\"center\">\n",
    "<!--<img src=\"./trapezoid.png\" width=\"700\" >-->\n",
    "<img src=\"http://54.243.252.9/ce-4353-webroot/2-Exercises/ES6/trapezoid.png\" width=\"700\" >\n",
    "<figcaption> Figure 2. Engineered channel cross section</figcaption>\n",
    "\n",
    "</figure>\n",
    "\n",
    "Determine:\n",
    "\n",
    "- The normal depth in the channel\n",
    "- The Froude number in the channel at the normal depth. \n"
   ]
  },
  {
   "cell_type": "code",
   "execution_count": null,
   "metadata": {},
   "outputs": [],
   "source": [
    "# sketch(s) here"
   ]
  },
  {
   "cell_type": "code",
   "execution_count": null,
   "metadata": {},
   "outputs": [],
   "source": [
    "# list known quantities"
   ]
  },
  {
   "cell_type": "code",
   "execution_count": null,
   "metadata": {},
   "outputs": [],
   "source": [
    "# list unknown quantities"
   ]
  },
  {
   "cell_type": "code",
   "execution_count": null,
   "metadata": {},
   "outputs": [],
   "source": [
    "# governing principles"
   ]
  },
  {
   "cell_type": "code",
   "execution_count": null,
   "metadata": {},
   "outputs": [],
   "source": [
    "# solution (step-by-step/computations)"
   ]
  },
  {
   "cell_type": "code",
   "execution_count": null,
   "metadata": {},
   "outputs": [],
   "source": [
    "# discussion"
   ]
  },
  {
   "cell_type": "markdown",
   "metadata": {},
   "source": [
    "--- \n",
    "\n",
    "## Problem 3\n",
    "\n",
    "Figure 3.1 is a photograph of the Pont du Gard; an ancient Roman aqueduct bridge built in the first century AD to carry water over 50 km (31 mi) to the Roman colony of Nemausus (Nîmes). It crosses the river Gardon near the town of Vers-Pont-du-Gard in southern France. The Pont du Gard is the highest of all Roman aqueduct bridges, as well as one of the best preserved.  \n",
    "\n",
    "<figure align=\"center\">\n",
    "<!--<img src=\"./pontdugard.png\" width=\"700\" >-->\n",
    "<img src=\"http://54.243.252.9/ce-4353-webroot/2-Exercises/ES6/pontdugard.png\" width=\"700\" >\n",
    "<figcaption> Figure 3.1. Pont du Gard aqueduct (present day) </figcaption>\n",
    "</figure>\n",
    "\n",
    "\n",
    "Figure 3.2 is a schematic map of the Roman Aqueduct layout (plan view, not-to-scale).\n",
    "\n",
    "<figure align=\"center\">\n",
    "<!--<img src=\"./overviewmap.png\" width=\"700\" >-->\n",
    "<img src=\"http://54.243.252.9/ce-4353-webroot/2-Exercises/ES6/overviewmap.png\" width=\"500\" >\n",
    "<figcaption> Figure 3.2. Map of aqueduct alingment (present day, not to scale) </figcaption>\n",
    "</figure>\n",
    "\n",
    "Figure 3.3 is an elevation view sketch of the aquaduct showing the relative positions of the origin and terminus of the feature, profile grades (bottom slopes) and approximate land surface elevation and aquedict elevations (in meters).  The Pont du Gard bridge begins roughly at the slope change from 0.67 to 0.07.  \n",
    "\n",
    "<figure align=\"center\">\n",
    "<!--<img src=\"./elevationview.png\" width=\"700\" >-->\n",
    "<img src=\"http://54.243.252.9/ce-4353-webroot/2-Exercises/ES6/elevationview.png\" width=\"700\" >\n",
    "<figcaption> Figure 3.3. Elevation (profile) drawing of aqueduct </figcaption>\n",
    "</figure>\n",
    "\n",
    "The various channel cross sections are shown in Figure 3.4.  The \"subterranean channel\" portion is roughly the 24 kilometer section terminating at Nimes.  The portion upstream of the Pont du Gard crossing is represented by the \"elevated channel\" cross section drawing, whereas the \"Pont du Gard channel\" represents the middle 10 kilometer porton of the aqueduct.\n",
    "\n",
    "<figure align=\"center\">\n",
    "<!--<img src=\"./crosssectionspr1.png\" width=\"700\" >-->\n",
    "<img src=\"http://54.243.252.9/ce-4353-webroot/2-Exercises/ES6/crosssectionspr1.png\" width=\"700\" >\n",
    "<figcaption> Figure 3.4. Cross-sections of Pont du Gard aqueduct portions </figcaption>\n",
    "</figure>\n",
    "\n",
    "Assuming Manning's $n=0.0125$ for all the channel portions, compute the normal depth in different segments for flows ranging from 100 to 450 liters per second in 25 lps increments, and complete the table below.\n",
    "\n",
    "|Discharge (lps)|Elevated Section ($S_0=0.67$)|Pont du Gard Section ($S_0=0.07$)|Subterranean Section ($S_0=0.17$)|Subterranean Section ($S_0=0.30$)|\n",
    "|:---|:---|:---|:---|:---|\n",
    "|100 ||||\n",
    "|125 ||||\n",
    "|150 ||||\n",
    "|175 ||||\n",
    "|200 ||||\n",
    "|225 ||||\n",
    "|250 ||||\n",
    "|275 ||||\n",
    "|300 ||||\n",
    "|325 ||||\n",
    "|350 ||||\n",
    "|375 ||||\n",
    "|400 ||||\n",
    "|425 ||||\n",
    "|450 ||||\n"
   ]
  },
  {
   "cell_type": "code",
   "execution_count": null,
   "metadata": {},
   "outputs": [],
   "source": [
    "# sketch(s) here"
   ]
  },
  {
   "cell_type": "code",
   "execution_count": null,
   "metadata": {},
   "outputs": [],
   "source": [
    "# list known quantities"
   ]
  },
  {
   "cell_type": "code",
   "execution_count": null,
   "metadata": {},
   "outputs": [],
   "source": [
    "# list unknown quantities"
   ]
  },
  {
   "cell_type": "code",
   "execution_count": null,
   "metadata": {},
   "outputs": [],
   "source": [
    "# governing principles"
   ]
  },
  {
   "cell_type": "code",
   "execution_count": null,
   "metadata": {},
   "outputs": [],
   "source": [
    "# solution (step-by-step/computations)"
   ]
  },
  {
   "cell_type": "code",
   "execution_count": null,
   "metadata": {},
   "outputs": [],
   "source": [
    "# discussion"
   ]
  },
  {
   "cell_type": "markdown",
   "metadata": {},
   "source": [
    "---\n",
    "\n",
    "## Problem 4 (Application of ENGR 1330 Computational Thinking)\n",
    "\n",
    "Construct a script (Jupyter Notebook) to generate the $\\frac{Q}{Q_{full}}$, $\\frac{V}{V_{full}}$ vs. $\\frac{y}{d}$ curves known as the hydraulic elements graph for partially full flow in circular pipes.  Inputs to the script will include pipe diameter, $n$, and pipe slope. Use at least 25 pairs of points to define the curves.  \n"
   ]
  },
  {
   "cell_type": "code",
   "execution_count": null,
   "metadata": {},
   "outputs": [],
   "source": [
    "# sketch(s) here"
   ]
  },
  {
   "cell_type": "code",
   "execution_count": null,
   "metadata": {},
   "outputs": [],
   "source": [
    "# list known quantities/inputs"
   ]
  },
  {
   "cell_type": "code",
   "execution_count": null,
   "metadata": {},
   "outputs": [],
   "source": [
    "# list unknown quantities/outputs"
   ]
  },
  {
   "cell_type": "code",
   "execution_count": null,
   "metadata": {},
   "outputs": [],
   "source": [
    "# governing principles/algorithms used"
   ]
  },
  {
   "cell_type": "code",
   "execution_count": null,
   "metadata": {},
   "outputs": [],
   "source": [
    "# solution (step-by-step/computations)"
   ]
  },
  {
   "cell_type": "code",
   "execution_count": null,
   "metadata": {
    "jupyter": {
     "source_hidden": true
    }
   },
   "outputs": [],
   "source": [
    "# discussion"
   ]
  },
  {
   "cell_type": "code",
   "execution_count": null,
   "metadata": {},
   "outputs": [],
   "source": []
  },
  {
   "cell_type": "markdown",
   "metadata": {},
   "source": [
    "---\n",
    "\n",
    "## Problem 6 \n",
    "\n",
    "A 36-inch diameter concrete culvert ($n=0.015$) is laid on a slope of $0.002~\\frac{ft}{ft}$. The design discharge is 17 cfs.\n",
    "\n",
    "Determine:\n",
    "\n",
    "- Normal depth for the culvert\n",
    "- Critical depth for the culvert\n",
    "- Whether the slope is hydraulically mild or steep\n"
   ]
  },
  {
   "cell_type": "code",
   "execution_count": null,
   "metadata": {},
   "outputs": [],
   "source": [
    "# sketch(s) here"
   ]
  },
  {
   "cell_type": "code",
   "execution_count": null,
   "metadata": {},
   "outputs": [],
   "source": [
    "# list known quantities/inputs"
   ]
  },
  {
   "cell_type": "code",
   "execution_count": null,
   "metadata": {},
   "outputs": [],
   "source": [
    "# list unknown quantities/outputs"
   ]
  },
  {
   "cell_type": "code",
   "execution_count": null,
   "metadata": {},
   "outputs": [],
   "source": [
    "# governing principles/algorithms used"
   ]
  },
  {
   "cell_type": "code",
   "execution_count": null,
   "metadata": {},
   "outputs": [],
   "source": [
    "# solution (step-by-step/computations)"
   ]
  },
  {
   "cell_type": "code",
   "execution_count": null,
   "metadata": {},
   "outputs": [],
   "source": [
    "# discussion"
   ]
  },
  {
   "cell_type": "markdown",
   "metadata": {},
   "source": [
    "---\n",
    "\n",
    "## Problem 7 \n",
    "\n",
    "Design (size) a concrete sewer that has a maximum design discharge of 1.2 $\\frac{m^3}{sec}$ and a minimum discharge of 0.3 $\\frac{m^3}{sec}$ to be laid on a bed slope of 0.0018\n",
    "\n",
    "Determine:\n",
    "\n",
    "- Diameter for the sewer\n",
    "- Maximum velocity \n",
    "- Minimum velocity\n",
    "- If the sewer is self-cleansing\n"
   ]
  },
  {
   "cell_type": "code",
   "execution_count": null,
   "metadata": {},
   "outputs": [],
   "source": [
    "# sketch(s) here"
   ]
  },
  {
   "cell_type": "code",
   "execution_count": null,
   "metadata": {},
   "outputs": [],
   "source": [
    "# list known quantities/inputs"
   ]
  },
  {
   "cell_type": "code",
   "execution_count": null,
   "metadata": {},
   "outputs": [],
   "source": [
    "# list unknown quantities/outputs"
   ]
  },
  {
   "cell_type": "code",
   "execution_count": null,
   "metadata": {},
   "outputs": [],
   "source": [
    "# governing principles/algorithms used"
   ]
  },
  {
   "cell_type": "code",
   "execution_count": null,
   "metadata": {},
   "outputs": [],
   "source": [
    "# solution (step-by-step/computations)"
   ]
  },
  {
   "cell_type": "code",
   "execution_count": null,
   "metadata": {
    "jupyter": {
     "source_hidden": true
    }
   },
   "outputs": [],
   "source": [
    "# discussion"
   ]
  },
  {
   "cell_type": "code",
   "execution_count": null,
   "metadata": {},
   "outputs": [],
   "source": []
  }
 ],
 "metadata": {
  "kernelspec": {
   "display_name": "Python 3",
   "language": "python",
   "name": "python3"
  },
  "language_info": {
   "codemirror_mode": {
    "name": "ipython",
    "version": 3
   },
   "file_extension": ".py",
   "mimetype": "text/x-python",
   "name": "python",
   "nbconvert_exporter": "python",
   "pygments_lexer": "ipython3",
   "version": "3.8.10"
  }
 },
 "nbformat": 4,
 "nbformat_minor": 4
}
