{
 "cells": [
  {
   "cell_type": "markdown",
   "metadata": {},
   "source": [
    "**Download** (right-click, save target as ...) this page as a Jupyterlab notebook from: [ES-7](http://54.243.252.9/ce-4353-webroot/2-Exercises/ES7/ES7.ipynb)\n",
    "\n",
    "___"
   ]
  },
  {
   "cell_type": "markdown",
   "metadata": {},
   "source": [
    "# <font color=darkblue>CE 4353/5360 Design of Hydraulic Systems <br> Fall 2022 Exercise Set 7</font>\n",
    "\n",
    "**LAST NAME, FIRST NAME**\n",
    "\n",
    "**R00000000**\n",
    "\n",
    "___\n",
    "\n",
    "### Purpose : \n",
    "Apply principles of uniform flow to open channel analysis and design\n",
    " \n",
    "### Assessment Criteria : \n",
    "Completion, results plausible, format correct, calculations (Jupyter Notebook) are shown.  \n",
    "\n",
    "___"
   ]
  },
  {
   "cell_type": "markdown",
   "metadata": {},
   "source": [
    "## Problem 1\n",
    "\n",
    "A trapezoidal roadside drainage ditch with a design discharge of 3.75 $\\frac{m3}{s}$ is lined with grass having a retardance of class C. The slope of the ditch is 0.004 and it has a bottom width of 2.0 m with side slopes of 3:1. \n",
    "\n",
    "Determine:\n",
    "- Determine the design depth of flow\n",
    "- Whether the channel is stable\n",
    "\n",
    "**Solution**\n",
    "\n",
    "![](http://54.243.252.9/ce-4353-webroot/2-Exercises/ES7/src-sol/prob1.png)\n",
    "\n",
    "![](http://54.243.252.9/ce-4353-webroot/2-Exercises/ES7/src-sol/prob2-2.png)\n"
   ]
  },
  {
   "cell_type": "code",
   "execution_count": null,
   "metadata": {},
   "outputs": [],
   "source": [
    "# sketch(s) here"
   ]
  },
  {
   "cell_type": "code",
   "execution_count": null,
   "metadata": {},
   "outputs": [],
   "source": [
    "# list known quantities"
   ]
  },
  {
   "cell_type": "code",
   "execution_count": null,
   "metadata": {},
   "outputs": [],
   "source": [
    "# list unknown quantities"
   ]
  },
  {
   "cell_type": "code",
   "execution_count": null,
   "metadata": {},
   "outputs": [],
   "source": [
    "# governing principles"
   ]
  },
  {
   "cell_type": "code",
   "execution_count": null,
   "metadata": {},
   "outputs": [],
   "source": [
    "# solution (step-by-step/computations)"
   ]
  },
  {
   "cell_type": "code",
   "execution_count": null,
   "metadata": {},
   "outputs": [],
   "source": [
    "# discussion"
   ]
  },
  {
   "cell_type": "markdown",
   "metadata": {},
   "source": [
    "---\n",
    "\n",
    "## Problem 2 \n",
    "\n",
    "Design a riprap-lined trapezoidal channel that has a capacity of 1000 cfs and a slope of 0.0005 ft/ft. \n",
    "Crushed rock is to be used and the channel bottom width is not to exceed 15 ft. \n",
    "\n",
    "Determine:\n",
    "\n",
    "- The riprap size.\n",
    "- The side slopes.\n",
    "- The design depth of flow.\n",
    "\n",
    "**Solution**\n",
    "\n",
    "![](http://54.243.252.9/ce-4353-webroot/2-Exercises/ES7/src-sol/prob2-1.png)\n",
    "\n",
    "\n"
   ]
  },
  {
   "cell_type": "code",
   "execution_count": null,
   "metadata": {},
   "outputs": [],
   "source": [
    "# sketch(s) here"
   ]
  },
  {
   "cell_type": "code",
   "execution_count": null,
   "metadata": {},
   "outputs": [],
   "source": [
    "# list known quantities/inputs"
   ]
  },
  {
   "cell_type": "code",
   "execution_count": null,
   "metadata": {},
   "outputs": [],
   "source": [
    "# list unknown quantities/outputs"
   ]
  },
  {
   "cell_type": "code",
   "execution_count": null,
   "metadata": {},
   "outputs": [],
   "source": [
    "# governing principles/algorithms used"
   ]
  },
  {
   "cell_type": "code",
   "execution_count": null,
   "metadata": {},
   "outputs": [],
   "source": [
    "# solution (step-by-step/computations)"
   ]
  },
  {
   "cell_type": "code",
   "execution_count": null,
   "metadata": {},
   "outputs": [],
   "source": [
    "# discussion"
   ]
  },
  {
   "cell_type": "markdown",
   "metadata": {},
   "source": [
    "---\n",
    "\n",
    "## Problem 3 \n",
    "\n",
    "A rectangular channel has a width of 10 ft and a Manning's n value of 0.020. Determine\n",
    "\n",
    "Determine:\n",
    "\n",
    "- The channel slope such that uniform flow will always have a Froude number less than or equal to 0.5 regardless of the discharge.\n",
    "\n",
    "**Solution**\n",
    "\n",
    "![](http://54.243.252.9/ce-4353-webroot/2-Exercises/ES7/src-sol/prob3.png)"
   ]
  },
  {
   "cell_type": "markdown",
   "metadata": {},
   "source": [
    "---\n",
    "\n",
    "## Problem 4\n",
    "\n",
    "Figure 4 is a compound channel which has symmetric floodplains, each of which is 100 m wide with Manning's n = 0.06, and a main channel, which is trapezoidal with a bottom width of 10 m, side slopes of 1.5:1, a bank-full depth of 2.5 m, and a Manning’s n of 0.03. The channel longitudinal slope is 0.001 and the total depth is 3.7 m  \n",
    "\n",
    "<figure align=\"center\">\n",
    "<!--<img src=\"./ChannelCrossSection.png\" width=\"700\" >-->\n",
    "<img src=\"http://54.243.252.9/ce-4353-webroot/2-Exercises/ES7/ChannelCrossSection.png\" width=\"700\" >\n",
    "<figcaption> Figure 4. Engineered channel cross section</figcaption>\n",
    "\n",
    "</figure>\n",
    "\n",
    "Determine:\n",
    "\n",
    "- The uniform flow discharge using the divided channel method with vertical interfaces separating the main channel from the overbank areas and including these in the wetted perimeters\n",
    "- The uniform flow discharge using the divided channel method with vertical interfaces separating the main channel from the overbank areas without including these in the wetted perimeters\n",
    "- The uniform flow discharge using the divided channel method using the diagonal interface approach to separate the flow areas, but don’t use the diagonal interfaces in the wetted perimeters.\n",
    "\n",
    "**Solution**\n",
    "\n",
    "![](http://54.243.252.9/ce-4353-webroot/2-Exercises/ES7/src-sol/prob4-1.png)\n",
    "\n",
    "![](http://54.243.252.9/ce-4353-webroot/2-Exercises/ES7/src-sol/prob4-2.png)\n"
   ]
  },
  {
   "cell_type": "code",
   "execution_count": null,
   "metadata": {},
   "outputs": [],
   "source": [
    "# sketch(s) here"
   ]
  },
  {
   "cell_type": "code",
   "execution_count": null,
   "metadata": {},
   "outputs": [],
   "source": [
    "# list known quantities"
   ]
  },
  {
   "cell_type": "code",
   "execution_count": null,
   "metadata": {},
   "outputs": [],
   "source": [
    "# list unknown quantities"
   ]
  },
  {
   "cell_type": "code",
   "execution_count": null,
   "metadata": {},
   "outputs": [],
   "source": [
    "# governing principles"
   ]
  },
  {
   "cell_type": "code",
   "execution_count": null,
   "metadata": {},
   "outputs": [],
   "source": [
    "# solution (step-by-step/computations)"
   ]
  },
  {
   "cell_type": "code",
   "execution_count": null,
   "metadata": {},
   "outputs": [],
   "source": [
    "# discussion"
   ]
  }
 ],
 "metadata": {
  "kernelspec": {
   "display_name": "Python 3",
   "language": "python",
   "name": "python3"
  },
  "language_info": {
   "codemirror_mode": {
    "name": "ipython",
    "version": 3
   },
   "file_extension": ".py",
   "mimetype": "text/x-python",
   "name": "python",
   "nbconvert_exporter": "python",
   "pygments_lexer": "ipython3",
   "version": "3.8.10"
  }
 },
 "nbformat": 4,
 "nbformat_minor": 4
}
