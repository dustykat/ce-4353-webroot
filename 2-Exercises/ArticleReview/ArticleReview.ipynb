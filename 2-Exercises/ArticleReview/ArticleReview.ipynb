{
 "cells": [
  {
   "cell_type": "markdown",
   "metadata": {},
   "source": [
    "**Download** (right-click, save target as ...) this page as a Jupyterlab notebook from: [Article Review](http://54.243.252.9/ce-4353-webroot/2-Exercises/ES9/ES9.ipynb)\n",
    "\n",
    "___"
   ]
  },
  {
   "cell_type": "markdown",
   "metadata": {},
   "source": [
    "# <font color=darkblue>CE 5360 Design of Hydraulic Systems <br> Fall 2022 Article Review </font>\n",
    "\n",
    "**LAST NAME, FIRST NAME**\n",
    "\n",
    "**R00000000**\n",
    "\n",
    "___\n",
    "\n",
    "### Purpose : \n",
    "Apply principles of gradually varied flow to open channel analysis and design\n",
    " \n",
    "### Assessment Criteria : \n",
    "Completion, results plausible, format correct, calculations (Jupyter Notebook) are shown.  \n",
    "\n",
    "___"
   ]
  },
  {
   "cell_type": "markdown",
   "metadata": {},
   "source": [
    "---\n",
    "\n",
    "## Problem Statement\n",
    "\n",
    "Download and read [Charbeneau, R.J., Henderson, A.D., and Sherman, L.C., 2006.  Hydraulic Performance Curves for Highway Culverts, Journal of Hydraulic Engineering, ASCE, Vol. 132, No. 5, pp. 474-481.](http://54.243.252.9/ce-4353-webroot/2-Exercises/ArticleReview/Charbeneauetal.2006.pdf)\n"
   ]
  },
  {
   "cell_type": "markdown",
   "metadata": {},
   "source": [
    "Answer the following questions using complete sentences.  You do not need to write equations or draw figures to answer the questions.   Short paragraphs should be sufficient to answer the questions.  You may copy the text of the questions into your own document.  Use 1.5 line spacing to make it easy to read.\n",
    "1.  State the two apparent objectives of the article.  \n",
    "2.  Explain why the disconnection between the FHWA performance curves for submerged and unsubmerged inlet conditions was troubling to the authors and probably to you as well.  Feel free to refer to the Mays reading for this answer.  How did the authors connect the two equations?\n",
    "3.  Explain the difference between the Cc and Cb coefficients used in the UT-CRWR equation.  Were they the same values for all culvert shapes?\n",
    "4.  The physical experiments allowed single and multi-barrel culvert operation.  Why did the 4-barrel and 6-barrel experimental results require adjustments?  Comment on whether this situation would be expected, based on the configuration of the physical model.\n",
    "5.  The authors compared their design procedure to the FHwA procedure with a box culvert example.  Which procedure indicated a larger culvert configuration?  Comment on the trade-off between construction cost savings versus a possible “factor of safety” due to excess flow capacity in a culvert design. \n"
   ]
  },
  {
   "cell_type": "code",
   "execution_count": null,
   "metadata": {},
   "outputs": [],
   "source": []
  }
 ],
 "metadata": {
  "kernelspec": {
   "display_name": "Python 3",
   "language": "python",
   "name": "python3"
  },
  "language_info": {
   "codemirror_mode": {
    "name": "ipython",
    "version": 3
   },
   "file_extension": ".py",
   "mimetype": "text/x-python",
   "name": "python",
   "nbconvert_exporter": "python",
   "pygments_lexer": "ipython3",
   "version": "3.8.10"
  }
 },
 "nbformat": 4,
 "nbformat_minor": 4
}
